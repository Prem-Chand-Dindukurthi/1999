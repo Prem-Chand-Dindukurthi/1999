{
  "nbformat": 4,
  "nbformat_minor": 0,
  "metadata": {
    "colab": {
      "name": "ADS EXP 3 and 4 prem.ipynb",
      "provenance": [],
      "collapsed_sections": [],
      "authorship_tag": "ABX9TyOyXSwlrKkxwiCdDLI9baz4",
      "include_colab_link": true
    },
    "kernelspec": {
      "name": "python3",
      "display_name": "Python 3"
    }
  },
  "cells": [
    {
      "cell_type": "markdown",
      "metadata": {
        "id": "view-in-github",
        "colab_type": "text"
      },
      "source": [
        "<a href=\"https://colab.research.google.com/github/Prem-Chand-Dindukurthi/1999/blob/master/ADS_EXP_3_and_4_prem.ipynb\" target=\"_parent\"><img src=\"https://colab.research.google.com/assets/colab-badge.svg\" alt=\"Open In Colab\"/></a>"
      ]
    },
    {
      "cell_type": "markdown",
      "metadata": {
        "id": "ZJKW_bMiuAKk"
      },
      "source": [
        "#  **Book Recommender System**\n"
      ]
    },
    {
      "cell_type": "markdown",
      "metadata": {
        "id": "19L4t23Ps7bC"
      },
      "source": [
        "## I have kept my dataset in my google drive account. Now I want to mount my drive to google colab. It would be difficult to upload the dataset all the time. To I have chosen this approach. Now I need not to upload the dataset again and again. Here I have a quite large dataset. So to upload it again and again it would be a time taking process. \n"
      ]
    },
    {
      "cell_type": "code",
      "metadata": {
        "id": "UiuAy4npKUu0",
        "colab": {
          "base_uri": "https://localhost:8080/"
        },
        "outputId": "5bedccca-6a4f-4967-989c-51ab5f5bf867"
      },
      "source": [
        "from google.colab import drive\n",
        "drive.mount('/content/drive')"
      ],
      "execution_count": 1695,
      "outputs": [
        {
          "output_type": "stream",
          "text": [
            "Drive already mounted at /content/drive; to attempt to forcibly remount, call drive.mount(\"/content/drive\", force_remount=True).\n"
          ],
          "name": "stdout"
        }
      ]
    },
    {
      "cell_type": "markdown",
      "metadata": {
        "id": "IBPotVmDtf8q"
      },
      "source": [
        "## Now that our drive is mounted, I want to import some basic packages which will be useful for me. "
      ]
    },
    {
      "cell_type": "code",
      "metadata": {
        "id": "aK3KFG0Zscs6"
      },
      "source": [
        "import pandas as pd\n",
        "import numpy as np\n",
        "import matplotlib.pyplot as plt\n",
        "%matplotlib inline\n",
        "import seaborn as sns\n"
      ],
      "execution_count": 1696,
      "outputs": []
    },
    {
      "cell_type": "markdown",
      "metadata": {
        "id": "GfZVeAoGt1Rc"
      },
      "source": [
        "## These are some more packages that I would be using in this book recommendation system. \n"
      ]
    },
    {
      "cell_type": "code",
      "metadata": {
        "id": "-xmq4JwUKdWE"
      },
      "source": [
        "from sklearn.neighbors import NearestNeighbors\n",
        "from contextlib import contextmanager\n",
        "import re\n",
        "import ipywidgets as widgets\n",
        "from IPython.display import display, clear_output\n",
        "import os\n",
        "import sys"
      ],
      "execution_count": 1697,
      "outputs": []
    },
    {
      "cell_type": "markdown",
      "metadata": {
        "id": "UIifaukuuro8"
      },
      "source": [
        "## Book ratings dataset has details like USERID, bookRating details. ISBN means INTERNATIONAL STANDARD BOOK NUMBER which will be unique for every book registered. By using this number we can identify the book uniquely\n"
      ]
    },
    {
      "cell_type": "code",
      "metadata": {
        "id": "LhmqLsUmMDSB",
        "colab": {
          "base_uri": "https://localhost:8080/"
        },
        "outputId": "40460eeb-0092-45b4-816b-c30abd5136d2"
      },
      "source": [
        "ratings = pd.read_csv('/content/drive/My Drive/ads_exp_3_4/BX_Book_Ratings.csv', sep=';', encoding=\"latin-1\")\n",
        "ratings.columns = ['userID', 'ISBN', 'bookRating']\n",
        "print(ratings.head())\n",
        "print(ratings.shape)"
      ],
      "execution_count": 1698,
      "outputs": [
        {
          "output_type": "stream",
          "text": [
            "   userID        ISBN  bookRating\n",
            "0  276725  034545104X           0\n",
            "1  276726  0155061224           5\n",
            "2  276727  0446520802           0\n",
            "3  276729  052165615X           3\n",
            "4  276729  0521795028           6\n",
            "(1149780, 3)\n"
          ],
          "name": "stdout"
        }
      ]
    },
    {
      "cell_type": "markdown",
      "metadata": {
        "id": "5iJfygtIvId5"
      },
      "source": [
        "## My users dataframe will have details of the users of the books i.e. they are the readers. \n",
        "\n"
      ]
    },
    {
      "cell_type": "code",
      "metadata": {
        "id": "aI1jfEgENb6M",
        "colab": {
          "base_uri": "https://localhost:8080/"
        },
        "outputId": "40db8309-d82b-4e71-fe90-cd73eca1af01"
      },
      "source": [
        "users = pd.read_csv('/content/drive/My Drive/ads_exp_3_4/BX_Users.csv', sep=';', encoding=\"latin-1\")\n",
        "users.columns = ['userID', 'Location', 'Age']\n",
        "print(users.head())\n",
        "print(users.shape)"
      ],
      "execution_count": 1699,
      "outputs": [
        {
          "output_type": "stream",
          "text": [
            "   userID                            Location   Age\n",
            "0       1                  nyc, new york, usa   NaN\n",
            "1       2           stockton, california, usa  18.0\n",
            "2       3     moscow, yukon territory, russia   NaN\n",
            "3       4           porto, v.n.gaia, portugal  17.0\n",
            "4       5  farnborough, hants, united kingdom   NaN\n",
            "(278858, 3)\n"
          ],
          "name": "stdout"
        }
      ]
    },
    {
      "cell_type": "markdown",
      "metadata": {
        "id": "884-c3pbvhC1"
      },
      "source": [
        "## The books dataframe is the main dataframe which includes all the details of the books. It contains details like title, author, publisher etc. \n"
      ]
    },
    {
      "cell_type": "code",
      "metadata": {
        "id": "dwHOUcZ3V7vi",
        "colab": {
          "base_uri": "https://localhost:8080/"
        },
        "outputId": "35ae3902-c317-42b1-adf4-631ef107ddec"
      },
      "source": [
        "books = pd.read_csv('/content/drive/My Drive/ads_exp_3_4/BX_Books.csv', sep=';', error_bad_lines=False, encoding=\"latin-1\")\n",
        "books.columns = ['ISBN', 'bookTitle', 'bookAuthor', 'yearOfPublication', 'publisher', 'imageUrlS', 'imageUrlM', 'imageUrlL']\n",
        "print(books.head())\n",
        "print(books.shape)"
      ],
      "execution_count": 1700,
      "outputs": [
        {
          "output_type": "stream",
          "text": [
            "b'Skipping line 6452: expected 8 fields, saw 9\\nSkipping line 43667: expected 8 fields, saw 10\\nSkipping line 51751: expected 8 fields, saw 9\\n'\n",
            "b'Skipping line 92038: expected 8 fields, saw 9\\nSkipping line 104319: expected 8 fields, saw 9\\nSkipping line 121768: expected 8 fields, saw 9\\n'\n",
            "b'Skipping line 144058: expected 8 fields, saw 9\\nSkipping line 150789: expected 8 fields, saw 9\\nSkipping line 157128: expected 8 fields, saw 9\\nSkipping line 180189: expected 8 fields, saw 9\\nSkipping line 185738: expected 8 fields, saw 9\\n'\n",
            "b'Skipping line 209388: expected 8 fields, saw 9\\nSkipping line 220626: expected 8 fields, saw 9\\nSkipping line 227933: expected 8 fields, saw 11\\nSkipping line 228957: expected 8 fields, saw 10\\nSkipping line 245933: expected 8 fields, saw 9\\nSkipping line 251296: expected 8 fields, saw 9\\nSkipping line 259941: expected 8 fields, saw 9\\nSkipping line 261529: expected 8 fields, saw 9\\n'\n"
          ],
          "name": "stderr"
        },
        {
          "output_type": "stream",
          "text": [
            "         ISBN  ...                                          imageUrlL\n",
            "0  0195153448  ...  http://images.amazon.com/images/P/0195153448.0...\n",
            "1  0002005018  ...  http://images.amazon.com/images/P/0002005018.0...\n",
            "2  0060973129  ...  http://images.amazon.com/images/P/0060973129.0...\n",
            "3  0374157065  ...  http://images.amazon.com/images/P/0374157065.0...\n",
            "4  0393045218  ...  http://images.amazon.com/images/P/0393045218.0...\n",
            "\n",
            "[5 rows x 8 columns]\n",
            "(271360, 8)\n"
          ],
          "name": "stdout"
        },
        {
          "output_type": "stream",
          "text": [
            "/usr/local/lib/python3.6/dist-packages/IPython/core/interactiveshell.py:2718: DtypeWarning: Columns (3) have mixed types.Specify dtype option on import or set low_memory=False.\n",
            "  interactivity=interactivity, compiler=compiler, result=result)\n"
          ],
          "name": "stderr"
        }
      ]
    },
    {
      "cell_type": "markdown",
      "metadata": {
        "id": "GrF_uMrcv4hY"
      },
      "source": [
        "## Here we are dropping the these 3 columns which we are not going to use for our analysis. "
      ]
    },
    {
      "cell_type": "code",
      "metadata": {
        "id": "cvwicdbVWGb5",
        "colab": {
          "base_uri": "https://localhost:8080/"
        },
        "outputId": "5b3bf8a0-e0a7-4a92-9586-ac3d151b3508"
      },
      "source": [
        "books.drop(['imageUrlS', 'imageUrlM', 'imageUrlL'],axis=1,inplace=True)\n",
        "print(books.head())\n",
        "print(books.shape)"
      ],
      "execution_count": 1701,
      "outputs": [
        {
          "output_type": "stream",
          "text": [
            "         ISBN  ...                   publisher\n",
            "0  0195153448  ...     Oxford University Press\n",
            "1  0002005018  ...       HarperFlamingo Canada\n",
            "2  0060973129  ...             HarperPerennial\n",
            "3  0374157065  ...        Farrar Straus Giroux\n",
            "4  0393045218  ...  W. W. Norton &amp; Company\n",
            "\n",
            "[5 rows x 5 columns]\n",
            "(271360, 5)\n"
          ],
          "name": "stdout"
        }
      ]
    },
    {
      "cell_type": "markdown",
      "metadata": {
        "id": "nhsoA_G61Hj7"
      },
      "source": [
        "## I want to check what is the datatype of each and every row in my books dataframe. Here it was found that all the details were in the form of object datatype. \n"
      ]
    },
    {
      "cell_type": "code",
      "metadata": {
        "id": "r_Auic21XKhe",
        "colab": {
          "base_uri": "https://localhost:8080/"
        },
        "outputId": "0846d106-54c1-4f7e-808d-74b1d2fa8bd2"
      },
      "source": [
        "books.dtypes"
      ],
      "execution_count": 1702,
      "outputs": [
        {
          "output_type": "execute_result",
          "data": {
            "text/plain": [
              "ISBN                 object\n",
              "bookTitle            object\n",
              "bookAuthor           object\n",
              "yearOfPublication    object\n",
              "publisher            object\n",
              "dtype: object"
            ]
          },
          "metadata": {
            "tags": []
          },
          "execution_count": 1702
        }
      ]
    },
    {
      "cell_type": "markdown",
      "metadata": {
        "id": "TtGlGx6o1hTM"
      },
      "source": [
        "## I want to convert the yearOfPublication as int datatype. But I got error while converting and it gave me exception saying that it was not able to convert the some values into int datatype. \n"
      ]
    },
    {
      "cell_type": "markdown",
      "metadata": {
        "id": "w0m7i7a315zK"
      },
      "source": [
        "## So I want to check all the unique values of the column.\n"
      ]
    },
    {
      "cell_type": "code",
      "metadata": {
        "id": "L069OeHuYEFd",
        "colab": {
          "base_uri": "https://localhost:8080/"
        },
        "outputId": "e682cccd-94d1-491c-e9cb-d4398845da4e"
      },
      "source": [
        "books.yearOfPublication.unique()"
      ],
      "execution_count": 1703,
      "outputs": [
        {
          "output_type": "execute_result",
          "data": {
            "text/plain": [
              "array([2002, 2001, 1991, 1999, 2000, 1993, 1996, 1988, 2004, 1998, 1994,\n",
              "       2003, 1997, 1983, 1979, 1995, 1982, 1985, 1992, 1986, 1978, 1980,\n",
              "       1952, 1987, 1990, 1981, 1989, 1984, 0, 1968, 1961, 1958, 1974,\n",
              "       1976, 1971, 1977, 1975, 1965, 1941, 1970, 1962, 1973, 1972, 1960,\n",
              "       1966, 1920, 1956, 1959, 1953, 1951, 1942, 1963, 1964, 1969, 1954,\n",
              "       1950, 1967, 2005, 1957, 1940, 1937, 1955, 1946, 1936, 1930, 2011,\n",
              "       1925, 1948, 1943, 1947, 1945, 1923, 2020, 1939, 1926, 1938, 2030,\n",
              "       1911, 1904, 1949, 1932, 1928, 1929, 1927, 1931, 1914, 2050, 1934,\n",
              "       1910, 1933, 1902, 1924, 1921, 1900, 2038, 2026, 1944, 1917, 1901,\n",
              "       2010, 1908, 1906, 1935, 1806, 2021, '2000', '1995', '1999', '2004',\n",
              "       '2003', '1990', '1994', '1986', '1989', '2002', '1981', '1993',\n",
              "       '1983', '1982', '1976', '1991', '1977', '1998', '1992', '1996',\n",
              "       '0', '1997', '2001', '1974', '1968', '1987', '1984', '1988',\n",
              "       '1963', '1956', '1970', '1985', '1978', '1973', '1980', '1979',\n",
              "       '1975', '1969', '1961', '1965', '1939', '1958', '1950', '1953',\n",
              "       '1966', '1971', '1959', '1972', '1955', '1957', '1945', '1960',\n",
              "       '1967', '1932', '1924', '1964', '2012', '1911', '1927', '1948',\n",
              "       '1962', '2006', '1952', '1940', '1951', '1931', '1954', '2005',\n",
              "       '1930', '1941', '1944', 'DK Publishing Inc', '1943', '1938',\n",
              "       '1900', '1942', '1923', '1920', '1933', 'Gallimard', '1909',\n",
              "       '1946', '2008', '1378', '2030', '1936', '1947', '2011', '2020',\n",
              "       '1919', '1949', '1922', '1897', '2024', '1376', '1926', '2037'],\n",
              "      dtype=object)"
            ]
          },
          "metadata": {
            "tags": []
          },
          "execution_count": 1703
        }
      ]
    },
    {
      "cell_type": "markdown",
      "metadata": {
        "id": "0qX6dpaW2DpL"
      },
      "source": [
        "## Here it can be seen that there are some incorrect entries in this field. The invalid values here are 'DK Publishing Inc' and 'Gallimard' have been incorrectly loaded as yearOfPublication in dataset. These values seem like they are the name of publications. "
      ]
    },
    {
      "cell_type": "code",
      "metadata": {
        "id": "ZkCG4JluYgoZ",
        "colab": {
          "base_uri": "https://localhost:8080/"
        },
        "outputId": "29d8f8a3-a7fc-4c8d-e541-1a7d4113ad5c"
      },
      "source": [
        "books['ISBN'][books[\"yearOfPublication\"]==\"DK Publishing Inc\"]"
      ],
      "execution_count": 1704,
      "outputs": [
        {
          "output_type": "execute_result",
          "data": {
            "text/plain": [
              "209538    078946697X\n",
              "221678    0789466953\n",
              "Name: ISBN, dtype: object"
            ]
          },
          "metadata": {
            "tags": []
          },
          "execution_count": 1704
        }
      ]
    },
    {
      "cell_type": "markdown",
      "metadata": {
        "id": "AYTRT04T3phA"
      },
      "source": [
        "## The rows having 'DK Publishing Inc' as yearOfPublication. \n"
      ]
    },
    {
      "cell_type": "code",
      "metadata": {
        "colab": {
          "base_uri": "https://localhost:8080/",
          "height": 108
        },
        "id": "tuWmSg7r3qoo",
        "outputId": "9e262c33-5a5c-4fb7-aa91-3fd0f3720bac"
      },
      "source": [
        "books.loc[books.yearOfPublication == 'DK Publishing Inc',:]"
      ],
      "execution_count": 1705,
      "outputs": [
        {
          "output_type": "execute_result",
          "data": {
            "text/html": [
              "<div>\n",
              "<style scoped>\n",
              "    .dataframe tbody tr th:only-of-type {\n",
              "        vertical-align: middle;\n",
              "    }\n",
              "\n",
              "    .dataframe tbody tr th {\n",
              "        vertical-align: top;\n",
              "    }\n",
              "\n",
              "    .dataframe thead th {\n",
              "        text-align: right;\n",
              "    }\n",
              "</style>\n",
              "<table border=\"1\" class=\"dataframe\">\n",
              "  <thead>\n",
              "    <tr style=\"text-align: right;\">\n",
              "      <th></th>\n",
              "      <th>ISBN</th>\n",
              "      <th>bookTitle</th>\n",
              "      <th>bookAuthor</th>\n",
              "      <th>yearOfPublication</th>\n",
              "      <th>publisher</th>\n",
              "    </tr>\n",
              "  </thead>\n",
              "  <tbody>\n",
              "    <tr>\n",
              "      <th>209538</th>\n",
              "      <td>078946697X</td>\n",
              "      <td>DK Readers: Creating the X-Men, How It All Beg...</td>\n",
              "      <td>2000</td>\n",
              "      <td>DK Publishing Inc</td>\n",
              "      <td>http://images.amazon.com/images/P/078946697X.0...</td>\n",
              "    </tr>\n",
              "    <tr>\n",
              "      <th>221678</th>\n",
              "      <td>0789466953</td>\n",
              "      <td>DK Readers: Creating the X-Men, How Comic Book...</td>\n",
              "      <td>2000</td>\n",
              "      <td>DK Publishing Inc</td>\n",
              "      <td>http://images.amazon.com/images/P/0789466953.0...</td>\n",
              "    </tr>\n",
              "  </tbody>\n",
              "</table>\n",
              "</div>"
            ],
            "text/plain": [
              "              ISBN  ...                                          publisher\n",
              "209538  078946697X  ...  http://images.amazon.com/images/P/078946697X.0...\n",
              "221678  0789466953  ...  http://images.amazon.com/images/P/0789466953.0...\n",
              "\n",
              "[2 rows x 5 columns]"
            ]
          },
          "metadata": {
            "tags": []
          },
          "execution_count": 1705
        }
      ]
    },
    {
      "cell_type": "markdown",
      "metadata": {
        "id": "RovCtj5z3PMs"
      },
      "source": [
        "## The year of publication for the books with these two book numbers are wrong. So we need to correct them. "
      ]
    },
    {
      "cell_type": "code",
      "metadata": {
        "id": "vHFncYu7Yo0u"
      },
      "source": [
        "#ISBN '0789466953'\n",
        "books.loc[books.ISBN == '0789466953','yearOfPublication'] = 2000\n",
        "books.loc[books.ISBN == '0789466953','bookAuthor'] = \"James Buckley\"\n",
        "books.loc[books.ISBN == '0789466953','publisher'] = \"DK Publishing Inc\"\n",
        "books.loc[books.ISBN == '0789466953','bookTitle'] = \"DK Readers: Creating the X-Men, How Comic Books Come to Life (Level 4: Proficient Readers)\""
      ],
      "execution_count": 1706,
      "outputs": []
    },
    {
      "cell_type": "code",
      "metadata": {
        "id": "m8BPJAUZZUBg"
      },
      "source": [
        "#ISBN '078946697X'\n",
        "books.loc[books.ISBN == '078946697X','yearOfPublication'] = 2000\n",
        "books.loc[books.ISBN == '078946697X','bookAuthor'] = \"Michael Teitelbaum\"\n",
        "books.loc[books.ISBN == '078946697X','publisher'] = \"DK Publishing Inc\"\n",
        "books.loc[books.ISBN == '078946697X','bookTitle'] = \"DK Readers: Creating the X-Men, How It All Began (Level 4: Proficient Readers)\""
      ],
      "execution_count": 1707,
      "outputs": []
    },
    {
      "cell_type": "code",
      "metadata": {
        "id": "gtLykjoZZWla",
        "colab": {
          "base_uri": "https://localhost:8080/",
          "height": 108
        },
        "outputId": "5c6c6436-5b71-4d81-9eb7-77ef402c21f0"
      },
      "source": [
        "books.loc[(books.ISBN == '0789466953') | (books.ISBN == '078946697X'),:]"
      ],
      "execution_count": 1708,
      "outputs": [
        {
          "output_type": "execute_result",
          "data": {
            "text/html": [
              "<div>\n",
              "<style scoped>\n",
              "    .dataframe tbody tr th:only-of-type {\n",
              "        vertical-align: middle;\n",
              "    }\n",
              "\n",
              "    .dataframe tbody tr th {\n",
              "        vertical-align: top;\n",
              "    }\n",
              "\n",
              "    .dataframe thead th {\n",
              "        text-align: right;\n",
              "    }\n",
              "</style>\n",
              "<table border=\"1\" class=\"dataframe\">\n",
              "  <thead>\n",
              "    <tr style=\"text-align: right;\">\n",
              "      <th></th>\n",
              "      <th>ISBN</th>\n",
              "      <th>bookTitle</th>\n",
              "      <th>bookAuthor</th>\n",
              "      <th>yearOfPublication</th>\n",
              "      <th>publisher</th>\n",
              "    </tr>\n",
              "  </thead>\n",
              "  <tbody>\n",
              "    <tr>\n",
              "      <th>209538</th>\n",
              "      <td>078946697X</td>\n",
              "      <td>DK Readers: Creating the X-Men, How It All Beg...</td>\n",
              "      <td>Michael Teitelbaum</td>\n",
              "      <td>2000</td>\n",
              "      <td>DK Publishing Inc</td>\n",
              "    </tr>\n",
              "    <tr>\n",
              "      <th>221678</th>\n",
              "      <td>0789466953</td>\n",
              "      <td>DK Readers: Creating the X-Men, How Comic Book...</td>\n",
              "      <td>James Buckley</td>\n",
              "      <td>2000</td>\n",
              "      <td>DK Publishing Inc</td>\n",
              "    </tr>\n",
              "  </tbody>\n",
              "</table>\n",
              "</div>"
            ],
            "text/plain": [
              "              ISBN  ...          publisher\n",
              "209538  078946697X  ...  DK Publishing Inc\n",
              "221678  0789466953  ...  DK Publishing Inc\n",
              "\n",
              "[2 rows x 5 columns]"
            ]
          },
          "metadata": {
            "tags": []
          },
          "execution_count": 1708
        }
      ]
    },
    {
      "cell_type": "markdown",
      "metadata": {
        "id": "Io08d_rQ5AJC"
      },
      "source": [
        "## Now the year for books which has DK Publishing Inc as year is changed. Now we need to deal with the year as 'Gallimard'."
      ]
    },
    {
      "cell_type": "markdown",
      "metadata": {
        "id": "xOzEE4tF5TSO"
      },
      "source": [
        "## similarly like above we need to see the row where the year was wrongly loaded. \n"
      ]
    },
    {
      "cell_type": "code",
      "metadata": {
        "id": "BK7anLGjZbDj",
        "colab": {
          "base_uri": "https://localhost:8080/",
          "height": 78
        },
        "outputId": "93f0654e-9241-4412-e5fc-f46afb18f96c"
      },
      "source": [
        "books.loc[books.yearOfPublication == 'Gallimard',:]"
      ],
      "execution_count": 1709,
      "outputs": [
        {
          "output_type": "execute_result",
          "data": {
            "text/html": [
              "<div>\n",
              "<style scoped>\n",
              "    .dataframe tbody tr th:only-of-type {\n",
              "        vertical-align: middle;\n",
              "    }\n",
              "\n",
              "    .dataframe tbody tr th {\n",
              "        vertical-align: top;\n",
              "    }\n",
              "\n",
              "    .dataframe thead th {\n",
              "        text-align: right;\n",
              "    }\n",
              "</style>\n",
              "<table border=\"1\" class=\"dataframe\">\n",
              "  <thead>\n",
              "    <tr style=\"text-align: right;\">\n",
              "      <th></th>\n",
              "      <th>ISBN</th>\n",
              "      <th>bookTitle</th>\n",
              "      <th>bookAuthor</th>\n",
              "      <th>yearOfPublication</th>\n",
              "      <th>publisher</th>\n",
              "    </tr>\n",
              "  </thead>\n",
              "  <tbody>\n",
              "    <tr>\n",
              "      <th>220731</th>\n",
              "      <td>2070426769</td>\n",
              "      <td>Peuple du ciel, suivi de 'Les Bergers\\\";Jean-M...</td>\n",
              "      <td>2003</td>\n",
              "      <td>Gallimard</td>\n",
              "      <td>http://images.amazon.com/images/P/2070426769.0...</td>\n",
              "    </tr>\n",
              "  </tbody>\n",
              "</table>\n",
              "</div>"
            ],
            "text/plain": [
              "              ISBN  ...                                          publisher\n",
              "220731  2070426769  ...  http://images.amazon.com/images/P/2070426769.0...\n",
              "\n",
              "[1 rows x 5 columns]"
            ]
          },
          "metadata": {
            "tags": []
          },
          "execution_count": 1709
        }
      ]
    },
    {
      "cell_type": "markdown",
      "metadata": {
        "id": "iPBvoPVR5cj7"
      },
      "source": [
        "## Now we need to change the details of the row just like above. \n"
      ]
    },
    {
      "cell_type": "code",
      "metadata": {
        "id": "ayKQUJWlZd3M"
      },
      "source": [
        "#ISBN 220731\n",
        "books.loc[books.ISBN == '2070426769','yearOfPublication'] = 2003\n",
        "books.loc[books.ISBN == '2070426769','bookAuthor'] = \"Jean-Marie Gustave Le ClÃ?Â©zio\"\n",
        "books.loc[books.ISBN == '2070426769','publisher'] = \"Gallimard\"\n",
        "books.loc[books.ISBN == '2070426769','bookTitle'] = \"Peuple du ciel, suivi de 'Les Bergers\""
      ],
      "execution_count": 1710,
      "outputs": []
    },
    {
      "cell_type": "markdown",
      "metadata": {
        "id": "uOFt7ndL5yuY"
      },
      "source": [
        "## Now I want to see if the changes are correctly made or not. \n"
      ]
    },
    {
      "cell_type": "code",
      "metadata": {
        "id": "hTEvmxvkZg4x",
        "colab": {
          "base_uri": "https://localhost:8080/",
          "height": 78
        },
        "outputId": "9cfcf96b-244d-42eb-80c3-8e4328d0a6e5"
      },
      "source": [
        "books.loc[books.ISBN == '2070426769',:]"
      ],
      "execution_count": 1711,
      "outputs": [
        {
          "output_type": "execute_result",
          "data": {
            "text/html": [
              "<div>\n",
              "<style scoped>\n",
              "    .dataframe tbody tr th:only-of-type {\n",
              "        vertical-align: middle;\n",
              "    }\n",
              "\n",
              "    .dataframe tbody tr th {\n",
              "        vertical-align: top;\n",
              "    }\n",
              "\n",
              "    .dataframe thead th {\n",
              "        text-align: right;\n",
              "    }\n",
              "</style>\n",
              "<table border=\"1\" class=\"dataframe\">\n",
              "  <thead>\n",
              "    <tr style=\"text-align: right;\">\n",
              "      <th></th>\n",
              "      <th>ISBN</th>\n",
              "      <th>bookTitle</th>\n",
              "      <th>bookAuthor</th>\n",
              "      <th>yearOfPublication</th>\n",
              "      <th>publisher</th>\n",
              "    </tr>\n",
              "  </thead>\n",
              "  <tbody>\n",
              "    <tr>\n",
              "      <th>220731</th>\n",
              "      <td>2070426769</td>\n",
              "      <td>Peuple du ciel, suivi de 'Les Bergers</td>\n",
              "      <td>Jean-Marie Gustave Le ClÃ?Â©zio</td>\n",
              "      <td>2003</td>\n",
              "      <td>Gallimard</td>\n",
              "    </tr>\n",
              "  </tbody>\n",
              "</table>\n",
              "</div>"
            ],
            "text/plain": [
              "              ISBN  ...  publisher\n",
              "220731  2070426769  ...  Gallimard\n",
              "\n",
              "[1 rows x 5 columns]"
            ]
          },
          "metadata": {
            "tags": []
          },
          "execution_count": 1711
        }
      ]
    },
    {
      "cell_type": "markdown",
      "metadata": {
        "id": "tG-UBppn58lS"
      },
      "source": [
        "## Here we can see that the corrections are done. \n"
      ]
    },
    {
      "cell_type": "code",
      "metadata": {
        "colab": {
          "base_uri": "https://localhost:8080/"
        },
        "id": "MBW0fwrd6M0X",
        "outputId": "28bc44a7-967e-4877-ea59-0aa471568ac0"
      },
      "source": [
        "books.yearOfPublication.unique()"
      ],
      "execution_count": 1712,
      "outputs": [
        {
          "output_type": "execute_result",
          "data": {
            "text/plain": [
              "array([2002, 2001, 1991, 1999, 2000, 1993, 1996, 1988, 2004, 1998, 1994,\n",
              "       2003, 1997, 1983, 1979, 1995, 1982, 1985, 1992, 1986, 1978, 1980,\n",
              "       1952, 1987, 1990, 1981, 1989, 1984, 0, 1968, 1961, 1958, 1974,\n",
              "       1976, 1971, 1977, 1975, 1965, 1941, 1970, 1962, 1973, 1972, 1960,\n",
              "       1966, 1920, 1956, 1959, 1953, 1951, 1942, 1963, 1964, 1969, 1954,\n",
              "       1950, 1967, 2005, 1957, 1940, 1937, 1955, 1946, 1936, 1930, 2011,\n",
              "       1925, 1948, 1943, 1947, 1945, 1923, 2020, 1939, 1926, 1938, 2030,\n",
              "       1911, 1904, 1949, 1932, 1928, 1929, 1927, 1931, 1914, 2050, 1934,\n",
              "       1910, 1933, 1902, 1924, 1921, 1900, 2038, 2026, 1944, 1917, 1901,\n",
              "       2010, 1908, 1906, 1935, 1806, 2021, '2000', '1995', '1999', '2004',\n",
              "       '2003', '1990', '1994', '1986', '1989', '2002', '1981', '1993',\n",
              "       '1983', '1982', '1976', '1991', '1977', '1998', '1992', '1996',\n",
              "       '0', '1997', '2001', '1974', '1968', '1987', '1984', '1988',\n",
              "       '1963', '1956', '1970', '1985', '1978', '1973', '1980', '1979',\n",
              "       '1975', '1969', '1961', '1965', '1939', '1958', '1950', '1953',\n",
              "       '1966', '1971', '1959', '1972', '1955', '1957', '1945', '1960',\n",
              "       '1967', '1932', '1924', '1964', '2012', '1911', '1927', '1948',\n",
              "       '1962', '2006', '1952', '1940', '1951', '1931', '1954', '2005',\n",
              "       '1930', '1941', '1944', '1943', '1938', '1900', '1942', '1923',\n",
              "       '1920', '1933', '1909', '1946', '2008', '1378', '2030', '1936',\n",
              "       '1947', '2011', '2020', '1919', '1949', '1922', '1897', '2024',\n",
              "       '1376', '1926', '2037'], dtype=object)"
            ]
          },
          "metadata": {
            "tags": []
          },
          "execution_count": 1712
        }
      ]
    },
    {
      "cell_type": "markdown",
      "metadata": {
        "id": "Gz71KC_n6Ucv"
      },
      "source": [
        "## Here we can see that the unique values of the year are now only having numbers and the datatype is object. Now are there are only numbers in the unique values we can change the datatype of all the values of this column. \n"
      ]
    },
    {
      "cell_type": "code",
      "metadata": {
        "id": "psEZkosFZkjt"
      },
      "source": [
        "books.yearOfPublication=pd.to_numeric(books.yearOfPublication)"
      ],
      "execution_count": 1713,
      "outputs": []
    },
    {
      "cell_type": "code",
      "metadata": {
        "id": "OxeH252xZ7Ml",
        "colab": {
          "base_uri": "https://localhost:8080/"
        },
        "outputId": "f991262e-649a-4537-9f62-75d3d3da09f6"
      },
      "source": [
        "print(sorted(books['yearOfPublication'].unique()))"
      ],
      "execution_count": 1714,
      "outputs": [
        {
          "output_type": "stream",
          "text": [
            "[0, 1376, 1378, 1806, 1897, 1900, 1901, 1902, 1904, 1906, 1908, 1909, 1910, 1911, 1914, 1917, 1919, 1920, 1921, 1922, 1923, 1924, 1925, 1926, 1927, 1928, 1929, 1930, 1931, 1932, 1933, 1934, 1935, 1936, 1937, 1938, 1939, 1940, 1941, 1942, 1943, 1944, 1945, 1946, 1947, 1948, 1949, 1950, 1951, 1952, 1953, 1954, 1955, 1956, 1957, 1958, 1959, 1960, 1961, 1962, 1963, 1964, 1965, 1966, 1967, 1968, 1969, 1970, 1971, 1972, 1973, 1974, 1975, 1976, 1977, 1978, 1979, 1980, 1981, 1982, 1983, 1984, 1985, 1986, 1987, 1988, 1989, 1990, 1991, 1992, 1993, 1994, 1995, 1996, 1997, 1998, 1999, 2000, 2001, 2002, 2003, 2004, 2005, 2006, 2008, 2010, 2011, 2012, 2020, 2021, 2024, 2026, 2030, 2037, 2038, 2050]\n"
          ],
          "name": "stdout"
        }
      ]
    },
    {
      "cell_type": "markdown",
      "metadata": {
        "id": "Z4_5T3QQ6x8q"
      },
      "source": [
        "## Now it can be seen that yearOfPublication has all values as integers. But here we got year 0 too. The year zero can be considered as invalid. If the year is not known then zero must have been included. So I will consider zero to be invalid year and also there are years greater than 2020. So the years which are greater than 2020 should also be Invalid. \n",
        "\n"
      ]
    },
    {
      "cell_type": "code",
      "metadata": {
        "id": "NwRIb-QO7kiz"
      },
      "source": [
        "books.loc[(books.yearOfPublication > 2020) | (books.yearOfPublication == 0),'yearOfPublication'] = np.NAN"
      ],
      "execution_count": 1715,
      "outputs": []
    },
    {
      "cell_type": "markdown",
      "metadata": {
        "id": "Wqq2AcU87cCA"
      },
      "source": [
        "## This dataset was actally published in the year 2006. So it means that years from 2006 and 2020 are also not the years that valid. So instead of making the years after 2020 to NAN I will make the year after 2006 to NAN. \n"
      ]
    },
    {
      "cell_type": "code",
      "metadata": {
        "id": "zcXkAoLiaAJj"
      },
      "source": [
        "books.loc[(books.yearOfPublication > 2006) | (books.yearOfPublication == 0),'yearOfPublication'] = np.NAN"
      ],
      "execution_count": 1716,
      "outputs": []
    },
    {
      "cell_type": "code",
      "metadata": {
        "colab": {
          "base_uri": "https://localhost:8080/"
        },
        "id": "bD1NFwHP8I_E",
        "outputId": "d4dffbec-8899-463d-ec5b-fa360c9bcc11"
      },
      "source": [
        "books.yearOfPublication.isnull().sum()"
      ],
      "execution_count": 1717,
      "outputs": [
        {
          "output_type": "execute_result",
          "data": {
            "text/plain": [
              "4641"
            ]
          },
          "metadata": {
            "tags": []
          },
          "execution_count": 1717
        }
      ]
    },
    {
      "cell_type": "markdown",
      "metadata": {
        "id": "bIw24pTk8EFc"
      },
      "source": [
        "## Now there are 4641 NAN values altogether. Now I will replace all these values with mean value.\n"
      ]
    },
    {
      "cell_type": "code",
      "metadata": {
        "id": "lr_wscRQaVpy"
      },
      "source": [
        "books.yearOfPublication.fillna(round(books.yearOfPublication.mean()), inplace=True)"
      ],
      "execution_count": 1718,
      "outputs": []
    },
    {
      "cell_type": "markdown",
      "metadata": {
        "id": "66tduERe9Bso"
      },
      "source": [
        "## Now I am rechecking if there are any NAN values. I got no NAN values. \n"
      ]
    },
    {
      "cell_type": "code",
      "metadata": {
        "id": "WDO3tnHfadqt",
        "colab": {
          "base_uri": "https://localhost:8080/"
        },
        "outputId": "104047d5-6225-4a50-aa73-874e3856e7e3"
      },
      "source": [
        "books.yearOfPublication.isnull().sum()"
      ],
      "execution_count": 1719,
      "outputs": [
        {
          "output_type": "execute_result",
          "data": {
            "text/plain": [
              "0"
            ]
          },
          "metadata": {
            "tags": []
          },
          "execution_count": 1719
        }
      ]
    },
    {
      "cell_type": "code",
      "metadata": {
        "id": "ncImUt1TahGP"
      },
      "source": [
        "#resetting the dtype as int32\n",
        "books.yearOfPublication = books.yearOfPublication.astype(np.int32)"
      ],
      "execution_count": 1720,
      "outputs": []
    },
    {
      "cell_type": "markdown",
      "metadata": {
        "id": "qQ_uNeSfazPw"
      },
      "source": [
        "## Checking if there are any null values in the publisher column. \n",
        "\n"
      ]
    },
    {
      "cell_type": "code",
      "metadata": {
        "id": "gVDUf5Soapor",
        "colab": {
          "base_uri": "https://localhost:8080/",
          "height": 108
        },
        "outputId": "767c3e3a-cc6d-4d3b-ec26-9aeb60edb40d"
      },
      "source": [
        "books.loc[books.publisher.isnull(),:]"
      ],
      "execution_count": 1721,
      "outputs": [
        {
          "output_type": "execute_result",
          "data": {
            "text/html": [
              "<div>\n",
              "<style scoped>\n",
              "    .dataframe tbody tr th:only-of-type {\n",
              "        vertical-align: middle;\n",
              "    }\n",
              "\n",
              "    .dataframe tbody tr th {\n",
              "        vertical-align: top;\n",
              "    }\n",
              "\n",
              "    .dataframe thead th {\n",
              "        text-align: right;\n",
              "    }\n",
              "</style>\n",
              "<table border=\"1\" class=\"dataframe\">\n",
              "  <thead>\n",
              "    <tr style=\"text-align: right;\">\n",
              "      <th></th>\n",
              "      <th>ISBN</th>\n",
              "      <th>bookTitle</th>\n",
              "      <th>bookAuthor</th>\n",
              "      <th>yearOfPublication</th>\n",
              "      <th>publisher</th>\n",
              "    </tr>\n",
              "  </thead>\n",
              "  <tbody>\n",
              "    <tr>\n",
              "      <th>128890</th>\n",
              "      <td>193169656X</td>\n",
              "      <td>Tyrant Moon</td>\n",
              "      <td>Elaine Corvidae</td>\n",
              "      <td>2002</td>\n",
              "      <td>NaN</td>\n",
              "    </tr>\n",
              "    <tr>\n",
              "      <th>129037</th>\n",
              "      <td>1931696993</td>\n",
              "      <td>Finders Keepers</td>\n",
              "      <td>Linnea Sinclair</td>\n",
              "      <td>2001</td>\n",
              "      <td>NaN</td>\n",
              "    </tr>\n",
              "  </tbody>\n",
              "</table>\n",
              "</div>"
            ],
            "text/plain": [
              "              ISBN        bookTitle  ... yearOfPublication  publisher\n",
              "128890  193169656X      Tyrant Moon  ...              2002        NaN\n",
              "129037  1931696993  Finders Keepers  ...              2001        NaN\n",
              "\n",
              "[2 rows x 5 columns]"
            ]
          },
          "metadata": {
            "tags": []
          },
          "execution_count": 1721
        }
      ]
    },
    {
      "cell_type": "markdown",
      "metadata": {
        "id": "U2FYdx8A926y"
      },
      "source": [
        "## years could be replaced with any mean of the years. But for publisher column we can't do that. So I am checking if we can find any clues using the title and author. \n"
      ]
    },
    {
      "cell_type": "code",
      "metadata": {
        "id": "EMjbwri5a4m9",
        "colab": {
          "base_uri": "https://localhost:8080/",
          "height": 78
        },
        "outputId": "6791d8f2-d489-40e2-942b-acf811a16f79"
      },
      "source": [
        "books.loc[(books.bookTitle == 'Tyrant Moon'),:]"
      ],
      "execution_count": 1722,
      "outputs": [
        {
          "output_type": "execute_result",
          "data": {
            "text/html": [
              "<div>\n",
              "<style scoped>\n",
              "    .dataframe tbody tr th:only-of-type {\n",
              "        vertical-align: middle;\n",
              "    }\n",
              "\n",
              "    .dataframe tbody tr th {\n",
              "        vertical-align: top;\n",
              "    }\n",
              "\n",
              "    .dataframe thead th {\n",
              "        text-align: right;\n",
              "    }\n",
              "</style>\n",
              "<table border=\"1\" class=\"dataframe\">\n",
              "  <thead>\n",
              "    <tr style=\"text-align: right;\">\n",
              "      <th></th>\n",
              "      <th>ISBN</th>\n",
              "      <th>bookTitle</th>\n",
              "      <th>bookAuthor</th>\n",
              "      <th>yearOfPublication</th>\n",
              "      <th>publisher</th>\n",
              "    </tr>\n",
              "  </thead>\n",
              "  <tbody>\n",
              "    <tr>\n",
              "      <th>128890</th>\n",
              "      <td>193169656X</td>\n",
              "      <td>Tyrant Moon</td>\n",
              "      <td>Elaine Corvidae</td>\n",
              "      <td>2002</td>\n",
              "      <td>NaN</td>\n",
              "    </tr>\n",
              "  </tbody>\n",
              "</table>\n",
              "</div>"
            ],
            "text/plain": [
              "              ISBN    bookTitle       bookAuthor  yearOfPublication publisher\n",
              "128890  193169656X  Tyrant Moon  Elaine Corvidae               2002       NaN"
            ]
          },
          "metadata": {
            "tags": []
          },
          "execution_count": 1722
        }
      ]
    },
    {
      "cell_type": "markdown",
      "metadata": {
        "id": "GqUzCACa-L7f"
      },
      "source": [
        "## there is only 1 row with the tyrant moon name. So we can't get any clues with the help of name of the book. \n"
      ]
    },
    {
      "cell_type": "code",
      "metadata": {
        "id": "KtbEnwO_bBpA",
        "colab": {
          "base_uri": "https://localhost:8080/",
          "height": 318
        },
        "outputId": "5fa2cbe8-c410-4364-8790-07535ea66e92"
      },
      "source": [
        "books.loc[(books.bookTitle == 'Finders Keepers'),:]"
      ],
      "execution_count": 1723,
      "outputs": [
        {
          "output_type": "execute_result",
          "data": {
            "text/html": [
              "<div>\n",
              "<style scoped>\n",
              "    .dataframe tbody tr th:only-of-type {\n",
              "        vertical-align: middle;\n",
              "    }\n",
              "\n",
              "    .dataframe tbody tr th {\n",
              "        vertical-align: top;\n",
              "    }\n",
              "\n",
              "    .dataframe thead th {\n",
              "        text-align: right;\n",
              "    }\n",
              "</style>\n",
              "<table border=\"1\" class=\"dataframe\">\n",
              "  <thead>\n",
              "    <tr style=\"text-align: right;\">\n",
              "      <th></th>\n",
              "      <th>ISBN</th>\n",
              "      <th>bookTitle</th>\n",
              "      <th>bookAuthor</th>\n",
              "      <th>yearOfPublication</th>\n",
              "      <th>publisher</th>\n",
              "    </tr>\n",
              "  </thead>\n",
              "  <tbody>\n",
              "    <tr>\n",
              "      <th>10799</th>\n",
              "      <td>082177364X</td>\n",
              "      <td>Finders Keepers</td>\n",
              "      <td>Fern Michaels</td>\n",
              "      <td>2002</td>\n",
              "      <td>Zebra Books</td>\n",
              "    </tr>\n",
              "    <tr>\n",
              "      <th>42019</th>\n",
              "      <td>0070465037</td>\n",
              "      <td>Finders Keepers</td>\n",
              "      <td>Barbara Nickolae</td>\n",
              "      <td>1989</td>\n",
              "      <td>McGraw-Hill Companies</td>\n",
              "    </tr>\n",
              "    <tr>\n",
              "      <th>58264</th>\n",
              "      <td>0688118461</td>\n",
              "      <td>Finders Keepers</td>\n",
              "      <td>Emily Rodda</td>\n",
              "      <td>1993</td>\n",
              "      <td>Harpercollins Juvenile Books</td>\n",
              "    </tr>\n",
              "    <tr>\n",
              "      <th>66678</th>\n",
              "      <td>1575663236</td>\n",
              "      <td>Finders Keepers</td>\n",
              "      <td>Fern Michaels</td>\n",
              "      <td>1998</td>\n",
              "      <td>Kensington Publishing Corporation</td>\n",
              "    </tr>\n",
              "    <tr>\n",
              "      <th>129037</th>\n",
              "      <td>1931696993</td>\n",
              "      <td>Finders Keepers</td>\n",
              "      <td>Linnea Sinclair</td>\n",
              "      <td>2001</td>\n",
              "      <td>NaN</td>\n",
              "    </tr>\n",
              "    <tr>\n",
              "      <th>134309</th>\n",
              "      <td>0156309505</td>\n",
              "      <td>Finders Keepers</td>\n",
              "      <td>Will</td>\n",
              "      <td>1989</td>\n",
              "      <td>Voyager Books</td>\n",
              "    </tr>\n",
              "    <tr>\n",
              "      <th>173473</th>\n",
              "      <td>0973146907</td>\n",
              "      <td>Finders Keepers</td>\n",
              "      <td>Sean M. Costello</td>\n",
              "      <td>2002</td>\n",
              "      <td>Red Tower Publications</td>\n",
              "    </tr>\n",
              "    <tr>\n",
              "      <th>195885</th>\n",
              "      <td>0061083909</td>\n",
              "      <td>Finders Keepers</td>\n",
              "      <td>Sharon Sala</td>\n",
              "      <td>2003</td>\n",
              "      <td>HarperTorch</td>\n",
              "    </tr>\n",
              "    <tr>\n",
              "      <th>211874</th>\n",
              "      <td>0373261160</td>\n",
              "      <td>Finders Keepers</td>\n",
              "      <td>Elizabeth Travis</td>\n",
              "      <td>1993</td>\n",
              "      <td>Worldwide Library</td>\n",
              "    </tr>\n",
              "  </tbody>\n",
              "</table>\n",
              "</div>"
            ],
            "text/plain": [
              "              ISBN  ...                          publisher\n",
              "10799   082177364X  ...                        Zebra Books\n",
              "42019   0070465037  ...              McGraw-Hill Companies\n",
              "58264   0688118461  ...       Harpercollins Juvenile Books\n",
              "66678   1575663236  ...  Kensington Publishing Corporation\n",
              "129037  1931696993  ...                                NaN\n",
              "134309  0156309505  ...                      Voyager Books\n",
              "173473  0973146907  ...             Red Tower Publications\n",
              "195885  0061083909  ...                        HarperTorch\n",
              "211874  0373261160  ...                  Worldwide Library\n",
              "\n",
              "[9 rows x 5 columns]"
            ]
          },
          "metadata": {
            "tags": []
          },
          "execution_count": 1723
        }
      ]
    },
    {
      "cell_type": "markdown",
      "metadata": {
        "id": "STtKJ6Pg-Zmp"
      },
      "source": [
        "## The book finders keepers was published by a new publisher whenever it got released. So we can't fill the NAN value with any kind of publisher name. It is because it might be possible that even in the year 2001 there was another publisher that published the book. \n"
      ]
    },
    {
      "cell_type": "markdown",
      "metadata": {
        "id": "ieNzjpjf-ywy"
      },
      "source": [
        "## Using book author also we didn't find any clues because there are different name of publishers in each row. \n"
      ]
    },
    {
      "cell_type": "code",
      "metadata": {
        "id": "-k-RtczcbHaa",
        "colab": {
          "base_uri": "https://localhost:8080/",
          "height": 138
        },
        "outputId": "32b7173e-30f1-418f-dea6-d8fd87cfb7c7"
      },
      "source": [
        "books.loc[(books.bookAuthor == 'Elaine Corvidae'),:]"
      ],
      "execution_count": 1724,
      "outputs": [
        {
          "output_type": "execute_result",
          "data": {
            "text/html": [
              "<div>\n",
              "<style scoped>\n",
              "    .dataframe tbody tr th:only-of-type {\n",
              "        vertical-align: middle;\n",
              "    }\n",
              "\n",
              "    .dataframe tbody tr th {\n",
              "        vertical-align: top;\n",
              "    }\n",
              "\n",
              "    .dataframe thead th {\n",
              "        text-align: right;\n",
              "    }\n",
              "</style>\n",
              "<table border=\"1\" class=\"dataframe\">\n",
              "  <thead>\n",
              "    <tr style=\"text-align: right;\">\n",
              "      <th></th>\n",
              "      <th>ISBN</th>\n",
              "      <th>bookTitle</th>\n",
              "      <th>bookAuthor</th>\n",
              "      <th>yearOfPublication</th>\n",
              "      <th>publisher</th>\n",
              "    </tr>\n",
              "  </thead>\n",
              "  <tbody>\n",
              "    <tr>\n",
              "      <th>126762</th>\n",
              "      <td>1931696934</td>\n",
              "      <td>Winter's Orphans</td>\n",
              "      <td>Elaine Corvidae</td>\n",
              "      <td>2001</td>\n",
              "      <td>Novelbooks</td>\n",
              "    </tr>\n",
              "    <tr>\n",
              "      <th>128890</th>\n",
              "      <td>193169656X</td>\n",
              "      <td>Tyrant Moon</td>\n",
              "      <td>Elaine Corvidae</td>\n",
              "      <td>2002</td>\n",
              "      <td>NaN</td>\n",
              "    </tr>\n",
              "    <tr>\n",
              "      <th>129001</th>\n",
              "      <td>0759901880</td>\n",
              "      <td>Wolfkin</td>\n",
              "      <td>Elaine Corvidae</td>\n",
              "      <td>2001</td>\n",
              "      <td>Hard Shell Word Factory</td>\n",
              "    </tr>\n",
              "  </tbody>\n",
              "</table>\n",
              "</div>"
            ],
            "text/plain": [
              "              ISBN  ...                publisher\n",
              "126762  1931696934  ...               Novelbooks\n",
              "128890  193169656X  ...                      NaN\n",
              "129001  0759901880  ...  Hard Shell Word Factory\n",
              "\n",
              "[3 rows x 5 columns]"
            ]
          },
          "metadata": {
            "tags": []
          },
          "execution_count": 1724
        }
      ]
    },
    {
      "cell_type": "markdown",
      "metadata": {
        "id": "F3HMxBBa-x7q"
      },
      "source": [
        "## similary checking it for another book. Here we got only one book. So we can't get any kind of clues from this row as well.\n"
      ]
    },
    {
      "cell_type": "code",
      "metadata": {
        "id": "OSSYRKa3bulx",
        "colab": {
          "base_uri": "https://localhost:8080/",
          "height": 78
        },
        "outputId": "1f19848e-699e-4cae-af4e-9bd28ee67fa6"
      },
      "source": [
        "books.loc[(books.bookAuthor == 'Linnea Sinclair'),:]"
      ],
      "execution_count": 1725,
      "outputs": [
        {
          "output_type": "execute_result",
          "data": {
            "text/html": [
              "<div>\n",
              "<style scoped>\n",
              "    .dataframe tbody tr th:only-of-type {\n",
              "        vertical-align: middle;\n",
              "    }\n",
              "\n",
              "    .dataframe tbody tr th {\n",
              "        vertical-align: top;\n",
              "    }\n",
              "\n",
              "    .dataframe thead th {\n",
              "        text-align: right;\n",
              "    }\n",
              "</style>\n",
              "<table border=\"1\" class=\"dataframe\">\n",
              "  <thead>\n",
              "    <tr style=\"text-align: right;\">\n",
              "      <th></th>\n",
              "      <th>ISBN</th>\n",
              "      <th>bookTitle</th>\n",
              "      <th>bookAuthor</th>\n",
              "      <th>yearOfPublication</th>\n",
              "      <th>publisher</th>\n",
              "    </tr>\n",
              "  </thead>\n",
              "  <tbody>\n",
              "    <tr>\n",
              "      <th>129037</th>\n",
              "      <td>1931696993</td>\n",
              "      <td>Finders Keepers</td>\n",
              "      <td>Linnea Sinclair</td>\n",
              "      <td>2001</td>\n",
              "      <td>NaN</td>\n",
              "    </tr>\n",
              "  </tbody>\n",
              "</table>\n",
              "</div>"
            ],
            "text/plain": [
              "              ISBN        bookTitle  ... yearOfPublication  publisher\n",
              "129037  1931696993  Finders Keepers  ...              2001        NaN\n",
              "\n",
              "[1 rows x 5 columns]"
            ]
          },
          "metadata": {
            "tags": []
          },
          "execution_count": 1725
        }
      ]
    },
    {
      "cell_type": "markdown",
      "metadata": {
        "id": "-gjXSThA_JeD"
      },
      "source": [
        "## As we could not find any names of publisher I am renaming them to 'other' \n"
      ]
    },
    {
      "cell_type": "code",
      "metadata": {
        "id": "eznEalbrbyVn"
      },
      "source": [
        "books.loc[(books.ISBN == '193169656X'),'publisher'] = 'other'\n",
        "books.loc[(books.ISBN == '1931696993'),'publisher'] = 'other'"
      ],
      "execution_count": 1726,
      "outputs": []
    },
    {
      "cell_type": "markdown",
      "metadata": {
        "id": "0L6bwMzUb7Kh"
      },
      "source": [
        "## Now coming to the users dataset. We are able to see 3 rows and more than 278k rows\n",
        "\n"
      ]
    },
    {
      "cell_type": "code",
      "metadata": {
        "id": "SBpU7-SFb2Iq",
        "colab": {
          "base_uri": "https://localhost:8080/"
        },
        "outputId": "dd47193d-4b31-4f2a-bc84-77a0e540df88"
      },
      "source": [
        "print(users.head())\n",
        "print(users.shape)"
      ],
      "execution_count": 1727,
      "outputs": [
        {
          "output_type": "stream",
          "text": [
            "   userID                            Location   Age\n",
            "0       1                  nyc, new york, usa   NaN\n",
            "1       2           stockton, california, usa  18.0\n",
            "2       3     moscow, yukon territory, russia   NaN\n",
            "3       4           porto, v.n.gaia, portugal  17.0\n",
            "4       5  farnborough, hants, united kingdom   NaN\n",
            "(278858, 3)\n"
          ],
          "name": "stdout"
        }
      ]
    },
    {
      "cell_type": "markdown",
      "metadata": {
        "id": "sXV7adPA_bk6"
      },
      "source": [
        "## In the above dataset we only found the datatypes as objects. Now we got mixed datatypes. We have one datatype for each and every row.\n"
      ]
    },
    {
      "cell_type": "code",
      "metadata": {
        "id": "zDfZ6KdFcKYh",
        "colab": {
          "base_uri": "https://localhost:8080/"
        },
        "outputId": "017e8d78-92ae-49c5-8951-61fceb8c26e6"
      },
      "source": [
        "users.dtypes"
      ],
      "execution_count": 1728,
      "outputs": [
        {
          "output_type": "execute_result",
          "data": {
            "text/plain": [
              "userID        int64\n",
              "Location     object\n",
              "Age         float64\n",
              "dtype: object"
            ]
          },
          "metadata": {
            "tags": []
          },
          "execution_count": 1728
        }
      ]
    },
    {
      "cell_type": "markdown",
      "metadata": {
        "id": "TzmKpZUF_nYN"
      },
      "source": [
        "## User id means it is the id. The user should not be included or registered again and again. So they must be unique values. \n"
      ]
    },
    {
      "cell_type": "code",
      "metadata": {
        "colab": {
          "base_uri": "https://localhost:8080/"
        },
        "id": "V5KUJVtS_tt6",
        "outputId": "6259a2c6-d60b-4543-83a8-2fee07970449"
      },
      "source": [
        "users['userID'].unique()"
      ],
      "execution_count": 1729,
      "outputs": [
        {
          "output_type": "execute_result",
          "data": {
            "text/plain": [
              "array([     1,      2,      3, ..., 278856, 278857, 278858])"
            ]
          },
          "metadata": {
            "tags": []
          },
          "execution_count": 1729
        }
      ]
    },
    {
      "cell_type": "code",
      "metadata": {
        "id": "cDRm0IqocMrw",
        "colab": {
          "base_uri": "https://localhost:8080/"
        },
        "outputId": "47fc65ee-0d8e-4b2e-ef1f-9ed5073e9a97"
      },
      "source": [
        "users.userID.values"
      ],
      "execution_count": 1730,
      "outputs": [
        {
          "output_type": "execute_result",
          "data": {
            "text/plain": [
              "array([     1,      2,      3, ..., 278856, 278857, 278858])"
            ]
          },
          "metadata": {
            "tags": []
          },
          "execution_count": 1730
        }
      ]
    },
    {
      "cell_type": "markdown",
      "metadata": {
        "id": "pLGkT-g4AG4y"
      },
      "source": [
        "## here we can see that all the values are unique. \n"
      ]
    },
    {
      "cell_type": "code",
      "metadata": {
        "colab": {
          "base_uri": "https://localhost:8080/",
          "height": 283
        },
        "id": "mKwN75RMCCjm",
        "outputId": "cc762ed5-235f-4e62-f50e-cb5c1f69a1bb"
      },
      "source": [
        "plt.plot(users.Age.unique())"
      ],
      "execution_count": 1731,
      "outputs": [
        {
          "output_type": "execute_result",
          "data": {
            "text/plain": [
              "[<matplotlib.lines.Line2D at 0x7ff69a937470>]"
            ]
          },
          "metadata": {
            "tags": []
          },
          "execution_count": 1731
        },
        {
          "output_type": "display_data",
          "data": {
            "image/png": "[encoded data removed]",
            "text/plain": [
              "<Figure size 432x288 with 1 Axes>"
            ]
          },
          "metadata": {
            "tags": [],
            "needs_background": "light"
          }
        }
      ]
    },
    {
      "cell_type": "markdown",
      "metadata": {
        "id": "Khhzge9zAMSz"
      },
      "source": [
        "## coming to the age column, we can see that there are some invalid numbers like zero\n"
      ]
    },
    {
      "cell_type": "code",
      "metadata": {
        "id": "kvby03dgcRMD",
        "colab": {
          "base_uri": "https://localhost:8080/"
        },
        "outputId": "7d0f3f6f-7bc5-4efd-baaf-d0995ffb2704"
      },
      "source": [
        "print(sorted(users.Age.unique()))"
      ],
      "execution_count": 1732,
      "outputs": [
        {
          "output_type": "stream",
          "text": [
            "[nan, 0.0, 1.0, 2.0, 3.0, 4.0, 5.0, 6.0, 7.0, 8.0, 9.0, 10.0, 11.0, 12.0, 13.0, 14.0, 15.0, 16.0, 17.0, 18.0, 19.0, 20.0, 21.0, 22.0, 23.0, 24.0, 25.0, 26.0, 27.0, 28.0, 29.0, 30.0, 31.0, 32.0, 33.0, 34.0, 35.0, 36.0, 37.0, 38.0, 39.0, 40.0, 41.0, 42.0, 43.0, 44.0, 45.0, 46.0, 47.0, 48.0, 49.0, 50.0, 51.0, 52.0, 53.0, 54.0, 55.0, 56.0, 57.0, 58.0, 59.0, 60.0, 61.0, 62.0, 63.0, 64.0, 65.0, 66.0, 67.0, 68.0, 69.0, 70.0, 71.0, 72.0, 73.0, 74.0, 75.0, 76.0, 77.0, 78.0, 79.0, 80.0, 81.0, 82.0, 83.0, 84.0, 85.0, 86.0, 87.0, 88.0, 89.0, 90.0, 91.0, 92.0, 93.0, 94.0, 95.0, 96.0, 97.0, 98.0, 99.0, 100.0, 101.0, 102.0, 103.0, 104.0, 105.0, 106.0, 107.0, 108.0, 109.0, 110.0, 111.0, 113.0, 114.0, 115.0, 116.0, 118.0, 119.0, 123.0, 124.0, 127.0, 128.0, 132.0, 133.0, 136.0, 137.0, 138.0, 140.0, 141.0, 143.0, 146.0, 147.0, 148.0, 151.0, 152.0, 156.0, 157.0, 159.0, 162.0, 168.0, 172.0, 175.0, 183.0, 186.0, 189.0, 199.0, 200.0, 201.0, 204.0, 207.0, 208.0, 209.0, 210.0, 212.0, 219.0, 220.0, 223.0, 226.0, 228.0, 229.0, 230.0, 231.0, 237.0, 239.0, 244.0]\n"
          ],
          "name": "stdout"
        }
      ]
    },
    {
      "cell_type": "markdown",
      "metadata": {
        "id": "xzo447JSAT_y"
      },
      "source": [
        "## I can consider the age above 90 and age below 5 to be invalid or outliers becuase they will not make much difference. \n"
      ]
    },
    {
      "cell_type": "code",
      "metadata": {
        "id": "9hZSlvCXcVQZ"
      },
      "source": [
        "users.loc[(users.Age > 90) | (users.Age < 5), 'Age'] = np.nan"
      ],
      "execution_count": 1733,
      "outputs": []
    },
    {
      "cell_type": "markdown",
      "metadata": {
        "id": "1_tyDhmZBsZ_"
      },
      "source": [
        "## Now I am replacing the nan values with the mean. \n"
      ]
    },
    {
      "cell_type": "code",
      "metadata": {
        "id": "x3G_js2ZcdKx"
      },
      "source": [
        "users.Age = users.Age.fillna(users.Age.mean())"
      ],
      "execution_count": 1734,
      "outputs": []
    },
    {
      "cell_type": "markdown",
      "metadata": {
        "id": "e891mjUrBxwS"
      },
      "source": [
        "## We can see that the age was in float data type. Now I will change them to int data type. \n"
      ]
    },
    {
      "cell_type": "code",
      "metadata": {
        "id": "wvXCUYSBcfuG"
      },
      "source": [
        "users.Age = users.Age.astype(np.int32)"
      ],
      "execution_count": 1735,
      "outputs": []
    },
    {
      "cell_type": "markdown",
      "metadata": {
        "id": "OuRb8LOOB6H3"
      },
      "source": [
        "## Now it looks good. \n"
      ]
    },
    {
      "cell_type": "code",
      "metadata": {
        "id": "RM-Nndsmcif8",
        "colab": {
          "base_uri": "https://localhost:8080/"
        },
        "outputId": "c8101e8e-3508-4755-8578-b1987e8d5a07"
      },
      "source": [
        "print(sorted(users.Age.unique()))"
      ],
      "execution_count": 1736,
      "outputs": [
        {
          "output_type": "stream",
          "text": [
            "[5, 6, 7, 8, 9, 10, 11, 12, 13, 14, 15, 16, 17, 18, 19, 20, 21, 22, 23, 24, 25, 26, 27, 28, 29, 30, 31, 32, 33, 34, 35, 36, 37, 38, 39, 40, 41, 42, 43, 44, 45, 46, 47, 48, 49, 50, 51, 52, 53, 54, 55, 56, 57, 58, 59, 60, 61, 62, 63, 64, 65, 66, 67, 68, 69, 70, 71, 72, 73, 74, 75, 76, 77, 78, 79, 80, 81, 82, 83, 84, 85, 86, 87, 88, 89, 90]\n"
          ],
          "name": "stdout"
        }
      ]
    },
    {
      "cell_type": "markdown",
      "metadata": {
        "id": "pwyYgG6QcsEP"
      },
      "source": [
        "## Now let us see the shape of rating dataframe. It has 3 colunns namely useid, isbn and bookrating. \n",
        "\n"
      ]
    },
    {
      "cell_type": "code",
      "metadata": {
        "id": "3fnJpGYXclUJ",
        "colab": {
          "base_uri": "https://localhost:8080/"
        },
        "outputId": "169c091d-2a68-4bad-bac7-9e1a0fea8261"
      },
      "source": [
        "print(ratings.head())\n",
        "print(ratings.shape)"
      ],
      "execution_count": 1737,
      "outputs": [
        {
          "output_type": "stream",
          "text": [
            "   userID        ISBN  bookRating\n",
            "0  276725  034545104X           0\n",
            "1  276726  0155061224           5\n",
            "2  276727  0446520802           0\n",
            "3  276729  052165615X           3\n",
            "4  276729  0521795028           6\n",
            "(1149780, 3)\n"
          ],
          "name": "stdout"
        }
      ]
    },
    {
      "cell_type": "markdown",
      "metadata": {
        "id": "szc8KYATCZ4c"
      },
      "source": [
        "## ratings dataset will have n_users*n_books entries if every user rated every item, this shows that the dataset is very sparse. The value should have been 75670906880 rows. But in reality it has 1149780 rows. This means not every user is going to rate the book.\n"
      ]
    },
    {
      "cell_type": "code",
      "metadata": {
        "id": "lcsGIEjPc1vd",
        "colab": {
          "base_uri": "https://localhost:8080/"
        },
        "outputId": "ed120d3c-73ec-465f-ccd1-498d7f14873d"
      },
      "source": [
        "n_users = users.shape[0]\n",
        "n_books = books.shape[0]\n",
        "print(n_users)\n",
        "print(n_books)\n",
        "print(n_users * n_books)"
      ],
      "execution_count": 1738,
      "outputs": [
        {
          "output_type": "stream",
          "text": [
            "278858\n",
            "271360\n",
            "75670906880\n"
          ],
          "name": "stdout"
        }
      ]
    },
    {
      "cell_type": "markdown",
      "metadata": {
        "id": "Bf_Qmy7hC1hM"
      },
      "source": [
        "## these are the rating given to the book. \n"
      ]
    },
    {
      "cell_type": "code",
      "metadata": {
        "id": "LwJUtACUdOUJ",
        "colab": {
          "base_uri": "https://localhost:8080/"
        },
        "outputId": "85c79d9e-23c1-4446-cae3-e0488edaa778"
      },
      "source": [
        "ratings.bookRating.unique()"
      ],
      "execution_count": 1739,
      "outputs": [
        {
          "output_type": "execute_result",
          "data": {
            "text/plain": [
              "array([ 0,  5,  3,  6,  8,  7, 10,  9,  4,  1,  2])"
            ]
          },
          "metadata": {
            "tags": []
          },
          "execution_count": 1739
        }
      ]
    },
    {
      "cell_type": "markdown",
      "metadata": {
        "id": "2w-687PnC_Ym"
      },
      "source": [
        "## ratings dataset should have books only which exist in our books dataset, unless new books are added to books dataset. if the ratings are given to other books then they would not be useful for us. So I am considering the books rating where the books are present in books dataset as well. \n"
      ]
    },
    {
      "cell_type": "code",
      "metadata": {
        "id": "37nxN9g2dX14"
      },
      "source": [
        "ratings_new = ratings[ratings.ISBN.isin(books.ISBN)]"
      ],
      "execution_count": 1740,
      "outputs": []
    },
    {
      "cell_type": "markdown",
      "metadata": {
        "id": "ICQa8Fg8DRNw"
      },
      "source": [
        "## We can see that there almost a change in 10 lakhs rows to the dataset now. it can be seen that many rows having book ISBN not part of books dataset got dropped off\n"
      ]
    },
    {
      "cell_type": "code",
      "metadata": {
        "id": "Ei9vt86UdkGD",
        "colab": {
          "base_uri": "https://localhost:8080/"
        },
        "outputId": "6bc0e9c4-3817-47a6-8db9-68dcc2d9c1fc"
      },
      "source": [
        "print(ratings.shape)\n",
        "print(ratings_new.shape)"
      ],
      "execution_count": 1741,
      "outputs": [
        {
          "output_type": "stream",
          "text": [
            "(1149780, 3)\n",
            "(1031136, 3)\n"
          ],
          "name": "stdout"
        }
      ]
    },
    {
      "cell_type": "markdown",
      "metadata": {
        "id": "sWsB7ESxDlp4"
      },
      "source": [
        "## similarly, ratings dataset should have ratings from users which exist in users dataset, unless new users are added to users dataset"
      ]
    },
    {
      "cell_type": "code",
      "metadata": {
        "id": "VT2BNEu8dqMV"
      },
      "source": [
        "ratings = ratings[ratings.userID.isin(users.userID)]"
      ],
      "execution_count": 1742,
      "outputs": []
    },
    {
      "cell_type": "markdown",
      "metadata": {
        "id": "p7AYvXiVEem8"
      },
      "source": [
        "## no new users added, hence we will go with above dataset ratings_new (1031136, 3)"
      ]
    },
    {
      "cell_type": "code",
      "metadata": {
        "id": "wbyrrQ-mdwLF",
        "colab": {
          "base_uri": "https://localhost:8080/"
        },
        "outputId": "b72cfbe3-331c-49bc-fe9b-44b56d4999f9"
      },
      "source": [
        "print(ratings.shape)\n",
        "print(ratings_new.shape)\n"
      ],
      "execution_count": 1743,
      "outputs": [
        {
          "output_type": "stream",
          "text": [
            "(1149780, 3)\n",
            "(1031136, 3)\n"
          ],
          "name": "stdout"
        }
      ]
    },
    {
      "cell_type": "code",
      "metadata": {
        "id": "z4ivnq19dzM0",
        "colab": {
          "base_uri": "https://localhost:8080/"
        },
        "outputId": "61abebb6-6eaa-42cf-bb2a-2caec6cac75e"
      },
      "source": [
        "print(\"number of users: \" + str(n_users))\n",
        "print(\"number of books: \" + str(n_books))"
      ],
      "execution_count": 1744,
      "outputs": [
        {
          "output_type": "stream",
          "text": [
            "number of users: 278858\n",
            "number of books: 271360\n"
          ],
          "name": "stdout"
        }
      ]
    },
    {
      "cell_type": "markdown",
      "metadata": {
        "id": "M0oHxO1EFt-0"
      },
      "source": [
        "## we can see the unique rating that are given to the books. \n"
      ]
    },
    {
      "cell_type": "code",
      "metadata": {
        "id": "YCbpKg2rh_e4",
        "colab": {
          "base_uri": "https://localhost:8080/"
        },
        "outputId": "8cc2a5ee-e70e-47d7-ace9-3b195d70c41e"
      },
      "source": [
        "ratings.bookRating.unique()"
      ],
      "execution_count": 1745,
      "outputs": [
        {
          "output_type": "execute_result",
          "data": {
            "text/plain": [
              "array([ 0,  5,  3,  6,  8,  7, 10,  9,  4,  1,  2])"
            ]
          },
          "metadata": {
            "tags": []
          },
          "execution_count": 1745
        }
      ]
    },
    {
      "cell_type": "markdown",
      "metadata": {
        "id": "g3Sh5milF2aZ"
      },
      "source": [
        "## here we have rating as zero too. But it doesn't need to mean that the book is bad. The dataset description tells that the rating might be implicit (suggested but not directly expressed) or explicit (suggested and fully expressed). Hence segragating implicit and explicit ratings datasets\n"
      ]
    },
    {
      "cell_type": "code",
      "metadata": {
        "id": "aqgGeEj-kH_f"
      },
      "source": [
        "ratings_explicit = ratings_new[ratings_new.bookRating != 0]\n",
        "ratings_implicit = ratings_new[ratings_new.bookRating == 0]"
      ],
      "execution_count": 1746,
      "outputs": []
    },
    {
      "cell_type": "markdown",
      "metadata": {
        "id": "9JPdvNYsGZMa"
      },
      "source": [
        "## checking shapes after segragating implicit and explicit ratings datasets.\n"
      ]
    },
    {
      "cell_type": "code",
      "metadata": {
        "id": "IuY1v8KzkK60",
        "colab": {
          "base_uri": "https://localhost:8080/"
        },
        "outputId": "e725dd36-6cbc-4063-a148-7f70b314181c"
      },
      "source": [
        "print(ratings_new.shape)\n",
        "print(ratings_explicit.shape)\n",
        "print(ratings_implicit.shape)"
      ],
      "execution_count": 1747,
      "outputs": [
        {
          "output_type": "stream",
          "text": [
            "(1031136, 3)\n",
            "(383842, 3)\n",
            "(647294, 3)\n"
          ],
          "name": "stdout"
        }
      ]
    },
    {
      "cell_type": "markdown",
      "metadata": {
        "id": "lhOLlD0cGqqu"
      },
      "source": [
        "## Plotting count of bookRating. It can be seen that higher ratings are more common amongst users and rating 8 has been rated highest number of times"
      ]
    },
    {
      "cell_type": "code",
      "metadata": {
        "id": "UvcQq68tkOGH",
        "colab": {
          "base_uri": "https://localhost:8080/",
          "height": 279
        },
        "outputId": "c03037f6-54d8-4fc4-f2a9-3d62bca6aa84"
      },
      "source": [
        "sns.countplot(data=ratings_explicit , x='bookRating')\n",
        "plt.show()"
      ],
      "execution_count": 1748,
      "outputs": [
        {
          "output_type": "display_data",
          "data": {
            "image/png": "[encoded data removed]",
            "text/plain": [
              "<Figure size 432x288 with 1 Axes>"
            ]
          },
          "metadata": {
            "tags": [],
            "needs_background": "light"
          }
        }
      ]
    },
    {
      "cell_type": "markdown",
      "metadata": {
        "id": "EOeURmN1IpzG"
      },
      "source": [
        "## At this point , a simple popularity based recommendation system can be built based on count of user ratings for different books\n"
      ]
    },
    {
      "cell_type": "code",
      "metadata": {
        "id": "LUqEo_5IkVso",
        "colab": {
          "base_uri": "https://localhost:8080/"
        },
        "outputId": "2760c605-7cc6-4718-d400-bd04a9d8c4e9"
      },
      "source": [
        "ratings_count = pd.DataFrame(ratings_explicit.groupby(['ISBN'])['bookRating'].sum())\n",
        "print(ratings_count)"
      ],
      "execution_count": 1749,
      "outputs": [
        {
          "output_type": "stream",
          "text": [
            "            bookRating\n",
            "ISBN                  \n",
            "0000913154           8\n",
            "0001046438           9\n",
            "000104687X           6\n",
            "0001047213           9\n",
            "0001047973          18\n",
            "...                ...\n",
            "B0001FZGPI           7\n",
            "B0001FZGRQ           9\n",
            "B0001GMSV2          16\n",
            "B0001I1KOG          10\n",
            "B000234N3A           9\n",
            "\n",
            "[149836 rows x 1 columns]\n"
          ],
          "name": "stdout"
        }
      ]
    },
    {
      "cell_type": "markdown",
      "metadata": {
        "id": "lG1E2E2-JCiT"
      },
      "source": [
        "## Here we can see that some books got ratings below 10 even after the sum of all the ratings received. So if we can sort all the values and find the best top rating books then they can be recommended as good book. \n"
      ]
    },
    {
      "cell_type": "code",
      "metadata": {
        "colab": {
          "base_uri": "https://localhost:8080/"
        },
        "id": "rm4anuHrI-xQ",
        "outputId": "3deb88b3-fcd2-439a-a85e-de699ce982e1"
      },
      "source": [
        "top10 = ratings_count.sort_values('bookRating', ascending = False).head(10)\n",
        "print(top10)"
      ],
      "execution_count": 1750,
      "outputs": [
        {
          "output_type": "stream",
          "text": [
            "            bookRating\n",
            "ISBN                  \n",
            "0316666343        5787\n",
            "0385504209        4108\n",
            "0312195516        3134\n",
            "059035342X        2798\n",
            "0142001740        2595\n",
            "0971880107        2551\n",
            "0060928336        2524\n",
            "0446672211        2402\n",
            "0452282152        2219\n",
            "0671027360        2179\n"
          ],
          "name": "stdout"
        }
      ]
    },
    {
      "cell_type": "markdown",
      "metadata": {
        "id": "dUfpOGfQJaO3"
      },
      "source": [
        "## Here we can see that the book with ISBN code as 0316666343 has the highest book ratings sum. So this might be a good book. So let use see the names of the books. \n"
      ]
    },
    {
      "cell_type": "code",
      "metadata": {
        "id": "1I_BMpPvk5X_",
        "colab": {
          "base_uri": "https://localhost:8080/",
          "height": 348
        },
        "outputId": "c2f1d900-499b-4f01-e7e4-7d5dc2429223"
      },
      "source": [
        "top10.merge(books, left_index = True, right_on = 'ISBN')"
      ],
      "execution_count": 1751,
      "outputs": [
        {
          "output_type": "execute_result",
          "data": {
            "text/html": [
              "<div>\n",
              "<style scoped>\n",
              "    .dataframe tbody tr th:only-of-type {\n",
              "        vertical-align: middle;\n",
              "    }\n",
              "\n",
              "    .dataframe tbody tr th {\n",
              "        vertical-align: top;\n",
              "    }\n",
              "\n",
              "    .dataframe thead th {\n",
              "        text-align: right;\n",
              "    }\n",
              "</style>\n",
              "<table border=\"1\" class=\"dataframe\">\n",
              "  <thead>\n",
              "    <tr style=\"text-align: right;\">\n",
              "      <th></th>\n",
              "      <th>bookRating</th>\n",
              "      <th>ISBN</th>\n",
              "      <th>bookTitle</th>\n",
              "      <th>bookAuthor</th>\n",
              "      <th>yearOfPublication</th>\n",
              "      <th>publisher</th>\n",
              "    </tr>\n",
              "  </thead>\n",
              "  <tbody>\n",
              "    <tr>\n",
              "      <th>408</th>\n",
              "      <td>5787</td>\n",
              "      <td>0316666343</td>\n",
              "      <td>The Lovely Bones: A Novel</td>\n",
              "      <td>Alice Sebold</td>\n",
              "      <td>2002</td>\n",
              "      <td>Little, Brown</td>\n",
              "    </tr>\n",
              "    <tr>\n",
              "      <th>748</th>\n",
              "      <td>4108</td>\n",
              "      <td>0385504209</td>\n",
              "      <td>The Da Vinci Code</td>\n",
              "      <td>Dan Brown</td>\n",
              "      <td>2003</td>\n",
              "      <td>Doubleday</td>\n",
              "    </tr>\n",
              "    <tr>\n",
              "      <th>522</th>\n",
              "      <td>3134</td>\n",
              "      <td>0312195516</td>\n",
              "      <td>The Red Tent (Bestselling Backlist)</td>\n",
              "      <td>Anita Diamant</td>\n",
              "      <td>1998</td>\n",
              "      <td>Picador USA</td>\n",
              "    </tr>\n",
              "    <tr>\n",
              "      <th>2143</th>\n",
              "      <td>2798</td>\n",
              "      <td>059035342X</td>\n",
              "      <td>Harry Potter and the Sorcerer's Stone (Harry P...</td>\n",
              "      <td>J. K. Rowling</td>\n",
              "      <td>1999</td>\n",
              "      <td>Arthur A. Levine Books</td>\n",
              "    </tr>\n",
              "    <tr>\n",
              "      <th>356</th>\n",
              "      <td>2595</td>\n",
              "      <td>0142001740</td>\n",
              "      <td>The Secret Life of Bees</td>\n",
              "      <td>Sue Monk Kidd</td>\n",
              "      <td>2003</td>\n",
              "      <td>Penguin Books</td>\n",
              "    </tr>\n",
              "    <tr>\n",
              "      <th>26</th>\n",
              "      <td>2551</td>\n",
              "      <td>0971880107</td>\n",
              "      <td>Wild Animus</td>\n",
              "      <td>Rich Shapero</td>\n",
              "      <td>2004</td>\n",
              "      <td>Too Far</td>\n",
              "    </tr>\n",
              "    <tr>\n",
              "      <th>1105</th>\n",
              "      <td>2524</td>\n",
              "      <td>0060928336</td>\n",
              "      <td>Divine Secrets of the Ya-Ya Sisterhood: A Novel</td>\n",
              "      <td>Rebecca Wells</td>\n",
              "      <td>1997</td>\n",
              "      <td>Perennial</td>\n",
              "    </tr>\n",
              "    <tr>\n",
              "      <th>706</th>\n",
              "      <td>2402</td>\n",
              "      <td>0446672211</td>\n",
              "      <td>Where the Heart Is (Oprah's Book Club (Paperba...</td>\n",
              "      <td>Billie Letts</td>\n",
              "      <td>1998</td>\n",
              "      <td>Warner Books</td>\n",
              "    </tr>\n",
              "    <tr>\n",
              "      <th>231</th>\n",
              "      <td>2219</td>\n",
              "      <td>0452282152</td>\n",
              "      <td>Girl with a Pearl Earring</td>\n",
              "      <td>Tracy Chevalier</td>\n",
              "      <td>2001</td>\n",
              "      <td>Plume Books</td>\n",
              "    </tr>\n",
              "    <tr>\n",
              "      <th>118</th>\n",
              "      <td>2179</td>\n",
              "      <td>0671027360</td>\n",
              "      <td>Angels &amp;amp; Demons</td>\n",
              "      <td>Dan Brown</td>\n",
              "      <td>2001</td>\n",
              "      <td>Pocket Star</td>\n",
              "    </tr>\n",
              "  </tbody>\n",
              "</table>\n",
              "</div>"
            ],
            "text/plain": [
              "      bookRating        ISBN  ... yearOfPublication               publisher\n",
              "408         5787  0316666343  ...              2002           Little, Brown\n",
              "748         4108  0385504209  ...              2003               Doubleday\n",
              "522         3134  0312195516  ...              1998             Picador USA\n",
              "2143        2798  059035342X  ...              1999  Arthur A. Levine Books\n",
              "356         2595  0142001740  ...              2003           Penguin Books\n",
              "26          2551  0971880107  ...              2004                 Too Far\n",
              "1105        2524  0060928336  ...              1997               Perennial\n",
              "706         2402  0446672211  ...              1998            Warner Books\n",
              "231         2219  0452282152  ...              2001             Plume Books\n",
              "118         2179  0671027360  ...              2001             Pocket Star\n",
              "\n",
              "[10 rows x 6 columns]"
            ]
          },
          "metadata": {
            "tags": []
          },
          "execution_count": 1751
        }
      ]
    },
    {
      "cell_type": "markdown",
      "metadata": {
        "id": "B3pH63gJJxBA"
      },
      "source": [
        "## these 10 books can be recommended for a user as they got more book rating altogether. \n"
      ]
    },
    {
      "cell_type": "markdown",
      "metadata": {
        "id": "oAyw_mWXWgx2"
      },
      "source": [
        "## To cope up with computing power I have and to reduce the dataset size, I am considering users who have rated atleast 100 books and books which have atleast 100 ratings"
      ]
    },
    {
      "cell_type": "code",
      "metadata": {
        "id": "xbHp64pNl1cp"
      },
      "source": [
        "counts1 = ratings_explicit['userID'].value_counts()\n",
        "ratings_explicit = ratings_explicit[ratings_explicit['userID'].isin(counts1[counts1 >= 100].index)]\n",
        "counts = ratings_explicit['bookRating'].value_counts()\n",
        "ratings_explicit = ratings_explicit[ratings_explicit['bookRating'].isin(counts[counts >= 100].index)]"
      ],
      "execution_count": 1752,
      "outputs": []
    },
    {
      "cell_type": "code",
      "metadata": {
        "id": "sDs8DI8In0W2",
        "colab": {
          "base_uri": "https://localhost:8080/",
          "height": 407
        },
        "outputId": "15a10afe-bd8e-4639-8ef8-ac727aa2afaa"
      },
      "source": [
        "ratings_explicit"
      ],
      "execution_count": 1753,
      "outputs": [
        {
          "output_type": "execute_result",
          "data": {
            "text/html": [
              "<div>\n",
              "<style scoped>\n",
              "    .dataframe tbody tr th:only-of-type {\n",
              "        vertical-align: middle;\n",
              "    }\n",
              "\n",
              "    .dataframe tbody tr th {\n",
              "        vertical-align: top;\n",
              "    }\n",
              "\n",
              "    .dataframe thead th {\n",
              "        text-align: right;\n",
              "    }\n",
              "</style>\n",
              "<table border=\"1\" class=\"dataframe\">\n",
              "  <thead>\n",
              "    <tr style=\"text-align: right;\">\n",
              "      <th></th>\n",
              "      <th>userID</th>\n",
              "      <th>ISBN</th>\n",
              "      <th>bookRating</th>\n",
              "    </tr>\n",
              "  </thead>\n",
              "  <tbody>\n",
              "    <tr>\n",
              "      <th>1456</th>\n",
              "      <td>277427</td>\n",
              "      <td>002542730X</td>\n",
              "      <td>10</td>\n",
              "    </tr>\n",
              "    <tr>\n",
              "      <th>1458</th>\n",
              "      <td>277427</td>\n",
              "      <td>003008685X</td>\n",
              "      <td>8</td>\n",
              "    </tr>\n",
              "    <tr>\n",
              "      <th>1461</th>\n",
              "      <td>277427</td>\n",
              "      <td>0060006641</td>\n",
              "      <td>10</td>\n",
              "    </tr>\n",
              "    <tr>\n",
              "      <th>1465</th>\n",
              "      <td>277427</td>\n",
              "      <td>0060542128</td>\n",
              "      <td>7</td>\n",
              "    </tr>\n",
              "    <tr>\n",
              "      <th>1474</th>\n",
              "      <td>277427</td>\n",
              "      <td>0061009059</td>\n",
              "      <td>9</td>\n",
              "    </tr>\n",
              "    <tr>\n",
              "      <th>...</th>\n",
              "      <td>...</td>\n",
              "      <td>...</td>\n",
              "      <td>...</td>\n",
              "    </tr>\n",
              "    <tr>\n",
              "      <th>1147587</th>\n",
              "      <td>275970</td>\n",
              "      <td>185649814X</td>\n",
              "      <td>7</td>\n",
              "    </tr>\n",
              "    <tr>\n",
              "      <th>1147592</th>\n",
              "      <td>275970</td>\n",
              "      <td>1860462588</td>\n",
              "      <td>8</td>\n",
              "    </tr>\n",
              "    <tr>\n",
              "      <th>1147599</th>\n",
              "      <td>275970</td>\n",
              "      <td>1886411077</td>\n",
              "      <td>6</td>\n",
              "    </tr>\n",
              "    <tr>\n",
              "      <th>1147611</th>\n",
              "      <td>275970</td>\n",
              "      <td>3411086211</td>\n",
              "      <td>10</td>\n",
              "    </tr>\n",
              "    <tr>\n",
              "      <th>1147615</th>\n",
              "      <td>275970</td>\n",
              "      <td>9626340762</td>\n",
              "      <td>8</td>\n",
              "    </tr>\n",
              "  </tbody>\n",
              "</table>\n",
              "<p>103271 rows × 3 columns</p>\n",
              "</div>"
            ],
            "text/plain": [
              "         userID        ISBN  bookRating\n",
              "1456     277427  002542730X          10\n",
              "1458     277427  003008685X           8\n",
              "1461     277427  0060006641          10\n",
              "1465     277427  0060542128           7\n",
              "1474     277427  0061009059           9\n",
              "...         ...         ...         ...\n",
              "1147587  275970  185649814X           7\n",
              "1147592  275970  1860462588           8\n",
              "1147599  275970  1886411077           6\n",
              "1147611  275970  3411086211          10\n",
              "1147615  275970  9626340762           8\n",
              "\n",
              "[103271 rows x 3 columns]"
            ]
          },
          "metadata": {
            "tags": []
          },
          "execution_count": 1753
        }
      ]
    },
    {
      "cell_type": "markdown",
      "metadata": {
        "id": "VuEn1KvBWt16"
      },
      "source": [
        "## Generating ratings matrix from explicit ratings table i.e. this will have all the users who have rating to which books. we can see 449 users are there and 66574 books are present. Notice that most of the values are NaN (undefined) implying absence of ratings\n"
      ]
    },
    {
      "cell_type": "code",
      "metadata": {
        "id": "2TDAjjgTmej8",
        "colab": {
          "base_uri": "https://localhost:8080/",
          "height": 295
        },
        "outputId": "220f2780-a3b8-49d8-a238-5f332953c819"
      },
      "source": [
        "ratings_matrix = ratings_explicit.pivot(index='userID', columns='ISBN', values='bookRating')\n",
        "userID = ratings_matrix.index\n",
        "ISBN = ratings_matrix.columns\n",
        "print(ratings_matrix.shape)\n",
        "ratings_matrix.head()"
      ],
      "execution_count": 1754,
      "outputs": [
        {
          "output_type": "stream",
          "text": [
            "(449, 66574)\n"
          ],
          "name": "stdout"
        },
        {
          "output_type": "execute_result",
          "data": {
            "text/html": [
              "<div>\n",
              "<style scoped>\n",
              "    .dataframe tbody tr th:only-of-type {\n",
              "        vertical-align: middle;\n",
              "    }\n",
              "\n",
              "    .dataframe tbody tr th {\n",
              "        vertical-align: top;\n",
              "    }\n",
              "\n",
              "    .dataframe thead th {\n",
              "        text-align: right;\n",
              "    }\n",
              "</style>\n",
              "<table border=\"1\" class=\"dataframe\">\n",
              "  <thead>\n",
              "    <tr style=\"text-align: right;\">\n",
              "      <th>ISBN</th>\n",
              "      <th>0000913154</th>\n",
              "      <th>0001046438</th>\n",
              "      <th>000104687X</th>\n",
              "      <th>0001047213</th>\n",
              "      <th>0001047973</th>\n",
              "      <th>000104799X</th>\n",
              "      <th>0001048082</th>\n",
              "      <th>0001053736</th>\n",
              "      <th>0001053744</th>\n",
              "      <th>0001055607</th>\n",
              "      <th>0001056107</th>\n",
              "      <th>0001845039</th>\n",
              "      <th>0001935968</th>\n",
              "      <th>0001944711</th>\n",
              "      <th>0001952803</th>\n",
              "      <th>0001953877</th>\n",
              "      <th>0002000547</th>\n",
              "      <th>0002005018</th>\n",
              "      <th>0002005050</th>\n",
              "      <th>0002005557</th>\n",
              "      <th>0002006588</th>\n",
              "      <th>0002115328</th>\n",
              "      <th>0002116286</th>\n",
              "      <th>0002118580</th>\n",
              "      <th>0002154900</th>\n",
              "      <th>0002158973</th>\n",
              "      <th>0002163713</th>\n",
              "      <th>0002176181</th>\n",
              "      <th>0002176432</th>\n",
              "      <th>0002179695</th>\n",
              "      <th>0002181924</th>\n",
              "      <th>0002184974</th>\n",
              "      <th>0002190915</th>\n",
              "      <th>0002197154</th>\n",
              "      <th>0002223929</th>\n",
              "      <th>0002228394</th>\n",
              "      <th>000223257X</th>\n",
              "      <th>0002233509</th>\n",
              "      <th>0002239183</th>\n",
              "      <th>0002240114</th>\n",
              "      <th>...</th>\n",
              "      <th>987960170X</th>\n",
              "      <th>9974643058</th>\n",
              "      <th>999058284X</th>\n",
              "      <th>9992003766</th>\n",
              "      <th>9992059958</th>\n",
              "      <th>9993584185</th>\n",
              "      <th>9994256963</th>\n",
              "      <th>9994348337</th>\n",
              "      <th>9997405137</th>\n",
              "      <th>9997406567</th>\n",
              "      <th>9997406990</th>\n",
              "      <th>999740923X</th>\n",
              "      <th>9997409728</th>\n",
              "      <th>9997411757</th>\n",
              "      <th>9997411870</th>\n",
              "      <th>9997412044</th>\n",
              "      <th>9997412958</th>\n",
              "      <th>9997507002</th>\n",
              "      <th>999750805X</th>\n",
              "      <th>9997508769</th>\n",
              "      <th>9997512952</th>\n",
              "      <th>9997519086</th>\n",
              "      <th>9997555635</th>\n",
              "      <th>9998914140</th>\n",
              "      <th>B00001U0CP</th>\n",
              "      <th>B00005TZWI</th>\n",
              "      <th>B00006CRTE</th>\n",
              "      <th>B00006I4OX</th>\n",
              "      <th>B00007FYKW</th>\n",
              "      <th>B00008RWPV</th>\n",
              "      <th>B000092Q0A</th>\n",
              "      <th>B00009EF82</th>\n",
              "      <th>B00009NDAN</th>\n",
              "      <th>B0000DYXID</th>\n",
              "      <th>B0000T6KHI</th>\n",
              "      <th>B0000VZEJQ</th>\n",
              "      <th>B0000X8HIE</th>\n",
              "      <th>B00013AX9E</th>\n",
              "      <th>B0001I1KOG</th>\n",
              "      <th>B000234N3A</th>\n",
              "    </tr>\n",
              "    <tr>\n",
              "      <th>userID</th>\n",
              "      <th></th>\n",
              "      <th></th>\n",
              "      <th></th>\n",
              "      <th></th>\n",
              "      <th></th>\n",
              "      <th></th>\n",
              "      <th></th>\n",
              "      <th></th>\n",
              "      <th></th>\n",
              "      <th></th>\n",
              "      <th></th>\n",
              "      <th></th>\n",
              "      <th></th>\n",
              "      <th></th>\n",
              "      <th></th>\n",
              "      <th></th>\n",
              "      <th></th>\n",
              "      <th></th>\n",
              "      <th></th>\n",
              "      <th></th>\n",
              "      <th></th>\n",
              "      <th></th>\n",
              "      <th></th>\n",
              "      <th></th>\n",
              "      <th></th>\n",
              "      <th></th>\n",
              "      <th></th>\n",
              "      <th></th>\n",
              "      <th></th>\n",
              "      <th></th>\n",
              "      <th></th>\n",
              "      <th></th>\n",
              "      <th></th>\n",
              "      <th></th>\n",
              "      <th></th>\n",
              "      <th></th>\n",
              "      <th></th>\n",
              "      <th></th>\n",
              "      <th></th>\n",
              "      <th></th>\n",
              "      <th></th>\n",
              "      <th></th>\n",
              "      <th></th>\n",
              "      <th></th>\n",
              "      <th></th>\n",
              "      <th></th>\n",
              "      <th></th>\n",
              "      <th></th>\n",
              "      <th></th>\n",
              "      <th></th>\n",
              "      <th></th>\n",
              "      <th></th>\n",
              "      <th></th>\n",
              "      <th></th>\n",
              "      <th></th>\n",
              "      <th></th>\n",
              "      <th></th>\n",
              "      <th></th>\n",
              "      <th></th>\n",
              "      <th></th>\n",
              "      <th></th>\n",
              "      <th></th>\n",
              "      <th></th>\n",
              "      <th></th>\n",
              "      <th></th>\n",
              "      <th></th>\n",
              "      <th></th>\n",
              "      <th></th>\n",
              "      <th></th>\n",
              "      <th></th>\n",
              "      <th></th>\n",
              "      <th></th>\n",
              "      <th></th>\n",
              "      <th></th>\n",
              "      <th></th>\n",
              "      <th></th>\n",
              "      <th></th>\n",
              "      <th></th>\n",
              "      <th></th>\n",
              "      <th></th>\n",
              "      <th></th>\n",
              "    </tr>\n",
              "  </thead>\n",
              "  <tbody>\n",
              "    <tr>\n",
              "      <th>2033</th>\n",
              "      <td>NaN</td>\n",
              "      <td>NaN</td>\n",
              "      <td>NaN</td>\n",
              "      <td>NaN</td>\n",
              "      <td>NaN</td>\n",
              "      <td>NaN</td>\n",
              "      <td>NaN</td>\n",
              "      <td>NaN</td>\n",
              "      <td>NaN</td>\n",
              "      <td>NaN</td>\n",
              "      <td>NaN</td>\n",
              "      <td>NaN</td>\n",
              "      <td>NaN</td>\n",
              "      <td>NaN</td>\n",
              "      <td>NaN</td>\n",
              "      <td>NaN</td>\n",
              "      <td>NaN</td>\n",
              "      <td>NaN</td>\n",
              "      <td>NaN</td>\n",
              "      <td>NaN</td>\n",
              "      <td>NaN</td>\n",
              "      <td>NaN</td>\n",
              "      <td>NaN</td>\n",
              "      <td>NaN</td>\n",
              "      <td>NaN</td>\n",
              "      <td>NaN</td>\n",
              "      <td>NaN</td>\n",
              "      <td>NaN</td>\n",
              "      <td>NaN</td>\n",
              "      <td>NaN</td>\n",
              "      <td>NaN</td>\n",
              "      <td>NaN</td>\n",
              "      <td>NaN</td>\n",
              "      <td>NaN</td>\n",
              "      <td>NaN</td>\n",
              "      <td>NaN</td>\n",
              "      <td>NaN</td>\n",
              "      <td>NaN</td>\n",
              "      <td>NaN</td>\n",
              "      <td>NaN</td>\n",
              "      <td>...</td>\n",
              "      <td>NaN</td>\n",
              "      <td>NaN</td>\n",
              "      <td>NaN</td>\n",
              "      <td>NaN</td>\n",
              "      <td>NaN</td>\n",
              "      <td>NaN</td>\n",
              "      <td>NaN</td>\n",
              "      <td>NaN</td>\n",
              "      <td>NaN</td>\n",
              "      <td>NaN</td>\n",
              "      <td>NaN</td>\n",
              "      <td>NaN</td>\n",
              "      <td>NaN</td>\n",
              "      <td>NaN</td>\n",
              "      <td>NaN</td>\n",
              "      <td>NaN</td>\n",
              "      <td>NaN</td>\n",
              "      <td>NaN</td>\n",
              "      <td>NaN</td>\n",
              "      <td>NaN</td>\n",
              "      <td>NaN</td>\n",
              "      <td>NaN</td>\n",
              "      <td>NaN</td>\n",
              "      <td>NaN</td>\n",
              "      <td>NaN</td>\n",
              "      <td>NaN</td>\n",
              "      <td>NaN</td>\n",
              "      <td>NaN</td>\n",
              "      <td>NaN</td>\n",
              "      <td>NaN</td>\n",
              "      <td>NaN</td>\n",
              "      <td>NaN</td>\n",
              "      <td>NaN</td>\n",
              "      <td>NaN</td>\n",
              "      <td>NaN</td>\n",
              "      <td>NaN</td>\n",
              "      <td>NaN</td>\n",
              "      <td>NaN</td>\n",
              "      <td>NaN</td>\n",
              "      <td>NaN</td>\n",
              "    </tr>\n",
              "    <tr>\n",
              "      <th>2110</th>\n",
              "      <td>NaN</td>\n",
              "      <td>NaN</td>\n",
              "      <td>NaN</td>\n",
              "      <td>NaN</td>\n",
              "      <td>NaN</td>\n",
              "      <td>NaN</td>\n",
              "      <td>NaN</td>\n",
              "      <td>NaN</td>\n",
              "      <td>NaN</td>\n",
              "      <td>NaN</td>\n",
              "      <td>NaN</td>\n",
              "      <td>NaN</td>\n",
              "      <td>NaN</td>\n",
              "      <td>NaN</td>\n",
              "      <td>NaN</td>\n",
              "      <td>NaN</td>\n",
              "      <td>NaN</td>\n",
              "      <td>NaN</td>\n",
              "      <td>NaN</td>\n",
              "      <td>NaN</td>\n",
              "      <td>NaN</td>\n",
              "      <td>NaN</td>\n",
              "      <td>NaN</td>\n",
              "      <td>NaN</td>\n",
              "      <td>NaN</td>\n",
              "      <td>NaN</td>\n",
              "      <td>NaN</td>\n",
              "      <td>NaN</td>\n",
              "      <td>NaN</td>\n",
              "      <td>NaN</td>\n",
              "      <td>NaN</td>\n",
              "      <td>NaN</td>\n",
              "      <td>NaN</td>\n",
              "      <td>NaN</td>\n",
              "      <td>NaN</td>\n",
              "      <td>NaN</td>\n",
              "      <td>NaN</td>\n",
              "      <td>NaN</td>\n",
              "      <td>NaN</td>\n",
              "      <td>NaN</td>\n",
              "      <td>...</td>\n",
              "      <td>NaN</td>\n",
              "      <td>NaN</td>\n",
              "      <td>NaN</td>\n",
              "      <td>NaN</td>\n",
              "      <td>NaN</td>\n",
              "      <td>NaN</td>\n",
              "      <td>NaN</td>\n",
              "      <td>NaN</td>\n",
              "      <td>NaN</td>\n",
              "      <td>NaN</td>\n",
              "      <td>NaN</td>\n",
              "      <td>NaN</td>\n",
              "      <td>NaN</td>\n",
              "      <td>NaN</td>\n",
              "      <td>NaN</td>\n",
              "      <td>NaN</td>\n",
              "      <td>NaN</td>\n",
              "      <td>NaN</td>\n",
              "      <td>NaN</td>\n",
              "      <td>NaN</td>\n",
              "      <td>NaN</td>\n",
              "      <td>NaN</td>\n",
              "      <td>NaN</td>\n",
              "      <td>NaN</td>\n",
              "      <td>NaN</td>\n",
              "      <td>NaN</td>\n",
              "      <td>NaN</td>\n",
              "      <td>NaN</td>\n",
              "      <td>NaN</td>\n",
              "      <td>NaN</td>\n",
              "      <td>NaN</td>\n",
              "      <td>NaN</td>\n",
              "      <td>NaN</td>\n",
              "      <td>NaN</td>\n",
              "      <td>NaN</td>\n",
              "      <td>NaN</td>\n",
              "      <td>NaN</td>\n",
              "      <td>NaN</td>\n",
              "      <td>NaN</td>\n",
              "      <td>NaN</td>\n",
              "    </tr>\n",
              "    <tr>\n",
              "      <th>2276</th>\n",
              "      <td>NaN</td>\n",
              "      <td>NaN</td>\n",
              "      <td>NaN</td>\n",
              "      <td>NaN</td>\n",
              "      <td>NaN</td>\n",
              "      <td>NaN</td>\n",
              "      <td>NaN</td>\n",
              "      <td>NaN</td>\n",
              "      <td>NaN</td>\n",
              "      <td>NaN</td>\n",
              "      <td>NaN</td>\n",
              "      <td>NaN</td>\n",
              "      <td>NaN</td>\n",
              "      <td>NaN</td>\n",
              "      <td>NaN</td>\n",
              "      <td>NaN</td>\n",
              "      <td>NaN</td>\n",
              "      <td>NaN</td>\n",
              "      <td>NaN</td>\n",
              "      <td>NaN</td>\n",
              "      <td>NaN</td>\n",
              "      <td>NaN</td>\n",
              "      <td>NaN</td>\n",
              "      <td>NaN</td>\n",
              "      <td>NaN</td>\n",
              "      <td>NaN</td>\n",
              "      <td>NaN</td>\n",
              "      <td>NaN</td>\n",
              "      <td>NaN</td>\n",
              "      <td>NaN</td>\n",
              "      <td>NaN</td>\n",
              "      <td>NaN</td>\n",
              "      <td>NaN</td>\n",
              "      <td>NaN</td>\n",
              "      <td>NaN</td>\n",
              "      <td>NaN</td>\n",
              "      <td>NaN</td>\n",
              "      <td>NaN</td>\n",
              "      <td>NaN</td>\n",
              "      <td>NaN</td>\n",
              "      <td>...</td>\n",
              "      <td>NaN</td>\n",
              "      <td>NaN</td>\n",
              "      <td>NaN</td>\n",
              "      <td>NaN</td>\n",
              "      <td>NaN</td>\n",
              "      <td>NaN</td>\n",
              "      <td>NaN</td>\n",
              "      <td>NaN</td>\n",
              "      <td>NaN</td>\n",
              "      <td>NaN</td>\n",
              "      <td>NaN</td>\n",
              "      <td>NaN</td>\n",
              "      <td>NaN</td>\n",
              "      <td>NaN</td>\n",
              "      <td>NaN</td>\n",
              "      <td>NaN</td>\n",
              "      <td>NaN</td>\n",
              "      <td>NaN</td>\n",
              "      <td>NaN</td>\n",
              "      <td>NaN</td>\n",
              "      <td>NaN</td>\n",
              "      <td>NaN</td>\n",
              "      <td>NaN</td>\n",
              "      <td>NaN</td>\n",
              "      <td>NaN</td>\n",
              "      <td>NaN</td>\n",
              "      <td>NaN</td>\n",
              "      <td>NaN</td>\n",
              "      <td>NaN</td>\n",
              "      <td>NaN</td>\n",
              "      <td>NaN</td>\n",
              "      <td>NaN</td>\n",
              "      <td>NaN</td>\n",
              "      <td>NaN</td>\n",
              "      <td>NaN</td>\n",
              "      <td>NaN</td>\n",
              "      <td>NaN</td>\n",
              "      <td>NaN</td>\n",
              "      <td>NaN</td>\n",
              "      <td>NaN</td>\n",
              "    </tr>\n",
              "    <tr>\n",
              "      <th>4017</th>\n",
              "      <td>NaN</td>\n",
              "      <td>NaN</td>\n",
              "      <td>NaN</td>\n",
              "      <td>NaN</td>\n",
              "      <td>NaN</td>\n",
              "      <td>NaN</td>\n",
              "      <td>NaN</td>\n",
              "      <td>NaN</td>\n",
              "      <td>NaN</td>\n",
              "      <td>NaN</td>\n",
              "      <td>NaN</td>\n",
              "      <td>NaN</td>\n",
              "      <td>NaN</td>\n",
              "      <td>NaN</td>\n",
              "      <td>NaN</td>\n",
              "      <td>NaN</td>\n",
              "      <td>NaN</td>\n",
              "      <td>NaN</td>\n",
              "      <td>NaN</td>\n",
              "      <td>NaN</td>\n",
              "      <td>NaN</td>\n",
              "      <td>NaN</td>\n",
              "      <td>NaN</td>\n",
              "      <td>NaN</td>\n",
              "      <td>NaN</td>\n",
              "      <td>NaN</td>\n",
              "      <td>NaN</td>\n",
              "      <td>NaN</td>\n",
              "      <td>NaN</td>\n",
              "      <td>NaN</td>\n",
              "      <td>NaN</td>\n",
              "      <td>NaN</td>\n",
              "      <td>NaN</td>\n",
              "      <td>NaN</td>\n",
              "      <td>NaN</td>\n",
              "      <td>NaN</td>\n",
              "      <td>NaN</td>\n",
              "      <td>NaN</td>\n",
              "      <td>NaN</td>\n",
              "      <td>NaN</td>\n",
              "      <td>...</td>\n",
              "      <td>NaN</td>\n",
              "      <td>NaN</td>\n",
              "      <td>NaN</td>\n",
              "      <td>NaN</td>\n",
              "      <td>NaN</td>\n",
              "      <td>NaN</td>\n",
              "      <td>NaN</td>\n",
              "      <td>NaN</td>\n",
              "      <td>NaN</td>\n",
              "      <td>NaN</td>\n",
              "      <td>NaN</td>\n",
              "      <td>NaN</td>\n",
              "      <td>NaN</td>\n",
              "      <td>NaN</td>\n",
              "      <td>NaN</td>\n",
              "      <td>NaN</td>\n",
              "      <td>NaN</td>\n",
              "      <td>NaN</td>\n",
              "      <td>NaN</td>\n",
              "      <td>NaN</td>\n",
              "      <td>NaN</td>\n",
              "      <td>NaN</td>\n",
              "      <td>NaN</td>\n",
              "      <td>NaN</td>\n",
              "      <td>NaN</td>\n",
              "      <td>NaN</td>\n",
              "      <td>NaN</td>\n",
              "      <td>NaN</td>\n",
              "      <td>NaN</td>\n",
              "      <td>NaN</td>\n",
              "      <td>NaN</td>\n",
              "      <td>NaN</td>\n",
              "      <td>NaN</td>\n",
              "      <td>NaN</td>\n",
              "      <td>NaN</td>\n",
              "      <td>NaN</td>\n",
              "      <td>NaN</td>\n",
              "      <td>NaN</td>\n",
              "      <td>NaN</td>\n",
              "      <td>NaN</td>\n",
              "    </tr>\n",
              "    <tr>\n",
              "      <th>4385</th>\n",
              "      <td>NaN</td>\n",
              "      <td>NaN</td>\n",
              "      <td>NaN</td>\n",
              "      <td>NaN</td>\n",
              "      <td>NaN</td>\n",
              "      <td>NaN</td>\n",
              "      <td>NaN</td>\n",
              "      <td>NaN</td>\n",
              "      <td>NaN</td>\n",
              "      <td>NaN</td>\n",
              "      <td>NaN</td>\n",
              "      <td>NaN</td>\n",
              "      <td>NaN</td>\n",
              "      <td>NaN</td>\n",
              "      <td>NaN</td>\n",
              "      <td>NaN</td>\n",
              "      <td>NaN</td>\n",
              "      <td>NaN</td>\n",
              "      <td>NaN</td>\n",
              "      <td>NaN</td>\n",
              "      <td>NaN</td>\n",
              "      <td>NaN</td>\n",
              "      <td>NaN</td>\n",
              "      <td>NaN</td>\n",
              "      <td>NaN</td>\n",
              "      <td>NaN</td>\n",
              "      <td>NaN</td>\n",
              "      <td>NaN</td>\n",
              "      <td>NaN</td>\n",
              "      <td>NaN</td>\n",
              "      <td>NaN</td>\n",
              "      <td>NaN</td>\n",
              "      <td>NaN</td>\n",
              "      <td>NaN</td>\n",
              "      <td>NaN</td>\n",
              "      <td>NaN</td>\n",
              "      <td>NaN</td>\n",
              "      <td>NaN</td>\n",
              "      <td>NaN</td>\n",
              "      <td>NaN</td>\n",
              "      <td>...</td>\n",
              "      <td>NaN</td>\n",
              "      <td>NaN</td>\n",
              "      <td>NaN</td>\n",
              "      <td>NaN</td>\n",
              "      <td>NaN</td>\n",
              "      <td>NaN</td>\n",
              "      <td>NaN</td>\n",
              "      <td>NaN</td>\n",
              "      <td>NaN</td>\n",
              "      <td>NaN</td>\n",
              "      <td>NaN</td>\n",
              "      <td>NaN</td>\n",
              "      <td>NaN</td>\n",
              "      <td>NaN</td>\n",
              "      <td>NaN</td>\n",
              "      <td>NaN</td>\n",
              "      <td>NaN</td>\n",
              "      <td>NaN</td>\n",
              "      <td>NaN</td>\n",
              "      <td>NaN</td>\n",
              "      <td>NaN</td>\n",
              "      <td>NaN</td>\n",
              "      <td>NaN</td>\n",
              "      <td>NaN</td>\n",
              "      <td>NaN</td>\n",
              "      <td>NaN</td>\n",
              "      <td>NaN</td>\n",
              "      <td>NaN</td>\n",
              "      <td>NaN</td>\n",
              "      <td>NaN</td>\n",
              "      <td>NaN</td>\n",
              "      <td>NaN</td>\n",
              "      <td>NaN</td>\n",
              "      <td>NaN</td>\n",
              "      <td>NaN</td>\n",
              "      <td>NaN</td>\n",
              "      <td>NaN</td>\n",
              "      <td>NaN</td>\n",
              "      <td>NaN</td>\n",
              "      <td>NaN</td>\n",
              "    </tr>\n",
              "  </tbody>\n",
              "</table>\n",
              "<p>5 rows × 66574 columns</p>\n",
              "</div>"
            ],
            "text/plain": [
              "ISBN    0000913154  0001046438  000104687X  ...  B00013AX9E  B0001I1KOG  B000234N3A\n",
              "userID                                      ...                                    \n",
              "2033           NaN         NaN         NaN  ...         NaN         NaN         NaN\n",
              "2110           NaN         NaN         NaN  ...         NaN         NaN         NaN\n",
              "2276           NaN         NaN         NaN  ...         NaN         NaN         NaN\n",
              "4017           NaN         NaN         NaN  ...         NaN         NaN         NaN\n",
              "4385           NaN         NaN         NaN  ...         NaN         NaN         NaN\n",
              "\n",
              "[5 rows x 66574 columns]"
            ]
          },
          "metadata": {
            "tags": []
          },
          "execution_count": 1754
        }
      ]
    },
    {
      "cell_type": "markdown",
      "metadata": {
        "id": "Sdd2xU9gXEqk"
      },
      "source": [
        "## considering only those users who gave explicit ratings"
      ]
    },
    {
      "cell_type": "code",
      "metadata": {
        "id": "Sl5IWfUMmwaX",
        "colab": {
          "base_uri": "https://localhost:8080/"
        },
        "outputId": "75816432-7fd2-460d-e833-7f96d262197e"
      },
      "source": [
        "n_users = ratings_matrix.shape[0] \n",
        "n_books = ratings_matrix.shape[1]\n",
        "print(n_users, n_books)"
      ],
      "execution_count": 1755,
      "outputs": [
        {
          "output_type": "stream",
          "text": [
            "449 66574\n"
          ],
          "name": "stdout"
        }
      ]
    },
    {
      "cell_type": "markdown",
      "metadata": {
        "id": "Agwrg8gGXIBO"
      },
      "source": [
        "## since NaNs cannot be handled by training algorithms, replacing these by 0, which indicates absence of ratings setting data type"
      ]
    },
    {
      "cell_type": "code",
      "metadata": {
        "id": "FVoTI8cXoUj8"
      },
      "source": [
        "ratings_matrix.fillna(0, inplace = True)\n",
        "ratings_matrix = ratings_matrix.astype(np.int32)"
      ],
      "execution_count": 1756,
      "outputs": []
    },
    {
      "cell_type": "code",
      "metadata": {
        "id": "TsWEPXZQocfa",
        "colab": {
          "base_uri": "https://localhost:8080/",
          "height": 277
        },
        "outputId": "aacd9b6b-929f-4626-8ea6-fc8f72b265c8"
      },
      "source": [
        "ratings_matrix.head(5)"
      ],
      "execution_count": 1757,
      "outputs": [
        {
          "output_type": "execute_result",
          "data": {
            "text/html": [
              "<div>\n",
              "<style scoped>\n",
              "    .dataframe tbody tr th:only-of-type {\n",
              "        vertical-align: middle;\n",
              "    }\n",
              "\n",
              "    .dataframe tbody tr th {\n",
              "        vertical-align: top;\n",
              "    }\n",
              "\n",
              "    .dataframe thead th {\n",
              "        text-align: right;\n",
              "    }\n",
              "</style>\n",
              "<table border=\"1\" class=\"dataframe\">\n",
              "  <thead>\n",
              "    <tr style=\"text-align: right;\">\n",
              "      <th>ISBN</th>\n",
              "      <th>0000913154</th>\n",
              "      <th>0001046438</th>\n",
              "      <th>000104687X</th>\n",
              "      <th>0001047213</th>\n",
              "      <th>0001047973</th>\n",
              "      <th>000104799X</th>\n",
              "      <th>0001048082</th>\n",
              "      <th>0001053736</th>\n",
              "      <th>0001053744</th>\n",
              "      <th>0001055607</th>\n",
              "      <th>0001056107</th>\n",
              "      <th>0001845039</th>\n",
              "      <th>0001935968</th>\n",
              "      <th>0001944711</th>\n",
              "      <th>0001952803</th>\n",
              "      <th>0001953877</th>\n",
              "      <th>0002000547</th>\n",
              "      <th>0002005018</th>\n",
              "      <th>0002005050</th>\n",
              "      <th>0002005557</th>\n",
              "      <th>0002006588</th>\n",
              "      <th>0002115328</th>\n",
              "      <th>0002116286</th>\n",
              "      <th>0002118580</th>\n",
              "      <th>0002154900</th>\n",
              "      <th>0002158973</th>\n",
              "      <th>0002163713</th>\n",
              "      <th>0002176181</th>\n",
              "      <th>0002176432</th>\n",
              "      <th>0002179695</th>\n",
              "      <th>0002181924</th>\n",
              "      <th>0002184974</th>\n",
              "      <th>0002190915</th>\n",
              "      <th>0002197154</th>\n",
              "      <th>0002223929</th>\n",
              "      <th>0002228394</th>\n",
              "      <th>000223257X</th>\n",
              "      <th>0002233509</th>\n",
              "      <th>0002239183</th>\n",
              "      <th>0002240114</th>\n",
              "      <th>...</th>\n",
              "      <th>987960170X</th>\n",
              "      <th>9974643058</th>\n",
              "      <th>999058284X</th>\n",
              "      <th>9992003766</th>\n",
              "      <th>9992059958</th>\n",
              "      <th>9993584185</th>\n",
              "      <th>9994256963</th>\n",
              "      <th>9994348337</th>\n",
              "      <th>9997405137</th>\n",
              "      <th>9997406567</th>\n",
              "      <th>9997406990</th>\n",
              "      <th>999740923X</th>\n",
              "      <th>9997409728</th>\n",
              "      <th>9997411757</th>\n",
              "      <th>9997411870</th>\n",
              "      <th>9997412044</th>\n",
              "      <th>9997412958</th>\n",
              "      <th>9997507002</th>\n",
              "      <th>999750805X</th>\n",
              "      <th>9997508769</th>\n",
              "      <th>9997512952</th>\n",
              "      <th>9997519086</th>\n",
              "      <th>9997555635</th>\n",
              "      <th>9998914140</th>\n",
              "      <th>B00001U0CP</th>\n",
              "      <th>B00005TZWI</th>\n",
              "      <th>B00006CRTE</th>\n",
              "      <th>B00006I4OX</th>\n",
              "      <th>B00007FYKW</th>\n",
              "      <th>B00008RWPV</th>\n",
              "      <th>B000092Q0A</th>\n",
              "      <th>B00009EF82</th>\n",
              "      <th>B00009NDAN</th>\n",
              "      <th>B0000DYXID</th>\n",
              "      <th>B0000T6KHI</th>\n",
              "      <th>B0000VZEJQ</th>\n",
              "      <th>B0000X8HIE</th>\n",
              "      <th>B00013AX9E</th>\n",
              "      <th>B0001I1KOG</th>\n",
              "      <th>B000234N3A</th>\n",
              "    </tr>\n",
              "    <tr>\n",
              "      <th>userID</th>\n",
              "      <th></th>\n",
              "      <th></th>\n",
              "      <th></th>\n",
              "      <th></th>\n",
              "      <th></th>\n",
              "      <th></th>\n",
              "      <th></th>\n",
              "      <th></th>\n",
              "      <th></th>\n",
              "      <th></th>\n",
              "      <th></th>\n",
              "      <th></th>\n",
              "      <th></th>\n",
              "      <th></th>\n",
              "      <th></th>\n",
              "      <th></th>\n",
              "      <th></th>\n",
              "      <th></th>\n",
              "      <th></th>\n",
              "      <th></th>\n",
              "      <th></th>\n",
              "      <th></th>\n",
              "      <th></th>\n",
              "      <th></th>\n",
              "      <th></th>\n",
              "      <th></th>\n",
              "      <th></th>\n",
              "      <th></th>\n",
              "      <th></th>\n",
              "      <th></th>\n",
              "      <th></th>\n",
              "      <th></th>\n",
              "      <th></th>\n",
              "      <th></th>\n",
              "      <th></th>\n",
              "      <th></th>\n",
              "      <th></th>\n",
              "      <th></th>\n",
              "      <th></th>\n",
              "      <th></th>\n",
              "      <th></th>\n",
              "      <th></th>\n",
              "      <th></th>\n",
              "      <th></th>\n",
              "      <th></th>\n",
              "      <th></th>\n",
              "      <th></th>\n",
              "      <th></th>\n",
              "      <th></th>\n",
              "      <th></th>\n",
              "      <th></th>\n",
              "      <th></th>\n",
              "      <th></th>\n",
              "      <th></th>\n",
              "      <th></th>\n",
              "      <th></th>\n",
              "      <th></th>\n",
              "      <th></th>\n",
              "      <th></th>\n",
              "      <th></th>\n",
              "      <th></th>\n",
              "      <th></th>\n",
              "      <th></th>\n",
              "      <th></th>\n",
              "      <th></th>\n",
              "      <th></th>\n",
              "      <th></th>\n",
              "      <th></th>\n",
              "      <th></th>\n",
              "      <th></th>\n",
              "      <th></th>\n",
              "      <th></th>\n",
              "      <th></th>\n",
              "      <th></th>\n",
              "      <th></th>\n",
              "      <th></th>\n",
              "      <th></th>\n",
              "      <th></th>\n",
              "      <th></th>\n",
              "      <th></th>\n",
              "      <th></th>\n",
              "    </tr>\n",
              "  </thead>\n",
              "  <tbody>\n",
              "    <tr>\n",
              "      <th>2033</th>\n",
              "      <td>0</td>\n",
              "      <td>0</td>\n",
              "      <td>0</td>\n",
              "      <td>0</td>\n",
              "      <td>0</td>\n",
              "      <td>0</td>\n",
              "      <td>0</td>\n",
              "      <td>0</td>\n",
              "      <td>0</td>\n",
              "      <td>0</td>\n",
              "      <td>0</td>\n",
              "      <td>0</td>\n",
              "      <td>0</td>\n",
              "      <td>0</td>\n",
              "      <td>0</td>\n",
              "      <td>0</td>\n",
              "      <td>0</td>\n",
              "      <td>0</td>\n",
              "      <td>0</td>\n",
              "      <td>0</td>\n",
              "      <td>0</td>\n",
              "      <td>0</td>\n",
              "      <td>0</td>\n",
              "      <td>0</td>\n",
              "      <td>0</td>\n",
              "      <td>0</td>\n",
              "      <td>0</td>\n",
              "      <td>0</td>\n",
              "      <td>0</td>\n",
              "      <td>0</td>\n",
              "      <td>0</td>\n",
              "      <td>0</td>\n",
              "      <td>0</td>\n",
              "      <td>0</td>\n",
              "      <td>0</td>\n",
              "      <td>0</td>\n",
              "      <td>0</td>\n",
              "      <td>0</td>\n",
              "      <td>0</td>\n",
              "      <td>0</td>\n",
              "      <td>...</td>\n",
              "      <td>0</td>\n",
              "      <td>0</td>\n",
              "      <td>0</td>\n",
              "      <td>0</td>\n",
              "      <td>0</td>\n",
              "      <td>0</td>\n",
              "      <td>0</td>\n",
              "      <td>0</td>\n",
              "      <td>0</td>\n",
              "      <td>0</td>\n",
              "      <td>0</td>\n",
              "      <td>0</td>\n",
              "      <td>0</td>\n",
              "      <td>0</td>\n",
              "      <td>0</td>\n",
              "      <td>0</td>\n",
              "      <td>0</td>\n",
              "      <td>0</td>\n",
              "      <td>0</td>\n",
              "      <td>0</td>\n",
              "      <td>0</td>\n",
              "      <td>0</td>\n",
              "      <td>0</td>\n",
              "      <td>0</td>\n",
              "      <td>0</td>\n",
              "      <td>0</td>\n",
              "      <td>0</td>\n",
              "      <td>0</td>\n",
              "      <td>0</td>\n",
              "      <td>0</td>\n",
              "      <td>0</td>\n",
              "      <td>0</td>\n",
              "      <td>0</td>\n",
              "      <td>0</td>\n",
              "      <td>0</td>\n",
              "      <td>0</td>\n",
              "      <td>0</td>\n",
              "      <td>0</td>\n",
              "      <td>0</td>\n",
              "      <td>0</td>\n",
              "    </tr>\n",
              "    <tr>\n",
              "      <th>2110</th>\n",
              "      <td>0</td>\n",
              "      <td>0</td>\n",
              "      <td>0</td>\n",
              "      <td>0</td>\n",
              "      <td>0</td>\n",
              "      <td>0</td>\n",
              "      <td>0</td>\n",
              "      <td>0</td>\n",
              "      <td>0</td>\n",
              "      <td>0</td>\n",
              "      <td>0</td>\n",
              "      <td>0</td>\n",
              "      <td>0</td>\n",
              "      <td>0</td>\n",
              "      <td>0</td>\n",
              "      <td>0</td>\n",
              "      <td>0</td>\n",
              "      <td>0</td>\n",
              "      <td>0</td>\n",
              "      <td>0</td>\n",
              "      <td>0</td>\n",
              "      <td>0</td>\n",
              "      <td>0</td>\n",
              "      <td>0</td>\n",
              "      <td>0</td>\n",
              "      <td>0</td>\n",
              "      <td>0</td>\n",
              "      <td>0</td>\n",
              "      <td>0</td>\n",
              "      <td>0</td>\n",
              "      <td>0</td>\n",
              "      <td>0</td>\n",
              "      <td>0</td>\n",
              "      <td>0</td>\n",
              "      <td>0</td>\n",
              "      <td>0</td>\n",
              "      <td>0</td>\n",
              "      <td>0</td>\n",
              "      <td>0</td>\n",
              "      <td>0</td>\n",
              "      <td>...</td>\n",
              "      <td>0</td>\n",
              "      <td>0</td>\n",
              "      <td>0</td>\n",
              "      <td>0</td>\n",
              "      <td>0</td>\n",
              "      <td>0</td>\n",
              "      <td>0</td>\n",
              "      <td>0</td>\n",
              "      <td>0</td>\n",
              "      <td>0</td>\n",
              "      <td>0</td>\n",
              "      <td>0</td>\n",
              "      <td>0</td>\n",
              "      <td>0</td>\n",
              "      <td>0</td>\n",
              "      <td>0</td>\n",
              "      <td>0</td>\n",
              "      <td>0</td>\n",
              "      <td>0</td>\n",
              "      <td>0</td>\n",
              "      <td>0</td>\n",
              "      <td>0</td>\n",
              "      <td>0</td>\n",
              "      <td>0</td>\n",
              "      <td>0</td>\n",
              "      <td>0</td>\n",
              "      <td>0</td>\n",
              "      <td>0</td>\n",
              "      <td>0</td>\n",
              "      <td>0</td>\n",
              "      <td>0</td>\n",
              "      <td>0</td>\n",
              "      <td>0</td>\n",
              "      <td>0</td>\n",
              "      <td>0</td>\n",
              "      <td>0</td>\n",
              "      <td>0</td>\n",
              "      <td>0</td>\n",
              "      <td>0</td>\n",
              "      <td>0</td>\n",
              "    </tr>\n",
              "    <tr>\n",
              "      <th>2276</th>\n",
              "      <td>0</td>\n",
              "      <td>0</td>\n",
              "      <td>0</td>\n",
              "      <td>0</td>\n",
              "      <td>0</td>\n",
              "      <td>0</td>\n",
              "      <td>0</td>\n",
              "      <td>0</td>\n",
              "      <td>0</td>\n",
              "      <td>0</td>\n",
              "      <td>0</td>\n",
              "      <td>0</td>\n",
              "      <td>0</td>\n",
              "      <td>0</td>\n",
              "      <td>0</td>\n",
              "      <td>0</td>\n",
              "      <td>0</td>\n",
              "      <td>0</td>\n",
              "      <td>0</td>\n",
              "      <td>0</td>\n",
              "      <td>0</td>\n",
              "      <td>0</td>\n",
              "      <td>0</td>\n",
              "      <td>0</td>\n",
              "      <td>0</td>\n",
              "      <td>0</td>\n",
              "      <td>0</td>\n",
              "      <td>0</td>\n",
              "      <td>0</td>\n",
              "      <td>0</td>\n",
              "      <td>0</td>\n",
              "      <td>0</td>\n",
              "      <td>0</td>\n",
              "      <td>0</td>\n",
              "      <td>0</td>\n",
              "      <td>0</td>\n",
              "      <td>0</td>\n",
              "      <td>0</td>\n",
              "      <td>0</td>\n",
              "      <td>0</td>\n",
              "      <td>...</td>\n",
              "      <td>0</td>\n",
              "      <td>0</td>\n",
              "      <td>0</td>\n",
              "      <td>0</td>\n",
              "      <td>0</td>\n",
              "      <td>0</td>\n",
              "      <td>0</td>\n",
              "      <td>0</td>\n",
              "      <td>0</td>\n",
              "      <td>0</td>\n",
              "      <td>0</td>\n",
              "      <td>0</td>\n",
              "      <td>0</td>\n",
              "      <td>0</td>\n",
              "      <td>0</td>\n",
              "      <td>0</td>\n",
              "      <td>0</td>\n",
              "      <td>0</td>\n",
              "      <td>0</td>\n",
              "      <td>0</td>\n",
              "      <td>0</td>\n",
              "      <td>0</td>\n",
              "      <td>0</td>\n",
              "      <td>0</td>\n",
              "      <td>0</td>\n",
              "      <td>0</td>\n",
              "      <td>0</td>\n",
              "      <td>0</td>\n",
              "      <td>0</td>\n",
              "      <td>0</td>\n",
              "      <td>0</td>\n",
              "      <td>0</td>\n",
              "      <td>0</td>\n",
              "      <td>0</td>\n",
              "      <td>0</td>\n",
              "      <td>0</td>\n",
              "      <td>0</td>\n",
              "      <td>0</td>\n",
              "      <td>0</td>\n",
              "      <td>0</td>\n",
              "    </tr>\n",
              "    <tr>\n",
              "      <th>4017</th>\n",
              "      <td>0</td>\n",
              "      <td>0</td>\n",
              "      <td>0</td>\n",
              "      <td>0</td>\n",
              "      <td>0</td>\n",
              "      <td>0</td>\n",
              "      <td>0</td>\n",
              "      <td>0</td>\n",
              "      <td>0</td>\n",
              "      <td>0</td>\n",
              "      <td>0</td>\n",
              "      <td>0</td>\n",
              "      <td>0</td>\n",
              "      <td>0</td>\n",
              "      <td>0</td>\n",
              "      <td>0</td>\n",
              "      <td>0</td>\n",
              "      <td>0</td>\n",
              "      <td>0</td>\n",
              "      <td>0</td>\n",
              "      <td>0</td>\n",
              "      <td>0</td>\n",
              "      <td>0</td>\n",
              "      <td>0</td>\n",
              "      <td>0</td>\n",
              "      <td>0</td>\n",
              "      <td>0</td>\n",
              "      <td>0</td>\n",
              "      <td>0</td>\n",
              "      <td>0</td>\n",
              "      <td>0</td>\n",
              "      <td>0</td>\n",
              "      <td>0</td>\n",
              "      <td>0</td>\n",
              "      <td>0</td>\n",
              "      <td>0</td>\n",
              "      <td>0</td>\n",
              "      <td>0</td>\n",
              "      <td>0</td>\n",
              "      <td>0</td>\n",
              "      <td>...</td>\n",
              "      <td>0</td>\n",
              "      <td>0</td>\n",
              "      <td>0</td>\n",
              "      <td>0</td>\n",
              "      <td>0</td>\n",
              "      <td>0</td>\n",
              "      <td>0</td>\n",
              "      <td>0</td>\n",
              "      <td>0</td>\n",
              "      <td>0</td>\n",
              "      <td>0</td>\n",
              "      <td>0</td>\n",
              "      <td>0</td>\n",
              "      <td>0</td>\n",
              "      <td>0</td>\n",
              "      <td>0</td>\n",
              "      <td>0</td>\n",
              "      <td>0</td>\n",
              "      <td>0</td>\n",
              "      <td>0</td>\n",
              "      <td>0</td>\n",
              "      <td>0</td>\n",
              "      <td>0</td>\n",
              "      <td>0</td>\n",
              "      <td>0</td>\n",
              "      <td>0</td>\n",
              "      <td>0</td>\n",
              "      <td>0</td>\n",
              "      <td>0</td>\n",
              "      <td>0</td>\n",
              "      <td>0</td>\n",
              "      <td>0</td>\n",
              "      <td>0</td>\n",
              "      <td>0</td>\n",
              "      <td>0</td>\n",
              "      <td>0</td>\n",
              "      <td>0</td>\n",
              "      <td>0</td>\n",
              "      <td>0</td>\n",
              "      <td>0</td>\n",
              "    </tr>\n",
              "    <tr>\n",
              "      <th>4385</th>\n",
              "      <td>0</td>\n",
              "      <td>0</td>\n",
              "      <td>0</td>\n",
              "      <td>0</td>\n",
              "      <td>0</td>\n",
              "      <td>0</td>\n",
              "      <td>0</td>\n",
              "      <td>0</td>\n",
              "      <td>0</td>\n",
              "      <td>0</td>\n",
              "      <td>0</td>\n",
              "      <td>0</td>\n",
              "      <td>0</td>\n",
              "      <td>0</td>\n",
              "      <td>0</td>\n",
              "      <td>0</td>\n",
              "      <td>0</td>\n",
              "      <td>0</td>\n",
              "      <td>0</td>\n",
              "      <td>0</td>\n",
              "      <td>0</td>\n",
              "      <td>0</td>\n",
              "      <td>0</td>\n",
              "      <td>0</td>\n",
              "      <td>0</td>\n",
              "      <td>0</td>\n",
              "      <td>0</td>\n",
              "      <td>0</td>\n",
              "      <td>0</td>\n",
              "      <td>0</td>\n",
              "      <td>0</td>\n",
              "      <td>0</td>\n",
              "      <td>0</td>\n",
              "      <td>0</td>\n",
              "      <td>0</td>\n",
              "      <td>0</td>\n",
              "      <td>0</td>\n",
              "      <td>0</td>\n",
              "      <td>0</td>\n",
              "      <td>0</td>\n",
              "      <td>...</td>\n",
              "      <td>0</td>\n",
              "      <td>0</td>\n",
              "      <td>0</td>\n",
              "      <td>0</td>\n",
              "      <td>0</td>\n",
              "      <td>0</td>\n",
              "      <td>0</td>\n",
              "      <td>0</td>\n",
              "      <td>0</td>\n",
              "      <td>0</td>\n",
              "      <td>0</td>\n",
              "      <td>0</td>\n",
              "      <td>0</td>\n",
              "      <td>0</td>\n",
              "      <td>0</td>\n",
              "      <td>0</td>\n",
              "      <td>0</td>\n",
              "      <td>0</td>\n",
              "      <td>0</td>\n",
              "      <td>0</td>\n",
              "      <td>0</td>\n",
              "      <td>0</td>\n",
              "      <td>0</td>\n",
              "      <td>0</td>\n",
              "      <td>0</td>\n",
              "      <td>0</td>\n",
              "      <td>0</td>\n",
              "      <td>0</td>\n",
              "      <td>0</td>\n",
              "      <td>0</td>\n",
              "      <td>0</td>\n",
              "      <td>0</td>\n",
              "      <td>0</td>\n",
              "      <td>0</td>\n",
              "      <td>0</td>\n",
              "      <td>0</td>\n",
              "      <td>0</td>\n",
              "      <td>0</td>\n",
              "      <td>0</td>\n",
              "      <td>0</td>\n",
              "    </tr>\n",
              "  </tbody>\n",
              "</table>\n",
              "<p>5 rows × 66574 columns</p>\n",
              "</div>"
            ],
            "text/plain": [
              "ISBN    0000913154  0001046438  000104687X  ...  B00013AX9E  B0001I1KOG  B000234N3A\n",
              "userID                                      ...                                    \n",
              "2033             0           0           0  ...           0           0           0\n",
              "2110             0           0           0  ...           0           0           0\n",
              "2276             0           0           0  ...           0           0           0\n",
              "4017             0           0           0  ...           0           0           0\n",
              "4385             0           0           0  ...           0           0           0\n",
              "\n",
              "[5 rows x 66574 columns]"
            ]
          },
          "metadata": {
            "tags": []
          },
          "execution_count": 1757
        }
      ]
    },
    {
      "cell_type": "code",
      "metadata": {
        "id": "ttSE1uExogeF"
      },
      "source": [
        "global metric,k\n",
        "k=10\n",
        "metric='cosine'"
      ],
      "execution_count": 1758,
      "outputs": []
    },
    {
      "cell_type": "markdown",
      "metadata": {
        "id": "dMagrJ72XPFu"
      },
      "source": [
        "#This function finds k similar users given the user_id and ratings matrix. These similarities are same as obtained via using pairwise_distances"
      ]
    },
    {
      "cell_type": "code",
      "metadata": {
        "id": "ofuzk6-NqrP4"
      },
      "source": [
        "def findksimilarusers(user_id, ratings, metric = metric, k=k):\n",
        "    similarities=[]\n",
        "    indices=[]\n",
        "    model_knn = NearestNeighbors(metric = metric, algorithm = 'brute') \n",
        "    model_knn.fit(ratings)\n",
        "    loc = ratings.index.get_loc(user_id)\n",
        "    distances, indices = model_knn.kneighbors(ratings.iloc[loc, :].values.reshape(1, -1), n_neighbors = k+1)\n",
        "    similarities = 1-distances.flatten()\n",
        "    return similarities,indices"
      ],
      "execution_count": 1759,
      "outputs": []
    },
    {
      "cell_type": "markdown",
      "metadata": {
        "id": "1jzL8ublXWPJ"
      },
      "source": [
        "## This function predicts rating for specified user-item combination based on user-based approach"
      ]
    },
    {
      "cell_type": "code",
      "metadata": {
        "id": "KHOhIU44qtbt"
      },
      "source": [
        "def predict_userbased(user_id, item_id, ratings, metric = metric, k=k):\n",
        "    prediction=0\n",
        "    user_loc = ratings.index.get_loc(user_id)\n",
        "    item_loc = ratings.columns.get_loc(item_id)\n",
        "    similarities, indices=findksimilarusers(user_id, ratings,metric, k) #similar users based on cosine similarity\n",
        "    mean_rating = ratings.iloc[user_loc,:].mean() #to adjust for zero based indexing\n",
        "    sum_wt = np.sum(similarities)-1\n",
        "    product=1\n",
        "    wtd_sum = 0 \n",
        "    \n",
        "    for i in range(0, len(indices.flatten())):\n",
        "        if indices.flatten()[i] == user_loc:\n",
        "            continue;\n",
        "        else: \n",
        "            ratings_diff = ratings.iloc[indices.flatten()[i],item_loc]-np.mean(ratings.iloc[indices.flatten()[i],:])\n",
        "            product = ratings_diff * (similarities[i])\n",
        "            wtd_sum = wtd_sum + product\n",
        "    \n",
        "    #in case of very sparse datasets, using correlation metric for collaborative based approach may give negative ratings\n",
        "    #which are handled here as below\n",
        "    if prediction <= 0:\n",
        "        prediction = 1   \n",
        "    elif prediction >10:\n",
        "        prediction = 10\n",
        "    \n",
        "    prediction = int(round(mean_rating + (wtd_sum/sum_wt)))\n",
        "    print('\\nPredicted rating for user {0} -> item {1}: {2}'.format(user_id,item_id,prediction))\n",
        "\n",
        "    return prediction"
      ],
      "execution_count": 1760,
      "outputs": []
    },
    {
      "cell_type": "code",
      "metadata": {
        "id": "hzg56caTqyhn",
        "colab": {
          "base_uri": "https://localhost:8080/"
        },
        "outputId": "df7f1a48-ddfe-4ae4-b6eb-85afece50bdf"
      },
      "source": [
        "predict_userbased(11676,'0001056107',ratings_matrix);"
      ],
      "execution_count": 1761,
      "outputs": [
        {
          "output_type": "stream",
          "text": [
            "\n",
            "Predicted rating for user 11676 -> item 0001056107: 2\n"
          ],
          "name": "stdout"
        }
      ]
    },
    {
      "cell_type": "markdown",
      "metadata": {
        "id": "Fxj_o33IYCD9"
      },
      "source": [
        "## This function finds k similar items given the item_id and ratings matrix"
      ]
    },
    {
      "cell_type": "code",
      "metadata": {
        "id": "uNy1HQkUq3hP"
      },
      "source": [
        "def findksimilaritems(item_id, ratings, metric=metric, k=k):\n",
        "    similarities=[]\n",
        "    indices=[]\n",
        "    ratings=ratings.T\n",
        "    loc = ratings.index.get_loc(item_id)\n",
        "    model_knn = NearestNeighbors(metric = metric, algorithm = 'brute')\n",
        "    model_knn.fit(ratings)\n",
        "    \n",
        "    distances, indices = model_knn.kneighbors(ratings.iloc[loc, :].values.reshape(1, -1), n_neighbors = k+1)\n",
        "    similarities = 1-distances.flatten()\n",
        "\n",
        "    return similarities,indices"
      ],
      "execution_count": 1762,
      "outputs": []
    },
    {
      "cell_type": "code",
      "metadata": {
        "id": "DmVNaZtBrPm9"
      },
      "source": [
        "similarities,indices=findksimilaritems('0001056107',ratings_matrix)"
      ],
      "execution_count": 1763,
      "outputs": []
    },
    {
      "cell_type": "markdown",
      "metadata": {
        "id": "M3yJUqIiZHEC"
      },
      "source": [
        "## This function predicts the rating for specified user-item combination based on item-based approach"
      ]
    },
    {
      "cell_type": "code",
      "metadata": {
        "id": "cbxgoM--rSbb"
      },
      "source": [
        "def predict_itembased(user_id, item_id, ratings, metric = metric, k=k):\n",
        "    prediction= wtd_sum =0\n",
        "    user_loc = ratings.index.get_loc(user_id)\n",
        "    item_loc = ratings.columns.get_loc(item_id)\n",
        "    similarities, indices=findksimilaritems(item_id, ratings) #similar users based on correlation coefficients\n",
        "    sum_wt = np.sum(similarities)-1\n",
        "    product=1\n",
        "    for i in range(0, len(indices.flatten())):\n",
        "        if indices.flatten()[i] == item_loc:\n",
        "            continue;\n",
        "        else:\n",
        "            product = ratings.iloc[user_loc,indices.flatten()[i]] * (similarities[i])\n",
        "            wtd_sum = wtd_sum + product                              \n",
        "    prediction = int(round(wtd_sum/sum_wt))\n",
        "    \n",
        "    #in case of very sparse datasets, using correlation metric for collaborative based approach may give negative ratings\n",
        "    #which are handled here as below //code has been validated without the code snippet below, below snippet is to avoid negative\n",
        "    #predictions which might arise in case of very sparse datasets when using correlation metric\n",
        "    if prediction <= 0:\n",
        "        prediction = 1   \n",
        "    elif prediction >10:\n",
        "        prediction = 10\n",
        "\n",
        "    print('\\nPredicted rating for user {0} -> item {1}: {2}'.format(user_id,item_id,prediction))  \n",
        "    \n",
        "    return prediction"
      ],
      "execution_count": 1764,
      "outputs": []
    },
    {
      "cell_type": "code",
      "metadata": {
        "id": "U5NTRRPxrXYB",
        "colab": {
          "base_uri": "https://localhost:8080/"
        },
        "outputId": "af9e89e4-200c-4e10-97b2-b2e4cfcbd1ad"
      },
      "source": [
        "prediction = predict_itembased(11676,'0001056107',ratings_matrix)"
      ],
      "execution_count": 1765,
      "outputs": [
        {
          "output_type": "stream",
          "text": [
            "\n",
            "Predicted rating for user 11676 -> item 0001056107: 1\n"
          ],
          "name": "stdout"
        }
      ]
    },
    {
      "cell_type": "code",
      "metadata": {
        "id": "ReTV6nUgdX01"
      },
      "source": [
        ""
      ],
      "execution_count": 1765,
      "outputs": []
    }
  ]
}