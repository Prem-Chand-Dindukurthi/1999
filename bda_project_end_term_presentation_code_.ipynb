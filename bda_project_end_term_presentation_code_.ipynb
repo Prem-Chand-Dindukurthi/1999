{
  "nbformat": 4,
  "nbformat_minor": 0,
  "metadata": {
    "kernelspec": {
      "name": "python3",
      "display_name": "Python 3",
      "language": "python"
    },
    "language_info": {
      "name": "python",
      "version": "3.6.6",
      "mimetype": "text/x-python",
      "codemirror_mode": {
        "name": "ipython",
        "version": 3
      },
      "pygments_lexer": "ipython3",
      "nbconvert_exporter": "python",
      "file_extension": ".py"
    },
    "colab": {
      "name": "bda project end term presentation code .ipynb",
      "provenance": [],
      "collapsed_sections": [],
      "include_colab_link": true
    }
  },
  "cells": [
    {
      "cell_type": "markdown",
      "metadata": {
        "id": "view-in-github",
        "colab_type": "text"
      },
      "source": [
        "<a href=\"https://colab.research.google.com/github/Prem-Chand-Dindukurthi/1999/blob/master/bda_project_end_term_presentation_code_.ipynb\" target=\"_parent\"><img src=\"https://colab.research.google.com/assets/colab-badge.svg\" alt=\"Open In Colab\"/></a>"
      ]
    },
    {
      "cell_type": "code",
      "metadata": {
        "colab": {
          "base_uri": "https://localhost:8080/"
        },
        "id": "oAhDEUQDJQPc",
        "outputId": "a63ff083-d1eb-4371-f838-77c5b331fcf8"
      },
      "source": [
        "from google.colab import drive\n",
        "drive.mount('/content/drive')"
      ],
      "execution_count": 234,
      "outputs": [
        {
          "output_type": "stream",
          "text": [
            "Drive already mounted at /content/drive; to attempt to forcibly remount, call drive.mount(\"/content/drive\", force_remount=True).\n"
          ],
          "name": "stdout"
        }
      ]
    },
    {
      "cell_type": "code",
      "metadata": {
        "_uuid": "8f2839f25d086af736a60e9eeb907d3b93b6e0e5",
        "_cell_guid": "b1076dfc-b9ad-4769-8c92-a6c4dae69d19",
        "trusted": true,
        "id": "YpMZoW6bN6Nl"
      },
      "source": [
        "import pandas as pd\n",
        "import matplotlib.pyplot as plt\n",
        "%matplotlib inline\n",
        "import numpy as np\n",
        "import seaborn as sns"
      ],
      "execution_count": 235,
      "outputs": []
    },
    {
      "cell_type": "code",
      "metadata": {
        "id": "IA7ajbgA_deG"
      },
      "source": [
        "import statsmodels.api as sm\n",
        "import tensorflow as tf\n",
        "from sklearn.metrics import mean_squared_error, r2_score\n",
        "from sklearn.preprocessing import LabelEncoder, StandardScaler, MinMaxScaler\n",
        "from sklearn.decomposition import PCA\n",
        "from sklearn.model_selection import train_test_split\n",
        "from math import sqrt\n"
      ],
      "execution_count": 236,
      "outputs": []
    },
    {
      "cell_type": "code",
      "metadata": {
        "trusted": true,
        "id": "9lkBawu0N6N6"
      },
      "source": [
        "df_weather=pd.read_csv('/content/drive/MyDrive/bda project dataset/weather_features.csv',parse_dates=['dt_iso'])\n",
        "df_energy=pd.read_csv('/content/drive/MyDrive/bda project dataset/energy_dataset.csv')\n"
      ],
      "execution_count": 237,
      "outputs": []
    },
    {
      "cell_type": "code",
      "metadata": {
        "trusted": true,
        "id": "EWrtY_wuN6OG",
        "colab": {
          "base_uri": "https://localhost:8080/"
        },
        "outputId": "24c4aeb7-e44b-46cc-a687-fb1b1e16b16f"
      },
      "source": [
        "print(df_energy.head())\n",
        "print(df_weather.head())"
      ],
      "execution_count": 238,
      "outputs": [
        {
          "output_type": "stream",
          "text": [
            "                        time  generation biomass  ...  price day ahead  price actual\n",
            "0  2015-01-01 00:00:00+01:00               447.0  ...            50.10         65.41\n",
            "1  2015-01-01 01:00:00+01:00               449.0  ...            48.10         64.92\n",
            "2  2015-01-01 02:00:00+01:00               448.0  ...            47.33         64.48\n",
            "3  2015-01-01 03:00:00+01:00               438.0  ...            42.27         59.32\n",
            "4  2015-01-01 04:00:00+01:00               428.0  ...            38.41         56.04\n",
            "\n",
            "[5 rows x 29 columns]\n",
            "                      dt_iso city_name  ...  weather_description  weather_icon\n",
            "0  2015-01-01 00:00:00+01:00  Valencia  ...         sky is clear           01n\n",
            "1  2015-01-01 01:00:00+01:00  Valencia  ...         sky is clear           01n\n",
            "2  2015-01-01 02:00:00+01:00  Valencia  ...         sky is clear           01n\n",
            "3  2015-01-01 03:00:00+01:00  Valencia  ...         sky is clear           01n\n",
            "4  2015-01-01 04:00:00+01:00  Valencia  ...         sky is clear           01n\n",
            "\n",
            "[5 rows x 17 columns]\n"
          ],
          "name": "stdout"
        }
      ]
    },
    {
      "cell_type": "code",
      "metadata": {
        "id": "rSHtT9SwQUoE",
        "colab": {
          "base_uri": "https://localhost:8080/"
        },
        "outputId": "c0adeecc-59dc-4652-a852-50044d69641f"
      },
      "source": [
        "print(df_energy.columns)\n",
        "print(len(df_energy.columns))"
      ],
      "execution_count": 239,
      "outputs": [
        {
          "output_type": "stream",
          "text": [
            "Index(['time', 'generation biomass', 'generation fossil brown coal/lignite',\n",
            "       'generation fossil coal-derived gas', 'generation fossil gas',\n",
            "       'generation fossil hard coal', 'generation fossil oil',\n",
            "       'generation fossil oil shale', 'generation fossil peat',\n",
            "       'generation geothermal', 'generation hydro pumped storage aggregated',\n",
            "       'generation hydro pumped storage consumption',\n",
            "       'generation hydro run-of-river and poundage',\n",
            "       'generation hydro water reservoir', 'generation marine',\n",
            "       'generation nuclear', 'generation other', 'generation other renewable',\n",
            "       'generation solar', 'generation waste', 'generation wind offshore',\n",
            "       'generation wind onshore', 'forecast solar day ahead',\n",
            "       'forecast wind offshore eday ahead', 'forecast wind onshore day ahead',\n",
            "       'total load forecast', 'total load actual', 'price day ahead',\n",
            "       'price actual'],\n",
            "      dtype='object')\n",
            "29\n"
          ],
          "name": "stdout"
        }
      ]
    },
    {
      "cell_type": "code",
      "metadata": {
        "trusted": true,
        "id": "ZmRuCE58N6OR"
      },
      "source": [
        "df_energy.drop(['generation fossil coal-derived gas','generation fossil oil shale', 'generation fossil peat', \n",
        "                'generation geothermal', 'generation hydro pumped storage aggregated', 'generation marine', \n",
        "                'generation wind offshore', 'forecast wind offshore eday ahead','total load forecast', \n",
        "                'forecast solar day ahead','forecast wind onshore day ahead'], axis=1,inplace=True)"
      ],
      "execution_count": 240,
      "outputs": []
    },
    {
      "cell_type": "code",
      "metadata": {
        "id": "-aH9KlnbQa3U",
        "colab": {
          "base_uri": "https://localhost:8080/"
        },
        "outputId": "c699064c-225d-480b-ac42-89190a7d2cfb"
      },
      "source": [
        "print(df_energy.columns)\n",
        "print(len(df_energy.columns))"
      ],
      "execution_count": 241,
      "outputs": [
        {
          "output_type": "stream",
          "text": [
            "Index(['time', 'generation biomass', 'generation fossil brown coal/lignite',\n",
            "       'generation fossil gas', 'generation fossil hard coal',\n",
            "       'generation fossil oil', 'generation hydro pumped storage consumption',\n",
            "       'generation hydro run-of-river and poundage',\n",
            "       'generation hydro water reservoir', 'generation nuclear',\n",
            "       'generation other', 'generation other renewable', 'generation solar',\n",
            "       'generation waste', 'generation wind onshore', 'total load actual',\n",
            "       'price day ahead', 'price actual'],\n",
            "      dtype='object')\n",
            "18\n"
          ],
          "name": "stdout"
        }
      ]
    },
    {
      "cell_type": "code",
      "metadata": {
        "trusted": true,
        "id": "V78M5UxBN6OY",
        "colab": {
          "base_uri": "https://localhost:8080/",
          "height": 385
        },
        "outputId": "69bf995f-4ffd-4a21-bf5a-a741951690b1"
      },
      "source": [
        "df_energy.describe()"
      ],
      "execution_count": 242,
      "outputs": [
        {
          "output_type": "execute_result",
          "data": {
            "text/html": [
              "<div>\n",
              "<style scoped>\n",
              "    .dataframe tbody tr th:only-of-type {\n",
              "        vertical-align: middle;\n",
              "    }\n",
              "\n",
              "    .dataframe tbody tr th {\n",
              "        vertical-align: top;\n",
              "    }\n",
              "\n",
              "    .dataframe thead th {\n",
              "        text-align: right;\n",
              "    }\n",
              "</style>\n",
              "<table border=\"1\" class=\"dataframe\">\n",
              "  <thead>\n",
              "    <tr style=\"text-align: right;\">\n",
              "      <th></th>\n",
              "      <th>generation biomass</th>\n",
              "      <th>generation fossil brown coal/lignite</th>\n",
              "      <th>generation fossil gas</th>\n",
              "      <th>generation fossil hard coal</th>\n",
              "      <th>generation fossil oil</th>\n",
              "      <th>generation hydro pumped storage consumption</th>\n",
              "      <th>generation hydro run-of-river and poundage</th>\n",
              "      <th>generation hydro water reservoir</th>\n",
              "      <th>generation nuclear</th>\n",
              "      <th>generation other</th>\n",
              "      <th>generation other renewable</th>\n",
              "      <th>generation solar</th>\n",
              "      <th>generation waste</th>\n",
              "      <th>generation wind onshore</th>\n",
              "      <th>total load actual</th>\n",
              "      <th>price day ahead</th>\n",
              "      <th>price actual</th>\n",
              "    </tr>\n",
              "  </thead>\n",
              "  <tbody>\n",
              "    <tr>\n",
              "      <th>count</th>\n",
              "      <td>35045.000000</td>\n",
              "      <td>35046.000000</td>\n",
              "      <td>35046.000000</td>\n",
              "      <td>35046.000000</td>\n",
              "      <td>35045.000000</td>\n",
              "      <td>35045.000000</td>\n",
              "      <td>35045.000000</td>\n",
              "      <td>35046.000000</td>\n",
              "      <td>35047.000000</td>\n",
              "      <td>35046.000000</td>\n",
              "      <td>35046.000000</td>\n",
              "      <td>35046.000000</td>\n",
              "      <td>35045.000000</td>\n",
              "      <td>35046.000000</td>\n",
              "      <td>35028.000000</td>\n",
              "      <td>35064.000000</td>\n",
              "      <td>35064.000000</td>\n",
              "    </tr>\n",
              "    <tr>\n",
              "      <th>mean</th>\n",
              "      <td>383.513540</td>\n",
              "      <td>448.059208</td>\n",
              "      <td>5622.737488</td>\n",
              "      <td>4256.065742</td>\n",
              "      <td>298.319789</td>\n",
              "      <td>475.577343</td>\n",
              "      <td>972.116108</td>\n",
              "      <td>2605.114735</td>\n",
              "      <td>6263.907039</td>\n",
              "      <td>60.228585</td>\n",
              "      <td>85.639702</td>\n",
              "      <td>1432.665925</td>\n",
              "      <td>269.452133</td>\n",
              "      <td>5464.479769</td>\n",
              "      <td>28696.939905</td>\n",
              "      <td>49.874341</td>\n",
              "      <td>57.884023</td>\n",
              "    </tr>\n",
              "    <tr>\n",
              "      <th>std</th>\n",
              "      <td>85.353943</td>\n",
              "      <td>354.568590</td>\n",
              "      <td>2201.830478</td>\n",
              "      <td>1961.601013</td>\n",
              "      <td>52.520673</td>\n",
              "      <td>792.406614</td>\n",
              "      <td>400.777536</td>\n",
              "      <td>1835.199745</td>\n",
              "      <td>839.667958</td>\n",
              "      <td>20.238381</td>\n",
              "      <td>14.077554</td>\n",
              "      <td>1680.119887</td>\n",
              "      <td>50.195536</td>\n",
              "      <td>3213.691587</td>\n",
              "      <td>4574.987950</td>\n",
              "      <td>14.618900</td>\n",
              "      <td>14.204083</td>\n",
              "    </tr>\n",
              "    <tr>\n",
              "      <th>min</th>\n",
              "      <td>0.000000</td>\n",
              "      <td>0.000000</td>\n",
              "      <td>0.000000</td>\n",
              "      <td>0.000000</td>\n",
              "      <td>0.000000</td>\n",
              "      <td>0.000000</td>\n",
              "      <td>0.000000</td>\n",
              "      <td>0.000000</td>\n",
              "      <td>0.000000</td>\n",
              "      <td>0.000000</td>\n",
              "      <td>0.000000</td>\n",
              "      <td>0.000000</td>\n",
              "      <td>0.000000</td>\n",
              "      <td>0.000000</td>\n",
              "      <td>18041.000000</td>\n",
              "      <td>2.060000</td>\n",
              "      <td>9.330000</td>\n",
              "    </tr>\n",
              "    <tr>\n",
              "      <th>25%</th>\n",
              "      <td>333.000000</td>\n",
              "      <td>0.000000</td>\n",
              "      <td>4126.000000</td>\n",
              "      <td>2527.000000</td>\n",
              "      <td>263.000000</td>\n",
              "      <td>0.000000</td>\n",
              "      <td>637.000000</td>\n",
              "      <td>1077.250000</td>\n",
              "      <td>5760.000000</td>\n",
              "      <td>53.000000</td>\n",
              "      <td>73.000000</td>\n",
              "      <td>71.000000</td>\n",
              "      <td>240.000000</td>\n",
              "      <td>2933.000000</td>\n",
              "      <td>24807.750000</td>\n",
              "      <td>41.490000</td>\n",
              "      <td>49.347500</td>\n",
              "    </tr>\n",
              "    <tr>\n",
              "      <th>50%</th>\n",
              "      <td>367.000000</td>\n",
              "      <td>509.000000</td>\n",
              "      <td>4969.000000</td>\n",
              "      <td>4474.000000</td>\n",
              "      <td>300.000000</td>\n",
              "      <td>68.000000</td>\n",
              "      <td>906.000000</td>\n",
              "      <td>2164.000000</td>\n",
              "      <td>6566.000000</td>\n",
              "      <td>57.000000</td>\n",
              "      <td>88.000000</td>\n",
              "      <td>616.000000</td>\n",
              "      <td>279.000000</td>\n",
              "      <td>4849.000000</td>\n",
              "      <td>28901.000000</td>\n",
              "      <td>50.520000</td>\n",
              "      <td>58.020000</td>\n",
              "    </tr>\n",
              "    <tr>\n",
              "      <th>75%</th>\n",
              "      <td>433.000000</td>\n",
              "      <td>757.000000</td>\n",
              "      <td>6429.000000</td>\n",
              "      <td>5838.750000</td>\n",
              "      <td>330.000000</td>\n",
              "      <td>616.000000</td>\n",
              "      <td>1250.000000</td>\n",
              "      <td>3757.000000</td>\n",
              "      <td>7025.000000</td>\n",
              "      <td>80.000000</td>\n",
              "      <td>97.000000</td>\n",
              "      <td>2578.000000</td>\n",
              "      <td>310.000000</td>\n",
              "      <td>7398.000000</td>\n",
              "      <td>32192.000000</td>\n",
              "      <td>60.530000</td>\n",
              "      <td>68.010000</td>\n",
              "    </tr>\n",
              "    <tr>\n",
              "      <th>max</th>\n",
              "      <td>592.000000</td>\n",
              "      <td>999.000000</td>\n",
              "      <td>20034.000000</td>\n",
              "      <td>8359.000000</td>\n",
              "      <td>449.000000</td>\n",
              "      <td>4523.000000</td>\n",
              "      <td>2000.000000</td>\n",
              "      <td>9728.000000</td>\n",
              "      <td>7117.000000</td>\n",
              "      <td>106.000000</td>\n",
              "      <td>119.000000</td>\n",
              "      <td>5792.000000</td>\n",
              "      <td>357.000000</td>\n",
              "      <td>17436.000000</td>\n",
              "      <td>41015.000000</td>\n",
              "      <td>101.990000</td>\n",
              "      <td>116.800000</td>\n",
              "    </tr>\n",
              "  </tbody>\n",
              "</table>\n",
              "</div>"
            ],
            "text/plain": [
              "       generation biomass  ...  price actual\n",
              "count        35045.000000  ...  35064.000000\n",
              "mean           383.513540  ...     57.884023\n",
              "std             85.353943  ...     14.204083\n",
              "min              0.000000  ...      9.330000\n",
              "25%            333.000000  ...     49.347500\n",
              "50%            367.000000  ...     58.020000\n",
              "75%            433.000000  ...     68.010000\n",
              "max            592.000000  ...    116.800000\n",
              "\n",
              "[8 rows x 17 columns]"
            ]
          },
          "metadata": {
            "tags": []
          },
          "execution_count": 242
        }
      ]
    },
    {
      "cell_type": "code",
      "metadata": {
        "trusted": true,
        "id": "jLI6cc28N6Oj",
        "colab": {
          "base_uri": "https://localhost:8080/"
        },
        "outputId": "ed3b6c3d-f3f7-48fc-d1ba-93f5f18ce7ad"
      },
      "source": [
        "df_energy.info()"
      ],
      "execution_count": 243,
      "outputs": [
        {
          "output_type": "stream",
          "text": [
            "<class 'pandas.core.frame.DataFrame'>\n",
            "RangeIndex: 35064 entries, 0 to 35063\n",
            "Data columns (total 18 columns):\n",
            " #   Column                                       Non-Null Count  Dtype  \n",
            "---  ------                                       --------------  -----  \n",
            " 0   time                                         35064 non-null  object \n",
            " 1   generation biomass                           35045 non-null  float64\n",
            " 2   generation fossil brown coal/lignite         35046 non-null  float64\n",
            " 3   generation fossil gas                        35046 non-null  float64\n",
            " 4   generation fossil hard coal                  35046 non-null  float64\n",
            " 5   generation fossil oil                        35045 non-null  float64\n",
            " 6   generation hydro pumped storage consumption  35045 non-null  float64\n",
            " 7   generation hydro run-of-river and poundage   35045 non-null  float64\n",
            " 8   generation hydro water reservoir             35046 non-null  float64\n",
            " 9   generation nuclear                           35047 non-null  float64\n",
            " 10  generation other                             35046 non-null  float64\n",
            " 11  generation other renewable                   35046 non-null  float64\n",
            " 12  generation solar                             35046 non-null  float64\n",
            " 13  generation waste                             35045 non-null  float64\n",
            " 14  generation wind onshore                      35046 non-null  float64\n",
            " 15  total load actual                            35028 non-null  float64\n",
            " 16  price day ahead                              35064 non-null  float64\n",
            " 17  price actual                                 35064 non-null  float64\n",
            "dtypes: float64(17), object(1)\n",
            "memory usage: 4.8+ MB\n"
          ],
          "name": "stdout"
        }
      ]
    },
    {
      "cell_type": "code",
      "metadata": {
        "trusted": true,
        "id": "pHWSEXctN6Os"
      },
      "source": [
        "# change time to datetime object\n",
        "df_energy['time'] = pd.to_datetime(df_energy['time'], utc=True, infer_datetime_format=True)\n",
        "\n",
        "# set time as index\n",
        "df_energy = df_energy.set_index('time')\n"
      ],
      "execution_count": 244,
      "outputs": []
    },
    {
      "cell_type": "code",
      "metadata": {
        "id": "UEXOPaV5SHS2",
        "colab": {
          "base_uri": "https://localhost:8080/"
        },
        "outputId": "ba23d952-234d-463e-eeb5-acef1c1a2d52"
      },
      "source": [
        "df_energy.info()"
      ],
      "execution_count": 245,
      "outputs": [
        {
          "output_type": "stream",
          "text": [
            "<class 'pandas.core.frame.DataFrame'>\n",
            "DatetimeIndex: 35064 entries, 2014-12-31 23:00:00+00:00 to 2018-12-31 22:00:00+00:00\n",
            "Data columns (total 17 columns):\n",
            " #   Column                                       Non-Null Count  Dtype  \n",
            "---  ------                                       --------------  -----  \n",
            " 0   generation biomass                           35045 non-null  float64\n",
            " 1   generation fossil brown coal/lignite         35046 non-null  float64\n",
            " 2   generation fossil gas                        35046 non-null  float64\n",
            " 3   generation fossil hard coal                  35046 non-null  float64\n",
            " 4   generation fossil oil                        35045 non-null  float64\n",
            " 5   generation hydro pumped storage consumption  35045 non-null  float64\n",
            " 6   generation hydro run-of-river and poundage   35045 non-null  float64\n",
            " 7   generation hydro water reservoir             35046 non-null  float64\n",
            " 8   generation nuclear                           35047 non-null  float64\n",
            " 9   generation other                             35046 non-null  float64\n",
            " 10  generation other renewable                   35046 non-null  float64\n",
            " 11  generation solar                             35046 non-null  float64\n",
            " 12  generation waste                             35045 non-null  float64\n",
            " 13  generation wind onshore                      35046 non-null  float64\n",
            " 14  total load actual                            35028 non-null  float64\n",
            " 15  price day ahead                              35064 non-null  float64\n",
            " 16  price actual                                 35064 non-null  float64\n",
            "dtypes: float64(17)\n",
            "memory usage: 4.8 MB\n"
          ],
          "name": "stdout"
        }
      ]
    },
    {
      "cell_type": "code",
      "metadata": {
        "trusted": true,
        "id": "q0QpMdupN6Oz",
        "colab": {
          "base_uri": "https://localhost:8080/"
        },
        "outputId": "cf1fff16-21ce-494a-c637-32ebf308e95c"
      },
      "source": [
        "# Find NaNs \n",
        "\n",
        "print('There are {} missing values or NaNs in df_energy.'.format(df_energy.isnull().values.sum()))\n",
        "\n",
        "# Find duplicates in df_energy\n",
        "\n",
        "print('There are {} duplicate rows in df_energy based on all columns.' .format(df_energy.duplicated(keep='first').sum()))"
      ],
      "execution_count": 246,
      "outputs": [
        {
          "output_type": "stream",
          "text": [
            "There are 292 missing values or NaNs in df_energy.\n",
            "There are 0 duplicate rows in df_energy based on all columns.\n"
          ],
          "name": "stdout"
        }
      ]
    },
    {
      "cell_type": "code",
      "metadata": {
        "id": "CneViJIqUsAg",
        "colab": {
          "base_uri": "https://localhost:8080/"
        },
        "outputId": "6cd8449f-5099-415a-9a05-0c29e6a931a8"
      },
      "source": [
        "print(df_energy.isnull().any())"
      ],
      "execution_count": 247,
      "outputs": [
        {
          "output_type": "stream",
          "text": [
            "generation biomass                              True\n",
            "generation fossil brown coal/lignite            True\n",
            "generation fossil gas                           True\n",
            "generation fossil hard coal                     True\n",
            "generation fossil oil                           True\n",
            "generation hydro pumped storage consumption     True\n",
            "generation hydro run-of-river and poundage      True\n",
            "generation hydro water reservoir                True\n",
            "generation nuclear                              True\n",
            "generation other                                True\n",
            "generation other renewable                      True\n",
            "generation solar                                True\n",
            "generation waste                                True\n",
            "generation wind onshore                         True\n",
            "total load actual                               True\n",
            "price day ahead                                False\n",
            "price actual                                   False\n",
            "dtype: bool\n"
          ],
          "name": "stdout"
        }
      ]
    },
    {
      "cell_type": "code",
      "metadata": {
        "id": "S3To1FjiVaHF",
        "colab": {
          "base_uri": "https://localhost:8080/"
        },
        "outputId": "9a82824d-cb85-44d5-e6af-16a45bcdc9a4"
      },
      "source": [
        "print(df_energy.columns[df_energy.isnull().any()])"
      ],
      "execution_count": 248,
      "outputs": [
        {
          "output_type": "stream",
          "text": [
            "Index(['generation biomass', 'generation fossil brown coal/lignite',\n",
            "       'generation fossil gas', 'generation fossil hard coal',\n",
            "       'generation fossil oil', 'generation hydro pumped storage consumption',\n",
            "       'generation hydro run-of-river and poundage',\n",
            "       'generation hydro water reservoir', 'generation nuclear',\n",
            "       'generation other', 'generation other renewable', 'generation solar',\n",
            "       'generation waste', 'generation wind onshore', 'total load actual'],\n",
            "      dtype='object')\n"
          ],
          "name": "stdout"
        }
      ]
    },
    {
      "cell_type": "code",
      "metadata": {
        "trusted": true,
        "id": "1cI5cV63N6O9",
        "colab": {
          "base_uri": "https://localhost:8080/"
        },
        "outputId": "1bac9465-9b75-4c37-e0c8-a12c74d88bad"
      },
      "source": [
        "# Find the number of NaNs in each column\n",
        "\n",
        "df_energy.isnull().sum(axis=0)"
      ],
      "execution_count": 249,
      "outputs": [
        {
          "output_type": "execute_result",
          "data": {
            "text/plain": [
              "generation biomass                             19\n",
              "generation fossil brown coal/lignite           18\n",
              "generation fossil gas                          18\n",
              "generation fossil hard coal                    18\n",
              "generation fossil oil                          19\n",
              "generation hydro pumped storage consumption    19\n",
              "generation hydro run-of-river and poundage     19\n",
              "generation hydro water reservoir               18\n",
              "generation nuclear                             17\n",
              "generation other                               18\n",
              "generation other renewable                     18\n",
              "generation solar                               18\n",
              "generation waste                               19\n",
              "generation wind onshore                        18\n",
              "total load actual                              36\n",
              "price day ahead                                 0\n",
              "price actual                                    0\n",
              "dtype: int64"
            ]
          },
          "metadata": {
            "tags": []
          },
          "execution_count": 249
        }
      ]
    },
    {
      "cell_type": "code",
      "metadata": {
        "trusted": true,
        "id": "aB3gulOMN6Po"
      },
      "source": [
        "# Fill null values using interpolation\n",
        "\n",
        "df_energy.interpolate(method='linear', limit_direction='forward', inplace=True, axis=0)"
      ],
      "execution_count": 250,
      "outputs": []
    },
    {
      "cell_type": "code",
      "metadata": {
        "trusted": true,
        "id": "jkPthYj2N6Pv",
        "colab": {
          "base_uri": "https://localhost:8080/"
        },
        "outputId": "3e852972-da78-4d74-f0f4-e82d2cd1acda"
      },
      "source": [
        "# Display the number of non-zero values in each column\n",
        "\n",
        "print('Non-zero values in each column:\\n', df_energy.astype(bool).sum(axis=0), sep='\\n')"
      ],
      "execution_count": 251,
      "outputs": [
        {
          "output_type": "stream",
          "text": [
            "Non-zero values in each column:\n",
            "\n",
            "generation biomass                             35060\n",
            "generation fossil brown coal/lignite           24540\n",
            "generation fossil gas                          35063\n",
            "generation fossil hard coal                    35061\n",
            "generation fossil oil                          35061\n",
            "generation hydro pumped storage consumption    22450\n",
            "generation hydro run-of-river and poundage     35061\n",
            "generation hydro water reservoir               35061\n",
            "generation nuclear                             35061\n",
            "generation other                               35060\n",
            "generation other renewable                     35061\n",
            "generation solar                               35061\n",
            "generation waste                               35061\n",
            "generation wind onshore                        35061\n",
            "total load actual                              35064\n",
            "price day ahead                                35064\n",
            "price actual                                   35064\n",
            "dtype: int64\n"
          ],
          "name": "stdout"
        }
      ]
    },
    {
      "cell_type": "markdown",
      "metadata": {
        "id": "_YHyaYhnYd78"
      },
      "source": [
        "# Weather features dataset\n"
      ]
    },
    {
      "cell_type": "code",
      "metadata": {
        "trusted": true,
        "id": "u5xRiw9MN6QB",
        "colab": {
          "base_uri": "https://localhost:8080/",
          "height": 309
        },
        "outputId": "a8cf53cd-f09c-4235-b584-3c826ecc8fc9"
      },
      "source": [
        "df_weather.head()"
      ],
      "execution_count": 252,
      "outputs": [
        {
          "output_type": "execute_result",
          "data": {
            "text/html": [
              "<div>\n",
              "<style scoped>\n",
              "    .dataframe tbody tr th:only-of-type {\n",
              "        vertical-align: middle;\n",
              "    }\n",
              "\n",
              "    .dataframe tbody tr th {\n",
              "        vertical-align: top;\n",
              "    }\n",
              "\n",
              "    .dataframe thead th {\n",
              "        text-align: right;\n",
              "    }\n",
              "</style>\n",
              "<table border=\"1\" class=\"dataframe\">\n",
              "  <thead>\n",
              "    <tr style=\"text-align: right;\">\n",
              "      <th></th>\n",
              "      <th>dt_iso</th>\n",
              "      <th>city_name</th>\n",
              "      <th>temp</th>\n",
              "      <th>temp_min</th>\n",
              "      <th>temp_max</th>\n",
              "      <th>pressure</th>\n",
              "      <th>humidity</th>\n",
              "      <th>wind_speed</th>\n",
              "      <th>wind_deg</th>\n",
              "      <th>rain_1h</th>\n",
              "      <th>rain_3h</th>\n",
              "      <th>snow_3h</th>\n",
              "      <th>clouds_all</th>\n",
              "      <th>weather_id</th>\n",
              "      <th>weather_main</th>\n",
              "      <th>weather_description</th>\n",
              "      <th>weather_icon</th>\n",
              "    </tr>\n",
              "  </thead>\n",
              "  <tbody>\n",
              "    <tr>\n",
              "      <th>0</th>\n",
              "      <td>2015-01-01 00:00:00+01:00</td>\n",
              "      <td>Valencia</td>\n",
              "      <td>270.475</td>\n",
              "      <td>270.475</td>\n",
              "      <td>270.475</td>\n",
              "      <td>1001</td>\n",
              "      <td>77</td>\n",
              "      <td>1</td>\n",
              "      <td>62</td>\n",
              "      <td>0.0</td>\n",
              "      <td>0.0</td>\n",
              "      <td>0.0</td>\n",
              "      <td>0</td>\n",
              "      <td>800</td>\n",
              "      <td>clear</td>\n",
              "      <td>sky is clear</td>\n",
              "      <td>01n</td>\n",
              "    </tr>\n",
              "    <tr>\n",
              "      <th>1</th>\n",
              "      <td>2015-01-01 01:00:00+01:00</td>\n",
              "      <td>Valencia</td>\n",
              "      <td>270.475</td>\n",
              "      <td>270.475</td>\n",
              "      <td>270.475</td>\n",
              "      <td>1001</td>\n",
              "      <td>77</td>\n",
              "      <td>1</td>\n",
              "      <td>62</td>\n",
              "      <td>0.0</td>\n",
              "      <td>0.0</td>\n",
              "      <td>0.0</td>\n",
              "      <td>0</td>\n",
              "      <td>800</td>\n",
              "      <td>clear</td>\n",
              "      <td>sky is clear</td>\n",
              "      <td>01n</td>\n",
              "    </tr>\n",
              "    <tr>\n",
              "      <th>2</th>\n",
              "      <td>2015-01-01 02:00:00+01:00</td>\n",
              "      <td>Valencia</td>\n",
              "      <td>269.686</td>\n",
              "      <td>269.686</td>\n",
              "      <td>269.686</td>\n",
              "      <td>1002</td>\n",
              "      <td>78</td>\n",
              "      <td>0</td>\n",
              "      <td>23</td>\n",
              "      <td>0.0</td>\n",
              "      <td>0.0</td>\n",
              "      <td>0.0</td>\n",
              "      <td>0</td>\n",
              "      <td>800</td>\n",
              "      <td>clear</td>\n",
              "      <td>sky is clear</td>\n",
              "      <td>01n</td>\n",
              "    </tr>\n",
              "    <tr>\n",
              "      <th>3</th>\n",
              "      <td>2015-01-01 03:00:00+01:00</td>\n",
              "      <td>Valencia</td>\n",
              "      <td>269.686</td>\n",
              "      <td>269.686</td>\n",
              "      <td>269.686</td>\n",
              "      <td>1002</td>\n",
              "      <td>78</td>\n",
              "      <td>0</td>\n",
              "      <td>23</td>\n",
              "      <td>0.0</td>\n",
              "      <td>0.0</td>\n",
              "      <td>0.0</td>\n",
              "      <td>0</td>\n",
              "      <td>800</td>\n",
              "      <td>clear</td>\n",
              "      <td>sky is clear</td>\n",
              "      <td>01n</td>\n",
              "    </tr>\n",
              "    <tr>\n",
              "      <th>4</th>\n",
              "      <td>2015-01-01 04:00:00+01:00</td>\n",
              "      <td>Valencia</td>\n",
              "      <td>269.686</td>\n",
              "      <td>269.686</td>\n",
              "      <td>269.686</td>\n",
              "      <td>1002</td>\n",
              "      <td>78</td>\n",
              "      <td>0</td>\n",
              "      <td>23</td>\n",
              "      <td>0.0</td>\n",
              "      <td>0.0</td>\n",
              "      <td>0.0</td>\n",
              "      <td>0</td>\n",
              "      <td>800</td>\n",
              "      <td>clear</td>\n",
              "      <td>sky is clear</td>\n",
              "      <td>01n</td>\n",
              "    </tr>\n",
              "  </tbody>\n",
              "</table>\n",
              "</div>"
            ],
            "text/plain": [
              "                      dt_iso city_name  ...  weather_description  weather_icon\n",
              "0  2015-01-01 00:00:00+01:00  Valencia  ...         sky is clear           01n\n",
              "1  2015-01-01 01:00:00+01:00  Valencia  ...         sky is clear           01n\n",
              "2  2015-01-01 02:00:00+01:00  Valencia  ...         sky is clear           01n\n",
              "3  2015-01-01 03:00:00+01:00  Valencia  ...         sky is clear           01n\n",
              "4  2015-01-01 04:00:00+01:00  Valencia  ...         sky is clear           01n\n",
              "\n",
              "[5 rows x 17 columns]"
            ]
          },
          "metadata": {
            "tags": []
          },
          "execution_count": 252
        }
      ]
    },
    {
      "cell_type": "code",
      "metadata": {
        "trusted": true,
        "id": "2raJPxQcN6QP",
        "colab": {
          "base_uri": "https://localhost:8080/",
          "height": 317
        },
        "outputId": "58420b16-f147-4a68-ed73-71c165d42a6f"
      },
      "source": [
        "df_weather.describe()"
      ],
      "execution_count": 253,
      "outputs": [
        {
          "output_type": "execute_result",
          "data": {
            "text/html": [
              "<div>\n",
              "<style scoped>\n",
              "    .dataframe tbody tr th:only-of-type {\n",
              "        vertical-align: middle;\n",
              "    }\n",
              "\n",
              "    .dataframe tbody tr th {\n",
              "        vertical-align: top;\n",
              "    }\n",
              "\n",
              "    .dataframe thead th {\n",
              "        text-align: right;\n",
              "    }\n",
              "</style>\n",
              "<table border=\"1\" class=\"dataframe\">\n",
              "  <thead>\n",
              "    <tr style=\"text-align: right;\">\n",
              "      <th></th>\n",
              "      <th>temp</th>\n",
              "      <th>temp_min</th>\n",
              "      <th>temp_max</th>\n",
              "      <th>pressure</th>\n",
              "      <th>humidity</th>\n",
              "      <th>wind_speed</th>\n",
              "      <th>wind_deg</th>\n",
              "      <th>rain_1h</th>\n",
              "      <th>rain_3h</th>\n",
              "      <th>snow_3h</th>\n",
              "      <th>clouds_all</th>\n",
              "      <th>weather_id</th>\n",
              "    </tr>\n",
              "  </thead>\n",
              "  <tbody>\n",
              "    <tr>\n",
              "      <th>count</th>\n",
              "      <td>178396.000000</td>\n",
              "      <td>178396.000000</td>\n",
              "      <td>178396.000000</td>\n",
              "      <td>1.783960e+05</td>\n",
              "      <td>178396.000000</td>\n",
              "      <td>178396.00000</td>\n",
              "      <td>178396.000000</td>\n",
              "      <td>178396.000000</td>\n",
              "      <td>178396.000000</td>\n",
              "      <td>178396.000000</td>\n",
              "      <td>178396.000000</td>\n",
              "      <td>178396.000000</td>\n",
              "    </tr>\n",
              "    <tr>\n",
              "      <th>mean</th>\n",
              "      <td>289.618605</td>\n",
              "      <td>288.330442</td>\n",
              "      <td>291.091267</td>\n",
              "      <td>1.069261e+03</td>\n",
              "      <td>68.423457</td>\n",
              "      <td>2.47056</td>\n",
              "      <td>166.591190</td>\n",
              "      <td>0.075492</td>\n",
              "      <td>0.000380</td>\n",
              "      <td>0.004763</td>\n",
              "      <td>25.073292</td>\n",
              "      <td>759.831902</td>\n",
              "    </tr>\n",
              "    <tr>\n",
              "      <th>std</th>\n",
              "      <td>8.026199</td>\n",
              "      <td>7.955491</td>\n",
              "      <td>8.612454</td>\n",
              "      <td>5.969632e+03</td>\n",
              "      <td>21.902888</td>\n",
              "      <td>2.09591</td>\n",
              "      <td>116.611927</td>\n",
              "      <td>0.398847</td>\n",
              "      <td>0.007288</td>\n",
              "      <td>0.222604</td>\n",
              "      <td>30.774129</td>\n",
              "      <td>108.733223</td>\n",
              "    </tr>\n",
              "    <tr>\n",
              "      <th>min</th>\n",
              "      <td>262.240000</td>\n",
              "      <td>262.240000</td>\n",
              "      <td>262.240000</td>\n",
              "      <td>0.000000e+00</td>\n",
              "      <td>0.000000</td>\n",
              "      <td>0.00000</td>\n",
              "      <td>0.000000</td>\n",
              "      <td>0.000000</td>\n",
              "      <td>0.000000</td>\n",
              "      <td>0.000000</td>\n",
              "      <td>0.000000</td>\n",
              "      <td>200.000000</td>\n",
              "    </tr>\n",
              "    <tr>\n",
              "      <th>25%</th>\n",
              "      <td>283.670000</td>\n",
              "      <td>282.483602</td>\n",
              "      <td>284.650000</td>\n",
              "      <td>1.013000e+03</td>\n",
              "      <td>53.000000</td>\n",
              "      <td>1.00000</td>\n",
              "      <td>55.000000</td>\n",
              "      <td>0.000000</td>\n",
              "      <td>0.000000</td>\n",
              "      <td>0.000000</td>\n",
              "      <td>0.000000</td>\n",
              "      <td>800.000000</td>\n",
              "    </tr>\n",
              "    <tr>\n",
              "      <th>50%</th>\n",
              "      <td>289.150000</td>\n",
              "      <td>288.150000</td>\n",
              "      <td>290.150000</td>\n",
              "      <td>1.018000e+03</td>\n",
              "      <td>72.000000</td>\n",
              "      <td>2.00000</td>\n",
              "      <td>177.000000</td>\n",
              "      <td>0.000000</td>\n",
              "      <td>0.000000</td>\n",
              "      <td>0.000000</td>\n",
              "      <td>20.000000</td>\n",
              "      <td>800.000000</td>\n",
              "    </tr>\n",
              "    <tr>\n",
              "      <th>75%</th>\n",
              "      <td>295.150000</td>\n",
              "      <td>293.730125</td>\n",
              "      <td>297.150000</td>\n",
              "      <td>1.022000e+03</td>\n",
              "      <td>87.000000</td>\n",
              "      <td>4.00000</td>\n",
              "      <td>270.000000</td>\n",
              "      <td>0.000000</td>\n",
              "      <td>0.000000</td>\n",
              "      <td>0.000000</td>\n",
              "      <td>40.000000</td>\n",
              "      <td>801.000000</td>\n",
              "    </tr>\n",
              "    <tr>\n",
              "      <th>max</th>\n",
              "      <td>315.600000</td>\n",
              "      <td>315.150000</td>\n",
              "      <td>321.150000</td>\n",
              "      <td>1.008371e+06</td>\n",
              "      <td>100.000000</td>\n",
              "      <td>133.00000</td>\n",
              "      <td>360.000000</td>\n",
              "      <td>12.000000</td>\n",
              "      <td>2.315000</td>\n",
              "      <td>21.500000</td>\n",
              "      <td>100.000000</td>\n",
              "      <td>804.000000</td>\n",
              "    </tr>\n",
              "  </tbody>\n",
              "</table>\n",
              "</div>"
            ],
            "text/plain": [
              "                temp       temp_min  ...     clouds_all     weather_id\n",
              "count  178396.000000  178396.000000  ...  178396.000000  178396.000000\n",
              "mean      289.618605     288.330442  ...      25.073292     759.831902\n",
              "std         8.026199       7.955491  ...      30.774129     108.733223\n",
              "min       262.240000     262.240000  ...       0.000000     200.000000\n",
              "25%       283.670000     282.483602  ...       0.000000     800.000000\n",
              "50%       289.150000     288.150000  ...      20.000000     800.000000\n",
              "75%       295.150000     293.730125  ...      40.000000     801.000000\n",
              "max       315.600000     315.150000  ...     100.000000     804.000000\n",
              "\n",
              "[8 rows x 12 columns]"
            ]
          },
          "metadata": {
            "tags": []
          },
          "execution_count": 253
        }
      ]
    },
    {
      "cell_type": "code",
      "metadata": {
        "trusted": true,
        "id": "y-YoeORGN6QZ",
        "colab": {
          "base_uri": "https://localhost:8080/"
        },
        "outputId": "de085489-fd19-4b31-eef5-55936a7be4c5"
      },
      "source": [
        "# Print the type of each variable in df_weather\n",
        "df_weather.info()"
      ],
      "execution_count": 254,
      "outputs": [
        {
          "output_type": "stream",
          "text": [
            "<class 'pandas.core.frame.DataFrame'>\n",
            "RangeIndex: 178396 entries, 0 to 178395\n",
            "Data columns (total 17 columns):\n",
            " #   Column               Non-Null Count   Dtype  \n",
            "---  ------               --------------   -----  \n",
            " 0   dt_iso               178396 non-null  object \n",
            " 1   city_name            178396 non-null  object \n",
            " 2   temp                 178396 non-null  float64\n",
            " 3   temp_min             178396 non-null  float64\n",
            " 4   temp_max             178396 non-null  float64\n",
            " 5   pressure             178396 non-null  int64  \n",
            " 6   humidity             178396 non-null  int64  \n",
            " 7   wind_speed           178396 non-null  int64  \n",
            " 8   wind_deg             178396 non-null  int64  \n",
            " 9   rain_1h              178396 non-null  float64\n",
            " 10  rain_3h              178396 non-null  float64\n",
            " 11  snow_3h              178396 non-null  float64\n",
            " 12  clouds_all           178396 non-null  int64  \n",
            " 13  weather_id           178396 non-null  int64  \n",
            " 14  weather_main         178396 non-null  object \n",
            " 15  weather_description  178396 non-null  object \n",
            " 16  weather_icon         178396 non-null  object \n",
            "dtypes: float64(6), int64(6), object(5)\n",
            "memory usage: 23.1+ MB\n"
          ],
          "name": "stdout"
        }
      ]
    },
    {
      "cell_type": "code",
      "metadata": {
        "trusted": true,
        "id": "hM3H1edON6Qg"
      },
      "source": [
        "def df_convert_dtypes(df, convert_from, convert_to):\n",
        "    cols = df.select_dtypes(include=[convert_from]).columns\n",
        "    for col in cols:\n",
        "        df[col] = df[col].values.astype(convert_to)\n",
        "    return df"
      ],
      "execution_count": 255,
      "outputs": []
    },
    {
      "cell_type": "code",
      "metadata": {
        "trusted": true,
        "id": "GXRO5UpgN6Qo"
      },
      "source": [
        "# Convert columns with int64 type values to float64 type\n",
        "\n",
        "df_weather = df_convert_dtypes(df_weather, np.int64, np.float64)"
      ],
      "execution_count": 256,
      "outputs": []
    },
    {
      "cell_type": "code",
      "metadata": {
        "trusted": true,
        "id": "932E3hJWN6Qx"
      },
      "source": [
        "# Convert dt_iso to datetime type, rename it and set it as index same like above \n",
        "\n",
        "df_weather['time'] = pd.to_datetime(df_weather['dt_iso'], utc=True, infer_datetime_format=True)\n",
        "df_weather = df_weather.drop(['dt_iso'], axis=1)\n",
        "df_weather = df_weather.set_index('time')"
      ],
      "execution_count": 257,
      "outputs": []
    },
    {
      "cell_type": "code",
      "metadata": {
        "trusted": true,
        "id": "yyg8gkHwN6Q8",
        "colab": {
          "base_uri": "https://localhost:8080/",
          "height": 235
        },
        "outputId": "b5717220-25b9-4768-b760-244a0b3fe84b"
      },
      "source": [
        "# doing groupby for each city\n",
        "g=df_weather.groupby('city_name')\n",
        "\n",
        "mean_weather_by_city = g.mean()\n",
        "mean_weather_by_city"
      ],
      "execution_count": 258,
      "outputs": [
        {
          "output_type": "execute_result",
          "data": {
            "text/html": [
              "<div>\n",
              "<style scoped>\n",
              "    .dataframe tbody tr th:only-of-type {\n",
              "        vertical-align: middle;\n",
              "    }\n",
              "\n",
              "    .dataframe tbody tr th {\n",
              "        vertical-align: top;\n",
              "    }\n",
              "\n",
              "    .dataframe thead th {\n",
              "        text-align: right;\n",
              "    }\n",
              "</style>\n",
              "<table border=\"1\" class=\"dataframe\">\n",
              "  <thead>\n",
              "    <tr style=\"text-align: right;\">\n",
              "      <th></th>\n",
              "      <th>temp</th>\n",
              "      <th>temp_min</th>\n",
              "      <th>temp_max</th>\n",
              "      <th>pressure</th>\n",
              "      <th>humidity</th>\n",
              "      <th>wind_speed</th>\n",
              "      <th>wind_deg</th>\n",
              "      <th>rain_1h</th>\n",
              "      <th>rain_3h</th>\n",
              "      <th>snow_3h</th>\n",
              "      <th>clouds_all</th>\n",
              "      <th>weather_id</th>\n",
              "    </tr>\n",
              "    <tr>\n",
              "      <th>city_name</th>\n",
              "      <th></th>\n",
              "      <th></th>\n",
              "      <th></th>\n",
              "      <th></th>\n",
              "      <th></th>\n",
              "      <th></th>\n",
              "      <th></th>\n",
              "      <th></th>\n",
              "      <th></th>\n",
              "      <th></th>\n",
              "      <th></th>\n",
              "      <th></th>\n",
              "    </tr>\n",
              "  </thead>\n",
              "  <tbody>\n",
              "    <tr>\n",
              "      <th>Barcelona</th>\n",
              "      <td>289.848248</td>\n",
              "      <td>288.594704</td>\n",
              "      <td>291.021987</td>\n",
              "      <td>1284.010486</td>\n",
              "      <td>73.994221</td>\n",
              "      <td>2.786588</td>\n",
              "      <td>187.188043</td>\n",
              "      <td>0.117079</td>\n",
              "      <td>0.000327</td>\n",
              "      <td>0.000000</td>\n",
              "      <td>23.229648</td>\n",
              "      <td>760.917465</td>\n",
              "    </tr>\n",
              "    <tr>\n",
              "      <th>Bilbao</th>\n",
              "      <td>286.378489</td>\n",
              "      <td>284.916661</td>\n",
              "      <td>288.036687</td>\n",
              "      <td>1017.567439</td>\n",
              "      <td>79.089455</td>\n",
              "      <td>1.957470</td>\n",
              "      <td>159.883536</td>\n",
              "      <td>0.123493</td>\n",
              "      <td>0.001034</td>\n",
              "      <td>0.023455</td>\n",
              "      <td>43.960697</td>\n",
              "      <td>723.943228</td>\n",
              "    </tr>\n",
              "    <tr>\n",
              "      <th>Madrid</th>\n",
              "      <td>288.061071</td>\n",
              "      <td>286.824877</td>\n",
              "      <td>289.155600</td>\n",
              "      <td>1011.838448</td>\n",
              "      <td>59.776932</td>\n",
              "      <td>2.441696</td>\n",
              "      <td>173.293159</td>\n",
              "      <td>0.055083</td>\n",
              "      <td>0.000129</td>\n",
              "      <td>0.000029</td>\n",
              "      <td>22.397028</td>\n",
              "      <td>762.260264</td>\n",
              "    </tr>\n",
              "    <tr>\n",
              "      <th>Seville</th>\n",
              "      <td>293.105431</td>\n",
              "      <td>291.184103</td>\n",
              "      <td>295.962431</td>\n",
              "      <td>1018.504711</td>\n",
              "      <td>64.140732</td>\n",
              "      <td>2.483787</td>\n",
              "      <td>151.757179</td>\n",
              "      <td>0.045392</td>\n",
              "      <td>0.000180</td>\n",
              "      <td>0.000000</td>\n",
              "      <td>14.748770</td>\n",
              "      <td>771.409849</td>\n",
              "    </tr>\n",
              "    <tr>\n",
              "      <th>Valencia</th>\n",
              "      <td>290.780780</td>\n",
              "      <td>290.222277</td>\n",
              "      <td>291.355025</td>\n",
              "      <td>1015.973794</td>\n",
              "      <td>65.145113</td>\n",
              "      <td>2.692815</td>\n",
              "      <td>160.753820</td>\n",
              "      <td>0.035924</td>\n",
              "      <td>0.000226</td>\n",
              "      <td>0.000154</td>\n",
              "      <td>20.820999</td>\n",
              "      <td>781.228283</td>\n",
              "    </tr>\n",
              "  </tbody>\n",
              "</table>\n",
              "</div>"
            ],
            "text/plain": [
              "                  temp    temp_min  ...  clouds_all  weather_id\n",
              "city_name                           ...                        \n",
              " Barcelona  289.848248  288.594704  ...   23.229648  760.917465\n",
              "Bilbao      286.378489  284.916661  ...   43.960697  723.943228\n",
              "Madrid      288.061071  286.824877  ...   22.397028  762.260264\n",
              "Seville     293.105431  291.184103  ...   14.748770  771.409849\n",
              "Valencia    290.780780  290.222277  ...   20.820999  781.228283\n",
              "\n",
              "[5 rows x 12 columns]"
            ]
          },
          "metadata": {
            "tags": []
          },
          "execution_count": 258
        }
      ]
    },
    {
      "cell_type": "code",
      "metadata": {
        "trusted": true,
        "id": "Q053JIXdN6RC",
        "colab": {
          "base_uri": "https://localhost:8080/"
        },
        "outputId": "64a8e50a-0b24-41e8-f8b7-ae8e69f8647e"
      },
      "source": [
        "# Find NaNs\n",
        "\n",
        "print('There are {} missing values or NaNs in df_weather.' .format(df_weather.isnull().values.sum()))\n",
        "\n",
        "#Find duplicates \n",
        "\n",
        "print('There are {} duplicate rows in df_weather based on all columns.'.format(df_weather.duplicated(keep='first').sum()))"
      ],
      "execution_count": 259,
      "outputs": [
        {
          "output_type": "stream",
          "text": [
            "There are 0 missing values or NaNs in df_weather.\n",
            "There are 8622 duplicate rows in df_weather based on all columns.\n"
          ],
          "name": "stdout"
        }
      ]
    },
    {
      "cell_type": "markdown",
      "metadata": {
        "id": "38irWy_db9RT"
      },
      "source": [
        "But here duplicates means it will also return the rows with exact same values. So we need to consider the index also. "
      ]
    },
    {
      "cell_type": "code",
      "metadata": {
        "trusted": true,
        "id": "9DClvZBXN6RO",
        "colab": {
          "base_uri": "https://localhost:8080/"
        },
        "outputId": "d11e81eb-0d9c-4317-f974-6a36c45ce92a"
      },
      "source": [
        "# Display the number of rows in each dataframe\n",
        "\n",
        "print('There are {} observations in df_energy.'.format(df_energy.shape[0]))\n",
        "\n",
        "cities = df_weather['city_name'].unique()\n",
        "grouped_weather = df_weather.groupby('city_name')\n",
        "\n",
        "for city in cities:\n",
        "    print('There are {} observations in df_weather'\n",
        "          .format(grouped_weather.get_group('{}'.format(city)).shape[0]), \n",
        "          'about city: {}.'.format(city))"
      ],
      "execution_count": 260,
      "outputs": [
        {
          "output_type": "stream",
          "text": [
            "There are 35064 observations in df_energy.\n",
            "There are 35145 observations in df_weather about city: Valencia.\n",
            "There are 36267 observations in df_weather about city: Madrid.\n",
            "There are 35951 observations in df_weather about city: Bilbao.\n",
            "There are 35476 observations in df_weather about city:  Barcelona.\n",
            "There are 35557 observations in df_weather about city: Seville.\n"
          ],
          "name": "stdout"
        }
      ]
    },
    {
      "cell_type": "code",
      "metadata": {
        "trusted": true,
        "id": "BZ6oilHGN6RW"
      },
      "source": [
        "# Create df_weather_2 and drop duplicate rows in df_weather\n",
        "\n",
        "df_weather = df_weather.reset_index().drop_duplicates(subset=['time', 'city_name'],keep='first').set_index('time')"
      ],
      "execution_count": 261,
      "outputs": []
    },
    {
      "cell_type": "code",
      "metadata": {
        "trusted": true,
        "id": "I2qIZm4WN6Rc",
        "colab": {
          "base_uri": "https://localhost:8080/"
        },
        "outputId": "db6f8fd6-8311-41fb-aa3f-ab093cc56a02"
      },
      "source": [
        "# Display the number of rows in each dataframe\n",
        "\n",
        "print('There are {} observations in df_energy.'.format(df_energy.shape[0]))\n",
        "\n",
        "grouped_weather = df_weather.groupby('city_name')\n",
        "\n",
        "for city in cities:\n",
        "    print('There are {} observations in df_weather'\n",
        "          .format(grouped_weather.get_group('{}'.format(city)).shape[0]), \n",
        "          'about city: {}.'.format(city))"
      ],
      "execution_count": 262,
      "outputs": [
        {
          "output_type": "stream",
          "text": [
            "There are 35064 observations in df_energy.\n",
            "There are 35064 observations in df_weather about city: Valencia.\n",
            "There are 35064 observations in df_weather about city: Madrid.\n",
            "There are 35064 observations in df_weather about city: Bilbao.\n",
            "There are 35064 observations in df_weather about city:  Barcelona.\n",
            "There are 35064 observations in df_weather about city: Seville.\n"
          ],
          "name": "stdout"
        }
      ]
    },
    {
      "cell_type": "code",
      "metadata": {
        "trusted": true,
        "id": "rZj6uV9aN6Ri",
        "colab": {
          "base_uri": "https://localhost:8080/"
        },
        "outputId": "20b8832b-8c91-4f50-e6d8-4d3f5d413121"
      },
      "source": [
        "# Display all the unique values in the column 'weather_description'\n",
        "\n",
        "weather_description_unique = df_weather['weather_description'].unique()\n",
        "weather_description_unique"
      ],
      "execution_count": 263,
      "outputs": [
        {
          "output_type": "execute_result",
          "data": {
            "text/plain": [
              "array(['sky is clear', 'few clouds', 'scattered clouds', 'broken clouds',\n",
              "       'overcast clouds', 'light rain', 'moderate rain',\n",
              "       'heavy intensity rain', 'mist', 'heavy intensity shower rain',\n",
              "       'shower rain', 'very heavy rain', 'thunderstorm with heavy rain',\n",
              "       'thunderstorm with light rain', 'proximity thunderstorm',\n",
              "       'thunderstorm', 'light intensity shower rain',\n",
              "       'light intensity drizzle', 'thunderstorm with rain', 'fog',\n",
              "       'smoke', 'drizzle', 'heavy intensity drizzle', 'haze',\n",
              "       'proximity shower rain', 'light snow', 'rain and snow',\n",
              "       'light rain and snow', 'snow', 'sleet', 'rain and drizzle',\n",
              "       'light intensity drizzle rain', 'light shower snow',\n",
              "       'proximity moderate rain', 'ragged shower rain', 'heavy snow',\n",
              "       'sand dust whirls', 'proximity drizzle', 'dust',\n",
              "       'light thunderstorm', 'squalls'], dtype=object)"
            ]
          },
          "metadata": {
            "tags": []
          },
          "execution_count": 263
        }
      ]
    },
    {
      "cell_type": "code",
      "metadata": {
        "trusted": true,
        "id": "qn3xB8koN6Ro",
        "colab": {
          "base_uri": "https://localhost:8080/"
        },
        "outputId": "11db5e7e-22f7-4223-8f1c-3dac281c6a9f"
      },
      "source": [
        "# Display all the unique values in the column 'weather_main'\n",
        "\n",
        "weather_main_unique = df_weather['weather_main'].unique()\n",
        "weather_main_unique"
      ],
      "execution_count": 264,
      "outputs": [
        {
          "output_type": "execute_result",
          "data": {
            "text/plain": [
              "array(['clear', 'clouds', 'rain', 'mist', 'thunderstorm', 'drizzle',\n",
              "       'fog', 'smoke', 'haze', 'snow', 'dust', 'squall'], dtype=object)"
            ]
          },
          "metadata": {
            "tags": []
          },
          "execution_count": 264
        }
      ]
    },
    {
      "cell_type": "code",
      "metadata": {
        "trusted": true,
        "id": "75lT8KO8N6Rv",
        "colab": {
          "base_uri": "https://localhost:8080/"
        },
        "outputId": "9dede7df-c44d-47d9-dc5a-f6fac63c013b"
      },
      "source": [
        "# Display all the unique values in the column 'weather_id'\n",
        "\n",
        "weather_id_unique = df_weather['weather_id'].unique()\n",
        "weather_id_unique"
      ],
      "execution_count": 265,
      "outputs": [
        {
          "output_type": "execute_result",
          "data": {
            "text/plain": [
              "array([800., 801., 802., 803., 804., 500., 501., 502., 701., 522., 521.,\n",
              "       503., 202., 200., 211., 520., 300., 201., 741., 711., 301., 302.,\n",
              "       721., 600., 616., 615., 601., 611., 311., 310., 620., 531., 602.,\n",
              "       731., 761., 210., 771.])"
            ]
          },
          "metadata": {
            "tags": []
          },
          "execution_count": 265
        }
      ]
    },
    {
      "cell_type": "code",
      "metadata": {
        "trusted": true,
        "id": "wuY0v8DVN6SC",
        "colab": {
          "base_uri": "https://localhost:8080/",
          "height": 450
        },
        "outputId": "3e26baeb-ce2b-4b68-9d70-dba2e4e7f3cc"
      },
      "source": [
        "# Drop columns with qualitative weather information\n",
        "df_weather = df_weather.drop(['weather_main', 'weather_id', 'weather_description', 'weather_icon'], axis=1)\n",
        "df_weather"
      ],
      "execution_count": 266,
      "outputs": [
        {
          "output_type": "execute_result",
          "data": {
            "text/html": [
              "<div>\n",
              "<style scoped>\n",
              "    .dataframe tbody tr th:only-of-type {\n",
              "        vertical-align: middle;\n",
              "    }\n",
              "\n",
              "    .dataframe tbody tr th {\n",
              "        vertical-align: top;\n",
              "    }\n",
              "\n",
              "    .dataframe thead th {\n",
              "        text-align: right;\n",
              "    }\n",
              "</style>\n",
              "<table border=\"1\" class=\"dataframe\">\n",
              "  <thead>\n",
              "    <tr style=\"text-align: right;\">\n",
              "      <th></th>\n",
              "      <th>city_name</th>\n",
              "      <th>temp</th>\n",
              "      <th>temp_min</th>\n",
              "      <th>temp_max</th>\n",
              "      <th>pressure</th>\n",
              "      <th>humidity</th>\n",
              "      <th>wind_speed</th>\n",
              "      <th>wind_deg</th>\n",
              "      <th>rain_1h</th>\n",
              "      <th>rain_3h</th>\n",
              "      <th>snow_3h</th>\n",
              "      <th>clouds_all</th>\n",
              "    </tr>\n",
              "    <tr>\n",
              "      <th>time</th>\n",
              "      <th></th>\n",
              "      <th></th>\n",
              "      <th></th>\n",
              "      <th></th>\n",
              "      <th></th>\n",
              "      <th></th>\n",
              "      <th></th>\n",
              "      <th></th>\n",
              "      <th></th>\n",
              "      <th></th>\n",
              "      <th></th>\n",
              "      <th></th>\n",
              "    </tr>\n",
              "  </thead>\n",
              "  <tbody>\n",
              "    <tr>\n",
              "      <th>2014-12-31 23:00:00+00:00</th>\n",
              "      <td>Valencia</td>\n",
              "      <td>270.475</td>\n",
              "      <td>270.475</td>\n",
              "      <td>270.475</td>\n",
              "      <td>1001.0</td>\n",
              "      <td>77.0</td>\n",
              "      <td>1.0</td>\n",
              "      <td>62.0</td>\n",
              "      <td>0.0</td>\n",
              "      <td>0.0</td>\n",
              "      <td>0.0</td>\n",
              "      <td>0.0</td>\n",
              "    </tr>\n",
              "    <tr>\n",
              "      <th>2015-01-01 00:00:00+00:00</th>\n",
              "      <td>Valencia</td>\n",
              "      <td>270.475</td>\n",
              "      <td>270.475</td>\n",
              "      <td>270.475</td>\n",
              "      <td>1001.0</td>\n",
              "      <td>77.0</td>\n",
              "      <td>1.0</td>\n",
              "      <td>62.0</td>\n",
              "      <td>0.0</td>\n",
              "      <td>0.0</td>\n",
              "      <td>0.0</td>\n",
              "      <td>0.0</td>\n",
              "    </tr>\n",
              "    <tr>\n",
              "      <th>2015-01-01 01:00:00+00:00</th>\n",
              "      <td>Valencia</td>\n",
              "      <td>269.686</td>\n",
              "      <td>269.686</td>\n",
              "      <td>269.686</td>\n",
              "      <td>1002.0</td>\n",
              "      <td>78.0</td>\n",
              "      <td>0.0</td>\n",
              "      <td>23.0</td>\n",
              "      <td>0.0</td>\n",
              "      <td>0.0</td>\n",
              "      <td>0.0</td>\n",
              "      <td>0.0</td>\n",
              "    </tr>\n",
              "    <tr>\n",
              "      <th>2015-01-01 02:00:00+00:00</th>\n",
              "      <td>Valencia</td>\n",
              "      <td>269.686</td>\n",
              "      <td>269.686</td>\n",
              "      <td>269.686</td>\n",
              "      <td>1002.0</td>\n",
              "      <td>78.0</td>\n",
              "      <td>0.0</td>\n",
              "      <td>23.0</td>\n",
              "      <td>0.0</td>\n",
              "      <td>0.0</td>\n",
              "      <td>0.0</td>\n",
              "      <td>0.0</td>\n",
              "    </tr>\n",
              "    <tr>\n",
              "      <th>2015-01-01 03:00:00+00:00</th>\n",
              "      <td>Valencia</td>\n",
              "      <td>269.686</td>\n",
              "      <td>269.686</td>\n",
              "      <td>269.686</td>\n",
              "      <td>1002.0</td>\n",
              "      <td>78.0</td>\n",
              "      <td>0.0</td>\n",
              "      <td>23.0</td>\n",
              "      <td>0.0</td>\n",
              "      <td>0.0</td>\n",
              "      <td>0.0</td>\n",
              "      <td>0.0</td>\n",
              "    </tr>\n",
              "    <tr>\n",
              "      <th>...</th>\n",
              "      <td>...</td>\n",
              "      <td>...</td>\n",
              "      <td>...</td>\n",
              "      <td>...</td>\n",
              "      <td>...</td>\n",
              "      <td>...</td>\n",
              "      <td>...</td>\n",
              "      <td>...</td>\n",
              "      <td>...</td>\n",
              "      <td>...</td>\n",
              "      <td>...</td>\n",
              "      <td>...</td>\n",
              "    </tr>\n",
              "    <tr>\n",
              "      <th>2018-12-31 18:00:00+00:00</th>\n",
              "      <td>Seville</td>\n",
              "      <td>287.760</td>\n",
              "      <td>287.150</td>\n",
              "      <td>288.150</td>\n",
              "      <td>1028.0</td>\n",
              "      <td>54.0</td>\n",
              "      <td>3.0</td>\n",
              "      <td>30.0</td>\n",
              "      <td>0.0</td>\n",
              "      <td>0.0</td>\n",
              "      <td>0.0</td>\n",
              "      <td>0.0</td>\n",
              "    </tr>\n",
              "    <tr>\n",
              "      <th>2018-12-31 19:00:00+00:00</th>\n",
              "      <td>Seville</td>\n",
              "      <td>285.760</td>\n",
              "      <td>285.150</td>\n",
              "      <td>286.150</td>\n",
              "      <td>1029.0</td>\n",
              "      <td>62.0</td>\n",
              "      <td>3.0</td>\n",
              "      <td>30.0</td>\n",
              "      <td>0.0</td>\n",
              "      <td>0.0</td>\n",
              "      <td>0.0</td>\n",
              "      <td>0.0</td>\n",
              "    </tr>\n",
              "    <tr>\n",
              "      <th>2018-12-31 20:00:00+00:00</th>\n",
              "      <td>Seville</td>\n",
              "      <td>285.150</td>\n",
              "      <td>285.150</td>\n",
              "      <td>285.150</td>\n",
              "      <td>1028.0</td>\n",
              "      <td>58.0</td>\n",
              "      <td>4.0</td>\n",
              "      <td>50.0</td>\n",
              "      <td>0.0</td>\n",
              "      <td>0.0</td>\n",
              "      <td>0.0</td>\n",
              "      <td>0.0</td>\n",
              "    </tr>\n",
              "    <tr>\n",
              "      <th>2018-12-31 21:00:00+00:00</th>\n",
              "      <td>Seville</td>\n",
              "      <td>284.150</td>\n",
              "      <td>284.150</td>\n",
              "      <td>284.150</td>\n",
              "      <td>1029.0</td>\n",
              "      <td>57.0</td>\n",
              "      <td>4.0</td>\n",
              "      <td>60.0</td>\n",
              "      <td>0.0</td>\n",
              "      <td>0.0</td>\n",
              "      <td>0.0</td>\n",
              "      <td>0.0</td>\n",
              "    </tr>\n",
              "    <tr>\n",
              "      <th>2018-12-31 22:00:00+00:00</th>\n",
              "      <td>Seville</td>\n",
              "      <td>283.970</td>\n",
              "      <td>282.150</td>\n",
              "      <td>285.150</td>\n",
              "      <td>1029.0</td>\n",
              "      <td>70.0</td>\n",
              "      <td>3.0</td>\n",
              "      <td>50.0</td>\n",
              "      <td>0.0</td>\n",
              "      <td>0.0</td>\n",
              "      <td>0.0</td>\n",
              "      <td>0.0</td>\n",
              "    </tr>\n",
              "  </tbody>\n",
              "</table>\n",
              "<p>175320 rows × 12 columns</p>\n",
              "</div>"
            ],
            "text/plain": [
              "                          city_name     temp  ...  snow_3h  clouds_all\n",
              "time                                          ...                     \n",
              "2014-12-31 23:00:00+00:00  Valencia  270.475  ...      0.0         0.0\n",
              "2015-01-01 00:00:00+00:00  Valencia  270.475  ...      0.0         0.0\n",
              "2015-01-01 01:00:00+00:00  Valencia  269.686  ...      0.0         0.0\n",
              "2015-01-01 02:00:00+00:00  Valencia  269.686  ...      0.0         0.0\n",
              "2015-01-01 03:00:00+00:00  Valencia  269.686  ...      0.0         0.0\n",
              "...                             ...      ...  ...      ...         ...\n",
              "2018-12-31 18:00:00+00:00   Seville  287.760  ...      0.0         0.0\n",
              "2018-12-31 19:00:00+00:00   Seville  285.760  ...      0.0         0.0\n",
              "2018-12-31 20:00:00+00:00   Seville  285.150  ...      0.0         0.0\n",
              "2018-12-31 21:00:00+00:00   Seville  284.150  ...      0.0         0.0\n",
              "2018-12-31 22:00:00+00:00   Seville  283.970  ...      0.0         0.0\n",
              "\n",
              "[175320 rows x 12 columns]"
            ]
          },
          "metadata": {
            "tags": []
          },
          "execution_count": 266
        }
      ]
    },
    {
      "cell_type": "code",
      "metadata": {
        "trusted": true,
        "id": "SHHYGF7UN6Sa",
        "colab": {
          "base_uri": "https://localhost:8080/"
        },
        "outputId": "61c99146-5ef6-479d-b2c4-cb83ad881b11"
      },
      "source": [
        "# Display the number of duplicates in df_weather\n",
        "\n",
        "temp_weather = df_weather.reset_index().duplicated(subset=['time', 'city_name'], keep='first').sum()\n",
        "print('There are {} duplicate rows in df_weather based on all columns except \"time\" and \"city_name\".'.format(temp_weather))"
      ],
      "execution_count": 267,
      "outputs": [
        {
          "output_type": "stream",
          "text": [
            "There are 0 duplicate rows in df_weather based on all columns except \"time\" and \"city_name\".\n"
          ],
          "name": "stdout"
        }
      ]
    },
    {
      "cell_type": "code",
      "metadata": {
        "trusted": true,
        "id": "n3eQLjkZN6Sk",
        "colab": {
          "base_uri": "https://localhost:8080/",
          "height": 279
        },
        "outputId": "8842eaa4-8911-45c1-868f-1a6f9bdc9345"
      },
      "source": [
        "# Check for outliers in 'pressure' column\n",
        "\n",
        "sns.boxplot(x=df_weather['pressure'])\n",
        "plt.show()"
      ],
      "execution_count": 268,
      "outputs": [
        {
          "output_type": "display_data",
          "data": {
            "image/png": "[encoded data removed]",
            "text/plain": [
              "<Figure size 432x288 with 1 Axes>"
            ]
          },
          "metadata": {
            "tags": [],
            "needs_background": "light"
          }
        }
      ]
    },
    {
      "cell_type": "code",
      "metadata": {
        "trusted": true,
        "id": "9kb3mAFZN6Sq"
      },
      "source": [
        "# Replace outliers in 'pressure' with NaNs\n",
        "\n",
        "df_weather.loc[df_weather.pressure > 1051, 'pressure'] = np.nan\n",
        "df_weather.loc[df_weather.pressure < 931, 'pressure'] = np.nan"
      ],
      "execution_count": 269,
      "outputs": []
    },
    {
      "cell_type": "code",
      "metadata": {
        "trusted": true,
        "id": "2_ox98yEN6Sx",
        "colab": {
          "base_uri": "https://localhost:8080/",
          "height": 279
        },
        "outputId": "a35c4b94-c344-4cab-8cb8-e4aece414198"
      },
      "source": [
        "# Check for outliers in 'pressure' column again\n",
        "\n",
        "sns.boxplot(x=df_weather['pressure'])\n",
        "plt.show()"
      ],
      "execution_count": 270,
      "outputs": [
        {
          "output_type": "display_data",
          "data": {
            "image/png": "[encoded data removed]",
            "text/plain": [
              "<Figure size 432x288 with 1 Axes>"
            ]
          },
          "metadata": {
            "tags": [],
            "needs_background": "light"
          }
        }
      ]
    },
    {
      "cell_type": "code",
      "metadata": {
        "trusted": true,
        "id": "usd3YOG0N6S7",
        "colab": {
          "base_uri": "https://localhost:8080/",
          "height": 280
        },
        "outputId": "a9882fc6-5704-40f9-b88c-85dd387e3e35"
      },
      "source": [
        "# Check for outliers in 'wind_speed' column\n",
        "sns.boxplot(x=df_weather['wind_speed'])\n",
        "plt.show()"
      ],
      "execution_count": 271,
      "outputs": [
        {
          "output_type": "display_data",
          "data": {
            "image/png": "[encoded data removed]",
            "text/plain": [
              "<Figure size 432x288 with 1 Axes>"
            ]
          },
          "metadata": {
            "tags": [],
            "needs_background": "light"
          }
        }
      ]
    },
    {
      "cell_type": "code",
      "metadata": {
        "trusted": true,
        "id": "JFTxTkaNN6TI"
      },
      "source": [
        "# Replace outliers in 'wind_speed' with NaNs\n",
        "\n",
        "df_weather.loc[df_weather.wind_speed > 50, 'wind_speed'] = np.nan"
      ],
      "execution_count": 272,
      "outputs": []
    },
    {
      "cell_type": "code",
      "metadata": {
        "trusted": true,
        "id": "HA5GGBMrN6TT",
        "colab": {
          "base_uri": "https://localhost:8080/",
          "height": 280
        },
        "outputId": "90afffbd-603c-4c51-8766-21c8b6f51b75"
      },
      "source": [
        "# Check for outliers in 'wind_speed' column again\n",
        "\n",
        "sns.boxplot(x=df_weather['wind_speed'])\n",
        "plt.show()"
      ],
      "execution_count": 273,
      "outputs": [
        {
          "output_type": "display_data",
          "data": {
            "image/png": "[encoded data removed]",
            "text/plain": [
              "<Figure size 432x288 with 1 Axes>"
            ]
          },
          "metadata": {
            "tags": [],
            "needs_background": "light"
          }
        }
      ]
    },
    {
      "cell_type": "code",
      "metadata": {
        "trusted": true,
        "id": "1lLQFWPQN6Td"
      },
      "source": [
        "# Fill null values using interpolation\n",
        "\n",
        "df_weather.interpolate(method='linear', limit_direction='forward', inplace=True, axis=0)"
      ],
      "execution_count": 274,
      "outputs": []
    },
    {
      "cell_type": "markdown",
      "metadata": {
        "id": "nabQSVfmgePE"
      },
      "source": [
        "We have our two data frames. We can now merge our data frames. "
      ]
    },
    {
      "cell_type": "code",
      "metadata": {
        "trusted": true,
        "id": "t35d7DLmN6Tk"
      },
      "source": [
        "# Split the df_weather into 5 dataframes (one for each city)\n",
        "\n",
        "df_1, df_2, df_3, df_4, df_5 = [x for _, x in df_weather.groupby('city_name')]\n",
        "dfs = [df_1, df_2, df_3, df_4, df_5]"
      ],
      "execution_count": 275,
      "outputs": []
    },
    {
      "cell_type": "code",
      "metadata": {
        "trusted": true,
        "id": "ke69FmIlN6Tq",
        "colab": {
          "base_uri": "https://localhost:8080/"
        },
        "outputId": "ee790026-1f2f-415c-f68f-442bbd44092b"
      },
      "source": [
        "# Merge all dataframes into the final dataframe\n",
        "\n",
        "df_final = df_energy\n",
        "\n",
        "for df in dfs:\n",
        "    city = df['city_name'].unique()\n",
        "    city_str = str(city).replace(\"'\", \"\").replace('[', '').replace(']', '').replace(' ', '')\n",
        "    df = df.add_suffix('_{}'.format(city_str))\n",
        "    df_final = df_final.merge(df, on=['time'], how='outer')\n",
        "    df_final = df_final.drop('city_name_{}'.format(city_str), axis=1)\n",
        "    \n",
        "df_final.columns"
      ],
      "execution_count": 276,
      "outputs": [
        {
          "output_type": "execute_result",
          "data": {
            "text/plain": [
              "Index(['generation biomass', 'generation fossil brown coal/lignite',\n",
              "       'generation fossil gas', 'generation fossil hard coal',\n",
              "       'generation fossil oil', 'generation hydro pumped storage consumption',\n",
              "       'generation hydro run-of-river and poundage',\n",
              "       'generation hydro water reservoir', 'generation nuclear',\n",
              "       'generation other', 'generation other renewable', 'generation solar',\n",
              "       'generation waste', 'generation wind onshore', 'total load actual',\n",
              "       'price day ahead', 'price actual', 'temp_Barcelona',\n",
              "       'temp_min_Barcelona', 'temp_max_Barcelona', 'pressure_Barcelona',\n",
              "       'humidity_Barcelona', 'wind_speed_Barcelona', 'wind_deg_Barcelona',\n",
              "       'rain_1h_Barcelona', 'rain_3h_Barcelona', 'snow_3h_Barcelona',\n",
              "       'clouds_all_Barcelona', 'temp_Bilbao', 'temp_min_Bilbao',\n",
              "       'temp_max_Bilbao', 'pressure_Bilbao', 'humidity_Bilbao',\n",
              "       'wind_speed_Bilbao', 'wind_deg_Bilbao', 'rain_1h_Bilbao',\n",
              "       'rain_3h_Bilbao', 'snow_3h_Bilbao', 'clouds_all_Bilbao', 'temp_Madrid',\n",
              "       'temp_min_Madrid', 'temp_max_Madrid', 'pressure_Madrid',\n",
              "       'humidity_Madrid', 'wind_speed_Madrid', 'wind_deg_Madrid',\n",
              "       'rain_1h_Madrid', 'rain_3h_Madrid', 'snow_3h_Madrid',\n",
              "       'clouds_all_Madrid', 'temp_Seville', 'temp_min_Seville',\n",
              "       'temp_max_Seville', 'pressure_Seville', 'humidity_Seville',\n",
              "       'wind_speed_Seville', 'wind_deg_Seville', 'rain_1h_Seville',\n",
              "       'rain_3h_Seville', 'snow_3h_Seville', 'clouds_all_Seville',\n",
              "       'temp_Valencia', 'temp_min_Valencia', 'temp_max_Valencia',\n",
              "       'pressure_Valencia', 'humidity_Valencia', 'wind_speed_Valencia',\n",
              "       'wind_deg_Valencia', 'rain_1h_Valencia', 'rain_3h_Valencia',\n",
              "       'snow_3h_Valencia', 'clouds_all_Valencia'],\n",
              "      dtype='object')"
            ]
          },
          "metadata": {
            "tags": []
          },
          "execution_count": 276
        }
      ]
    },
    {
      "cell_type": "code",
      "metadata": {
        "trusted": true,
        "id": "5aUQeZZGN6Tz",
        "colab": {
          "base_uri": "https://localhost:8080/"
        },
        "outputId": "231be174-2afb-4766-f0cb-fb1baa72fd8c"
      },
      "source": [
        "# Display the number of NaNs and duplicates in the final dataframe\n",
        "\n",
        "print('There are {} missing values or NaNs in df_final.'.format(df_final.isnull().values.sum()))\n",
        "\n",
        "print('\\nThere are {} duplicate rows in df_energy based on all columns.'.format(df_final.duplicated(keep='first').sum()))"
      ],
      "execution_count": 277,
      "outputs": [
        {
          "output_type": "stream",
          "text": [
            "There are 0 missing values or NaNs in df_final.\n",
            "\n",
            "There are 0 duplicate rows in df_energy based on all columns.\n"
          ],
          "name": "stdout"
        }
      ]
    },
    {
      "cell_type": "code",
      "metadata": {
        "colab": {
          "base_uri": "https://localhost:8080/",
          "height": 408
        },
        "id": "IpV9RJO4Lfza",
        "outputId": "4a9a31b0-22d8-4219-b695-d5cb0329c124"
      },
      "source": [
        "df_final.head()"
      ],
      "execution_count": 278,
      "outputs": [
        {
          "output_type": "execute_result",
          "data": {
            "text/html": [
              "<div>\n",
              "<style scoped>\n",
              "    .dataframe tbody tr th:only-of-type {\n",
              "        vertical-align: middle;\n",
              "    }\n",
              "\n",
              "    .dataframe tbody tr th {\n",
              "        vertical-align: top;\n",
              "    }\n",
              "\n",
              "    .dataframe thead th {\n",
              "        text-align: right;\n",
              "    }\n",
              "</style>\n",
              "<table border=\"1\" class=\"dataframe\">\n",
              "  <thead>\n",
              "    <tr style=\"text-align: right;\">\n",
              "      <th></th>\n",
              "      <th>generation biomass</th>\n",
              "      <th>generation fossil brown coal/lignite</th>\n",
              "      <th>generation fossil gas</th>\n",
              "      <th>generation fossil hard coal</th>\n",
              "      <th>generation fossil oil</th>\n",
              "      <th>generation hydro pumped storage consumption</th>\n",
              "      <th>generation hydro run-of-river and poundage</th>\n",
              "      <th>generation hydro water reservoir</th>\n",
              "      <th>generation nuclear</th>\n",
              "      <th>generation other</th>\n",
              "      <th>generation other renewable</th>\n",
              "      <th>generation solar</th>\n",
              "      <th>generation waste</th>\n",
              "      <th>generation wind onshore</th>\n",
              "      <th>total load actual</th>\n",
              "      <th>price day ahead</th>\n",
              "      <th>price actual</th>\n",
              "      <th>temp_Barcelona</th>\n",
              "      <th>temp_min_Barcelona</th>\n",
              "      <th>temp_max_Barcelona</th>\n",
              "      <th>pressure_Barcelona</th>\n",
              "      <th>humidity_Barcelona</th>\n",
              "      <th>wind_speed_Barcelona</th>\n",
              "      <th>wind_deg_Barcelona</th>\n",
              "      <th>rain_1h_Barcelona</th>\n",
              "      <th>rain_3h_Barcelona</th>\n",
              "      <th>snow_3h_Barcelona</th>\n",
              "      <th>clouds_all_Barcelona</th>\n",
              "      <th>temp_Bilbao</th>\n",
              "      <th>temp_min_Bilbao</th>\n",
              "      <th>temp_max_Bilbao</th>\n",
              "      <th>pressure_Bilbao</th>\n",
              "      <th>humidity_Bilbao</th>\n",
              "      <th>wind_speed_Bilbao</th>\n",
              "      <th>wind_deg_Bilbao</th>\n",
              "      <th>rain_1h_Bilbao</th>\n",
              "      <th>rain_3h_Bilbao</th>\n",
              "      <th>snow_3h_Bilbao</th>\n",
              "      <th>clouds_all_Bilbao</th>\n",
              "      <th>temp_Madrid</th>\n",
              "      <th>temp_min_Madrid</th>\n",
              "      <th>temp_max_Madrid</th>\n",
              "      <th>pressure_Madrid</th>\n",
              "      <th>humidity_Madrid</th>\n",
              "      <th>wind_speed_Madrid</th>\n",
              "      <th>wind_deg_Madrid</th>\n",
              "      <th>rain_1h_Madrid</th>\n",
              "      <th>rain_3h_Madrid</th>\n",
              "      <th>snow_3h_Madrid</th>\n",
              "      <th>clouds_all_Madrid</th>\n",
              "      <th>temp_Seville</th>\n",
              "      <th>temp_min_Seville</th>\n",
              "      <th>temp_max_Seville</th>\n",
              "      <th>pressure_Seville</th>\n",
              "      <th>humidity_Seville</th>\n",
              "      <th>wind_speed_Seville</th>\n",
              "      <th>wind_deg_Seville</th>\n",
              "      <th>rain_1h_Seville</th>\n",
              "      <th>rain_3h_Seville</th>\n",
              "      <th>snow_3h_Seville</th>\n",
              "      <th>clouds_all_Seville</th>\n",
              "      <th>temp_Valencia</th>\n",
              "      <th>temp_min_Valencia</th>\n",
              "      <th>temp_max_Valencia</th>\n",
              "      <th>pressure_Valencia</th>\n",
              "      <th>humidity_Valencia</th>\n",
              "      <th>wind_speed_Valencia</th>\n",
              "      <th>wind_deg_Valencia</th>\n",
              "      <th>rain_1h_Valencia</th>\n",
              "      <th>rain_3h_Valencia</th>\n",
              "      <th>snow_3h_Valencia</th>\n",
              "      <th>clouds_all_Valencia</th>\n",
              "    </tr>\n",
              "    <tr>\n",
              "      <th>time</th>\n",
              "      <th></th>\n",
              "      <th></th>\n",
              "      <th></th>\n",
              "      <th></th>\n",
              "      <th></th>\n",
              "      <th></th>\n",
              "      <th></th>\n",
              "      <th></th>\n",
              "      <th></th>\n",
              "      <th></th>\n",
              "      <th></th>\n",
              "      <th></th>\n",
              "      <th></th>\n",
              "      <th></th>\n",
              "      <th></th>\n",
              "      <th></th>\n",
              "      <th></th>\n",
              "      <th></th>\n",
              "      <th></th>\n",
              "      <th></th>\n",
              "      <th></th>\n",
              "      <th></th>\n",
              "      <th></th>\n",
              "      <th></th>\n",
              "      <th></th>\n",
              "      <th></th>\n",
              "      <th></th>\n",
              "      <th></th>\n",
              "      <th></th>\n",
              "      <th></th>\n",
              "      <th></th>\n",
              "      <th></th>\n",
              "      <th></th>\n",
              "      <th></th>\n",
              "      <th></th>\n",
              "      <th></th>\n",
              "      <th></th>\n",
              "      <th></th>\n",
              "      <th></th>\n",
              "      <th></th>\n",
              "      <th></th>\n",
              "      <th></th>\n",
              "      <th></th>\n",
              "      <th></th>\n",
              "      <th></th>\n",
              "      <th></th>\n",
              "      <th></th>\n",
              "      <th></th>\n",
              "      <th></th>\n",
              "      <th></th>\n",
              "      <th></th>\n",
              "      <th></th>\n",
              "      <th></th>\n",
              "      <th></th>\n",
              "      <th></th>\n",
              "      <th></th>\n",
              "      <th></th>\n",
              "      <th></th>\n",
              "      <th></th>\n",
              "      <th></th>\n",
              "      <th></th>\n",
              "      <th></th>\n",
              "      <th></th>\n",
              "      <th></th>\n",
              "      <th></th>\n",
              "      <th></th>\n",
              "      <th></th>\n",
              "      <th></th>\n",
              "      <th></th>\n",
              "      <th></th>\n",
              "      <th></th>\n",
              "      <th></th>\n",
              "    </tr>\n",
              "  </thead>\n",
              "  <tbody>\n",
              "    <tr>\n",
              "      <th>2014-12-31 23:00:00+00:00</th>\n",
              "      <td>447.0</td>\n",
              "      <td>329.0</td>\n",
              "      <td>4844.0</td>\n",
              "      <td>4821.0</td>\n",
              "      <td>162.0</td>\n",
              "      <td>863.0</td>\n",
              "      <td>1051.0</td>\n",
              "      <td>1899.0</td>\n",
              "      <td>7096.0</td>\n",
              "      <td>43.0</td>\n",
              "      <td>73.0</td>\n",
              "      <td>49.0</td>\n",
              "      <td>196.0</td>\n",
              "      <td>6378.0</td>\n",
              "      <td>25385.0</td>\n",
              "      <td>50.10</td>\n",
              "      <td>65.41</td>\n",
              "      <td>281.625</td>\n",
              "      <td>281.625</td>\n",
              "      <td>281.625</td>\n",
              "      <td>1035.0</td>\n",
              "      <td>100.0</td>\n",
              "      <td>7.0</td>\n",
              "      <td>58.0</td>\n",
              "      <td>0.0</td>\n",
              "      <td>0.0</td>\n",
              "      <td>0.0</td>\n",
              "      <td>0.0</td>\n",
              "      <td>269.657312</td>\n",
              "      <td>269.657312</td>\n",
              "      <td>269.657312</td>\n",
              "      <td>1036.0</td>\n",
              "      <td>97.0</td>\n",
              "      <td>0.0</td>\n",
              "      <td>226.0</td>\n",
              "      <td>0.0</td>\n",
              "      <td>0.0</td>\n",
              "      <td>0.0</td>\n",
              "      <td>0.0</td>\n",
              "      <td>267.325</td>\n",
              "      <td>267.325</td>\n",
              "      <td>267.325</td>\n",
              "      <td>971.0</td>\n",
              "      <td>63.0</td>\n",
              "      <td>1.0</td>\n",
              "      <td>309.0</td>\n",
              "      <td>0.0</td>\n",
              "      <td>0.0</td>\n",
              "      <td>0.0</td>\n",
              "      <td>0.0</td>\n",
              "      <td>273.375</td>\n",
              "      <td>273.375</td>\n",
              "      <td>273.375</td>\n",
              "      <td>1039.0</td>\n",
              "      <td>75.0</td>\n",
              "      <td>1.0</td>\n",
              "      <td>21.0</td>\n",
              "      <td>0.0</td>\n",
              "      <td>0.0</td>\n",
              "      <td>0.0</td>\n",
              "      <td>0.0</td>\n",
              "      <td>270.475</td>\n",
              "      <td>270.475</td>\n",
              "      <td>270.475</td>\n",
              "      <td>1001.0</td>\n",
              "      <td>77.0</td>\n",
              "      <td>1.0</td>\n",
              "      <td>62.0</td>\n",
              "      <td>0.0</td>\n",
              "      <td>0.0</td>\n",
              "      <td>0.0</td>\n",
              "      <td>0.0</td>\n",
              "    </tr>\n",
              "    <tr>\n",
              "      <th>2015-01-01 00:00:00+00:00</th>\n",
              "      <td>449.0</td>\n",
              "      <td>328.0</td>\n",
              "      <td>5196.0</td>\n",
              "      <td>4755.0</td>\n",
              "      <td>158.0</td>\n",
              "      <td>920.0</td>\n",
              "      <td>1009.0</td>\n",
              "      <td>1658.0</td>\n",
              "      <td>7096.0</td>\n",
              "      <td>43.0</td>\n",
              "      <td>71.0</td>\n",
              "      <td>50.0</td>\n",
              "      <td>195.0</td>\n",
              "      <td>5890.0</td>\n",
              "      <td>24382.0</td>\n",
              "      <td>48.10</td>\n",
              "      <td>64.92</td>\n",
              "      <td>281.625</td>\n",
              "      <td>281.625</td>\n",
              "      <td>281.625</td>\n",
              "      <td>1035.0</td>\n",
              "      <td>100.0</td>\n",
              "      <td>7.0</td>\n",
              "      <td>58.0</td>\n",
              "      <td>0.0</td>\n",
              "      <td>0.0</td>\n",
              "      <td>0.0</td>\n",
              "      <td>0.0</td>\n",
              "      <td>269.763500</td>\n",
              "      <td>269.763500</td>\n",
              "      <td>269.763500</td>\n",
              "      <td>1035.0</td>\n",
              "      <td>97.0</td>\n",
              "      <td>0.0</td>\n",
              "      <td>229.0</td>\n",
              "      <td>0.0</td>\n",
              "      <td>0.0</td>\n",
              "      <td>0.0</td>\n",
              "      <td>0.0</td>\n",
              "      <td>267.325</td>\n",
              "      <td>267.325</td>\n",
              "      <td>267.325</td>\n",
              "      <td>971.0</td>\n",
              "      <td>63.0</td>\n",
              "      <td>1.0</td>\n",
              "      <td>309.0</td>\n",
              "      <td>0.0</td>\n",
              "      <td>0.0</td>\n",
              "      <td>0.0</td>\n",
              "      <td>0.0</td>\n",
              "      <td>273.375</td>\n",
              "      <td>273.375</td>\n",
              "      <td>273.375</td>\n",
              "      <td>1039.0</td>\n",
              "      <td>75.0</td>\n",
              "      <td>1.0</td>\n",
              "      <td>21.0</td>\n",
              "      <td>0.0</td>\n",
              "      <td>0.0</td>\n",
              "      <td>0.0</td>\n",
              "      <td>0.0</td>\n",
              "      <td>270.475</td>\n",
              "      <td>270.475</td>\n",
              "      <td>270.475</td>\n",
              "      <td>1001.0</td>\n",
              "      <td>77.0</td>\n",
              "      <td>1.0</td>\n",
              "      <td>62.0</td>\n",
              "      <td>0.0</td>\n",
              "      <td>0.0</td>\n",
              "      <td>0.0</td>\n",
              "      <td>0.0</td>\n",
              "    </tr>\n",
              "    <tr>\n",
              "      <th>2015-01-01 01:00:00+00:00</th>\n",
              "      <td>448.0</td>\n",
              "      <td>323.0</td>\n",
              "      <td>4857.0</td>\n",
              "      <td>4581.0</td>\n",
              "      <td>157.0</td>\n",
              "      <td>1164.0</td>\n",
              "      <td>973.0</td>\n",
              "      <td>1371.0</td>\n",
              "      <td>7099.0</td>\n",
              "      <td>43.0</td>\n",
              "      <td>73.0</td>\n",
              "      <td>50.0</td>\n",
              "      <td>196.0</td>\n",
              "      <td>5461.0</td>\n",
              "      <td>22734.0</td>\n",
              "      <td>47.33</td>\n",
              "      <td>64.48</td>\n",
              "      <td>281.286</td>\n",
              "      <td>281.286</td>\n",
              "      <td>281.286</td>\n",
              "      <td>1036.0</td>\n",
              "      <td>100.0</td>\n",
              "      <td>7.0</td>\n",
              "      <td>48.0</td>\n",
              "      <td>0.0</td>\n",
              "      <td>0.0</td>\n",
              "      <td>0.0</td>\n",
              "      <td>0.0</td>\n",
              "      <td>269.251688</td>\n",
              "      <td>269.251688</td>\n",
              "      <td>269.251688</td>\n",
              "      <td>1036.0</td>\n",
              "      <td>97.0</td>\n",
              "      <td>1.0</td>\n",
              "      <td>224.0</td>\n",
              "      <td>0.0</td>\n",
              "      <td>0.0</td>\n",
              "      <td>0.0</td>\n",
              "      <td>0.0</td>\n",
              "      <td>266.186</td>\n",
              "      <td>266.186</td>\n",
              "      <td>266.186</td>\n",
              "      <td>971.0</td>\n",
              "      <td>64.0</td>\n",
              "      <td>1.0</td>\n",
              "      <td>273.0</td>\n",
              "      <td>0.0</td>\n",
              "      <td>0.0</td>\n",
              "      <td>0.0</td>\n",
              "      <td>0.0</td>\n",
              "      <td>274.086</td>\n",
              "      <td>274.086</td>\n",
              "      <td>274.086</td>\n",
              "      <td>1039.0</td>\n",
              "      <td>71.0</td>\n",
              "      <td>3.0</td>\n",
              "      <td>27.0</td>\n",
              "      <td>0.0</td>\n",
              "      <td>0.0</td>\n",
              "      <td>0.0</td>\n",
              "      <td>0.0</td>\n",
              "      <td>269.686</td>\n",
              "      <td>269.686</td>\n",
              "      <td>269.686</td>\n",
              "      <td>1002.0</td>\n",
              "      <td>78.0</td>\n",
              "      <td>0.0</td>\n",
              "      <td>23.0</td>\n",
              "      <td>0.0</td>\n",
              "      <td>0.0</td>\n",
              "      <td>0.0</td>\n",
              "      <td>0.0</td>\n",
              "    </tr>\n",
              "    <tr>\n",
              "      <th>2015-01-01 02:00:00+00:00</th>\n",
              "      <td>438.0</td>\n",
              "      <td>254.0</td>\n",
              "      <td>4314.0</td>\n",
              "      <td>4131.0</td>\n",
              "      <td>160.0</td>\n",
              "      <td>1503.0</td>\n",
              "      <td>949.0</td>\n",
              "      <td>779.0</td>\n",
              "      <td>7098.0</td>\n",
              "      <td>43.0</td>\n",
              "      <td>75.0</td>\n",
              "      <td>50.0</td>\n",
              "      <td>191.0</td>\n",
              "      <td>5238.0</td>\n",
              "      <td>21286.0</td>\n",
              "      <td>42.27</td>\n",
              "      <td>59.32</td>\n",
              "      <td>281.286</td>\n",
              "      <td>281.286</td>\n",
              "      <td>281.286</td>\n",
              "      <td>1036.0</td>\n",
              "      <td>100.0</td>\n",
              "      <td>7.0</td>\n",
              "      <td>48.0</td>\n",
              "      <td>0.0</td>\n",
              "      <td>0.0</td>\n",
              "      <td>0.0</td>\n",
              "      <td>0.0</td>\n",
              "      <td>269.203344</td>\n",
              "      <td>269.203344</td>\n",
              "      <td>269.203344</td>\n",
              "      <td>1035.0</td>\n",
              "      <td>97.0</td>\n",
              "      <td>1.0</td>\n",
              "      <td>225.0</td>\n",
              "      <td>0.0</td>\n",
              "      <td>0.0</td>\n",
              "      <td>0.0</td>\n",
              "      <td>0.0</td>\n",
              "      <td>266.186</td>\n",
              "      <td>266.186</td>\n",
              "      <td>266.186</td>\n",
              "      <td>971.0</td>\n",
              "      <td>64.0</td>\n",
              "      <td>1.0</td>\n",
              "      <td>273.0</td>\n",
              "      <td>0.0</td>\n",
              "      <td>0.0</td>\n",
              "      <td>0.0</td>\n",
              "      <td>0.0</td>\n",
              "      <td>274.086</td>\n",
              "      <td>274.086</td>\n",
              "      <td>274.086</td>\n",
              "      <td>1039.0</td>\n",
              "      <td>71.0</td>\n",
              "      <td>3.0</td>\n",
              "      <td>27.0</td>\n",
              "      <td>0.0</td>\n",
              "      <td>0.0</td>\n",
              "      <td>0.0</td>\n",
              "      <td>0.0</td>\n",
              "      <td>269.686</td>\n",
              "      <td>269.686</td>\n",
              "      <td>269.686</td>\n",
              "      <td>1002.0</td>\n",
              "      <td>78.0</td>\n",
              "      <td>0.0</td>\n",
              "      <td>23.0</td>\n",
              "      <td>0.0</td>\n",
              "      <td>0.0</td>\n",
              "      <td>0.0</td>\n",
              "      <td>0.0</td>\n",
              "    </tr>\n",
              "    <tr>\n",
              "      <th>2015-01-01 03:00:00+00:00</th>\n",
              "      <td>428.0</td>\n",
              "      <td>187.0</td>\n",
              "      <td>4130.0</td>\n",
              "      <td>3840.0</td>\n",
              "      <td>156.0</td>\n",
              "      <td>1826.0</td>\n",
              "      <td>953.0</td>\n",
              "      <td>720.0</td>\n",
              "      <td>7097.0</td>\n",
              "      <td>43.0</td>\n",
              "      <td>74.0</td>\n",
              "      <td>42.0</td>\n",
              "      <td>189.0</td>\n",
              "      <td>4935.0</td>\n",
              "      <td>20264.0</td>\n",
              "      <td>38.41</td>\n",
              "      <td>56.04</td>\n",
              "      <td>281.286</td>\n",
              "      <td>281.286</td>\n",
              "      <td>281.286</td>\n",
              "      <td>1036.0</td>\n",
              "      <td>100.0</td>\n",
              "      <td>7.0</td>\n",
              "      <td>48.0</td>\n",
              "      <td>0.0</td>\n",
              "      <td>0.0</td>\n",
              "      <td>0.0</td>\n",
              "      <td>0.0</td>\n",
              "      <td>269.485500</td>\n",
              "      <td>269.485500</td>\n",
              "      <td>269.485500</td>\n",
              "      <td>1035.0</td>\n",
              "      <td>97.0</td>\n",
              "      <td>1.0</td>\n",
              "      <td>221.0</td>\n",
              "      <td>0.0</td>\n",
              "      <td>0.0</td>\n",
              "      <td>0.0</td>\n",
              "      <td>0.0</td>\n",
              "      <td>266.186</td>\n",
              "      <td>266.186</td>\n",
              "      <td>266.186</td>\n",
              "      <td>971.0</td>\n",
              "      <td>64.0</td>\n",
              "      <td>1.0</td>\n",
              "      <td>273.0</td>\n",
              "      <td>0.0</td>\n",
              "      <td>0.0</td>\n",
              "      <td>0.0</td>\n",
              "      <td>0.0</td>\n",
              "      <td>274.086</td>\n",
              "      <td>274.086</td>\n",
              "      <td>274.086</td>\n",
              "      <td>1039.0</td>\n",
              "      <td>71.0</td>\n",
              "      <td>3.0</td>\n",
              "      <td>27.0</td>\n",
              "      <td>0.0</td>\n",
              "      <td>0.0</td>\n",
              "      <td>0.0</td>\n",
              "      <td>0.0</td>\n",
              "      <td>269.686</td>\n",
              "      <td>269.686</td>\n",
              "      <td>269.686</td>\n",
              "      <td>1002.0</td>\n",
              "      <td>78.0</td>\n",
              "      <td>0.0</td>\n",
              "      <td>23.0</td>\n",
              "      <td>0.0</td>\n",
              "      <td>0.0</td>\n",
              "      <td>0.0</td>\n",
              "      <td>0.0</td>\n",
              "    </tr>\n",
              "  </tbody>\n",
              "</table>\n",
              "</div>"
            ],
            "text/plain": [
              "                           generation biomass  ...  clouds_all_Valencia\n",
              "time                                           ...                     \n",
              "2014-12-31 23:00:00+00:00               447.0  ...                  0.0\n",
              "2015-01-01 00:00:00+00:00               449.0  ...                  0.0\n",
              "2015-01-01 01:00:00+00:00               448.0  ...                  0.0\n",
              "2015-01-01 02:00:00+00:00               438.0  ...                  0.0\n",
              "2015-01-01 03:00:00+00:00               428.0  ...                  0.0\n",
              "\n",
              "[5 rows x 72 columns]"
            ]
          },
          "metadata": {
            "tags": []
          },
          "execution_count": 278
        }
      ]
    },
    {
      "cell_type": "code",
      "metadata": {
        "colab": {
          "base_uri": "https://localhost:8080/"
        },
        "id": "jUdwPpgJT_ug",
        "outputId": "775365b1-8a5f-45d2-be02-4764012b1e29"
      },
      "source": [
        "df_final.columns"
      ],
      "execution_count": 279,
      "outputs": [
        {
          "output_type": "execute_result",
          "data": {
            "text/plain": [
              "Index(['generation biomass', 'generation fossil brown coal/lignite',\n",
              "       'generation fossil gas', 'generation fossil hard coal',\n",
              "       'generation fossil oil', 'generation hydro pumped storage consumption',\n",
              "       'generation hydro run-of-river and poundage',\n",
              "       'generation hydro water reservoir', 'generation nuclear',\n",
              "       'generation other', 'generation other renewable', 'generation solar',\n",
              "       'generation waste', 'generation wind onshore', 'total load actual',\n",
              "       'price day ahead', 'price actual', 'temp_Barcelona',\n",
              "       'temp_min_Barcelona', 'temp_max_Barcelona', 'pressure_Barcelona',\n",
              "       'humidity_Barcelona', 'wind_speed_Barcelona', 'wind_deg_Barcelona',\n",
              "       'rain_1h_Barcelona', 'rain_3h_Barcelona', 'snow_3h_Barcelona',\n",
              "       'clouds_all_Barcelona', 'temp_Bilbao', 'temp_min_Bilbao',\n",
              "       'temp_max_Bilbao', 'pressure_Bilbao', 'humidity_Bilbao',\n",
              "       'wind_speed_Bilbao', 'wind_deg_Bilbao', 'rain_1h_Bilbao',\n",
              "       'rain_3h_Bilbao', 'snow_3h_Bilbao', 'clouds_all_Bilbao', 'temp_Madrid',\n",
              "       'temp_min_Madrid', 'temp_max_Madrid', 'pressure_Madrid',\n",
              "       'humidity_Madrid', 'wind_speed_Madrid', 'wind_deg_Madrid',\n",
              "       'rain_1h_Madrid', 'rain_3h_Madrid', 'snow_3h_Madrid',\n",
              "       'clouds_all_Madrid', 'temp_Seville', 'temp_min_Seville',\n",
              "       'temp_max_Seville', 'pressure_Seville', 'humidity_Seville',\n",
              "       'wind_speed_Seville', 'wind_deg_Seville', 'rain_1h_Seville',\n",
              "       'rain_3h_Seville', 'snow_3h_Seville', 'clouds_all_Seville',\n",
              "       'temp_Valencia', 'temp_min_Valencia', 'temp_max_Valencia',\n",
              "       'pressure_Valencia', 'humidity_Valencia', 'wind_speed_Valencia',\n",
              "       'wind_deg_Valencia', 'rain_1h_Valencia', 'rain_3h_Valencia',\n",
              "       'snow_3h_Valencia', 'clouds_all_Valencia'],\n",
              "      dtype='object')"
            ]
          },
          "metadata": {
            "tags": []
          },
          "execution_count": 279
        }
      ]
    },
    {
      "cell_type": "code",
      "metadata": {
        "id": "qwrtj-gpWIh_"
      },
      "source": [
        "cities = ['Barcelona', 'Bilbao', 'Madrid', 'Seville', 'Valencia']\n",
        "\n",
        "for city in cities:\n",
        "    df_final = df_final.drop(['rain_3h_{}'.format(city)], axis=1)"
      ],
      "execution_count": 280,
      "outputs": []
    },
    {
      "cell_type": "code",
      "metadata": {
        "id": "BK6zhJW7ZmXU"
      },
      "source": [
        "df_final = df_final.drop(['snow_3h_Barcelona', 'snow_3h_Seville'], axis=1)"
      ],
      "execution_count": 281,
      "outputs": []
    },
    {
      "cell_type": "code",
      "metadata": {
        "id": "rwT2Ai0OZwKz"
      },
      "source": [
        "# Generate 'hour', 'weekday' and 'month' features\n",
        "\n",
        "for i in range(len(df_final)):\n",
        "    position = df_final.index[i]\n",
        "    hour = position.hour\n",
        "    weekday = position.weekday()\n",
        "    month = position.month\n",
        "    df_final.loc[position, 'hour'] = hour\n",
        "    df_final.loc[position, 'weekday'] = weekday\n",
        "    df_final.loc[position, 'month'] = month"
      ],
      "execution_count": 282,
      "outputs": []
    },
    {
      "cell_type": "code",
      "metadata": {
        "id": "L9M_IemOZ18L"
      },
      "source": [
        "# Generate 'business hour' feature\n",
        "\n",
        "for i in range(len(df_final)):\n",
        "    position = df_final.index[i]\n",
        "    hour = position.hour\n",
        "    if ((hour > 8 and hour < 14) or (hour > 16 and hour < 21)):\n",
        "        df_final.loc[position, 'business hour'] = 2\n",
        "    elif (hour >= 14 and hour <= 16):\n",
        "        df_final.loc[position, 'business hour'] = 1\n",
        "    else:\n",
        "        df_final.loc[position, 'business hour'] = 0"
      ],
      "execution_count": 283,
      "outputs": []
    },
    {
      "cell_type": "code",
      "metadata": {
        "id": "MFOjeV-YZ6E_"
      },
      "source": [
        "# Generate 'weekend' feature\n",
        "\n",
        "for i in range(len(df_final)):\n",
        "    position = df_final.index[i]\n",
        "    weekday = position.weekday()\n",
        "    if (weekday == 6):\n",
        "        df_final.loc[position, 'weekday'] = 2\n",
        "    elif (weekday == 5):\n",
        "        df_final.loc[position, 'weekday'] = 1\n",
        "    else:\n",
        "        df_final.loc[position, 'weekday'] = 0"
      ],
      "execution_count": 284,
      "outputs": []
    },
    {
      "cell_type": "code",
      "metadata": {
        "id": "m8DMDM8kaWmX"
      },
      "source": [
        "# Generate 'temp_range' for each city\n",
        "\n",
        "cities = ['Barcelona', 'Bilbao', 'Madrid', 'Seville', 'Valencia']\n",
        "\n",
        "for i in range(len(df_final)):\n",
        "    position = df_final.index[i]\n",
        "    for city in cities:\n",
        "        temp_max = df_final.loc[position, 'temp_max_{}'.format(city)]\n",
        "        temp_min = df_final.loc[position, 'temp_min_{}'.format(city)]\n",
        "        df_final.loc[position, 'temp_range_{}'.format(city)] = abs(temp_max - temp_min)"
      ],
      "execution_count": 285,
      "outputs": []
    },
    {
      "cell_type": "code",
      "metadata": {
        "id": "MHRffOIiaiPz"
      },
      "source": [
        "# Calculate the weight of every city\n",
        "\n",
        "total_pop = 6155116 + 5179243 + 1645342 + 1305342 + 987000\n",
        "\n",
        "weight_Madrid = 6155116 / total_pop\n",
        "weight_Barcelona = 5179243 / total_pop\n",
        "weight_Valencia = 1645342 / total_pop\n",
        "weight_Seville = 1305342 / total_pop\n",
        "weight_Bilbao = 987000 / total_pop"
      ],
      "execution_count": 286,
      "outputs": []
    },
    {
      "cell_type": "code",
      "metadata": {
        "id": "wO2othqcante"
      },
      "source": [
        "cities_weights = {'Madrid': weight_Madrid, \n",
        "                  'Barcelona': weight_Barcelona,\n",
        "                  'Valencia': weight_Valencia,\n",
        "                  'Seville': weight_Seville,\n",
        "                  'Bilbao': weight_Bilbao}"
      ],
      "execution_count": 287,
      "outputs": []
    },
    {
      "cell_type": "code",
      "metadata": {
        "id": "bzj8ha4Oap4g"
      },
      "source": [
        "# Generate 'temp_weighted' feature\n",
        "\n",
        "for i in range(len(df_final)):\n",
        "    position = df_final.index[i]\n",
        "    temp_weighted = 0\n",
        "    for city in cities:\n",
        "        temp = df_final.loc[position, 'temp_{}'.format(city)]\n",
        "        temp_weighted += temp * cities_weights.get('{}'.format(city))\n",
        "    df_final.loc[position, 'temp_weighted'] = temp_weighted"
      ],
      "execution_count": 288,
      "outputs": []
    },
    {
      "cell_type": "code",
      "metadata": {
        "id": "Awdt4J-Datfa"
      },
      "source": [
        "df_final['generation coal all'] = df_final['generation fossil hard coal'] + df_final['generation fossil brown coal/lignite']"
      ],
      "execution_count": 289,
      "outputs": []
    },
    {
      "cell_type": "code",
      "metadata": {
        "id": "EVqzPzk8ax8y"
      },
      "source": [
        "def multivariate_data(dataset, target, start_index, end_index, history_size,\n",
        "                      target_size, step, single_step=False):\n",
        "    data = []\n",
        "    labels = []\n",
        "\n",
        "    start_index = start_index + history_size\n",
        "    if end_index is None:\n",
        "        end_index = len(dataset) - target_size\n",
        "        \n",
        "    for i in range(start_index, end_index):\n",
        "        indices = range(i-history_size, i, step)\n",
        "        data.append(dataset[indices])\n",
        "        \n",
        "        if single_step:\n",
        "            labels.append(target[i + target_size])\n",
        "        else:\n",
        "            labels.append(target[i : i + target_size])\n",
        "\n",
        "    return np.array(data), np.array(labels)"
      ],
      "execution_count": 290,
      "outputs": []
    },
    {
      "cell_type": "code",
      "metadata": {
        "id": "xGBtM4cdbDCY"
      },
      "source": [
        "train_end_idx = 27048\n",
        "cv_end_idx = 31056\n",
        "test_end_idx = 35064"
      ],
      "execution_count": 291,
      "outputs": []
    },
    {
      "cell_type": "code",
      "metadata": {
        "id": "yGqceu0kbGQ3"
      },
      "source": [
        "X = df_final[df_final.columns.drop('price actual')]\n",
        "y = df_final['price actual']\n",
        "\n",
        "# y = y.reshape(-1, 1)"
      ],
      "execution_count": 292,
      "outputs": []
    },
    {
      "cell_type": "code",
      "metadata": {
        "colab": {
          "base_uri": "https://localhost:8080/"
        },
        "id": "bXWiT6UkGbPn",
        "outputId": "de8e6329-d98e-407d-836a-64079778eac7"
      },
      "source": [
        "print(X)\n",
        "print(y)"
      ],
      "execution_count": 293,
      "outputs": [
        {
          "output_type": "stream",
          "text": [
            "                           generation biomass  ...  generation coal all\n",
            "time                                           ...                     \n",
            "2014-12-31 23:00:00+00:00               447.0  ...               5150.0\n",
            "2015-01-01 00:00:00+00:00               449.0  ...               5083.0\n",
            "2015-01-01 01:00:00+00:00               448.0  ...               4904.0\n",
            "2015-01-01 02:00:00+00:00               438.0  ...               4385.0\n",
            "2015-01-01 03:00:00+00:00               428.0  ...               4027.0\n",
            "...                                       ...  ...                  ...\n",
            "2018-12-31 18:00:00+00:00               297.0  ...               2628.0\n",
            "2018-12-31 19:00:00+00:00               296.0  ...               2566.0\n",
            "2018-12-31 20:00:00+00:00               292.0  ...               2422.0\n",
            "2018-12-31 21:00:00+00:00               293.0  ...               2293.0\n",
            "2018-12-31 22:00:00+00:00               290.0  ...               2166.0\n",
            "\n",
            "[35064 rows x 75 columns]\n",
            "time\n",
            "2014-12-31 23:00:00+00:00    65.41\n",
            "2015-01-01 00:00:00+00:00    64.92\n",
            "2015-01-01 01:00:00+00:00    64.48\n",
            "2015-01-01 02:00:00+00:00    59.32\n",
            "2015-01-01 03:00:00+00:00    56.04\n",
            "                             ...  \n",
            "2018-12-31 18:00:00+00:00    77.02\n",
            "2018-12-31 19:00:00+00:00    76.16\n",
            "2018-12-31 20:00:00+00:00    74.30\n",
            "2018-12-31 21:00:00+00:00    69.89\n",
            "2018-12-31 22:00:00+00:00    69.88\n",
            "Name: price actual, Length: 35064, dtype: float64\n"
          ],
          "name": "stdout"
        }
      ]
    },
    {
      "cell_type": "code",
      "metadata": {
        "colab": {
          "base_uri": "https://localhost:8080/"
        },
        "id": "rVyQhmddGqlq",
        "outputId": "73c506df-742d-44fa-8e2e-3937e4e3f007"
      },
      "source": [
        "X.dtypes"
      ],
      "execution_count": 294,
      "outputs": [
        {
          "output_type": "execute_result",
          "data": {
            "text/plain": [
              "generation biomass                      float64\n",
              "generation fossil brown coal/lignite    float64\n",
              "generation fossil gas                   float64\n",
              "generation fossil hard coal             float64\n",
              "generation fossil oil                   float64\n",
              "                                         ...   \n",
              "temp_range_Madrid                       float64\n",
              "temp_range_Seville                      float64\n",
              "temp_range_Valencia                     float64\n",
              "temp_weighted                           float64\n",
              "generation coal all                     float64\n",
              "Length: 75, dtype: object"
            ]
          },
          "metadata": {
            "tags": []
          },
          "execution_count": 294
        }
      ]
    },
    {
      "cell_type": "code",
      "metadata": {
        "colab": {
          "base_uri": "https://localhost:8080/"
        },
        "id": "amboXr_MHH1r",
        "outputId": "bc4998a7-ac72-4756-c802-2ef54ff129f0"
      },
      "source": [
        "y.dtypes"
      ],
      "execution_count": 295,
      "outputs": [
        {
          "output_type": "execute_result",
          "data": {
            "text/plain": [
              "dtype('float64')"
            ]
          },
          "metadata": {
            "tags": []
          },
          "execution_count": 295
        }
      ]
    },
    {
      "cell_type": "code",
      "metadata": {
        "id": "mf7iEZ7ohnwZ",
        "colab": {
          "base_uri": "https://localhost:8080/"
        },
        "outputId": "8b5ec80f-86dd-4061-e1a0-62e552222a26"
      },
      "source": [
        "X=X.astype(int)\n",
        "print(X.dtypes)"
      ],
      "execution_count": 296,
      "outputs": [
        {
          "output_type": "stream",
          "text": [
            "generation biomass                      int64\n",
            "generation fossil brown coal/lignite    int64\n",
            "generation fossil gas                   int64\n",
            "generation fossil hard coal             int64\n",
            "generation fossil oil                   int64\n",
            "                                        ...  \n",
            "temp_range_Madrid                       int64\n",
            "temp_range_Seville                      int64\n",
            "temp_range_Valencia                     int64\n",
            "temp_weighted                           int64\n",
            "generation coal all                     int64\n",
            "Length: 75, dtype: object\n"
          ],
          "name": "stdout"
        }
      ]
    },
    {
      "cell_type": "code",
      "metadata": {
        "colab": {
          "base_uri": "https://localhost:8080/"
        },
        "id": "E_sjxqfVGk5j",
        "outputId": "660ac8da-6ee1-4ffd-a980-2c8cbff4b11f"
      },
      "source": [
        "y=y.astype(int)\n",
        "print(y.dtypes)"
      ],
      "execution_count": 297,
      "outputs": [
        {
          "output_type": "stream",
          "text": [
            "int64\n"
          ],
          "name": "stdout"
        }
      ]
    },
    {
      "cell_type": "code",
      "metadata": {
        "id": "LvkKhB_IHcZL"
      },
      "source": [
        "from sklearn.model_selection import train_test_split\n",
        "X_train,X_test,y_train,y_test=train_test_split(X,y,test_size=0.2,random_state=3)"
      ],
      "execution_count": 298,
      "outputs": []
    },
    {
      "cell_type": "code",
      "metadata": {
        "colab": {
          "base_uri": "https://localhost:8080/"
        },
        "id": "lSCwlNbkHc4_",
        "outputId": "b09354c0-9518-4421-f5f1-563fc1735385"
      },
      "source": [
        "print(y_test)"
      ],
      "execution_count": 299,
      "outputs": [
        {
          "output_type": "stream",
          "text": [
            "time\n",
            "2015-04-14 07:00:00+00:00    63\n",
            "2018-02-06 05:00:00+00:00    49\n",
            "2015-02-12 09:00:00+00:00    92\n",
            "2015-05-24 01:00:00+00:00    40\n",
            "2015-03-06 22:00:00+00:00    62\n",
            "                             ..\n",
            "2015-02-13 23:00:00+00:00    52\n",
            "2018-01-15 22:00:00+00:00    58\n",
            "2018-04-09 03:00:00+00:00    50\n",
            "2017-02-08 13:00:00+00:00    64\n",
            "2017-02-27 22:00:00+00:00    49\n",
            "Name: price actual, Length: 7013, dtype: int64\n"
          ],
          "name": "stdout"
        }
      ]
    },
    {
      "cell_type": "code",
      "metadata": {
        "colab": {
          "base_uri": "https://localhost:8080/"
        },
        "id": "ggdrhifXHczF",
        "outputId": "b456d76b-7efe-4cbe-d009-12de69840a7a"
      },
      "source": [
        "from sklearn.svm import SVC\n",
        "model=SVC()\n",
        "model.fit(X_train,y_train)\n",
        "y_predicted=model.predict(X_test)\n",
        "print(y_predicted)"
      ],
      "execution_count": 300,
      "outputs": [
        {
          "output_type": "stream",
          "text": [
            "[56 55 72 ... 55 58 55]\n"
          ],
          "name": "stdout"
        }
      ]
    },
    {
      "cell_type": "code",
      "metadata": {
        "id": "tqJl2v3sJWlQ"
      },
      "source": [
        ""
      ],
      "execution_count": 300,
      "outputs": []
    },
    {
      "cell_type": "code",
      "metadata": {
        "id": "_9O5PyX_JXHB"
      },
      "source": [
        ""
      ],
      "execution_count": 300,
      "outputs": []
    },
    {
      "cell_type": "code",
      "metadata": {
        "id": "raoAvZj_JXVw"
      },
      "source": [
        ""
      ],
      "execution_count": 300,
      "outputs": []
    },
    {
      "cell_type": "code",
      "metadata": {
        "id": "4ymEpTtWJWsS"
      },
      "source": [
        "X = df_final[df_final.columns.drop('price actual')].values\n",
        "y = df_final['price actual'].values\n",
        "\n",
        "y = y.reshape(-1, 1)"
      ],
      "execution_count": 301,
      "outputs": []
    },
    {
      "cell_type": "code",
      "metadata": {
        "colab": {
          "base_uri": "https://localhost:8080/"
        },
        "id": "CEqSOsjJOIaD",
        "outputId": "c95d6064-4057-4524-bdfa-c7eab9431313"
      },
      "source": [
        "print(X)"
      ],
      "execution_count": 302,
      "outputs": [
        {
          "output_type": "stream",
          "text": [
            "[[4.47000000e+02 3.29000000e+02 4.84400000e+03 ... 0.00000000e+00\n",
            "  2.73181801e+02 5.15000000e+03]\n",
            " [4.49000000e+02 3.28000000e+02 5.19600000e+03 ... 0.00000000e+00\n",
            "  2.73188663e+02 5.08300000e+03]\n",
            " [4.48000000e+02 3.23000000e+02 4.85700000e+03 ... 0.00000000e+00\n",
            "  2.72557335e+02 4.90400000e+03]\n",
            " ...\n",
            " [2.92000000e+02 0.00000000e+00 7.02500000e+03 ... 1.00000000e+00\n",
            "  2.80414970e+02 2.42200000e+03]\n",
            " [2.93000000e+02 0.00000000e+00 6.56200000e+03 ... 2.00000000e+00\n",
            "  2.79150881e+02 2.29300000e+03]\n",
            " [2.90000000e+02 0.00000000e+00 6.92600000e+03 ... 2.00000000e+00\n",
            "  2.78051695e+02 2.16600000e+03]]\n"
          ],
          "name": "stdout"
        }
      ]
    },
    {
      "cell_type": "code",
      "metadata": {
        "colab": {
          "base_uri": "https://localhost:8080/"
        },
        "id": "PmFxfdJhLud1",
        "outputId": "3cff6885-260d-4a6f-d46f-300d5be9086b"
      },
      "source": [
        "print(y)"
      ],
      "execution_count": 303,
      "outputs": [
        {
          "output_type": "stream",
          "text": [
            "[[65.41]\n",
            " [64.92]\n",
            " [64.48]\n",
            " ...\n",
            " [74.3 ]\n",
            " [69.89]\n",
            " [69.88]]\n"
          ],
          "name": "stdout"
        }
      ]
    },
    {
      "cell_type": "code",
      "metadata": {
        "id": "ncA6XyqoZ6RX"
      },
      "source": [
        "scaler_X = MinMaxScaler(feature_range=(0, 1))\n",
        "scaler_y = MinMaxScaler(feature_range=(0, 1))"
      ],
      "execution_count": 304,
      "outputs": []
    },
    {
      "cell_type": "code",
      "metadata": {
        "colab": {
          "base_uri": "https://localhost:8080/"
        },
        "id": "s-LUD4sT_T32",
        "outputId": "56daa7e9-7fc6-4bde-bfad-b5aae5b28b80"
      },
      "source": [
        "scaler_X.fit(X[:train_end_idx])\n",
        "scaler_y.fit(y[:train_end_idx])"
      ],
      "execution_count": 305,
      "outputs": [
        {
          "output_type": "execute_result",
          "data": {
            "text/plain": [
              "MinMaxScaler(copy=True, feature_range=(0, 1))"
            ]
          },
          "metadata": {
            "tags": []
          },
          "execution_count": 305
        }
      ]
    },
    {
      "cell_type": "code",
      "metadata": {
        "id": "gUy2QMfj_mIG"
      },
      "source": [
        "X_norm = scaler_X.transform(X)\n",
        "y_norm = scaler_y.transform(y)"
      ],
      "execution_count": 306,
      "outputs": []
    },
    {
      "cell_type": "code",
      "metadata": {
        "colab": {
          "base_uri": "https://localhost:8080/"
        },
        "id": "WKn__PUVLoEI",
        "outputId": "7964369d-7389-40b0-aca9-7de83a1f2629"
      },
      "source": [
        "print(X_norm)\n",
        "print(y_norm)"
      ],
      "execution_count": 307,
      "outputs": [
        {
          "output_type": "stream",
          "text": [
            "[[0.75506757 0.32932933 0.17962843 ... 0.         0.05770193 0.55257511]\n",
            " [0.75844595 0.32832833 0.19863901 ... 0.         0.0578808  0.54538627]\n",
            " [0.75675676 0.32332332 0.18033052 ... 0.         0.04142591 0.52618026]\n",
            " ...\n",
            " [0.49324324 0.         0.29741845 ... 0.05396654 0.2462266  0.25987124]\n",
            " [0.49493243 0.         0.27241305 ... 0.10793308 0.21327948 0.24603004]\n",
            " [0.48986486 0.         0.29207172 ... 0.10793308 0.18463041 0.23240343]]\n",
            "[[0.52182004]\n",
            " [0.51726063]\n",
            " [0.51316647]\n",
            " ...\n",
            " [0.6045408 ]\n",
            " [0.56350609]\n",
            " [0.56341305]]\n"
          ],
          "name": "stdout"
        }
      ]
    },
    {
      "cell_type": "code",
      "metadata": {
        "id": "PMqIaYL5_oAx"
      },
      "source": [
        "pca = PCA()\n",
        "X_pca = pca.fit(X_norm[:train_end_idx])"
      ],
      "execution_count": 308,
      "outputs": []
    },
    {
      "cell_type": "code",
      "metadata": {
        "id": "20DV6j_w_rIm"
      },
      "source": [
        "pca = PCA(n_components=0.80)\n",
        "pca.fit(X_norm[:train_end_idx])\n",
        "X_pca = pca.transform(X_norm)"
      ],
      "execution_count": 309,
      "outputs": []
    },
    {
      "cell_type": "code",
      "metadata": {
        "colab": {
          "base_uri": "https://localhost:8080/"
        },
        "id": "NmnxsiFA_6gZ",
        "outputId": "063ee94b-7837-4a3a-e5e1-76eb579688b8"
      },
      "source": [
        "X_pca.shape"
      ],
      "execution_count": 310,
      "outputs": [
        {
          "output_type": "execute_result",
          "data": {
            "text/plain": [
              "(35064, 16)"
            ]
          },
          "metadata": {
            "tags": []
          },
          "execution_count": 310
        }
      ]
    },
    {
      "cell_type": "code",
      "metadata": {
        "id": "RGLkzj-8_-Wt"
      },
      "source": [
        "dataset_norm = np.concatenate((X_pca, y_norm), axis=1)\n",
        "\n",
        "past_history = 24\n",
        "future_target = 0"
      ],
      "execution_count": 311,
      "outputs": []
    },
    {
      "cell_type": "code",
      "metadata": {
        "id": "7wERgamEAAqz"
      },
      "source": [
        "X_train, y_train = multivariate_data(dataset_norm, dataset_norm[:, -1],\n",
        "                                     0, train_end_idx, past_history, \n",
        "                                     future_target, step=1, single_step=True)"
      ],
      "execution_count": 312,
      "outputs": []
    },
    {
      "cell_type": "code",
      "metadata": {
        "colab": {
          "base_uri": "https://localhost:8080/"
        },
        "id": "LujXks-3N4C1",
        "outputId": "cd439c21-8a2b-43ad-cd1c-198b87406076"
      },
      "source": [
        "print(X_train)"
      ],
      "execution_count": 313,
      "outputs": [
        {
          "output_type": "stream",
          "text": [
            "[[[-1.28075045 -0.35580061  0.07393528 ... -0.25797385  0.11141389\n",
            "    0.52182004]\n",
            "  [-1.52870947 -0.16092774  0.05216478 ... -0.0133218   0.19160982\n",
            "    0.51726063]\n",
            "  [-1.53338538 -0.152398    0.03075882 ...  0.02443998  0.2032101\n",
            "    0.51316647]\n",
            "  ...\n",
            "  [-0.94483006 -0.05133965  0.93795255 ...  0.17004035 -0.06091822\n",
            "    0.60100493]\n",
            "  [-1.27462466 -0.15612538  0.29408625 ... -0.03395884 -0.25250426\n",
            "    0.56946124]\n",
            "  [-1.41197013 -0.13699882  0.30752045 ... -0.02355967 -0.33816062\n",
            "    0.50990974]]\n",
            "\n",
            " [[-1.52870947 -0.16092774  0.05216478 ... -0.0133218   0.19160982\n",
            "    0.51726063]\n",
            "  [-1.53338538 -0.152398    0.03075882 ...  0.02443998  0.2032101\n",
            "    0.51316647]\n",
            "  [-1.55524085 -0.05427605 -0.01907306 ...  0.03253335  0.18306359\n",
            "    0.46515307]\n",
            "  ...\n",
            "  [-1.27462466 -0.15612538  0.29408625 ... -0.03395884 -0.25250426\n",
            "    0.56946124]\n",
            "  [-1.41197013 -0.13699882  0.30752045 ... -0.02355967 -0.33816062\n",
            "    0.50990974]\n",
            "  [-1.5378836   0.59682508  0.13396071 ... -0.05766074 -0.33753143\n",
            "    0.5088862 ]]\n",
            "\n",
            " [[-1.53338538 -0.152398    0.03075882 ...  0.02443998  0.2032101\n",
            "    0.51316647]\n",
            "  [-1.55524085 -0.05427605 -0.01907306 ...  0.03253335  0.18306359\n",
            "    0.46515307]\n",
            "  [-1.56870607  0.0284226  -0.05359232 ...  0.02980578  0.17093069\n",
            "    0.43463292]\n",
            "  ...\n",
            "  [-1.41197013 -0.13699882  0.30752045 ... -0.02355967 -0.33816062\n",
            "    0.50990974]\n",
            "  [-1.5378836   0.59682508  0.13396071 ... -0.05766074 -0.33753143\n",
            "    0.5088862 ]\n",
            "  [-1.72706353  0.63283725 -0.11894179 ...  0.14740807 -0.06977601\n",
            "    0.45715083]]\n",
            "\n",
            " ...\n",
            "\n",
            " [[-0.16897432 -0.66431681  0.62687369 ...  0.27414962 -0.05618184\n",
            "    0.52907788]\n",
            "  [-0.80481075 -0.59043916  0.16217472 ... -0.0092739  -0.52974818\n",
            "    0.50386154]\n",
            "  [-0.94168469 -0.50863421  0.14435929 ... -0.02579015 -0.45365901\n",
            "    0.47836606]\n",
            "  ...\n",
            "  [ 0.11920011 -0.27144555  0.72902079 ...  0.11889109 -0.05900395\n",
            "    0.53670792]\n",
            "  [-0.02792311 -0.22255207  0.877405   ... -0.05824514 -0.130156\n",
            "    0.54712943]\n",
            "  [-0.02725967 -0.32440931  0.82130911 ...  0.0772325  -0.04365855\n",
            "    0.55168884]]\n",
            "\n",
            " [[-0.80481075 -0.59043916  0.16217472 ... -0.0092739  -0.52974818\n",
            "    0.50386154]\n",
            "  [-0.94168469 -0.50863421  0.14435929 ... -0.02579015 -0.45365901\n",
            "    0.47836606]\n",
            "  [-0.97371266 -0.53596306  0.23029834 ... -0.32462863 -0.18329278\n",
            "    0.4905555 ]\n",
            "  ...\n",
            "  [-0.02792311 -0.22255207  0.877405   ... -0.05824514 -0.130156\n",
            "    0.54712943]\n",
            "  [-0.02725967 -0.32440931  0.82130911 ...  0.0772325  -0.04365855\n",
            "    0.55168884]\n",
            "  [-0.14084951 -0.38308183  0.80191234 ...  0.13571554 -0.08474509\n",
            "    0.53922025]]\n",
            "\n",
            " [[-0.94168469 -0.50863421  0.14435929 ... -0.02579015 -0.45365901\n",
            "    0.47836606]\n",
            "  [-0.97371266 -0.53596306  0.23029834 ... -0.32462863 -0.18329278\n",
            "    0.4905555 ]\n",
            "  [-1.13936867 -0.51734097 -0.0814478  ...  0.09725313 -0.09989441\n",
            "    0.46226854]\n",
            "  ...\n",
            "  [-0.02725967 -0.32440931  0.82130911 ...  0.0772325  -0.04365855\n",
            "    0.55168884]\n",
            "  [-0.14084951 -0.38308183  0.80191234 ...  0.13571554 -0.08474509\n",
            "    0.53922025]\n",
            "  [-0.7178606  -0.46176802  0.28740727 ... -0.08716426 -0.69217244\n",
            "    0.5149344 ]]]\n"
          ],
          "name": "stdout"
        }
      ]
    },
    {
      "cell_type": "code",
      "metadata": {
        "colab": {
          "base_uri": "https://localhost:8080/"
        },
        "id": "HHrvSSxmGUmh",
        "outputId": "13b4286f-ce8c-4182-e244-1a7472a9853a"
      },
      "source": [
        "print(y_train)"
      ],
      "execution_count": 314,
      "outputs": [
        {
          "output_type": "stream",
          "text": [
            "[0.5088862  0.45715083 0.42216432 ... 0.53922025 0.5149344  0.51018889]\n"
          ],
          "name": "stdout"
        }
      ]
    },
    {
      "cell_type": "code",
      "metadata": {
        "id": "Ocblpz1yACI5"
      },
      "source": [
        "X_val, y_val = multivariate_data(dataset_norm, dataset_norm[:, -1],\n",
        "                                 train_end_idx, cv_end_idx, past_history, \n",
        "                                 future_target, step=1, single_step=True)"
      ],
      "execution_count": 315,
      "outputs": []
    },
    {
      "cell_type": "code",
      "metadata": {
        "id": "MoexGpH-AD25"
      },
      "source": [
        "X_test, y_test = multivariate_data(dataset_norm, dataset_norm[:, -1],\n",
        "                                   cv_end_idx, test_end_idx, past_history, \n",
        "                                   future_target, step=1, single_step=True)"
      ],
      "execution_count": 316,
      "outputs": []
    },
    {
      "cell_type": "code",
      "metadata": {
        "id": "vUEXxkovAFyL"
      },
      "source": [
        "batch_size = 32\n",
        "buffer_size = 1000"
      ],
      "execution_count": 317,
      "outputs": []
    },
    {
      "cell_type": "code",
      "metadata": {
        "id": "4tzn0HNEAHEQ"
      },
      "source": [
        "train = tf.data.Dataset.from_tensor_slices((X_train, y_train))\n",
        "train = train.cache().shuffle(buffer_size).batch(batch_size).prefetch(1)\n",
        "\n",
        "validation = tf.data.Dataset.from_tensor_slices((X_val, y_val))\n",
        "validation = validation.batch(batch_size).prefetch(1)"
      ],
      "execution_count": 318,
      "outputs": []
    },
    {
      "cell_type": "code",
      "metadata": {
        "id": "1VCZoJTwAIjO"
      },
      "source": [
        "# Define some common parameters\n",
        "\n",
        "input_shape = X_train.shape[-2:]\n",
        "loss = tf.keras.losses.MeanSquaredError()\n",
        "metric = [tf.keras.metrics.RootMeanSquaredError()]\n",
        "lr_schedule = tf.keras.callbacks.LearningRateScheduler(\n",
        "              lambda epoch: 1e-4 * 10**(epoch / 10))\n",
        "early_stopping = tf.keras.callbacks.EarlyStopping(patience=10)"
      ],
      "execution_count": 319,
      "outputs": []
    },
    {
      "cell_type": "code",
      "metadata": {
        "id": "mcMhgSlTAKLj"
      },
      "source": [
        "y_test = y_test.reshape(-1, 1)\n",
        "y_test_inv = scaler_y.inverse_transform(y_test)"
      ],
      "execution_count": 320,
      "outputs": []
    },
    {
      "cell_type": "code",
      "metadata": {
        "colab": {
          "base_uri": "https://localhost:8080/"
        },
        "id": "ItSeAMM_ORKz",
        "outputId": "992b1146-dad8-4b26-867c-2fa30c92dae6"
      },
      "source": [
        "print(y_test)"
      ],
      "execution_count": 321,
      "outputs": [
        {
          "output_type": "stream",
          "text": [
            "[[0.53735926]\n",
            " [0.51977296]\n",
            " [0.49818554]\n",
            " ...\n",
            " [0.6045408 ]\n",
            " [0.56350609]\n",
            " [0.56341305]]\n"
          ],
          "name": "stdout"
        }
      ]
    },
    {
      "cell_type": "code",
      "metadata": {
        "colab": {
          "base_uri": "https://localhost:8080/"
        },
        "id": "PcRKIAuJOT9h",
        "outputId": "9d1a351f-27b9-43a3-8392-d832f54a439b"
      },
      "source": [
        "print(y_test_inv)"
      ],
      "execution_count": 322,
      "outputs": [
        {
          "output_type": "stream",
          "text": [
            "[[67.08]\n",
            " [65.19]\n",
            " [62.87]\n",
            " ...\n",
            " [74.3 ]\n",
            " [69.89]\n",
            " [69.88]]\n"
          ],
          "name": "stdout"
        }
      ]
    },
    {
      "cell_type": "markdown",
      "metadata": {
        "id": "4hIH9DsgBUiy"
      },
      "source": [
        "# CNN (convolutional neural network)\n"
      ]
    },
    {
      "cell_type": "code",
      "metadata": {
        "id": "3ZwrSbLoAjI4"
      },
      "source": [
        "tf.keras.backend.clear_session()\n",
        "\n",
        "multivariate_cnn = tf.keras.models.Sequential([\n",
        "    Conv1D(filters=48, kernel_size=2,\n",
        "           strides=1, padding='causal',\n",
        "           activation='relu', \n",
        "           input_shape=input_shape),\n",
        "    Flatten(),\n",
        "    Dense(48, activation='relu'),\n",
        "    Dense(1)\n",
        "])\n",
        "\n",
        "model_checkpoint = tf.keras.callbacks.ModelCheckpoint(\n",
        "                   'multivariate_cnn.h5', save_best_only=True)\n",
        "optimizer = tf.keras.optimizers.Adam(lr=6e-3, amsgrad=True)\n",
        "\n",
        "multivariate_cnn.compile(loss=loss,\n",
        "                          optimizer=optimizer,\n",
        "                          metrics=metric)"
      ],
      "execution_count": 323,
      "outputs": []
    },
    {
      "cell_type": "code",
      "metadata": {
        "colab": {
          "base_uri": "https://localhost:8080/"
        },
        "id": "krRhUYkQBhfA",
        "outputId": "965fe44f-5eb9-42f8-9a23-66789f6a7f82"
      },
      "source": [
        "history = multivariate_cnn.fit(train, epochs=120,\n",
        "                               validation_data=validation,\n",
        "                               callbacks=[early_stopping, \n",
        "                                          model_checkpoint])"
      ],
      "execution_count": 324,
      "outputs": [
        {
          "output_type": "stream",
          "text": [
            "Epoch 1/120\n",
            "845/845 [==============================] - 2s 3ms/step - loss: 0.0430 - root_mean_squared_error: 0.2074 - val_loss: 0.0053 - val_root_mean_squared_error: 0.0728\n",
            "Epoch 2/120\n",
            "845/845 [==============================] - 2s 2ms/step - loss: 0.0025 - root_mean_squared_error: 0.0498 - val_loss: 0.0045 - val_root_mean_squared_error: 0.0668\n",
            "Epoch 3/120\n",
            "845/845 [==============================] - 2s 2ms/step - loss: 0.0019 - root_mean_squared_error: 0.0433 - val_loss: 0.0028 - val_root_mean_squared_error: 0.0527\n",
            "Epoch 4/120\n",
            "845/845 [==============================] - 2s 2ms/step - loss: 0.0014 - root_mean_squared_error: 0.0375 - val_loss: 0.0022 - val_root_mean_squared_error: 0.0466\n",
            "Epoch 5/120\n",
            "845/845 [==============================] - 2s 2ms/step - loss: 0.0011 - root_mean_squared_error: 0.0335 - val_loss: 0.0015 - val_root_mean_squared_error: 0.0388\n",
            "Epoch 6/120\n",
            "845/845 [==============================] - 2s 2ms/step - loss: 9.8647e-04 - root_mean_squared_error: 0.0314 - val_loss: 0.0012 - val_root_mean_squared_error: 0.0346\n",
            "Epoch 7/120\n",
            "845/845 [==============================] - 2s 2ms/step - loss: 8.7049e-04 - root_mean_squared_error: 0.0295 - val_loss: 0.0012 - val_root_mean_squared_error: 0.0339\n",
            "Epoch 8/120\n",
            "845/845 [==============================] - 2s 2ms/step - loss: 7.9316e-04 - root_mean_squared_error: 0.0282 - val_loss: 9.6553e-04 - val_root_mean_squared_error: 0.0311\n",
            "Epoch 9/120\n",
            "845/845 [==============================] - 2s 2ms/step - loss: 7.4971e-04 - root_mean_squared_error: 0.0274 - val_loss: 9.7781e-04 - val_root_mean_squared_error: 0.0313\n",
            "Epoch 10/120\n",
            "845/845 [==============================] - 2s 3ms/step - loss: 6.9505e-04 - root_mean_squared_error: 0.0264 - val_loss: 9.4340e-04 - val_root_mean_squared_error: 0.0307\n",
            "Epoch 11/120\n",
            "845/845 [==============================] - 2s 2ms/step - loss: 6.4259e-04 - root_mean_squared_error: 0.0253 - val_loss: 8.1983e-04 - val_root_mean_squared_error: 0.0286\n",
            "Epoch 12/120\n",
            "845/845 [==============================] - 2s 2ms/step - loss: 6.2118e-04 - root_mean_squared_error: 0.0249 - val_loss: 0.0012 - val_root_mean_squared_error: 0.0339\n",
            "Epoch 13/120\n",
            "845/845 [==============================] - 2s 2ms/step - loss: 6.1612e-04 - root_mean_squared_error: 0.0248 - val_loss: 7.7781e-04 - val_root_mean_squared_error: 0.0279\n",
            "Epoch 14/120\n",
            "845/845 [==============================] - 2s 3ms/step - loss: 5.9298e-04 - root_mean_squared_error: 0.0244 - val_loss: 7.6241e-04 - val_root_mean_squared_error: 0.0276\n",
            "Epoch 15/120\n",
            "845/845 [==============================] - 2s 2ms/step - loss: 5.9313e-04 - root_mean_squared_error: 0.0244 - val_loss: 7.4449e-04 - val_root_mean_squared_error: 0.0273\n",
            "Epoch 16/120\n",
            "845/845 [==============================] - 2s 2ms/step - loss: 5.6879e-04 - root_mean_squared_error: 0.0238 - val_loss: 7.3220e-04 - val_root_mean_squared_error: 0.0271\n",
            "Epoch 17/120\n",
            "845/845 [==============================] - 2s 2ms/step - loss: 5.6907e-04 - root_mean_squared_error: 0.0239 - val_loss: 8.2806e-04 - val_root_mean_squared_error: 0.0288\n",
            "Epoch 18/120\n",
            "845/845 [==============================] - 2s 2ms/step - loss: 5.6745e-04 - root_mean_squared_error: 0.0238 - val_loss: 6.6629e-04 - val_root_mean_squared_error: 0.0258\n",
            "Epoch 19/120\n",
            "845/845 [==============================] - 2s 2ms/step - loss: 5.2683e-04 - root_mean_squared_error: 0.0230 - val_loss: 7.0138e-04 - val_root_mean_squared_error: 0.0265\n",
            "Epoch 20/120\n",
            "845/845 [==============================] - 2s 2ms/step - loss: 5.1799e-04 - root_mean_squared_error: 0.0228 - val_loss: 7.8213e-04 - val_root_mean_squared_error: 0.0280\n",
            "Epoch 21/120\n",
            "845/845 [==============================] - 2s 2ms/step - loss: 5.3469e-04 - root_mean_squared_error: 0.0231 - val_loss: 6.4316e-04 - val_root_mean_squared_error: 0.0254\n",
            "Epoch 22/120\n",
            "845/845 [==============================] - 2s 3ms/step - loss: 5.2238e-04 - root_mean_squared_error: 0.0229 - val_loss: 7.2523e-04 - val_root_mean_squared_error: 0.0269\n",
            "Epoch 23/120\n",
            "845/845 [==============================] - 2s 2ms/step - loss: 5.1389e-04 - root_mean_squared_error: 0.0227 - val_loss: 6.2823e-04 - val_root_mean_squared_error: 0.0251\n",
            "Epoch 24/120\n",
            "845/845 [==============================] - 2s 2ms/step - loss: 5.1719e-04 - root_mean_squared_error: 0.0227 - val_loss: 6.3910e-04 - val_root_mean_squared_error: 0.0253\n",
            "Epoch 25/120\n",
            "845/845 [==============================] - 2s 2ms/step - loss: 5.2147e-04 - root_mean_squared_error: 0.0228 - val_loss: 7.3737e-04 - val_root_mean_squared_error: 0.0272\n",
            "Epoch 26/120\n",
            "845/845 [==============================] - 2s 3ms/step - loss: 5.1172e-04 - root_mean_squared_error: 0.0226 - val_loss: 6.2104e-04 - val_root_mean_squared_error: 0.0249\n",
            "Epoch 27/120\n",
            "845/845 [==============================] - 2s 2ms/step - loss: 5.2453e-04 - root_mean_squared_error: 0.0229 - val_loss: 8.5024e-04 - val_root_mean_squared_error: 0.0292\n",
            "Epoch 28/120\n",
            "845/845 [==============================] - 2s 2ms/step - loss: 4.8767e-04 - root_mean_squared_error: 0.0221 - val_loss: 5.9783e-04 - val_root_mean_squared_error: 0.0245\n",
            "Epoch 29/120\n",
            "845/845 [==============================] - 2s 2ms/step - loss: 5.0510e-04 - root_mean_squared_error: 0.0225 - val_loss: 6.6760e-04 - val_root_mean_squared_error: 0.0258\n",
            "Epoch 30/120\n",
            "845/845 [==============================] - 2s 2ms/step - loss: 4.9620e-04 - root_mean_squared_error: 0.0223 - val_loss: 7.6663e-04 - val_root_mean_squared_error: 0.0277\n",
            "Epoch 31/120\n",
            "845/845 [==============================] - 2s 2ms/step - loss: 4.9533e-04 - root_mean_squared_error: 0.0223 - val_loss: 5.6028e-04 - val_root_mean_squared_error: 0.0237\n",
            "Epoch 32/120\n",
            "845/845 [==============================] - 2s 2ms/step - loss: 5.0150e-04 - root_mean_squared_error: 0.0224 - val_loss: 7.4714e-04 - val_root_mean_squared_error: 0.0273\n",
            "Epoch 33/120\n",
            "845/845 [==============================] - 2s 2ms/step - loss: 4.9838e-04 - root_mean_squared_error: 0.0223 - val_loss: 5.8696e-04 - val_root_mean_squared_error: 0.0242\n",
            "Epoch 34/120\n",
            "845/845 [==============================] - 2s 2ms/step - loss: 4.8947e-04 - root_mean_squared_error: 0.0221 - val_loss: 5.9958e-04 - val_root_mean_squared_error: 0.0245\n",
            "Epoch 35/120\n",
            "845/845 [==============================] - 2s 2ms/step - loss: 4.9244e-04 - root_mean_squared_error: 0.0222 - val_loss: 6.9499e-04 - val_root_mean_squared_error: 0.0264\n",
            "Epoch 36/120\n",
            "845/845 [==============================] - 2s 2ms/step - loss: 4.8472e-04 - root_mean_squared_error: 0.0220 - val_loss: 6.1805e-04 - val_root_mean_squared_error: 0.0249\n",
            "Epoch 37/120\n",
            "845/845 [==============================] - 2s 2ms/step - loss: 4.9832e-04 - root_mean_squared_error: 0.0223 - val_loss: 5.8137e-04 - val_root_mean_squared_error: 0.0241\n",
            "Epoch 38/120\n",
            "845/845 [==============================] - 2s 3ms/step - loss: 4.8921e-04 - root_mean_squared_error: 0.0221 - val_loss: 6.0843e-04 - val_root_mean_squared_error: 0.0247\n",
            "Epoch 39/120\n",
            "845/845 [==============================] - 2s 3ms/step - loss: 4.8987e-04 - root_mean_squared_error: 0.0221 - val_loss: 5.8492e-04 - val_root_mean_squared_error: 0.0242\n",
            "Epoch 40/120\n",
            "845/845 [==============================] - 2s 2ms/step - loss: 4.8148e-04 - root_mean_squared_error: 0.0219 - val_loss: 6.0811e-04 - val_root_mean_squared_error: 0.0247\n",
            "Epoch 41/120\n",
            "845/845 [==============================] - 2s 2ms/step - loss: 4.8788e-04 - root_mean_squared_error: 0.0221 - val_loss: 6.1433e-04 - val_root_mean_squared_error: 0.0248\n"
          ],
          "name": "stdout"
        }
      ]
    },
    {
      "cell_type": "code",
      "metadata": {
        "colab": {
          "base_uri": "https://localhost:8080/"
        },
        "id": "iRM3Q2xUBs45",
        "outputId": "c0b29d7e-295a-45d2-8da6-fb20d1224344"
      },
      "source": [
        "multivariate_cnn = tf.keras.models.load_model('multivariate_cnn.h5')\n",
        "\n",
        "forecast = multivariate_cnn.predict(X_test)\n",
        "multivariate_cnn_forecast = scaler_y.inverse_transform(forecast)\n",
        "\n",
        "rmse_mult_cnn = sqrt(mean_squared_error(y_test_inv,\n",
        "                                        multivariate_cnn_forecast))\n",
        "print('RMSE of hour-ahead electricity price multivariate CNN forecast: {}'\n",
        "      .format(round(rmse_mult_cnn, 3)))"
      ],
      "execution_count": 325,
      "outputs": [
        {
          "output_type": "stream",
          "text": [
            "RMSE of hour-ahead electricity price multivariate CNN forecast: 2.251\n"
          ],
          "name": "stdout"
        }
      ]
    },
    {
      "cell_type": "code",
      "metadata": {
        "colab": {
          "base_uri": "https://localhost:8080/"
        },
        "id": "s-elia4SCVBR",
        "outputId": "acc18589-a3dd-4d86-8f43-b50821b73ba2"
      },
      "source": [
        "print(forecast)"
      ],
      "execution_count": 326,
      "outputs": [
        {
          "output_type": "stream",
          "text": [
            "[[0.51809937]\n",
            " [0.5186015 ]\n",
            " [0.5234364 ]\n",
            " ...\n",
            " [0.6004042 ]\n",
            " [0.5862337 ]\n",
            " [0.566273  ]]\n"
          ],
          "name": "stdout"
        }
      ]
    },
    {
      "cell_type": "code",
      "metadata": {
        "colab": {
          "base_uri": "https://localhost:8080/"
        },
        "id": "qFs3Q4LgKTvb",
        "outputId": "f7912e77-5462-4430-bef7-128e40c82eea"
      },
      "source": [
        "print(multivariate_cnn_forecast)"
      ],
      "execution_count": 327,
      "outputs": [
        {
          "output_type": "stream",
          "text": [
            "[[65.01014 ]\n",
            " [65.0641  ]\n",
            " [65.58372 ]\n",
            " ...\n",
            " [73.85544 ]\n",
            " [72.332535]\n",
            " [70.187355]]\n"
          ],
          "name": "stdout"
        }
      ]
    },
    {
      "cell_type": "code",
      "metadata": {
        "colab": {
          "base_uri": "https://localhost:8080/"
        },
        "id": "A1pqh16qFMg8",
        "outputId": "1869be95-62fc-47ac-a3d5-2ddaf4c6f9d9"
      },
      "source": [
        "print(y_test_inv)"
      ],
      "execution_count": 328,
      "outputs": [
        {
          "output_type": "stream",
          "text": [
            "[[67.08]\n",
            " [65.19]\n",
            " [62.87]\n",
            " ...\n",
            " [74.3 ]\n",
            " [69.89]\n",
            " [69.88]]\n"
          ],
          "name": "stdout"
        }
      ]
    },
    {
      "cell_type": "code",
      "metadata": {
        "id": "pML8X5etFb47"
      },
      "source": [
        ""
      ],
      "execution_count": 328,
      "outputs": []
    }
  ]
}