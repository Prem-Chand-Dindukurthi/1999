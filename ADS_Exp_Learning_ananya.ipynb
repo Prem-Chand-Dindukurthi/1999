{
  "nbformat": 4,
  "nbformat_minor": 0,
  "metadata": {
    "colab": {
      "name": "ADS_Exp_Learning_ananya.ipynb",
      "provenance": [],
      "collapsed_sections": [],
      "include_colab_link": true
    },
    "kernelspec": {
      "name": "python3",
      "display_name": "Python 3"
    }
  },
  "cells": [
    {
      "cell_type": "markdown",
      "metadata": {
        "id": "view-in-github",
        "colab_type": "text"
      },
      "source": [
        "<a href=\"https://colab.research.google.com/github/Prem-Chand-Dindukurthi/1999/blob/master/ADS_Exp_Learning_ananya.ipynb\" target=\"_parent\"><img src=\"https://colab.research.google.com/assets/colab-badge.svg\" alt=\"Open In Colab\"/></a>"
      ]
    },
    {
      "cell_type": "code",
      "metadata": {
        "id": "Sew_fRf6rbwD"
      },
      "source": [
        "import pandas as pd\n",
        "import numpy as np\n",
        "import matplotlib.pyplot as plt\n",
        "%matplotlib inline"
      ],
      "execution_count": null,
      "outputs": []
    },
    {
      "cell_type": "markdown",
      "metadata": {
        "id": "VZoVvyUVwSOu"
      },
      "source": [
        "Reading the file into a dataframe "
      ]
    },
    {
      "cell_type": "code",
      "metadata": {
        "id": "gNjv_IeawVC8"
      },
      "source": [
        "df=pd.read_csv('Federal_aviation_dataset.csv')\n",
        "print(df.shape)\n",
        "df"
      ],
      "execution_count": null,
      "outputs": []
    },
    {
      "cell_type": "markdown",
      "metadata": {
        "id": "BaunTMWtwkv7"
      },
      "source": [
        "Taking only the required columns into the new dataframe from original dataframe which will be useful for further  anlaysis"
      ]
    },
    {
      "cell_type": "code",
      "metadata": {
        "id": "bnuSddeV3IbF"
      },
      "source": [
        "final_data_frame=df[['ACFT_MAKE_NAME','LOC_STATE_NAME','ACFT_MODEL_NAME','RMK_TEXT','FLT_PHASE','EVENT_TYPE_DESC','FATAL_FLAG']]\n",
        "print(final_data_frame.shape)\n",
        "final_data_frame"
      ],
      "execution_count": null,
      "outputs": []
    },
    {
      "cell_type": "markdown",
      "metadata": {
        "id": "ihjlDhIH_LXB"
      },
      "source": [
        "First we have to clean the data\n",
        "Here we observe that they are many NAN values in fatal flag column  so I am replacing those with NO"
      ]
    },
    {
      "cell_type": "code",
      "metadata": {
        "id": "pWN-nty6_Ue8"
      },
      "source": [
        "final_data_frame.fillna({'FATAL_FLAG':'No'})"
      ],
      "execution_count": null,
      "outputs": []
    },
    {
      "cell_type": "markdown",
      "metadata": {
        "id": "CkawzuYoA6l4"
      },
      "source": [
        "Now I would like to find how many times each aircrafts has undergone either accident or incident.For that I have taken the group by of \n",
        "aircraft"
      ]
    },
    {
      "cell_type": "code",
      "metadata": {
        "id": "PrI5KW_vCV0u"
      },
      "source": [
        "print(df.columns)\n",
        "df2=df[['ACFT_MAKE_NAME',' EVENT_DATE']]\n",
        "g=df2.groupby('ACFT_MAKE_NAME')\n",
        "for ACFT_MAKE_NAME, acft_df in g:\n",
        "  print(ACFT_MAKE_NAME)\n",
        "  print(acft_df)"
      ],
      "execution_count": null,
      "outputs": []
    },
    {
      "cell_type": "markdown",
      "metadata": {
        "id": "1kZv0vKbNGvf"
      },
      "source": [
        "Now for counting the number of occurecnes I am using count function on the Entry date column"
      ]
    },
    {
      "cell_type": "code",
      "metadata": {
        "id": "S7-oe5khNJqm"
      },
      "source": [
        "count_dataframe=g.count()\n",
        "print(count_dataframe)"
      ],
      "execution_count": null,
      "outputs": []
    },
    {
      "cell_type": "markdown",
      "metadata": {
        "id": "EUQm8mZOJ0vL"
      },
      "source": [
        "The maximum occured data frame can be found by the code below. It shows that CESSNA has occured maximum accidents or incidents. Therfore it can be interpreted that this aircrafts need repairs."
      ]
    },
    {
      "cell_type": "code",
      "metadata": {
        "id": "YittIj4fKPof"
      },
      "source": [
        "count_dataframe.reset_index(inplace=True)\n",
        "print(count_dataframe.columns)\n",
        "count_dataframe['ACFT_MAKE_NAME'][count_dataframe[' EVENT_DATE']==count_dataframe[' EVENT_DATE'].max()]"
      ],
      "execution_count": null,
      "outputs": []
    },
    {
      "cell_type": "markdown",
      "metadata": {
        "id": "K-y30HWc7nfh"
      },
      "source": [
        "Now I would like to find the entries where the fatal flag has yes value that is for those entries there is death rate"
      ]
    },
    {
      "cell_type": "code",
      "metadata": {
        "id": "3ZdqUjgQ1UBw"
      },
      "source": [
        "g1=final_data_frame.groupby('FATAL_FLAG')\n",
        "fatal_flag_df=g1.get_group('Yes')\n",
        "fatal_flag_df\n",
        "# final_data_frame[final_data_frame.FATAL_FLAG=='Yes']"
      ],
      "execution_count": null,
      "outputs": []
    },
    {
      "cell_type": "markdown",
      "metadata": {
        "id": "HmrqmXOZJPGA"
      },
      "source": [
        "Now I would like to take the new data frame which only contains the injuries and deaths so that we can find the total deaths and injuries"
      ]
    },
    {
      "cell_type": "code",
      "metadata": {
        "id": "7XYctTGWPAWG"
      },
      "source": [
        "df3=df[df.columns[22:48]]\n",
        "aircraft_name=df['ACFT_MAKE_NAME']\n",
        "df3=df3.join(aircraft_name)\n",
        "df3"
      ],
      "execution_count": null,
      "outputs": []
    },
    {
      "cell_type": "markdown",
      "metadata": {
        "id": "Hc59y_meMxUf"
      },
      "source": [
        "Now I would like to find the total injuries and total deaths in the data frame."
      ]
    },
    {
      "cell_type": "code",
      "metadata": {
        "id": "Jg2tkUn3NkbX"
      },
      "source": [
        "df3.fillna(0,inplace=True)\n",
        "df3['total_injuries']=df3['FLT_CREW_INJ_NONE'] + df3['FLT_CRW_INJ_MINOR'] +df3['FLT_CRW_INJ_SERIOUS']+ df3['FLT_CRW_INJ_UNK']+df3['GROUND_INJ_NONE'] +df3['GRND_INJ_UNK']+df3['GRND_INJ_MINOR']+df3['GRND_INJ_SERIOUS'] +df3['PAX_INJ_UNK']+ df3['PAX_INJ_MINOR']+ df3['PAX_INJ_SERIOUS']+df3['PASSENGER_INJ_NONE']\n",
        "df3['total_deaths']=df3['FLT_CRW_INJ_FATAL']+ df3['CBN_CRW_INJ_FATAL']+ df3['PAX_INJ_FATAL']+df3['GRND_INJ_FATAL']\n",
        "df3.drop(df3.iloc[:,0:20],inplace=True,axis=1)\n",
        "df3"
      ],
      "execution_count": null,
      "outputs": []
    },
    {
      "cell_type": "markdown",
      "metadata": {
        "id": "GxuINutAeS7z"
      },
      "source": [
        "Now I am finding the total number of deaths and injuries in each aircraft name by grouping on aircraft name"
      ]
    },
    {
      "cell_type": "code",
      "metadata": {
        "id": "peG3ngxPd4CH"
      },
      "source": [
        "g2=df3.groupby('ACFT_MAKE_NAME')\n",
        "for ACFT_MAKE_NAME, acft_df in g2:\n",
        "  print(ACFT_MAKE_NAME)\n",
        "  print(acft_df)\n",
        "df4=g2.sum()\n",
        "df4"
      ],
      "execution_count": null,
      "outputs": []
    },
    {
      "cell_type": "markdown",
      "metadata": {
        "id": "JNY61sKiLivO"
      },
      "source": [
        "From the above data I would like to plot the bar chart of all the deaths and injuries vs aircraft name"
      ]
    },
    {
      "cell_type": "code",
      "metadata": {
        "id": "N6sdSZdThd7q"
      },
      "source": [
        "plt.rcParams['figure.figsize']=[20,6]\n",
        "# df4[['total_injuries']].plot.bar()\n",
        "# df4[['total_deaths']].plot.bar(color='orange')\n",
        "# print(df4)\n",
        "\n",
        "df4.plot.bar()\n",
        "# print(k)\n"
      ],
      "execution_count": null,
      "outputs": []
    },
    {
      "cell_type": "markdown",
      "metadata": {
        "id": "4k8ewtU8MUur"
      },
      "source": [
        "Now I would like to visualise the number of total accidents and incidents in the total dataframe. This can be done using the pie chart"
      ]
    },
    {
      "cell_type": "code",
      "metadata": {
        "id": "sBzgaHEb8aaD"
      },
      "source": [
        "g3=df.groupby('EVENT_TYPE_DESC')\n",
        "accident_dataframe=g3.get_group('Accident')\n",
        "incident_dataframe=g3.get_group('Incident')\n",
        "(x1,y)=accident_dataframe.shape\n",
        "(x2,y)=incident_dataframe.shape\n",
        "print(x1,x2)"
      ],
      "execution_count": null,
      "outputs": []
    },
    {
      "cell_type": "code",
      "metadata": {
        "id": "6_IfC_H-9Yet"
      },
      "source": [
        "values=[x1,x2]\n",
        "l=['accident','incident']\n",
        "plt.pie(values,labels=l,radius=1.5,autopct='%0.2f%%',shadow=True,explode=[0.1,0],startangle=270)\n",
        "plt.show()"
      ],
      "execution_count": null,
      "outputs": []
    },
    {
      "cell_type": "markdown",
      "metadata": {
        "id": "pcwyhy1nOBig"
      },
      "source": [
        "It is observed that the ratio of incidents is more than the ratio of accidents."
      ]
    },
    {
      "cell_type": "markdown",
      "metadata": {
        "id": "72360MyFQuba"
      },
      "source": [
        "Now I would like to find the rate of deaths using pie chart"
      ]
    },
    {
      "cell_type": "code",
      "metadata": {
        "id": "DRFGcIU6OLzA"
      },
      "source": [
        "final_data_frame.fillna({'FATAL_FLAG':'No'},inplace=True)\n",
        "final_data_frame=final_data_frame[['FATAL_FLAG']]\n",
        "final_data_frame\n",
        "g1=final_data_frame.groupby('FATAL_FLAG')"
      ],
      "execution_count": null,
      "outputs": []
    },
    {
      "cell_type": "code",
      "metadata": {
        "id": "-qGyoOD3QlRq"
      },
      "source": [
        "values=[x1,x2]\n",
        "l=['Yes','No']\n",
        "plt.pie(values,labels=l,radius=1.5,autopct='%0.2f%%',shadow=True,explode=[0.1,0],startangle=270)\n",
        "plt.show()"
      ],
      "execution_count": null,
      "outputs": []
    },
    {
      "cell_type": "code",
      "metadata": {
        "id": "LnJ_lSxnOz1-"
      },
      "source": [
        "fatal_flagdf=g1.get_group('Yes')\n",
        "nofatal_flagdf=g1.get_group('No')\n",
        "(x1,y)=fatal_flag_df.shape\n",
        "(x2,y)=nofatal_flagdf.shape\n",
        "print(x1,x2)"
      ],
      "execution_count": null,
      "outputs": []
    },
    {
      "cell_type": "markdown",
      "metadata": {
        "id": "cZUBfLEyRzCm"
      },
      "source": [
        "**Unique Observations in the above analysis**:- Actually for the above dataset there are no notebooks currently available but the analysis done was only the observations which has fatal flag as yes and no.But in my notebook I also found the number of occurences of each aircraft. I also have done the sum of injuries and sum of deaths. Then I have found the number of injuries and deaths of each aircraft. For visualaisation I plotted a bar chart. Then after that I found number of accidents and incidents in the dataframe. Again for visualisation I plotted a pie chart. Then after that I also found the number of deaths and non deaths in the dataframe and plotted a chairt. "
      ]
    }
  ]
}