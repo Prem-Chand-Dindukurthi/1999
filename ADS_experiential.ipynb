{
  "nbformat": 4,
  "nbformat_minor": 0,
  "metadata": {
    "colab": {
      "name": "ADS_experiential.ipynb",
      "provenance": [],
      "collapsed_sections": []
    },
    "kernelspec": {
      "name": "python3",
      "display_name": "Python 3"
    }
  },
  "cells": [
    {
      "cell_type": "markdown",
      "metadata": {
        "id": "D7Leij5DGpXr"
      },
      "source": [
        "Importing required libraries\n"
      ]
    },
    {
      "cell_type": "code",
      "metadata": {
        "id": "6Xe6W5ChB3XU"
      },
      "source": [
        "import pandas as pd\n",
        "import numpy as np\n",
        "import matplotlib.pyplot as plt\n",
        "%matplotlib inline"
      ],
      "execution_count": null,
      "outputs": []
    },
    {
      "cell_type": "markdown",
      "metadata": {
        "id": "eZ6jHo1XGud9"
      },
      "source": [
        "Reading the file with name 'fifa 2018 stats.csv'\n",
        "And Printing the dataframe\n"
      ]
    },
    {
      "cell_type": "code",
      "metadata": {
        "id": "5FjDwUjhCG7n",
        "outputId": "a5bf3e5e-0735-4dab-d10a-5195e83730b8",
        "colab": {
          "base_uri": "https://localhost:8080/",
          "height": 445
        }
      },
      "source": [
        "df=pd.read_csv('fifa 2018 stats.csv')\n",
        "df.head()"
      ],
      "execution_count": null,
      "outputs": [
        {
          "output_type": "execute_result",
          "data": {
            "text/html": [
              "<div>\n",
              "<style scoped>\n",
              "    .dataframe tbody tr th:only-of-type {\n",
              "        vertical-align: middle;\n",
              "    }\n",
              "\n",
              "    .dataframe tbody tr th {\n",
              "        vertical-align: top;\n",
              "    }\n",
              "\n",
              "    .dataframe thead th {\n",
              "        text-align: right;\n",
              "    }\n",
              "</style>\n",
              "<table border=\"1\" class=\"dataframe\">\n",
              "  <thead>\n",
              "    <tr style=\"text-align: right;\">\n",
              "      <th></th>\n",
              "      <th>Date</th>\n",
              "      <th>Team</th>\n",
              "      <th>Opponent</th>\n",
              "      <th>Goal Scored</th>\n",
              "      <th>Ball Possession %</th>\n",
              "      <th>Attempts</th>\n",
              "      <th>On-Target</th>\n",
              "      <th>Off-Target</th>\n",
              "      <th>Blocked</th>\n",
              "      <th>Corners</th>\n",
              "      <th>Offsides</th>\n",
              "      <th>Free Kicks</th>\n",
              "      <th>Saves</th>\n",
              "      <th>Pass Accuracy %</th>\n",
              "      <th>Passes</th>\n",
              "      <th>Distance Covered (Kms)</th>\n",
              "      <th>Fouls Committed</th>\n",
              "      <th>Yellow Card</th>\n",
              "      <th>Yellow &amp; Red</th>\n",
              "      <th>Red</th>\n",
              "      <th>Man of the Match</th>\n",
              "      <th>1st Goal</th>\n",
              "      <th>Round</th>\n",
              "      <th>PSO</th>\n",
              "      <th>Goals in PSO</th>\n",
              "      <th>Own goals</th>\n",
              "      <th>Own goal Time</th>\n",
              "    </tr>\n",
              "  </thead>\n",
              "  <tbody>\n",
              "    <tr>\n",
              "      <th>0</th>\n",
              "      <td>14-06-2018</td>\n",
              "      <td>Russia</td>\n",
              "      <td>Saudi Arabia</td>\n",
              "      <td>5</td>\n",
              "      <td>40</td>\n",
              "      <td>13</td>\n",
              "      <td>7</td>\n",
              "      <td>3</td>\n",
              "      <td>3</td>\n",
              "      <td>6</td>\n",
              "      <td>3</td>\n",
              "      <td>11</td>\n",
              "      <td>0</td>\n",
              "      <td>78</td>\n",
              "      <td>306</td>\n",
              "      <td>118</td>\n",
              "      <td>22</td>\n",
              "      <td>0</td>\n",
              "      <td>0</td>\n",
              "      <td>0</td>\n",
              "      <td>Yes</td>\n",
              "      <td>12.0</td>\n",
              "      <td>Group Stage</td>\n",
              "      <td>No</td>\n",
              "      <td>0</td>\n",
              "      <td>NaN</td>\n",
              "      <td>NaN</td>\n",
              "    </tr>\n",
              "    <tr>\n",
              "      <th>1</th>\n",
              "      <td>14-06-2018</td>\n",
              "      <td>Saudi Arabia</td>\n",
              "      <td>Russia</td>\n",
              "      <td>0</td>\n",
              "      <td>60</td>\n",
              "      <td>6</td>\n",
              "      <td>0</td>\n",
              "      <td>3</td>\n",
              "      <td>3</td>\n",
              "      <td>2</td>\n",
              "      <td>1</td>\n",
              "      <td>25</td>\n",
              "      <td>2</td>\n",
              "      <td>86</td>\n",
              "      <td>511</td>\n",
              "      <td>105</td>\n",
              "      <td>10</td>\n",
              "      <td>0</td>\n",
              "      <td>0</td>\n",
              "      <td>0</td>\n",
              "      <td>No</td>\n",
              "      <td>NaN</td>\n",
              "      <td>Group Stage</td>\n",
              "      <td>No</td>\n",
              "      <td>0</td>\n",
              "      <td>NaN</td>\n",
              "      <td>NaN</td>\n",
              "    </tr>\n",
              "    <tr>\n",
              "      <th>2</th>\n",
              "      <td>15-06-2018</td>\n",
              "      <td>Egypt</td>\n",
              "      <td>Uruguay</td>\n",
              "      <td>0</td>\n",
              "      <td>43</td>\n",
              "      <td>8</td>\n",
              "      <td>3</td>\n",
              "      <td>3</td>\n",
              "      <td>2</td>\n",
              "      <td>0</td>\n",
              "      <td>1</td>\n",
              "      <td>7</td>\n",
              "      <td>3</td>\n",
              "      <td>78</td>\n",
              "      <td>395</td>\n",
              "      <td>112</td>\n",
              "      <td>12</td>\n",
              "      <td>2</td>\n",
              "      <td>0</td>\n",
              "      <td>0</td>\n",
              "      <td>No</td>\n",
              "      <td>NaN</td>\n",
              "      <td>Group Stage</td>\n",
              "      <td>No</td>\n",
              "      <td>0</td>\n",
              "      <td>NaN</td>\n",
              "      <td>NaN</td>\n",
              "    </tr>\n",
              "    <tr>\n",
              "      <th>3</th>\n",
              "      <td>15-06-2018</td>\n",
              "      <td>Uruguay</td>\n",
              "      <td>Egypt</td>\n",
              "      <td>1</td>\n",
              "      <td>57</td>\n",
              "      <td>14</td>\n",
              "      <td>4</td>\n",
              "      <td>6</td>\n",
              "      <td>4</td>\n",
              "      <td>5</td>\n",
              "      <td>1</td>\n",
              "      <td>13</td>\n",
              "      <td>3</td>\n",
              "      <td>86</td>\n",
              "      <td>589</td>\n",
              "      <td>111</td>\n",
              "      <td>6</td>\n",
              "      <td>0</td>\n",
              "      <td>0</td>\n",
              "      <td>0</td>\n",
              "      <td>Yes</td>\n",
              "      <td>89.0</td>\n",
              "      <td>Group Stage</td>\n",
              "      <td>No</td>\n",
              "      <td>0</td>\n",
              "      <td>NaN</td>\n",
              "      <td>NaN</td>\n",
              "    </tr>\n",
              "    <tr>\n",
              "      <th>4</th>\n",
              "      <td>15-06-2018</td>\n",
              "      <td>Morocco</td>\n",
              "      <td>Iran</td>\n",
              "      <td>0</td>\n",
              "      <td>64</td>\n",
              "      <td>13</td>\n",
              "      <td>3</td>\n",
              "      <td>6</td>\n",
              "      <td>4</td>\n",
              "      <td>5</td>\n",
              "      <td>0</td>\n",
              "      <td>14</td>\n",
              "      <td>2</td>\n",
              "      <td>86</td>\n",
              "      <td>433</td>\n",
              "      <td>101</td>\n",
              "      <td>22</td>\n",
              "      <td>1</td>\n",
              "      <td>0</td>\n",
              "      <td>0</td>\n",
              "      <td>No</td>\n",
              "      <td>NaN</td>\n",
              "      <td>Group Stage</td>\n",
              "      <td>No</td>\n",
              "      <td>0</td>\n",
              "      <td>1.0</td>\n",
              "      <td>90.0</td>\n",
              "    </tr>\n",
              "  </tbody>\n",
              "</table>\n",
              "</div>"
            ],
            "text/plain": [
              "         Date          Team  ... Own goals  Own goal Time\n",
              "0  14-06-2018        Russia  ...       NaN            NaN\n",
              "1  14-06-2018  Saudi Arabia  ...       NaN            NaN\n",
              "2  15-06-2018         Egypt  ...       NaN            NaN\n",
              "3  15-06-2018       Uruguay  ...       NaN            NaN\n",
              "4  15-06-2018       Morocco  ...       1.0           90.0\n",
              "\n",
              "[5 rows x 27 columns]"
            ]
          },
          "metadata": {
            "tags": []
          },
          "execution_count": 250
        }
      ]
    },
    {
      "cell_type": "markdown",
      "metadata": {
        "id": "ffpN8GBiHi58"
      },
      "source": [
        "Getting the rows and columns of the dataframe"
      ]
    },
    {
      "cell_type": "code",
      "metadata": {
        "id": "VZPk8tkIljhA",
        "outputId": "f60d014b-5fb4-44b6-a93c-bb223cb75f07",
        "colab": {
          "base_uri": "https://localhost:8080/",
          "height": 34
        }
      },
      "source": [
        "print(df.shape)"
      ],
      "execution_count": null,
      "outputs": [
        {
          "output_type": "stream",
          "text": [
            "(128, 27)\n"
          ],
          "name": "stdout"
        }
      ]
    },
    {
      "cell_type": "markdown",
      "metadata": {
        "id": "-EZWtVr_Hs3U"
      },
      "source": [
        "First I want to find if there are any NaN values in my dataframe.\n",
        "If the columns are not null I would get False.\n",
        "If there is any null values in columns I would get True."
      ]
    },
    {
      "cell_type": "code",
      "metadata": {
        "id": "O2S5gIyKCXZi",
        "outputId": "04dacbc5-93e4-4118-ceb6-ca93fa428fc4",
        "colab": {
          "base_uri": "https://localhost:8080/",
          "height": 646
        }
      },
      "source": [
        "print(df.columns)\n",
        "print(type(df['Date']))\n",
        "print(type(df['Own goal Time']))\n",
        "\n",
        "k=df.isnull().any()\n",
        "k"
      ],
      "execution_count": null,
      "outputs": [
        {
          "output_type": "stream",
          "text": [
            "Index(['Date', 'Team', 'Opponent', 'Goal Scored', 'Ball Possession %',\n",
            "       'Attempts', 'On-Target', 'Off-Target', 'Blocked', 'Corners', 'Offsides',\n",
            "       'Free Kicks', 'Saves', 'Pass Accuracy %', 'Passes',\n",
            "       'Distance Covered (Kms)', 'Fouls Committed', 'Yellow Card',\n",
            "       'Yellow & Red', 'Red', 'Man of the Match', '1st Goal', 'Round', 'PSO',\n",
            "       'Goals in PSO', 'Own goals', 'Own goal Time'],\n",
            "      dtype='object')\n",
            "<class 'pandas.core.series.Series'>\n",
            "<class 'pandas.core.series.Series'>\n"
          ],
          "name": "stdout"
        },
        {
          "output_type": "execute_result",
          "data": {
            "text/plain": [
              "Date                      False\n",
              "Team                      False\n",
              "Opponent                  False\n",
              "Goal Scored               False\n",
              "Ball Possession %         False\n",
              "Attempts                  False\n",
              "On-Target                 False\n",
              "Off-Target                False\n",
              "Blocked                   False\n",
              "Corners                   False\n",
              "Offsides                  False\n",
              "Free Kicks                False\n",
              "Saves                     False\n",
              "Pass Accuracy %           False\n",
              "Passes                    False\n",
              "Distance Covered (Kms)    False\n",
              "Fouls Committed           False\n",
              "Yellow Card               False\n",
              "Yellow & Red              False\n",
              "Red                       False\n",
              "Man of the Match          False\n",
              "1st Goal                   True\n",
              "Round                     False\n",
              "PSO                       False\n",
              "Goals in PSO              False\n",
              "Own goals                  True\n",
              "Own goal Time              True\n",
              "dtype: bool"
            ]
          },
          "metadata": {
            "tags": []
          },
          "execution_count": 252
        }
      ]
    },
    {
      "cell_type": "markdown",
      "metadata": {
        "id": "Pl-JHF_4IL_m"
      },
      "source": [
        "Finding out which columns are having any null values\n"
      ]
    },
    {
      "cell_type": "code",
      "metadata": {
        "id": "VqmeUlhQDXdr",
        "outputId": "32471041-afdb-4e6b-b82c-8b24473e1b47",
        "colab": {
          "base_uri": "https://localhost:8080/",
          "height": 34
        }
      },
      "source": [
        "col_with_null_values=df.columns[k]\n",
        "print(col_with_null_values)\n"
      ],
      "execution_count": null,
      "outputs": [
        {
          "output_type": "stream",
          "text": [
            "Index(['1st Goal', 'Own goals', 'Own goal Time'], dtype='object')\n"
          ],
          "name": "stdout"
        }
      ]
    },
    {
      "cell_type": "markdown",
      "metadata": {
        "id": "SsxFGGX5IcFi"
      },
      "source": [
        "We got 3 columns which are having null values. So we need to fill the null values if it is possible to fill those values. For Own Goals, if the data is not mentioned I can change them to zero. Because there will be no own goals if not mentioned. But for '1st Goal' and 'Own Goal time' we can't change them. Because if there are no goals or no own goals then there is no point of time included. So they can be null values."
      ]
    },
    {
      "cell_type": "code",
      "metadata": {
        "id": "92gz26WuHHAm",
        "outputId": "5dcadd88-6769-4aa6-ed5e-106dd6665924",
        "colab": {
          "base_uri": "https://localhost:8080/",
          "height": 493
        }
      },
      "source": [
        "#changing only own goals and leaving 1st goal and own goal time to be null\n",
        "df.fillna({\n",
        "    'Own goals':0\n",
        "},inplace=True)\n",
        "df.isnull().any()"
      ],
      "execution_count": null,
      "outputs": [
        {
          "output_type": "execute_result",
          "data": {
            "text/plain": [
              "Date                      False\n",
              "Team                      False\n",
              "Opponent                  False\n",
              "Goal Scored               False\n",
              "Ball Possession %         False\n",
              "Attempts                  False\n",
              "On-Target                 False\n",
              "Off-Target                False\n",
              "Blocked                   False\n",
              "Corners                   False\n",
              "Offsides                  False\n",
              "Free Kicks                False\n",
              "Saves                     False\n",
              "Pass Accuracy %           False\n",
              "Passes                    False\n",
              "Distance Covered (Kms)    False\n",
              "Fouls Committed           False\n",
              "Yellow Card               False\n",
              "Yellow & Red              False\n",
              "Red                       False\n",
              "Man of the Match          False\n",
              "1st Goal                   True\n",
              "Round                     False\n",
              "PSO                       False\n",
              "Goals in PSO              False\n",
              "Own goals                 False\n",
              "Own goal Time              True\n",
              "dtype: bool"
            ]
          },
          "metadata": {
            "tags": []
          },
          "execution_count": 254
        }
      ]
    },
    {
      "cell_type": "code",
      "metadata": {
        "id": "D6WFaZjdH-AF",
        "outputId": "6d39f18d-04f2-47a6-b1cb-9efa25effce8",
        "colab": {
          "base_uri": "https://localhost:8080/",
          "height": 34
        }
      },
      "source": [
        "#checking if I got the expected output\n",
        "df.columns[df.isnull().any()]"
      ],
      "execution_count": null,
      "outputs": [
        {
          "output_type": "execute_result",
          "data": {
            "text/plain": [
              "Index(['1st Goal', 'Own goal Time'], dtype='object')"
            ]
          },
          "metadata": {
            "tags": []
          },
          "execution_count": 255
        }
      ]
    },
    {
      "cell_type": "markdown",
      "metadata": {
        "id": "6DiyJ-zBJnTY"
      },
      "source": [
        "I want to view totol teams participated in the tournament. So I am grouping them them with respect to their teams."
      ]
    },
    {
      "cell_type": "code",
      "metadata": {
        "id": "0-x_93CkIUUU",
        "outputId": "d36242ab-7ebf-4de1-9224-240083a77e52",
        "colab": {
          "base_uri": "https://localhost:8080/",
          "height": 1000
        }
      },
      "source": [
        "g1=df.groupby('Team')\n",
        "for key,value in g1:\n",
        "  print(key)\n",
        "  print(value)\n"
      ],
      "execution_count": null,
      "outputs": [
        {
          "output_type": "stream",
          "text": [
            "Argentina\n",
            "          Date       Team Opponent  ...  Goals in PSO  Own goals  Own goal Time\n",
            "10  16-06-2018  Argentina  Iceland  ...             0        0.0            NaN\n",
            "44  21-06-2018  Argentina  Croatia  ...             0        0.0            NaN\n",
            "77  26-06-2018  Argentina  Nigeria  ...             0        0.0            NaN\n",
            "97  30-06-2018  Argentina   France  ...             0        0.0            NaN\n",
            "\n",
            "[4 rows x 27 columns]\n",
            "Australia\n",
            "          Date       Team Opponent  ...  Goals in PSO  Own goals  Own goal Time\n",
            "9   16-06-2018  Australia   France  ...             0        1.0           81.0\n",
            "41  21-06-2018  Australia  Denmark  ...             0        0.0            NaN\n",
            "74  26-06-2018  Australia     Peru  ...             0        0.0            NaN\n",
            "\n",
            "[3 rows x 27 columns]\n",
            "Belgium\n",
            "           Date     Team Opponent  ...  Goals in PSO  Own goals  Own goal Time\n",
            "24   18-06-2018  Belgium   Panama  ...             0        0.0            NaN\n",
            "52   23-06-2018  Belgium  Tunisia  ...             0        0.0            NaN\n",
            "95   28-06-2018  Belgium  England  ...             0        0.0            NaN\n",
            "106  02-07-2018  Belgium    Japan  ...             0        0.0            NaN\n",
            "115  06-07-2018  Belgium   Brazil  ...             0        0.0            NaN\n",
            "121  10-07-2018  Belgium   France  ...             0        0.0            NaN\n",
            "124  14-07-2018  Belgium  England  ...             0        0.0            NaN\n",
            "\n",
            "[7 rows x 27 columns]\n",
            "Brazil\n",
            "           Date    Team     Opponent  ...  Goals in PSO  Own goals  Own goal Time\n",
            "20   17-06-2018  Brazil  Switzerland  ...             0        0.0            NaN\n",
            "46   22-06-2018  Brazil   Costa Rica  ...             0        0.0            NaN\n",
            "85   27-06-2018  Brazil       Serbia  ...             0        0.0            NaN\n",
            "104  02-07-2018  Brazil       Mexico  ...             0        0.0            NaN\n",
            "114  06-07-2018  Brazil      Belgium  ...             0        1.0           13.0\n",
            "\n",
            "[5 rows x 27 columns]\n",
            "Colombia\n",
            "           Date      Team Opponent  ...  Goals in PSO  Own goals  Own goal Time\n",
            "28   19-06-2018  Colombia    Japan  ...             0        0.0            NaN\n",
            "63   24-06-2018  Colombia   Poland  ...             0        0.0            NaN\n",
            "91   28-06-2018  Colombia  Senegal  ...             0        0.0            NaN\n",
            "110  03-07-2018  Colombia  England  ...             3        0.0            NaN\n",
            "\n",
            "[4 rows x 27 columns]\n",
            "Costa Rica\n",
            "          Date        Team     Opponent  ...  Goals in PSO  Own goals  Own goal Time\n",
            "16  17-06-2018  Costa Rica       Serbia  ...             0        0.0            NaN\n",
            "47  22-06-2018  Costa Rica       Brazil  ...             0        0.0            NaN\n",
            "87  27-06-2018  Costa Rica  Switzerland  ...             0        0.0            NaN\n",
            "\n",
            "[3 rows x 27 columns]\n",
            "Croatia\n",
            "           Date     Team   Opponent  ...  Goals in PSO  Own goals  Own goal Time\n",
            "14   17-06-2018  Croatia    Nigeria  ...             0        0.0            NaN\n",
            "45   21-06-2018  Croatia  Argentina  ...             0        0.0            NaN\n",
            "79   26-06-2018  Croatia    Iceland  ...             0        0.0            NaN\n",
            "102  01-07-2018  Croatia    Denmark  ...             3        0.0            NaN\n",
            "119  07-07-2018  Croatia     Russia  ...             4        0.0            NaN\n",
            "122  11-07-2018  Croatia    England  ...             0        0.0            NaN\n",
            "127  15-07-2018  Croatia     France  ...             0        0.0            NaN\n",
            "\n",
            "[7 rows x 27 columns]\n",
            "Denmark\n",
            "           Date     Team   Opponent  ...  Goals in PSO  Own goals  Own goal Time\n",
            "13   16-06-2018  Denmark       Peru  ...             0        0.0            NaN\n",
            "40   21-06-2018  Denmark  Australia  ...             0        0.0            NaN\n",
            "72   26-06-2018  Denmark     France  ...             0        0.0            NaN\n",
            "103  01-07-2018  Denmark    Croatia  ...             2        0.0            NaN\n",
            "\n",
            "[4 rows x 27 columns]\n",
            "Egypt\n",
            "          Date   Team      Opponent  ...  Goals in PSO  Own goals  Own goal Time\n",
            "2   15-06-2018  Egypt       Uruguay  ...             0        0.0            NaN\n",
            "33  19-06-2018  Egypt        Russia  ...             0        1.0           47.0\n",
            "67  25-06-2018  Egypt  Saudi Arabia  ...             0        0.0            NaN\n",
            "\n",
            "[3 rows x 27 columns]\n",
            "England\n",
            "           Date     Team  Opponent  ...  Goals in PSO  Own goals  Own goal Time\n",
            "27   18-06-2018  England   Tunisia  ...             0        0.0            NaN\n",
            "58   24-06-2018  England    Panama  ...             0        0.0            NaN\n",
            "94   28-06-2018  England   Belgium  ...             0        0.0            NaN\n",
            "111  03-07-2018  England  Colombia  ...             4        0.0            NaN\n",
            "117  07-07-2018  England    Sweden  ...             0        0.0            NaN\n",
            "123  11-07-2018  England   Croatia  ...             0        0.0            NaN\n",
            "125  14-07-2018  England   Belgium  ...             0        0.0            NaN\n",
            "\n",
            "[7 rows x 27 columns]\n",
            "France\n",
            "           Date    Team   Opponent  ...  Goals in PSO  Own goals  Own goal Time\n",
            "8    16-06-2018  France  Australia  ...             0        0.0            NaN\n",
            "42   21-06-2018  France       Peru  ...             0        0.0            NaN\n",
            "73   26-06-2018  France    Denmark  ...             0        0.0            NaN\n",
            "96   30-06-2018  France  Argentina  ...             0        0.0            NaN\n",
            "113  06-07-2018  France    Uruguay  ...             0        0.0            NaN\n",
            "120  10-07-2018  France    Belgium  ...             0        0.0            NaN\n",
            "126  15-07-2018  France    Croatia  ...             0        1.0           18.0\n",
            "\n",
            "[7 rows x 27 columns]\n",
            "Germany\n",
            "          Date     Team        Opponent  ...  Goals in PSO  Own goals  Own goal Time\n",
            "18  17-06-2018  Germany          Mexico  ...             0        0.0            NaN\n",
            "56  23-06-2018  Germany          Sweden  ...             0        0.0            NaN\n",
            "81  27-06-2018  Germany  Korea Republic  ...             0        0.0            NaN\n",
            "\n",
            "[3 rows x 27 columns]\n",
            "Iceland\n",
            "          Date     Team   Opponent  ...  Goals in PSO  Own goals  Own goal Time\n",
            "11  16-06-2018  Iceland  Argentina  ...             0        0.0            NaN\n",
            "49  22-06-2018  Iceland    Nigeria  ...             0        0.0            NaN\n",
            "78  26-06-2018  Iceland    Croatia  ...             0        0.0            NaN\n",
            "\n",
            "[3 rows x 27 columns]\n",
            "Iran\n",
            "          Date  Team  Opponent  ...  Goals in PSO  Own goals  Own goal Time\n",
            "5   15-06-2018  Iran   Morocco  ...             0        0.0            NaN\n",
            "38  20-06-2018  Iran     Spain  ...             0        0.0            NaN\n",
            "70  25-06-2018  Iran  Portugal  ...             0        0.0            NaN\n",
            "\n",
            "[3 rows x 27 columns]\n",
            "Japan\n",
            "           Date   Team  Opponent  ...  Goals in PSO  Own goals  Own goal Time\n",
            "29   19-06-2018  Japan  Colombia  ...             0        0.0            NaN\n",
            "60   24-06-2018  Japan   Senegal  ...             0        0.0            NaN\n",
            "88   28-06-2018  Japan    Poland  ...             0        0.0            NaN\n",
            "107  02-07-2018  Japan   Belgium  ...             0        0.0            NaN\n",
            "\n",
            "[4 rows x 27 columns]\n",
            "Korea Republic\n",
            "          Date            Team Opponent  ...  Goals in PSO  Own goals  Own goal Time\n",
            "23  18-06-2018  Korea Republic   Sweden  ...             0        0.0            NaN\n",
            "54  23-06-2018  Korea Republic   Mexico  ...             0        0.0            NaN\n",
            "80  27-06-2018  Korea Republic  Germany  ...             0        0.0            NaN\n",
            "\n",
            "[3 rows x 27 columns]\n",
            "Mexico\n",
            "           Date    Team        Opponent  ...  Goals in PSO  Own goals  Own goal Time\n",
            "19   17-06-2018  Mexico         Germany  ...             0        0.0            NaN\n",
            "55   23-06-2018  Mexico  Korea Republic  ...             0        0.0            NaN\n",
            "82   27-06-2018  Mexico          Sweden  ...             0        1.0           74.0\n",
            "105  02-07-2018  Mexico          Brazil  ...             0        0.0            NaN\n",
            "\n",
            "[4 rows x 27 columns]\n",
            "Morocco\n",
            "          Date     Team  Opponent  ...  Goals in PSO  Own goals  Own goal Time\n",
            "4   15-06-2018  Morocco      Iran  ...             0        1.0           90.0\n",
            "35  20-06-2018  Morocco  Portugal  ...             0        0.0            NaN\n",
            "69  25-06-2018  Morocco     Spain  ...             0        0.0            NaN\n",
            "\n",
            "[3 rows x 27 columns]\n",
            "Nigeria\n",
            "          Date     Team   Opponent  ...  Goals in PSO  Own goals  Own goal Time\n",
            "15  17-06-2018  Nigeria    Croatia  ...             0        1.0           32.0\n",
            "48  22-06-2018  Nigeria    Iceland  ...             0        0.0            NaN\n",
            "76  26-06-2018  Nigeria  Argentina  ...             0        0.0            NaN\n",
            "\n",
            "[3 rows x 27 columns]\n",
            "Panama\n",
            "          Date    Team Opponent  ...  Goals in PSO  Own goals  Own goal Time\n",
            "25  18-06-2018  Panama  Belgium  ...             0        0.0            NaN\n",
            "59  24-06-2018  Panama  England  ...             0        0.0            NaN\n",
            "92  28-06-2018  Panama  Tunisia  ...             0        0.0            NaN\n",
            "\n",
            "[3 rows x 27 columns]\n",
            "Peru\n",
            "          Date  Team   Opponent  ...  Goals in PSO  Own goals  Own goal Time\n",
            "12  16-06-2018  Peru    Denmark  ...             0        0.0            NaN\n",
            "43  21-06-2018  Peru     France  ...             0        0.0            NaN\n",
            "75  26-06-2018  Peru  Australia  ...             0        0.0            NaN\n",
            "\n",
            "[3 rows x 27 columns]\n",
            "Poland\n",
            "          Date    Team  Opponent  ...  Goals in PSO  Own goals  Own goal Time\n",
            "30  19-06-2018  Poland   Senegal  ...             0        1.0           37.0\n",
            "62  24-06-2018  Poland  Colombia  ...             0        0.0            NaN\n",
            "89  28-06-2018  Poland     Japan  ...             0        0.0            NaN\n",
            "\n",
            "[3 rows x 27 columns]\n",
            "Portugal\n",
            "          Date      Team Opponent  ...  Goals in PSO  Own goals  Own goal Time\n",
            "6   15-06-2018  Portugal    Spain  ...             0        0.0            NaN\n",
            "34  20-06-2018  Portugal  Morocco  ...             0        0.0            NaN\n",
            "71  25-06-2018  Portugal     Iran  ...             0        0.0            NaN\n",
            "99  30-06-2018  Portugal  Uruguay  ...             0        0.0            NaN\n",
            "\n",
            "[4 rows x 27 columns]\n",
            "Russia\n",
            "           Date    Team      Opponent  ...  Goals in PSO  Own goals  Own goal Time\n",
            "0    14-06-2018  Russia  Saudi Arabia  ...             0        0.0            NaN\n",
            "32   19-06-2018  Russia         Egypt  ...             0        0.0            NaN\n",
            "65   25-06-2018  Russia       Uruguay  ...             0        1.0           23.0\n",
            "101  01-07-2018  Russia         Spain  ...             4        1.0           12.0\n",
            "118  07-07-2018  Russia       Croatia  ...             3        0.0            NaN\n",
            "\n",
            "[5 rows x 27 columns]\n",
            "Saudi Arabia\n",
            "          Date          Team Opponent  ...  Goals in PSO  Own goals  Own goal Time\n",
            "1   14-06-2018  Saudi Arabia   Russia  ...             0        0.0            NaN\n",
            "37  20-06-2018  Saudi Arabia  Uruguay  ...             0        0.0            NaN\n",
            "66  25-06-2018  Saudi Arabia    Egypt  ...             0        0.0            NaN\n",
            "\n",
            "[3 rows x 27 columns]\n",
            "Senegal\n",
            "          Date     Team  Opponent  ...  Goals in PSO  Own goals  Own goal Time\n",
            "31  19-06-2018  Senegal    Poland  ...             0        0.0            NaN\n",
            "61  24-06-2018  Senegal     Japan  ...             0        0.0            NaN\n",
            "90  28-06-2018  Senegal  Colombia  ...             0        0.0            NaN\n",
            "\n",
            "[3 rows x 27 columns]\n",
            "Serbia\n",
            "          Date    Team     Opponent  ...  Goals in PSO  Own goals  Own goal Time\n",
            "17  17-06-2018  Serbia   Costa Rica  ...             0        0.0            NaN\n",
            "50  22-06-2018  Serbia  Switzerland  ...             0        0.0            NaN\n",
            "84  27-06-2018  Serbia       Brazil  ...             0        0.0            NaN\n",
            "\n",
            "[3 rows x 27 columns]\n",
            "Spain\n",
            "           Date   Team  Opponent  ...  Goals in PSO  Own goals  Own goal Time\n",
            "7    15-06-2018  Spain  Portugal  ...             0        0.0            NaN\n",
            "39   20-06-2018  Spain      Iran  ...             0        0.0            NaN\n",
            "68   25-06-2018  Spain   Morocco  ...             0        0.0            NaN\n",
            "100  01-07-2018  Spain    Russia  ...             3        0.0            NaN\n",
            "\n",
            "[4 rows x 27 columns]\n",
            "Sweden\n",
            "           Date    Team        Opponent  ...  Goals in PSO  Own goals  Own goal Time\n",
            "22   18-06-2018  Sweden  Korea Republic  ...             0        0.0            NaN\n",
            "57   23-06-2018  Sweden         Germany  ...             0        0.0            NaN\n",
            "83   27-06-2018  Sweden          Mexico  ...             0        0.0            NaN\n",
            "108  03-07-2018  Sweden     Switzerland  ...             0        0.0            NaN\n",
            "116  07-07-2018  Sweden         England  ...             0        0.0            NaN\n",
            "\n",
            "[5 rows x 27 columns]\n",
            "Switzerland\n",
            "           Date         Team  ... Own goals  Own goal Time\n",
            "21   17-06-2018  Switzerland  ...       0.0            NaN\n",
            "51   22-06-2018  Switzerland  ...       0.0            NaN\n",
            "86   27-06-2018  Switzerland  ...       1.0           90.0\n",
            "109  03-07-2018  Switzerland  ...       0.0            NaN\n",
            "\n",
            "[4 rows x 27 columns]\n",
            "Tunisia\n",
            "          Date     Team Opponent  ...  Goals in PSO  Own goals  Own goal Time\n",
            "26  18-06-2018  Tunisia  England  ...             0        0.0            NaN\n",
            "53  23-06-2018  Tunisia  Belgium  ...             0        0.0            NaN\n",
            "93  28-06-2018  Tunisia   Panama  ...             0        1.0           33.0\n",
            "\n",
            "[3 rows x 27 columns]\n",
            "Uruguay\n",
            "           Date     Team      Opponent  ...  Goals in PSO  Own goals  Own goal Time\n",
            "3    15-06-2018  Uruguay         Egypt  ...             0        0.0            NaN\n",
            "36   20-06-2018  Uruguay  Saudi Arabia  ...             0        0.0            NaN\n",
            "64   25-06-2018  Uruguay        Russia  ...             0        0.0            NaN\n",
            "98   30-06-2018  Uruguay      Portugal  ...             0        0.0            NaN\n",
            "112  06-07-2018  Uruguay        France  ...             0        0.0            NaN\n",
            "\n",
            "[5 rows x 27 columns]\n"
          ],
          "name": "stdout"
        }
      ]
    },
    {
      "cell_type": "markdown",
      "metadata": {
        "id": "CwHwjydFJ5j_"
      },
      "source": [
        "I  want to see the performance of the teams. So I am trying to see the Ball Possession values. Who actually had the ball for more time. I also want to know which teams had ball for more time and which team had ball for less time.\n"
      ]
    },
    {
      "cell_type": "markdown",
      "metadata": {
        "id": "keMsRi5BKbx6"
      },
      "source": [
        "We can see that Spain has the ball for more time. It has almost 68.5 percent average in ball Possession. So this is almost (68.5 percent of 90 min) 61.65 min in each game."
      ]
    },
    {
      "cell_type": "code",
      "metadata": {
        "id": "pzU0o8poI0VL",
        "outputId": "7fd0bc8f-eb8c-441f-f0c5-2a5a02ab33c1",
        "colab": {
          "base_uri": "https://localhost:8080/",
          "height": 85
        }
      },
      "source": [
        "new_df=g1.mean()\n",
        "new_df.reset_index(inplace=True)\n",
        "# print(new_df.head())\n",
        "print(new_df.shape)\n",
        "print(new_df['Ball Possession %'].max())\n",
        "\n",
        "new_df['Team'][new_df['Ball Possession %']==new_df['Ball Possession %'].max()]\n"
      ],
      "execution_count": null,
      "outputs": [
        {
          "output_type": "stream",
          "text": [
            "(32, 22)\n",
            "68.5\n"
          ],
          "name": "stdout"
        },
        {
          "output_type": "execute_result",
          "data": {
            "text/plain": [
              "27    Spain\n",
              "Name: Team, dtype: object"
            ]
          },
          "metadata": {
            "tags": []
          },
          "execution_count": 257
        }
      ]
    },
    {
      "cell_type": "markdown",
      "metadata": {
        "id": "qLiM60FtLDt5"
      },
      "source": [
        "We can see that Iran has the ball for least time. It has almost 32.66 percent average in ball Possession. So this is almost (32.66 percent of 90 min) 29 min in each game."
      ]
    },
    {
      "cell_type": "code",
      "metadata": {
        "id": "huO2byfxJWCs",
        "outputId": "33f022d2-9c01-48de-9540-7b309cf8ad93",
        "colab": {
          "base_uri": "https://localhost:8080/",
          "height": 68
        }
      },
      "source": [
        "print(new_df['Ball Possession %'].min())\n",
        "new_df['Team'][new_df['Ball Possession %']==new_df['Ball Possession %'].min()]\n"
      ],
      "execution_count": null,
      "outputs": [
        {
          "output_type": "stream",
          "text": [
            "32.666666666666664\n"
          ],
          "name": "stdout"
        },
        {
          "output_type": "execute_result",
          "data": {
            "text/plain": [
              "13    Iran\n",
              "Name: Team, dtype: object"
            ]
          },
          "metadata": {
            "tags": []
          },
          "execution_count": 258
        }
      ]
    },
    {
      "cell_type": "markdown",
      "metadata": {
        "id": "WJ9saSgJLT8e"
      },
      "source": [
        "We have see the ball possesion values. But how is it possible for Spain to have the ball for more time and Iran has it for lease time. Is there any link to this?"
      ]
    },
    {
      "cell_type": "markdown",
      "metadata": {
        "id": "to6OFOktLhS_"
      },
      "source": [
        "To answer the above question we need to think about pass accuracy. Yes definitely there is a link to pass accuracy and ball possesion. So let us see which teams have more pass accuracy percentage. "
      ]
    },
    {
      "cell_type": "code",
      "metadata": {
        "id": "8RwcJOLsPDYQ",
        "outputId": "20b060b7-bdab-493a-cb27-6632170b338a",
        "colab": {
          "base_uri": "https://localhost:8080/",
          "height": 68
        }
      },
      "source": [
        "print(new_df['Pass Accuracy %'].max())\n",
        "new_df['Team'][new_df['Pass Accuracy %']==new_df['Pass Accuracy %'].max()]"
      ],
      "execution_count": null,
      "outputs": [
        {
          "output_type": "stream",
          "text": [
            "91.0\n"
          ],
          "name": "stdout"
        },
        {
          "output_type": "execute_result",
          "data": {
            "text/plain": [
              "27    Spain\n",
              "Name: Team, dtype: object"
            ]
          },
          "metadata": {
            "tags": []
          },
          "execution_count": 259
        }
      ]
    },
    {
      "cell_type": "markdown",
      "metadata": {
        "id": "qO_-RPkeL8IW"
      },
      "source": [
        "We can see that Spain has most pass accuracy percentage. So that is the reason why they were able to get the ball for more time. "
      ]
    },
    {
      "cell_type": "code",
      "metadata": {
        "id": "ZJZBOSnuPyXl",
        "outputId": "70322455-f2c2-4326-fd4a-49eadc116d22",
        "colab": {
          "base_uri": "https://localhost:8080/",
          "height": 68
        }
      },
      "source": [
        "print(new_df['Pass Accuracy %'].min())\n",
        "new_df['Team'][new_df['Pass Accuracy %']==new_df['Pass Accuracy %'].min()]"
      ],
      "execution_count": null,
      "outputs": [
        {
          "output_type": "stream",
          "text": [
            "71.66666666666667\n"
          ],
          "name": "stdout"
        },
        {
          "output_type": "execute_result",
          "data": {
            "text/plain": [
              "12    Iceland\n",
              "Name: Team, dtype: object"
            ]
          },
          "metadata": {
            "tags": []
          },
          "execution_count": 260
        }
      ]
    },
    {
      "cell_type": "markdown",
      "metadata": {
        "id": "8zbwkc2pMIGE"
      },
      "source": [
        "We can see that Iceland is the team with less pass percentage. But we found that Iran has least ball posession value. So let us see how these three teams vary in terms of ball possession and pass accuracy."
      ]
    },
    {
      "cell_type": "code",
      "metadata": {
        "id": "gQkmWFcLP8Kh",
        "outputId": "ef6484ba-7503-46d6-bcd5-991dbb5ee13d",
        "colab": {
          "base_uri": "https://localhost:8080/",
          "height": 134
        }
      },
      "source": [
        "new_df[new_df['Team']=='Iceland']\n"
      ],
      "execution_count": null,
      "outputs": [
        {
          "output_type": "execute_result",
          "data": {
            "text/html": [
              "<div>\n",
              "<style scoped>\n",
              "    .dataframe tbody tr th:only-of-type {\n",
              "        vertical-align: middle;\n",
              "    }\n",
              "\n",
              "    .dataframe tbody tr th {\n",
              "        vertical-align: top;\n",
              "    }\n",
              "\n",
              "    .dataframe thead th {\n",
              "        text-align: right;\n",
              "    }\n",
              "</style>\n",
              "<table border=\"1\" class=\"dataframe\">\n",
              "  <thead>\n",
              "    <tr style=\"text-align: right;\">\n",
              "      <th></th>\n",
              "      <th>Team</th>\n",
              "      <th>Goal Scored</th>\n",
              "      <th>Ball Possession %</th>\n",
              "      <th>Attempts</th>\n",
              "      <th>On-Target</th>\n",
              "      <th>Off-Target</th>\n",
              "      <th>Blocked</th>\n",
              "      <th>Corners</th>\n",
              "      <th>Offsides</th>\n",
              "      <th>Free Kicks</th>\n",
              "      <th>Saves</th>\n",
              "      <th>Pass Accuracy %</th>\n",
              "      <th>Passes</th>\n",
              "      <th>Distance Covered (Kms)</th>\n",
              "      <th>Fouls Committed</th>\n",
              "      <th>Yellow Card</th>\n",
              "      <th>Yellow &amp; Red</th>\n",
              "      <th>Red</th>\n",
              "      <th>1st Goal</th>\n",
              "      <th>Goals in PSO</th>\n",
              "      <th>Own goals</th>\n",
              "      <th>Own goal Time</th>\n",
              "    </tr>\n",
              "  </thead>\n",
              "  <tbody>\n",
              "    <tr>\n",
              "      <th>12</th>\n",
              "      <td>Iceland</td>\n",
              "      <td>0.666667</td>\n",
              "      <td>37.0</td>\n",
              "      <td>12.0</td>\n",
              "      <td>4.0</td>\n",
              "      <td>6.333333</td>\n",
              "      <td>1.666667</td>\n",
              "      <td>5.666667</td>\n",
              "      <td>0.333333</td>\n",
              "      <td>10.666667</td>\n",
              "      <td>3.0</td>\n",
              "      <td>71.666667</td>\n",
              "      <td>268.0</td>\n",
              "      <td>104.666667</td>\n",
              "      <td>11.666667</td>\n",
              "      <td>1.0</td>\n",
              "      <td>0.0</td>\n",
              "      <td>0.0</td>\n",
              "      <td>49.5</td>\n",
              "      <td>0.0</td>\n",
              "      <td>0.0</td>\n",
              "      <td>NaN</td>\n",
              "    </tr>\n",
              "  </tbody>\n",
              "</table>\n",
              "</div>"
            ],
            "text/plain": [
              "       Team  Goal Scored  ...  Own goals  Own goal Time\n",
              "12  Iceland     0.666667  ...        0.0            NaN\n",
              "\n",
              "[1 rows x 22 columns]"
            ]
          },
          "metadata": {
            "tags": []
          },
          "execution_count": 261
        }
      ]
    },
    {
      "cell_type": "code",
      "metadata": {
        "id": "ZOTvIbsYMoj-",
        "outputId": "3b7e2266-5339-4dde-81c7-9c2a565a09d1",
        "colab": {
          "base_uri": "https://localhost:8080/",
          "height": 134
        }
      },
      "source": [
        "new_df[new_df['Team']=='Iran']"
      ],
      "execution_count": null,
      "outputs": [
        {
          "output_type": "execute_result",
          "data": {
            "text/html": [
              "<div>\n",
              "<style scoped>\n",
              "    .dataframe tbody tr th:only-of-type {\n",
              "        vertical-align: middle;\n",
              "    }\n",
              "\n",
              "    .dataframe tbody tr th {\n",
              "        vertical-align: top;\n",
              "    }\n",
              "\n",
              "    .dataframe thead th {\n",
              "        text-align: right;\n",
              "    }\n",
              "</style>\n",
              "<table border=\"1\" class=\"dataframe\">\n",
              "  <thead>\n",
              "    <tr style=\"text-align: right;\">\n",
              "      <th></th>\n",
              "      <th>Team</th>\n",
              "      <th>Goal Scored</th>\n",
              "      <th>Ball Possession %</th>\n",
              "      <th>Attempts</th>\n",
              "      <th>On-Target</th>\n",
              "      <th>Off-Target</th>\n",
              "      <th>Blocked</th>\n",
              "      <th>Corners</th>\n",
              "      <th>Offsides</th>\n",
              "      <th>Free Kicks</th>\n",
              "      <th>Saves</th>\n",
              "      <th>Pass Accuracy %</th>\n",
              "      <th>Passes</th>\n",
              "      <th>Distance Covered (Kms)</th>\n",
              "      <th>Fouls Committed</th>\n",
              "      <th>Yellow Card</th>\n",
              "      <th>Yellow &amp; Red</th>\n",
              "      <th>Red</th>\n",
              "      <th>1st Goal</th>\n",
              "      <th>Goals in PSO</th>\n",
              "      <th>Own goals</th>\n",
              "      <th>Own goal Time</th>\n",
              "    </tr>\n",
              "  </thead>\n",
              "  <tbody>\n",
              "    <tr>\n",
              "      <th>13</th>\n",
              "      <td>Iran</td>\n",
              "      <td>0.666667</td>\n",
              "      <td>32.666667</td>\n",
              "      <td>7.0</td>\n",
              "      <td>1.333333</td>\n",
              "      <td>5.0</td>\n",
              "      <td>0.666667</td>\n",
              "      <td>1.666667</td>\n",
              "      <td>1.0</td>\n",
              "      <td>16.333333</td>\n",
              "      <td>2.333333</td>\n",
              "      <td>74.666667</td>\n",
              "      <td>213.0</td>\n",
              "      <td>99.666667</td>\n",
              "      <td>14.666667</td>\n",
              "      <td>2.333333</td>\n",
              "      <td>0.0</td>\n",
              "      <td>0.0</td>\n",
              "      <td>90.0</td>\n",
              "      <td>0.0</td>\n",
              "      <td>0.0</td>\n",
              "      <td>NaN</td>\n",
              "    </tr>\n",
              "  </tbody>\n",
              "</table>\n",
              "</div>"
            ],
            "text/plain": [
              "    Team  Goal Scored  ...  Own goals  Own goal Time\n",
              "13  Iran     0.666667  ...        0.0            NaN\n",
              "\n",
              "[1 rows x 22 columns]"
            ]
          },
          "metadata": {
            "tags": []
          },
          "execution_count": 262
        }
      ]
    },
    {
      "cell_type": "code",
      "metadata": {
        "id": "eREwIxodSVyE",
        "outputId": "5b0ed983-b946-46c8-a413-5fd476c7ab06",
        "colab": {
          "base_uri": "https://localhost:8080/",
          "height": 159
        }
      },
      "source": [
        "print(type(new_df.loc[[12,13],:]))\n",
        "new_df.loc[[27,12,13],:][['Team','Ball Possession %','Pass Accuracy %']]"
      ],
      "execution_count": null,
      "outputs": [
        {
          "output_type": "stream",
          "text": [
            "<class 'pandas.core.frame.DataFrame'>\n"
          ],
          "name": "stdout"
        },
        {
          "output_type": "execute_result",
          "data": {
            "text/html": [
              "<div>\n",
              "<style scoped>\n",
              "    .dataframe tbody tr th:only-of-type {\n",
              "        vertical-align: middle;\n",
              "    }\n",
              "\n",
              "    .dataframe tbody tr th {\n",
              "        vertical-align: top;\n",
              "    }\n",
              "\n",
              "    .dataframe thead th {\n",
              "        text-align: right;\n",
              "    }\n",
              "</style>\n",
              "<table border=\"1\" class=\"dataframe\">\n",
              "  <thead>\n",
              "    <tr style=\"text-align: right;\">\n",
              "      <th></th>\n",
              "      <th>Team</th>\n",
              "      <th>Ball Possession %</th>\n",
              "      <th>Pass Accuracy %</th>\n",
              "    </tr>\n",
              "  </thead>\n",
              "  <tbody>\n",
              "    <tr>\n",
              "      <th>27</th>\n",
              "      <td>Spain</td>\n",
              "      <td>68.500000</td>\n",
              "      <td>91.000000</td>\n",
              "    </tr>\n",
              "    <tr>\n",
              "      <th>12</th>\n",
              "      <td>Iceland</td>\n",
              "      <td>37.000000</td>\n",
              "      <td>71.666667</td>\n",
              "    </tr>\n",
              "    <tr>\n",
              "      <th>13</th>\n",
              "      <td>Iran</td>\n",
              "      <td>32.666667</td>\n",
              "      <td>74.666667</td>\n",
              "    </tr>\n",
              "  </tbody>\n",
              "</table>\n",
              "</div>"
            ],
            "text/plain": [
              "       Team  Ball Possession %  Pass Accuracy %\n",
              "27    Spain          68.500000        91.000000\n",
              "12  Iceland          37.000000        71.666667\n",
              "13     Iran          32.666667        74.666667"
            ]
          },
          "metadata": {
            "tags": []
          },
          "execution_count": 263
        }
      ]
    },
    {
      "cell_type": "markdown",
      "metadata": {
        "id": "ByYHr2vLMvV1"
      },
      "source": [
        "Here we have seen that Iceland and Iran are having less Ball possession and pass accuracy values and they only vary a litte. Spain has more pass accuracy so they were having more ball possession value\n"
      ]
    },
    {
      "cell_type": "markdown",
      "metadata": {
        "id": "okn1ajlVM5tR"
      },
      "source": [
        "Now after ball possession and pass accuracy let us now calculate how teams have performed. Let us see whether they were on target when they hit the ball. \n",
        "So I want to add one more column to my dataframe to check about the percentage of teams regarding the on target and attempts"
      ]
    },
    {
      "cell_type": "code",
      "metadata": {
        "id": "J0FokJtgSil3",
        "outputId": "4f0ad3ef-f3b9-4748-80bd-eb53bbf5acb9",
        "colab": {
          "base_uri": "https://localhost:8080/",
          "height": 666
        }
      },
      "source": [
        "new_df=df\n",
        "k=(new_df['On-Target']/new_df['Attempts'])*100\n",
        "print(k)\n",
        "print(type(k))\n",
        "new_df['On target %']=k\n",
        "new_df.head()"
      ],
      "execution_count": null,
      "outputs": [
        {
          "output_type": "stream",
          "text": [
            "0      53.846154\n",
            "1       0.000000\n",
            "2      37.500000\n",
            "3      28.571429\n",
            "4      23.076923\n",
            "         ...    \n",
            "123     9.090909\n",
            "124    33.333333\n",
            "125    33.333333\n",
            "126    75.000000\n",
            "127    20.000000\n",
            "Length: 128, dtype: float64\n",
            "<class 'pandas.core.series.Series'>\n"
          ],
          "name": "stdout"
        },
        {
          "output_type": "execute_result",
          "data": {
            "text/html": [
              "<div>\n",
              "<style scoped>\n",
              "    .dataframe tbody tr th:only-of-type {\n",
              "        vertical-align: middle;\n",
              "    }\n",
              "\n",
              "    .dataframe tbody tr th {\n",
              "        vertical-align: top;\n",
              "    }\n",
              "\n",
              "    .dataframe thead th {\n",
              "        text-align: right;\n",
              "    }\n",
              "</style>\n",
              "<table border=\"1\" class=\"dataframe\">\n",
              "  <thead>\n",
              "    <tr style=\"text-align: right;\">\n",
              "      <th></th>\n",
              "      <th>Date</th>\n",
              "      <th>Team</th>\n",
              "      <th>Opponent</th>\n",
              "      <th>Goal Scored</th>\n",
              "      <th>Ball Possession %</th>\n",
              "      <th>Attempts</th>\n",
              "      <th>On-Target</th>\n",
              "      <th>Off-Target</th>\n",
              "      <th>Blocked</th>\n",
              "      <th>Corners</th>\n",
              "      <th>Offsides</th>\n",
              "      <th>Free Kicks</th>\n",
              "      <th>Saves</th>\n",
              "      <th>Pass Accuracy %</th>\n",
              "      <th>Passes</th>\n",
              "      <th>Distance Covered (Kms)</th>\n",
              "      <th>Fouls Committed</th>\n",
              "      <th>Yellow Card</th>\n",
              "      <th>Yellow &amp; Red</th>\n",
              "      <th>Red</th>\n",
              "      <th>Man of the Match</th>\n",
              "      <th>1st Goal</th>\n",
              "      <th>Round</th>\n",
              "      <th>PSO</th>\n",
              "      <th>Goals in PSO</th>\n",
              "      <th>Own goals</th>\n",
              "      <th>Own goal Time</th>\n",
              "      <th>On target %</th>\n",
              "    </tr>\n",
              "  </thead>\n",
              "  <tbody>\n",
              "    <tr>\n",
              "      <th>0</th>\n",
              "      <td>14-06-2018</td>\n",
              "      <td>Russia</td>\n",
              "      <td>Saudi Arabia</td>\n",
              "      <td>5</td>\n",
              "      <td>40</td>\n",
              "      <td>13</td>\n",
              "      <td>7</td>\n",
              "      <td>3</td>\n",
              "      <td>3</td>\n",
              "      <td>6</td>\n",
              "      <td>3</td>\n",
              "      <td>11</td>\n",
              "      <td>0</td>\n",
              "      <td>78</td>\n",
              "      <td>306</td>\n",
              "      <td>118</td>\n",
              "      <td>22</td>\n",
              "      <td>0</td>\n",
              "      <td>0</td>\n",
              "      <td>0</td>\n",
              "      <td>Yes</td>\n",
              "      <td>12.0</td>\n",
              "      <td>Group Stage</td>\n",
              "      <td>No</td>\n",
              "      <td>0</td>\n",
              "      <td>0.0</td>\n",
              "      <td>NaN</td>\n",
              "      <td>53.846154</td>\n",
              "    </tr>\n",
              "    <tr>\n",
              "      <th>1</th>\n",
              "      <td>14-06-2018</td>\n",
              "      <td>Saudi Arabia</td>\n",
              "      <td>Russia</td>\n",
              "      <td>0</td>\n",
              "      <td>60</td>\n",
              "      <td>6</td>\n",
              "      <td>0</td>\n",
              "      <td>3</td>\n",
              "      <td>3</td>\n",
              "      <td>2</td>\n",
              "      <td>1</td>\n",
              "      <td>25</td>\n",
              "      <td>2</td>\n",
              "      <td>86</td>\n",
              "      <td>511</td>\n",
              "      <td>105</td>\n",
              "      <td>10</td>\n",
              "      <td>0</td>\n",
              "      <td>0</td>\n",
              "      <td>0</td>\n",
              "      <td>No</td>\n",
              "      <td>NaN</td>\n",
              "      <td>Group Stage</td>\n",
              "      <td>No</td>\n",
              "      <td>0</td>\n",
              "      <td>0.0</td>\n",
              "      <td>NaN</td>\n",
              "      <td>0.000000</td>\n",
              "    </tr>\n",
              "    <tr>\n",
              "      <th>2</th>\n",
              "      <td>15-06-2018</td>\n",
              "      <td>Egypt</td>\n",
              "      <td>Uruguay</td>\n",
              "      <td>0</td>\n",
              "      <td>43</td>\n",
              "      <td>8</td>\n",
              "      <td>3</td>\n",
              "      <td>3</td>\n",
              "      <td>2</td>\n",
              "      <td>0</td>\n",
              "      <td>1</td>\n",
              "      <td>7</td>\n",
              "      <td>3</td>\n",
              "      <td>78</td>\n",
              "      <td>395</td>\n",
              "      <td>112</td>\n",
              "      <td>12</td>\n",
              "      <td>2</td>\n",
              "      <td>0</td>\n",
              "      <td>0</td>\n",
              "      <td>No</td>\n",
              "      <td>NaN</td>\n",
              "      <td>Group Stage</td>\n",
              "      <td>No</td>\n",
              "      <td>0</td>\n",
              "      <td>0.0</td>\n",
              "      <td>NaN</td>\n",
              "      <td>37.500000</td>\n",
              "    </tr>\n",
              "    <tr>\n",
              "      <th>3</th>\n",
              "      <td>15-06-2018</td>\n",
              "      <td>Uruguay</td>\n",
              "      <td>Egypt</td>\n",
              "      <td>1</td>\n",
              "      <td>57</td>\n",
              "      <td>14</td>\n",
              "      <td>4</td>\n",
              "      <td>6</td>\n",
              "      <td>4</td>\n",
              "      <td>5</td>\n",
              "      <td>1</td>\n",
              "      <td>13</td>\n",
              "      <td>3</td>\n",
              "      <td>86</td>\n",
              "      <td>589</td>\n",
              "      <td>111</td>\n",
              "      <td>6</td>\n",
              "      <td>0</td>\n",
              "      <td>0</td>\n",
              "      <td>0</td>\n",
              "      <td>Yes</td>\n",
              "      <td>89.0</td>\n",
              "      <td>Group Stage</td>\n",
              "      <td>No</td>\n",
              "      <td>0</td>\n",
              "      <td>0.0</td>\n",
              "      <td>NaN</td>\n",
              "      <td>28.571429</td>\n",
              "    </tr>\n",
              "    <tr>\n",
              "      <th>4</th>\n",
              "      <td>15-06-2018</td>\n",
              "      <td>Morocco</td>\n",
              "      <td>Iran</td>\n",
              "      <td>0</td>\n",
              "      <td>64</td>\n",
              "      <td>13</td>\n",
              "      <td>3</td>\n",
              "      <td>6</td>\n",
              "      <td>4</td>\n",
              "      <td>5</td>\n",
              "      <td>0</td>\n",
              "      <td>14</td>\n",
              "      <td>2</td>\n",
              "      <td>86</td>\n",
              "      <td>433</td>\n",
              "      <td>101</td>\n",
              "      <td>22</td>\n",
              "      <td>1</td>\n",
              "      <td>0</td>\n",
              "      <td>0</td>\n",
              "      <td>No</td>\n",
              "      <td>NaN</td>\n",
              "      <td>Group Stage</td>\n",
              "      <td>No</td>\n",
              "      <td>0</td>\n",
              "      <td>1.0</td>\n",
              "      <td>90.0</td>\n",
              "      <td>23.076923</td>\n",
              "    </tr>\n",
              "  </tbody>\n",
              "</table>\n",
              "</div>"
            ],
            "text/plain": [
              "         Date          Team  ... Own goal Time  On target %\n",
              "0  14-06-2018        Russia  ...           NaN    53.846154\n",
              "1  14-06-2018  Saudi Arabia  ...           NaN     0.000000\n",
              "2  15-06-2018         Egypt  ...           NaN    37.500000\n",
              "3  15-06-2018       Uruguay  ...           NaN    28.571429\n",
              "4  15-06-2018       Morocco  ...          90.0    23.076923\n",
              "\n",
              "[5 rows x 28 columns]"
            ]
          },
          "metadata": {
            "tags": []
          },
          "execution_count": 264
        }
      ]
    },
    {
      "cell_type": "markdown",
      "metadata": {
        "id": "I5gf9i2COsMZ"
      },
      "source": [
        "So for analysis of on target percentage I would try to group my dataset in terms of team"
      ]
    },
    {
      "cell_type": "code",
      "metadata": {
        "id": "K82CjI3cTh84",
        "outputId": "61e906aa-bec5-4377-fa1b-7f04c31a4019",
        "colab": {
          "base_uri": "https://localhost:8080/",
          "height": 119
        }
      },
      "source": [
        "g1=new_df.groupby('Team')\n",
        "new_df=g1.mean()\n",
        "new_df.reset_index(inplace=True)\n",
        "new_df.columns\n"
      ],
      "execution_count": null,
      "outputs": [
        {
          "output_type": "execute_result",
          "data": {
            "text/plain": [
              "Index(['Team', 'Goal Scored', 'Ball Possession %', 'Attempts', 'On-Target',\n",
              "       'Off-Target', 'Blocked', 'Corners', 'Offsides', 'Free Kicks', 'Saves',\n",
              "       'Pass Accuracy %', 'Passes', 'Distance Covered (Kms)',\n",
              "       'Fouls Committed', 'Yellow Card', 'Yellow & Red', 'Red', '1st Goal',\n",
              "       'Goals in PSO', 'Own goals', 'Own goal Time', 'On target %'],\n",
              "      dtype='object')"
            ]
          },
          "metadata": {
            "tags": []
          },
          "execution_count": 265
        }
      ]
    },
    {
      "cell_type": "markdown",
      "metadata": {
        "id": "jA_JjT77O8Ff"
      },
      "source": [
        "We can see that there is an extra column 'On target %' added to the dataframe at the end. Now we shall see the teams which performed better while hitting the target"
      ]
    },
    {
      "cell_type": "code",
      "metadata": {
        "id": "HnYTVRVApUZG",
        "outputId": "36d6151f-38d4-47d3-8ab9-f8411900e82f",
        "colab": {
          "base_uri": "https://localhost:8080/",
          "height": 51
        }
      },
      "source": [
        "new_df['Team'][new_df['On target %']==new_df['On target %'].max()]\n"
      ],
      "execution_count": null,
      "outputs": [
        {
          "output_type": "execute_result",
          "data": {
            "text/plain": [
              "20    Peru\n",
              "Name: Team, dtype: object"
            ]
          },
          "metadata": {
            "tags": []
          },
          "execution_count": 266
        }
      ]
    },
    {
      "cell_type": "markdown",
      "metadata": {
        "id": "L7fwnR1hPd8I"
      },
      "source": [
        "Peru was able to hit the target more perfectly than other teams.\n",
        "Let us see the how accurate they were."
      ]
    },
    {
      "cell_type": "code",
      "metadata": {
        "id": "U9anhNPBqRVH",
        "outputId": "bef53fbb-5436-4230-e8d9-38de7877a3b1",
        "colab": {
          "base_uri": "https://localhost:8080/",
          "height": 51
        }
      },
      "source": [
        "new_df['On target %'][new_df['Team']=='Peru']"
      ],
      "execution_count": null,
      "outputs": [
        {
          "output_type": "execute_result",
          "data": {
            "text/plain": [
              "20    42.777778\n",
              "Name: On target %, dtype: float64"
            ]
          },
          "metadata": {
            "tags": []
          },
          "execution_count": 267
        }
      ]
    },
    {
      "cell_type": "markdown",
      "metadata": {
        "id": "t4Aaqz-5PtAg"
      },
      "source": [
        "Their percentage turned out to be 42.77% which is actually a pretty good percentage. Because apart from this there would also be blockage. "
      ]
    },
    {
      "cell_type": "markdown",
      "metadata": {
        "id": "RFfOCVs1QFEE"
      },
      "source": [
        "I would also want to check the on target percentage of spain"
      ]
    },
    {
      "cell_type": "code",
      "metadata": {
        "id": "r7uMLRFNqDbH",
        "outputId": "dfc7db1e-afb1-4cdf-b9ef-2c9af7a23502",
        "colab": {
          "base_uri": "https://localhost:8080/",
          "height": 51
        }
      },
      "source": [
        "# this turned out to be 30 %\n",
        "new_df['On target %'][new_df['Team']=='Spain']"
      ],
      "execution_count": null,
      "outputs": [
        {
          "output_type": "execute_result",
          "data": {
            "text/plain": [
              "27    30.078431\n",
              "Name: On target %, dtype: float64"
            ]
          },
          "metadata": {
            "tags": []
          },
          "execution_count": 268
        }
      ]
    },
    {
      "cell_type": "markdown",
      "metadata": {
        "id": "h2dw5KgtQOQ1"
      },
      "source": [
        "Now which team was having less percentage in terms of on target"
      ]
    },
    {
      "cell_type": "code",
      "metadata": {
        "id": "QgjAZITYp56U",
        "outputId": "31059d6c-615a-449e-ddcc-03126f796a70",
        "colab": {
          "base_uri": "https://localhost:8080/",
          "height": 51
        }
      },
      "source": [
        "new_df['Team'][new_df['On target %']==new_df['On target %'].min()]\n"
      ],
      "execution_count": null,
      "outputs": [
        {
          "output_type": "execute_result",
          "data": {
            "text/plain": [
              "13    Iran\n",
              "Name: Team, dtype: object"
            ]
          },
          "metadata": {
            "tags": []
          },
          "execution_count": 269
        }
      ]
    },
    {
      "cell_type": "markdown",
      "metadata": {
        "id": "syrG3SejQTRL"
      },
      "source": [
        "Iran has less percentage of 16%. So they need to work hard in hitting the ball right on to target. When they are not able to hit the ball right on to target then there is not use of ball possession and ball passing. Because at the end they should be able to hit the ball at the target. "
      ]
    },
    {
      "cell_type": "code",
      "metadata": {
        "id": "uC8dOfLfp-F9",
        "outputId": "9a6a625f-199a-44d8-90b4-0e2fbbdb3957",
        "colab": {
          "base_uri": "https://localhost:8080/",
          "height": 51
        }
      },
      "source": [
        "new_df['On target %'][new_df['Team']=='Iran']"
      ],
      "execution_count": null,
      "outputs": [
        {
          "output_type": "execute_result",
          "data": {
            "text/plain": [
              "13    16.666667\n",
              "Name: On target %, dtype: float64"
            ]
          },
          "metadata": {
            "tags": []
          },
          "execution_count": 270
        }
      ]
    },
    {
      "cell_type": "markdown",
      "metadata": {
        "id": "4xG5LbGyQzce"
      },
      "source": [
        "Apart from these percentages, we also can see the data in terms of numbers.\n",
        "Here we can see the dataframe which has columns like fouls committed,goals scored etc. "
      ]
    },
    {
      "cell_type": "code",
      "metadata": {
        "id": "XdP0U6XprH_m",
        "outputId": "ae7e0168-bdaa-4de7-c763-86c146a82898",
        "colab": {
          "base_uri": "https://localhost:8080/",
          "height": 1000
        }
      },
      "source": [
        "new_df=g1.sum()\n",
        "print(new_df.columns)\n",
        "new_df=new_df[['Goal Scored', 'Saves',\n",
        "       'Passes', 'Distance Covered (Kms)',\n",
        "       'Fouls Committed', 'Yellow Card', 'Yellow & Red', 'Red']]\n",
        "new_df.reset_index(inplace=True)\n",
        "new_df"
      ],
      "execution_count": null,
      "outputs": [
        {
          "output_type": "stream",
          "text": [
            "Index(['Goal Scored', 'Ball Possession %', 'Attempts', 'On-Target',\n",
            "       'Off-Target', 'Blocked', 'Corners', 'Offsides', 'Free Kicks', 'Saves',\n",
            "       'Pass Accuracy %', 'Passes', 'Distance Covered (Kms)',\n",
            "       'Fouls Committed', 'Yellow Card', 'Yellow & Red', 'Red', '1st Goal',\n",
            "       'Goals in PSO', 'Own goals', 'Own goal Time', 'On target %'],\n",
            "      dtype='object')\n"
          ],
          "name": "stdout"
        },
        {
          "output_type": "execute_result",
          "data": {
            "text/html": [
              "<div>\n",
              "<style scoped>\n",
              "    .dataframe tbody tr th:only-of-type {\n",
              "        vertical-align: middle;\n",
              "    }\n",
              "\n",
              "    .dataframe tbody tr th {\n",
              "        vertical-align: top;\n",
              "    }\n",
              "\n",
              "    .dataframe thead th {\n",
              "        text-align: right;\n",
              "    }\n",
              "</style>\n",
              "<table border=\"1\" class=\"dataframe\">\n",
              "  <thead>\n",
              "    <tr style=\"text-align: right;\">\n",
              "      <th></th>\n",
              "      <th>Team</th>\n",
              "      <th>Goal Scored</th>\n",
              "      <th>Saves</th>\n",
              "      <th>Passes</th>\n",
              "      <th>Distance Covered (Kms)</th>\n",
              "      <th>Fouls Committed</th>\n",
              "      <th>Yellow Card</th>\n",
              "      <th>Yellow &amp; Red</th>\n",
              "      <th>Red</th>\n",
              "    </tr>\n",
              "  </thead>\n",
              "  <tbody>\n",
              "    <tr>\n",
              "      <th>0</th>\n",
              "      <td>Argentina</td>\n",
              "      <td>6</td>\n",
              "      <td>6</td>\n",
              "      <td>2335</td>\n",
              "      <td>399</td>\n",
              "      <td>55</td>\n",
              "      <td>11</td>\n",
              "      <td>0</td>\n",
              "      <td>0</td>\n",
              "    </tr>\n",
              "    <tr>\n",
              "      <th>1</th>\n",
              "      <td>Australia</td>\n",
              "      <td>2</td>\n",
              "      <td>10</td>\n",
              "      <td>1465</td>\n",
              "      <td>330</td>\n",
              "      <td>37</td>\n",
              "      <td>7</td>\n",
              "      <td>0</td>\n",
              "      <td>0</td>\n",
              "    </tr>\n",
              "    <tr>\n",
              "      <th>2</th>\n",
              "      <td>Belgium</td>\n",
              "      <td>16</td>\n",
              "      <td>27</td>\n",
              "      <td>3698</td>\n",
              "      <td>735</td>\n",
              "      <td>99</td>\n",
              "      <td>11</td>\n",
              "      <td>0</td>\n",
              "      <td>0</td>\n",
              "    </tr>\n",
              "    <tr>\n",
              "      <th>3</th>\n",
              "      <td>Brazil</td>\n",
              "      <td>8</td>\n",
              "      <td>5</td>\n",
              "      <td>2839</td>\n",
              "      <td>509</td>\n",
              "      <td>50</td>\n",
              "      <td>7</td>\n",
              "      <td>0</td>\n",
              "      <td>0</td>\n",
              "    </tr>\n",
              "    <tr>\n",
              "      <th>4</th>\n",
              "      <td>Colombia</td>\n",
              "      <td>6</td>\n",
              "      <td>10</td>\n",
              "      <td>1813</td>\n",
              "      <td>437</td>\n",
              "      <td>63</td>\n",
              "      <td>9</td>\n",
              "      <td>0</td>\n",
              "      <td>1</td>\n",
              "    </tr>\n",
              "    <tr>\n",
              "      <th>5</th>\n",
              "      <td>Costa Rica</td>\n",
              "      <td>2</td>\n",
              "      <td>10</td>\n",
              "      <td>1047</td>\n",
              "      <td>319</td>\n",
              "      <td>43</td>\n",
              "      <td>6</td>\n",
              "      <td>0</td>\n",
              "      <td>0</td>\n",
              "    </tr>\n",
              "    <tr>\n",
              "      <th>6</th>\n",
              "      <td>Croatia</td>\n",
              "      <td>14</td>\n",
              "      <td>20</td>\n",
              "      <td>3906</td>\n",
              "      <td>823</td>\n",
              "      <td>114</td>\n",
              "      <td>15</td>\n",
              "      <td>0</td>\n",
              "      <td>0</td>\n",
              "    </tr>\n",
              "    <tr>\n",
              "      <th>7</th>\n",
              "      <td>Denmark</td>\n",
              "      <td>3</td>\n",
              "      <td>21</td>\n",
              "      <td>1644</td>\n",
              "      <td>463</td>\n",
              "      <td>54</td>\n",
              "      <td>6</td>\n",
              "      <td>0</td>\n",
              "      <td>0</td>\n",
              "    </tr>\n",
              "    <tr>\n",
              "      <th>8</th>\n",
              "      <td>Egypt</td>\n",
              "      <td>2</td>\n",
              "      <td>9</td>\n",
              "      <td>1190</td>\n",
              "      <td>328</td>\n",
              "      <td>38</td>\n",
              "      <td>5</td>\n",
              "      <td>0</td>\n",
              "      <td>0</td>\n",
              "    </tr>\n",
              "    <tr>\n",
              "      <th>9</th>\n",
              "      <td>England</td>\n",
              "      <td>12</td>\n",
              "      <td>17</td>\n",
              "      <td>3842</td>\n",
              "      <td>824</td>\n",
              "      <td>72</td>\n",
              "      <td>8</td>\n",
              "      <td>0</td>\n",
              "      <td>0</td>\n",
              "    </tr>\n",
              "    <tr>\n",
              "      <th>10</th>\n",
              "      <td>France</td>\n",
              "      <td>14</td>\n",
              "      <td>13</td>\n",
              "      <td>3046</td>\n",
              "      <td>707</td>\n",
              "      <td>93</td>\n",
              "      <td>12</td>\n",
              "      <td>0</td>\n",
              "      <td>0</td>\n",
              "    </tr>\n",
              "    <tr>\n",
              "      <th>11</th>\n",
              "      <td>Germany</td>\n",
              "      <td>2</td>\n",
              "      <td>11</td>\n",
              "      <td>2013</td>\n",
              "      <td>336</td>\n",
              "      <td>29</td>\n",
              "      <td>2</td>\n",
              "      <td>1</td>\n",
              "      <td>0</td>\n",
              "    </tr>\n",
              "    <tr>\n",
              "      <th>12</th>\n",
              "      <td>Iceland</td>\n",
              "      <td>2</td>\n",
              "      <td>9</td>\n",
              "      <td>804</td>\n",
              "      <td>314</td>\n",
              "      <td>35</td>\n",
              "      <td>3</td>\n",
              "      <td>0</td>\n",
              "      <td>0</td>\n",
              "    </tr>\n",
              "    <tr>\n",
              "      <th>13</th>\n",
              "      <td>Iran</td>\n",
              "      <td>2</td>\n",
              "      <td>7</td>\n",
              "      <td>639</td>\n",
              "      <td>299</td>\n",
              "      <td>44</td>\n",
              "      <td>7</td>\n",
              "      <td>0</td>\n",
              "      <td>0</td>\n",
              "    </tr>\n",
              "    <tr>\n",
              "      <th>14</th>\n",
              "      <td>Japan</td>\n",
              "      <td>6</td>\n",
              "      <td>14</td>\n",
              "      <td>2024</td>\n",
              "      <td>398</td>\n",
              "      <td>37</td>\n",
              "      <td>5</td>\n",
              "      <td>0</td>\n",
              "      <td>0</td>\n",
              "    </tr>\n",
              "    <tr>\n",
              "      <th>15</th>\n",
              "      <td>Korea Republic</td>\n",
              "      <td>3</td>\n",
              "      <td>13</td>\n",
              "      <td>934</td>\n",
              "      <td>320</td>\n",
              "      <td>63</td>\n",
              "      <td>10</td>\n",
              "      <td>0</td>\n",
              "      <td>0</td>\n",
              "    </tr>\n",
              "    <tr>\n",
              "      <th>16</th>\n",
              "      <td>Mexico</td>\n",
              "      <td>3</td>\n",
              "      <td>25</td>\n",
              "      <td>1677</td>\n",
              "      <td>387</td>\n",
              "      <td>54</td>\n",
              "      <td>9</td>\n",
              "      <td>0</td>\n",
              "      <td>0</td>\n",
              "    </tr>\n",
              "    <tr>\n",
              "      <th>17</th>\n",
              "      <td>Morocco</td>\n",
              "      <td>2</td>\n",
              "      <td>4</td>\n",
              "      <td>1146</td>\n",
              "      <td>319</td>\n",
              "      <td>62</td>\n",
              "      <td>8</td>\n",
              "      <td>0</td>\n",
              "      <td>0</td>\n",
              "    </tr>\n",
              "    <tr>\n",
              "      <th>18</th>\n",
              "      <td>Nigeria</td>\n",
              "      <td>3</td>\n",
              "      <td>6</td>\n",
              "      <td>1105</td>\n",
              "      <td>299</td>\n",
              "      <td>45</td>\n",
              "      <td>4</td>\n",
              "      <td>0</td>\n",
              "      <td>0</td>\n",
              "    </tr>\n",
              "    <tr>\n",
              "      <th>19</th>\n",
              "      <td>Panama</td>\n",
              "      <td>2</td>\n",
              "      <td>8</td>\n",
              "      <td>999</td>\n",
              "      <td>291</td>\n",
              "      <td>49</td>\n",
              "      <td>11</td>\n",
              "      <td>0</td>\n",
              "      <td>0</td>\n",
              "    </tr>\n",
              "    <tr>\n",
              "      <th>20</th>\n",
              "      <td>Peru</td>\n",
              "      <td>2</td>\n",
              "      <td>7</td>\n",
              "      <td>1344</td>\n",
              "      <td>306</td>\n",
              "      <td>37</td>\n",
              "      <td>5</td>\n",
              "      <td>0</td>\n",
              "      <td>0</td>\n",
              "    </tr>\n",
              "    <tr>\n",
              "      <th>21</th>\n",
              "      <td>Poland</td>\n",
              "      <td>2</td>\n",
              "      <td>4</td>\n",
              "      <td>1438</td>\n",
              "      <td>297</td>\n",
              "      <td>31</td>\n",
              "      <td>3</td>\n",
              "      <td>0</td>\n",
              "      <td>0</td>\n",
              "    </tr>\n",
              "    <tr>\n",
              "      <th>22</th>\n",
              "      <td>Portugal</td>\n",
              "      <td>6</td>\n",
              "      <td>8</td>\n",
              "      <td>1955</td>\n",
              "      <td>403</td>\n",
              "      <td>55</td>\n",
              "      <td>7</td>\n",
              "      <td>0</td>\n",
              "      <td>0</td>\n",
              "    </tr>\n",
              "    <tr>\n",
              "      <th>23</th>\n",
              "      <td>Russia</td>\n",
              "      <td>11</td>\n",
              "      <td>15</td>\n",
              "      <td>1724</td>\n",
              "      <td>625</td>\n",
              "      <td>95</td>\n",
              "      <td>5</td>\n",
              "      <td>1</td>\n",
              "      <td>0</td>\n",
              "    </tr>\n",
              "    <tr>\n",
              "      <th>24</th>\n",
              "      <td>Saudi Arabia</td>\n",
              "      <td>2</td>\n",
              "      <td>5</td>\n",
              "      <td>1756</td>\n",
              "      <td>306</td>\n",
              "      <td>30</td>\n",
              "      <td>0</td>\n",
              "      <td>0</td>\n",
              "      <td>0</td>\n",
              "    </tr>\n",
              "    <tr>\n",
              "      <th>25</th>\n",
              "      <td>Senegal</td>\n",
              "      <td>4</td>\n",
              "      <td>5</td>\n",
              "      <td>947</td>\n",
              "      <td>306</td>\n",
              "      <td>44</td>\n",
              "      <td>6</td>\n",
              "      <td>0</td>\n",
              "      <td>0</td>\n",
              "    </tr>\n",
              "    <tr>\n",
              "      <th>26</th>\n",
              "      <td>Serbia</td>\n",
              "      <td>2</td>\n",
              "      <td>10</td>\n",
              "      <td>1168</td>\n",
              "      <td>339</td>\n",
              "      <td>45</td>\n",
              "      <td>9</td>\n",
              "      <td>0</td>\n",
              "      <td>0</td>\n",
              "    </tr>\n",
              "    <tr>\n",
              "      <th>27</th>\n",
              "      <td>Spain</td>\n",
              "      <td>7</td>\n",
              "      <td>1</td>\n",
              "      <td>3431</td>\n",
              "      <td>448</td>\n",
              "      <td>34</td>\n",
              "      <td>2</td>\n",
              "      <td>0</td>\n",
              "      <td>0</td>\n",
              "    </tr>\n",
              "    <tr>\n",
              "      <th>28</th>\n",
              "      <td>Sweden</td>\n",
              "      <td>6</td>\n",
              "      <td>11</td>\n",
              "      <td>1492</td>\n",
              "      <td>526</td>\n",
              "      <td>65</td>\n",
              "      <td>8</td>\n",
              "      <td>0</td>\n",
              "      <td>0</td>\n",
              "    </tr>\n",
              "    <tr>\n",
              "      <th>29</th>\n",
              "      <td>Switzerland</td>\n",
              "      <td>5</td>\n",
              "      <td>12</td>\n",
              "      <td>2176</td>\n",
              "      <td>426</td>\n",
              "      <td>53</td>\n",
              "      <td>9</td>\n",
              "      <td>0</td>\n",
              "      <td>1</td>\n",
              "    </tr>\n",
              "    <tr>\n",
              "      <th>30</th>\n",
              "      <td>Tunisia</td>\n",
              "      <td>5</td>\n",
              "      <td>15</td>\n",
              "      <td>1429</td>\n",
              "      <td>312</td>\n",
              "      <td>46</td>\n",
              "      <td>4</td>\n",
              "      <td>0</td>\n",
              "      <td>0</td>\n",
              "    </tr>\n",
              "    <tr>\n",
              "      <th>31</th>\n",
              "      <td>Uruguay</td>\n",
              "      <td>7</td>\n",
              "      <td>11</td>\n",
              "      <td>2193</td>\n",
              "      <td>522</td>\n",
              "      <td>63</td>\n",
              "      <td>3</td>\n",
              "      <td>0</td>\n",
              "      <td>0</td>\n",
              "    </tr>\n",
              "  </tbody>\n",
              "</table>\n",
              "</div>"
            ],
            "text/plain": [
              "              Team  Goal Scored  Saves  ...  Yellow Card  Yellow & Red  Red\n",
              "0        Argentina            6      6  ...           11             0    0\n",
              "1        Australia            2     10  ...            7             0    0\n",
              "2          Belgium           16     27  ...           11             0    0\n",
              "3           Brazil            8      5  ...            7             0    0\n",
              "4         Colombia            6     10  ...            9             0    1\n",
              "5       Costa Rica            2     10  ...            6             0    0\n",
              "6          Croatia           14     20  ...           15             0    0\n",
              "7          Denmark            3     21  ...            6             0    0\n",
              "8            Egypt            2      9  ...            5             0    0\n",
              "9          England           12     17  ...            8             0    0\n",
              "10          France           14     13  ...           12             0    0\n",
              "11         Germany            2     11  ...            2             1    0\n",
              "12         Iceland            2      9  ...            3             0    0\n",
              "13            Iran            2      7  ...            7             0    0\n",
              "14           Japan            6     14  ...            5             0    0\n",
              "15  Korea Republic            3     13  ...           10             0    0\n",
              "16          Mexico            3     25  ...            9             0    0\n",
              "17         Morocco            2      4  ...            8             0    0\n",
              "18         Nigeria            3      6  ...            4             0    0\n",
              "19          Panama            2      8  ...           11             0    0\n",
              "20            Peru            2      7  ...            5             0    0\n",
              "21          Poland            2      4  ...            3             0    0\n",
              "22        Portugal            6      8  ...            7             0    0\n",
              "23          Russia           11     15  ...            5             1    0\n",
              "24    Saudi Arabia            2      5  ...            0             0    0\n",
              "25         Senegal            4      5  ...            6             0    0\n",
              "26          Serbia            2     10  ...            9             0    0\n",
              "27           Spain            7      1  ...            2             0    0\n",
              "28          Sweden            6     11  ...            8             0    0\n",
              "29     Switzerland            5     12  ...            9             0    1\n",
              "30         Tunisia            5     15  ...            4             0    0\n",
              "31         Uruguay            7     11  ...            3             0    0\n",
              "\n",
              "[32 rows x 9 columns]"
            ]
          },
          "metadata": {
            "tags": []
          },
          "execution_count": 271
        }
      ]
    },
    {
      "cell_type": "markdown",
      "metadata": {
        "id": "kZEmXpGwRFyo"
      },
      "source": [
        "I want to see the team which scored more number of goals in the toal tournament."
      ]
    },
    {
      "cell_type": "code",
      "metadata": {
        "id": "l3PFkxv_1iZZ",
        "outputId": "15ae5769-3969-447b-bc7b-e5de34f25055",
        "colab": {
          "base_uri": "https://localhost:8080/",
          "height": 68
        }
      },
      "source": [
        "print(new_df['Team'][new_df['Goal Scored']==new_df['Goal Scored'].max()])\n",
        "print(new_df['Goal Scored'].max())"
      ],
      "execution_count": null,
      "outputs": [
        {
          "output_type": "stream",
          "text": [
            "2    Belgium\n",
            "Name: Team, dtype: object\n",
            "16\n"
          ],
          "name": "stdout"
        }
      ]
    },
    {
      "cell_type": "markdown",
      "metadata": {
        "id": "uIlnt5wERMvc"
      },
      "source": [
        "Belgium scored the most number of goals in the total tournament. Let us also see which team scored least number of goals"
      ]
    },
    {
      "cell_type": "code",
      "metadata": {
        "id": "dZCf-RAwILgU",
        "outputId": "72d12b43-5c5d-43bf-969d-7305fef85d5a",
        "colab": {
          "base_uri": "https://localhost:8080/",
          "height": 255
        }
      },
      "source": [
        "print(new_df['Team'][new_df['Goal Scored']==new_df['Goal Scored'].min()])\n",
        "print(new_df['Goal Scored'].min())"
      ],
      "execution_count": null,
      "outputs": [
        {
          "output_type": "stream",
          "text": [
            "1        Australia\n",
            "5       Costa Rica\n",
            "8            Egypt\n",
            "11         Germany\n",
            "12         Iceland\n",
            "13            Iran\n",
            "17         Morocco\n",
            "19          Panama\n",
            "20            Peru\n",
            "21          Poland\n",
            "24    Saudi Arabia\n",
            "26          Serbia\n",
            "Name: Team, dtype: object\n",
            "2\n"
          ],
          "name": "stdout"
        }
      ]
    },
    {
      "cell_type": "markdown",
      "metadata": {
        "id": "lq_cUVbeRXD4"
      },
      "source": [
        "There are many teams which scored only 2 goals in total tournament. Here is the list of the teams. [Australia\n",
        "     ,  Costa Rica\n",
        ",          Egypt\n",
        "      ,   Germany\n",
        "       ,  Iceland\n",
        "        ,    Iran\n",
        "         ,Morocco\n",
        "          ,Panama\n",
        "           , Peru\n",
        " ,         Poland\n",
        "  ,Saudi Arabia\n",
        "  ,        Serbia]\n",
        "These teams scored 2 goals in the total tournment.\n"
      ]
    },
    {
      "cell_type": "markdown",
      "metadata": {
        "id": "UfwmFQhsTTpn"
      },
      "source": [
        "Now let us see the stats os most important match of the tournament i.e Final match. "
      ]
    },
    {
      "cell_type": "code",
      "metadata": {
        "id": "5cc6UBFTHdsY",
        "outputId": "7018bc90-e69c-45d7-f041-0e71f56adb8a",
        "colab": {
          "base_uri": "https://localhost:8080/",
          "height": 250
        }
      },
      "source": [
        "g1=df.groupby('Round')\n",
        "new_df=g1.get_group('Final')\n",
        "new_df"
      ],
      "execution_count": null,
      "outputs": [
        {
          "output_type": "execute_result",
          "data": {
            "text/html": [
              "<div>\n",
              "<style scoped>\n",
              "    .dataframe tbody tr th:only-of-type {\n",
              "        vertical-align: middle;\n",
              "    }\n",
              "\n",
              "    .dataframe tbody tr th {\n",
              "        vertical-align: top;\n",
              "    }\n",
              "\n",
              "    .dataframe thead th {\n",
              "        text-align: right;\n",
              "    }\n",
              "</style>\n",
              "<table border=\"1\" class=\"dataframe\">\n",
              "  <thead>\n",
              "    <tr style=\"text-align: right;\">\n",
              "      <th></th>\n",
              "      <th>Date</th>\n",
              "      <th>Team</th>\n",
              "      <th>Opponent</th>\n",
              "      <th>Goal Scored</th>\n",
              "      <th>Ball Possession %</th>\n",
              "      <th>Attempts</th>\n",
              "      <th>On-Target</th>\n",
              "      <th>Off-Target</th>\n",
              "      <th>Blocked</th>\n",
              "      <th>Corners</th>\n",
              "      <th>Offsides</th>\n",
              "      <th>Free Kicks</th>\n",
              "      <th>Saves</th>\n",
              "      <th>Pass Accuracy %</th>\n",
              "      <th>Passes</th>\n",
              "      <th>Distance Covered (Kms)</th>\n",
              "      <th>Fouls Committed</th>\n",
              "      <th>Yellow Card</th>\n",
              "      <th>Yellow &amp; Red</th>\n",
              "      <th>Red</th>\n",
              "      <th>Man of the Match</th>\n",
              "      <th>1st Goal</th>\n",
              "      <th>Round</th>\n",
              "      <th>PSO</th>\n",
              "      <th>Goals in PSO</th>\n",
              "      <th>Own goals</th>\n",
              "      <th>Own goal Time</th>\n",
              "      <th>On target %</th>\n",
              "    </tr>\n",
              "  </thead>\n",
              "  <tbody>\n",
              "    <tr>\n",
              "      <th>126</th>\n",
              "      <td>15-07-2018</td>\n",
              "      <td>France</td>\n",
              "      <td>Croatia</td>\n",
              "      <td>4</td>\n",
              "      <td>39</td>\n",
              "      <td>8</td>\n",
              "      <td>6</td>\n",
              "      <td>1</td>\n",
              "      <td>1</td>\n",
              "      <td>2</td>\n",
              "      <td>1</td>\n",
              "      <td>14</td>\n",
              "      <td>1</td>\n",
              "      <td>75</td>\n",
              "      <td>271</td>\n",
              "      <td>99</td>\n",
              "      <td>14</td>\n",
              "      <td>2</td>\n",
              "      <td>0</td>\n",
              "      <td>0</td>\n",
              "      <td>Yes</td>\n",
              "      <td>18.0</td>\n",
              "      <td>Final</td>\n",
              "      <td>No</td>\n",
              "      <td>0</td>\n",
              "      <td>1.0</td>\n",
              "      <td>18.0</td>\n",
              "      <td>75.0</td>\n",
              "    </tr>\n",
              "    <tr>\n",
              "      <th>127</th>\n",
              "      <td>15-07-2018</td>\n",
              "      <td>Croatia</td>\n",
              "      <td>France</td>\n",
              "      <td>2</td>\n",
              "      <td>61</td>\n",
              "      <td>15</td>\n",
              "      <td>3</td>\n",
              "      <td>8</td>\n",
              "      <td>4</td>\n",
              "      <td>6</td>\n",
              "      <td>1</td>\n",
              "      <td>15</td>\n",
              "      <td>3</td>\n",
              "      <td>83</td>\n",
              "      <td>547</td>\n",
              "      <td>100</td>\n",
              "      <td>13</td>\n",
              "      <td>1</td>\n",
              "      <td>0</td>\n",
              "      <td>0</td>\n",
              "      <td>No</td>\n",
              "      <td>28.0</td>\n",
              "      <td>Final</td>\n",
              "      <td>No</td>\n",
              "      <td>0</td>\n",
              "      <td>0.0</td>\n",
              "      <td>NaN</td>\n",
              "      <td>20.0</td>\n",
              "    </tr>\n",
              "  </tbody>\n",
              "</table>\n",
              "</div>"
            ],
            "text/plain": [
              "           Date     Team Opponent  ...  Own goals  Own goal Time  On target %\n",
              "126  15-07-2018   France  Croatia  ...        1.0           18.0         75.0\n",
              "127  15-07-2018  Croatia   France  ...        0.0            NaN         20.0\n",
              "\n",
              "[2 rows x 28 columns]"
            ]
          },
          "metadata": {
            "tags": []
          },
          "execution_count": 274
        }
      ]
    },
    {
      "cell_type": "markdown",
      "metadata": {
        "id": "wL0bsYC7TfMx"
      },
      "source": [
        "The index is not good looking. So I am replacing it with normal values. "
      ]
    },
    {
      "cell_type": "code",
      "metadata": {
        "id": "x08JSYr6n0DB",
        "outputId": "b116feca-271a-4502-d7c5-cffabd95d562",
        "colab": {
          "base_uri": "https://localhost:8080/",
          "height": 250
        }
      },
      "source": [
        "new_df.set_index(keys=np.arange(2),inplace=True)\n",
        "new_df"
      ],
      "execution_count": null,
      "outputs": [
        {
          "output_type": "execute_result",
          "data": {
            "text/html": [
              "<div>\n",
              "<style scoped>\n",
              "    .dataframe tbody tr th:only-of-type {\n",
              "        vertical-align: middle;\n",
              "    }\n",
              "\n",
              "    .dataframe tbody tr th {\n",
              "        vertical-align: top;\n",
              "    }\n",
              "\n",
              "    .dataframe thead th {\n",
              "        text-align: right;\n",
              "    }\n",
              "</style>\n",
              "<table border=\"1\" class=\"dataframe\">\n",
              "  <thead>\n",
              "    <tr style=\"text-align: right;\">\n",
              "      <th></th>\n",
              "      <th>Date</th>\n",
              "      <th>Team</th>\n",
              "      <th>Opponent</th>\n",
              "      <th>Goal Scored</th>\n",
              "      <th>Ball Possession %</th>\n",
              "      <th>Attempts</th>\n",
              "      <th>On-Target</th>\n",
              "      <th>Off-Target</th>\n",
              "      <th>Blocked</th>\n",
              "      <th>Corners</th>\n",
              "      <th>Offsides</th>\n",
              "      <th>Free Kicks</th>\n",
              "      <th>Saves</th>\n",
              "      <th>Pass Accuracy %</th>\n",
              "      <th>Passes</th>\n",
              "      <th>Distance Covered (Kms)</th>\n",
              "      <th>Fouls Committed</th>\n",
              "      <th>Yellow Card</th>\n",
              "      <th>Yellow &amp; Red</th>\n",
              "      <th>Red</th>\n",
              "      <th>Man of the Match</th>\n",
              "      <th>1st Goal</th>\n",
              "      <th>Round</th>\n",
              "      <th>PSO</th>\n",
              "      <th>Goals in PSO</th>\n",
              "      <th>Own goals</th>\n",
              "      <th>Own goal Time</th>\n",
              "      <th>On target %</th>\n",
              "    </tr>\n",
              "  </thead>\n",
              "  <tbody>\n",
              "    <tr>\n",
              "      <th>0</th>\n",
              "      <td>15-07-2018</td>\n",
              "      <td>France</td>\n",
              "      <td>Croatia</td>\n",
              "      <td>4</td>\n",
              "      <td>39</td>\n",
              "      <td>8</td>\n",
              "      <td>6</td>\n",
              "      <td>1</td>\n",
              "      <td>1</td>\n",
              "      <td>2</td>\n",
              "      <td>1</td>\n",
              "      <td>14</td>\n",
              "      <td>1</td>\n",
              "      <td>75</td>\n",
              "      <td>271</td>\n",
              "      <td>99</td>\n",
              "      <td>14</td>\n",
              "      <td>2</td>\n",
              "      <td>0</td>\n",
              "      <td>0</td>\n",
              "      <td>Yes</td>\n",
              "      <td>18.0</td>\n",
              "      <td>Final</td>\n",
              "      <td>No</td>\n",
              "      <td>0</td>\n",
              "      <td>1.0</td>\n",
              "      <td>18.0</td>\n",
              "      <td>75.0</td>\n",
              "    </tr>\n",
              "    <tr>\n",
              "      <th>1</th>\n",
              "      <td>15-07-2018</td>\n",
              "      <td>Croatia</td>\n",
              "      <td>France</td>\n",
              "      <td>2</td>\n",
              "      <td>61</td>\n",
              "      <td>15</td>\n",
              "      <td>3</td>\n",
              "      <td>8</td>\n",
              "      <td>4</td>\n",
              "      <td>6</td>\n",
              "      <td>1</td>\n",
              "      <td>15</td>\n",
              "      <td>3</td>\n",
              "      <td>83</td>\n",
              "      <td>547</td>\n",
              "      <td>100</td>\n",
              "      <td>13</td>\n",
              "      <td>1</td>\n",
              "      <td>0</td>\n",
              "      <td>0</td>\n",
              "      <td>No</td>\n",
              "      <td>28.0</td>\n",
              "      <td>Final</td>\n",
              "      <td>No</td>\n",
              "      <td>0</td>\n",
              "      <td>0.0</td>\n",
              "      <td>NaN</td>\n",
              "      <td>20.0</td>\n",
              "    </tr>\n",
              "  </tbody>\n",
              "</table>\n",
              "</div>"
            ],
            "text/plain": [
              "         Date     Team Opponent  ...  Own goals  Own goal Time  On target %\n",
              "0  15-07-2018   France  Croatia  ...        1.0           18.0         75.0\n",
              "1  15-07-2018  Croatia   France  ...        0.0            NaN         20.0\n",
              "\n",
              "[2 rows x 28 columns]"
            ]
          },
          "metadata": {
            "tags": []
          },
          "execution_count": 275
        }
      ]
    },
    {
      "cell_type": "markdown",
      "metadata": {
        "id": "xiOKUBUzToGo"
      },
      "source": [
        "Now the dataframe is good to see. \n",
        "Let us find the winner of the tournament. But how to find the winner. We need to check who made more goals. But I want to first confirm that there was no PSO in the final match. So I am seeing the PSO of final match"
      ]
    },
    {
      "cell_type": "code",
      "metadata": {
        "id": "g6UEdeBZqIzf",
        "outputId": "ecc0e4c2-d456-4369-aacb-8b80a262978e",
        "colab": {
          "base_uri": "https://localhost:8080/",
          "height": 68
        }
      },
      "source": [
        "#pso penalty shoot out\n",
        "new_df['PSO']"
      ],
      "execution_count": null,
      "outputs": [
        {
          "output_type": "execute_result",
          "data": {
            "text/plain": [
              "0    No\n",
              "1    No\n",
              "Name: PSO, dtype: object"
            ]
          },
          "metadata": {
            "tags": []
          },
          "execution_count": 276
        }
      ]
    },
    {
      "cell_type": "markdown",
      "metadata": {
        "id": "F1-WvdVCUD7B"
      },
      "source": [
        "Here we have seen that there was no penalty shoot out in the match. This indicated that the number of goals scored by the teams is not equal. So I can find the winner by identifying the team which scored most number of goals."
      ]
    },
    {
      "cell_type": "code",
      "metadata": {
        "id": "kWOoqdaVqzZO",
        "outputId": "3be9051e-5107-4112-d8f1-9122dcbbe2ef",
        "colab": {
          "base_uri": "https://localhost:8080/",
          "height": 51
        }
      },
      "source": [
        "new_df['Team'][new_df['Goal Scored']==new_df['Goal Scored'].max()]"
      ],
      "execution_count": null,
      "outputs": [
        {
          "output_type": "execute_result",
          "data": {
            "text/plain": [
              "0    France\n",
              "Name: Team, dtype: object"
            ]
          },
          "metadata": {
            "tags": []
          },
          "execution_count": 277
        }
      ]
    },
    {
      "cell_type": "markdown",
      "metadata": {
        "id": "Jb8MBfMWUhMS"
      },
      "source": [
        "# Hurray!! We have found that France has scored more number of goals and they won the finale. So the winners of the tournament are  **France**"
      ]
    },
    {
      "cell_type": "markdown",
      "metadata": {
        "id": "05wM33qVU8tr"
      },
      "source": [
        "Now let us find which teams has more fouls committed in the complete tournament."
      ]
    },
    {
      "cell_type": "code",
      "metadata": {
        "id": "KafBsWF_rFQy",
        "outputId": "dfad9730-8352-4733-db81-ab11474162ac",
        "colab": {
          "base_uri": "https://localhost:8080/",
          "height": 272
        }
      },
      "source": [
        "g1=df.groupby('Team')\n",
        "new_df=g1.sum()\n",
        "print(new_df.head())\n",
        "print(new_df.columns)"
      ],
      "execution_count": null,
      "outputs": [
        {
          "output_type": "stream",
          "text": [
            "           Goal Scored  Ball Possession %  ...  Own goal Time  On target %\n",
            "Team                                       ...                            \n",
            "Argentina            6                255  ...            0.0   151.367521\n",
            "Australia            2                153  ...           81.0    75.000000\n",
            "Belgium             16                367  ...            0.0   256.340580\n",
            "Brazil               8                278  ...           13.0   187.518713\n",
            "Colombia             6                201  ...            0.0   139.148352\n",
            "\n",
            "[5 rows x 22 columns]\n",
            "Index(['Goal Scored', 'Ball Possession %', 'Attempts', 'On-Target',\n",
            "       'Off-Target', 'Blocked', 'Corners', 'Offsides', 'Free Kicks', 'Saves',\n",
            "       'Pass Accuracy %', 'Passes', 'Distance Covered (Kms)',\n",
            "       'Fouls Committed', 'Yellow Card', 'Yellow & Red', 'Red', '1st Goal',\n",
            "       'Goals in PSO', 'Own goals', 'Own goal Time', 'On target %'],\n",
            "      dtype='object')\n"
          ],
          "name": "stdout"
        }
      ]
    },
    {
      "cell_type": "code",
      "metadata": {
        "id": "G9GKjd1vsVkO",
        "outputId": "852dc37f-4335-4ddf-d52a-0f333f024ae0",
        "colab": {
          "base_uri": "https://localhost:8080/",
          "height": 1000
        }
      },
      "source": [
        "new_df=new_df[['Goal Scored', 'Saves',\n",
        "       'Passes', 'Distance Covered (Kms)',\n",
        "       'Fouls Committed', 'Yellow Card', 'Yellow & Red', 'Red']]\n",
        "new_df"
      ],
      "execution_count": null,
      "outputs": [
        {
          "output_type": "execute_result",
          "data": {
            "text/html": [
              "<div>\n",
              "<style scoped>\n",
              "    .dataframe tbody tr th:only-of-type {\n",
              "        vertical-align: middle;\n",
              "    }\n",
              "\n",
              "    .dataframe tbody tr th {\n",
              "        vertical-align: top;\n",
              "    }\n",
              "\n",
              "    .dataframe thead th {\n",
              "        text-align: right;\n",
              "    }\n",
              "</style>\n",
              "<table border=\"1\" class=\"dataframe\">\n",
              "  <thead>\n",
              "    <tr style=\"text-align: right;\">\n",
              "      <th></th>\n",
              "      <th>Goal Scored</th>\n",
              "      <th>Saves</th>\n",
              "      <th>Passes</th>\n",
              "      <th>Distance Covered (Kms)</th>\n",
              "      <th>Fouls Committed</th>\n",
              "      <th>Yellow Card</th>\n",
              "      <th>Yellow &amp; Red</th>\n",
              "      <th>Red</th>\n",
              "    </tr>\n",
              "    <tr>\n",
              "      <th>Team</th>\n",
              "      <th></th>\n",
              "      <th></th>\n",
              "      <th></th>\n",
              "      <th></th>\n",
              "      <th></th>\n",
              "      <th></th>\n",
              "      <th></th>\n",
              "      <th></th>\n",
              "    </tr>\n",
              "  </thead>\n",
              "  <tbody>\n",
              "    <tr>\n",
              "      <th>Argentina</th>\n",
              "      <td>6</td>\n",
              "      <td>6</td>\n",
              "      <td>2335</td>\n",
              "      <td>399</td>\n",
              "      <td>55</td>\n",
              "      <td>11</td>\n",
              "      <td>0</td>\n",
              "      <td>0</td>\n",
              "    </tr>\n",
              "    <tr>\n",
              "      <th>Australia</th>\n",
              "      <td>2</td>\n",
              "      <td>10</td>\n",
              "      <td>1465</td>\n",
              "      <td>330</td>\n",
              "      <td>37</td>\n",
              "      <td>7</td>\n",
              "      <td>0</td>\n",
              "      <td>0</td>\n",
              "    </tr>\n",
              "    <tr>\n",
              "      <th>Belgium</th>\n",
              "      <td>16</td>\n",
              "      <td>27</td>\n",
              "      <td>3698</td>\n",
              "      <td>735</td>\n",
              "      <td>99</td>\n",
              "      <td>11</td>\n",
              "      <td>0</td>\n",
              "      <td>0</td>\n",
              "    </tr>\n",
              "    <tr>\n",
              "      <th>Brazil</th>\n",
              "      <td>8</td>\n",
              "      <td>5</td>\n",
              "      <td>2839</td>\n",
              "      <td>509</td>\n",
              "      <td>50</td>\n",
              "      <td>7</td>\n",
              "      <td>0</td>\n",
              "      <td>0</td>\n",
              "    </tr>\n",
              "    <tr>\n",
              "      <th>Colombia</th>\n",
              "      <td>6</td>\n",
              "      <td>10</td>\n",
              "      <td>1813</td>\n",
              "      <td>437</td>\n",
              "      <td>63</td>\n",
              "      <td>9</td>\n",
              "      <td>0</td>\n",
              "      <td>1</td>\n",
              "    </tr>\n",
              "    <tr>\n",
              "      <th>Costa Rica</th>\n",
              "      <td>2</td>\n",
              "      <td>10</td>\n",
              "      <td>1047</td>\n",
              "      <td>319</td>\n",
              "      <td>43</td>\n",
              "      <td>6</td>\n",
              "      <td>0</td>\n",
              "      <td>0</td>\n",
              "    </tr>\n",
              "    <tr>\n",
              "      <th>Croatia</th>\n",
              "      <td>14</td>\n",
              "      <td>20</td>\n",
              "      <td>3906</td>\n",
              "      <td>823</td>\n",
              "      <td>114</td>\n",
              "      <td>15</td>\n",
              "      <td>0</td>\n",
              "      <td>0</td>\n",
              "    </tr>\n",
              "    <tr>\n",
              "      <th>Denmark</th>\n",
              "      <td>3</td>\n",
              "      <td>21</td>\n",
              "      <td>1644</td>\n",
              "      <td>463</td>\n",
              "      <td>54</td>\n",
              "      <td>6</td>\n",
              "      <td>0</td>\n",
              "      <td>0</td>\n",
              "    </tr>\n",
              "    <tr>\n",
              "      <th>Egypt</th>\n",
              "      <td>2</td>\n",
              "      <td>9</td>\n",
              "      <td>1190</td>\n",
              "      <td>328</td>\n",
              "      <td>38</td>\n",
              "      <td>5</td>\n",
              "      <td>0</td>\n",
              "      <td>0</td>\n",
              "    </tr>\n",
              "    <tr>\n",
              "      <th>England</th>\n",
              "      <td>12</td>\n",
              "      <td>17</td>\n",
              "      <td>3842</td>\n",
              "      <td>824</td>\n",
              "      <td>72</td>\n",
              "      <td>8</td>\n",
              "      <td>0</td>\n",
              "      <td>0</td>\n",
              "    </tr>\n",
              "    <tr>\n",
              "      <th>France</th>\n",
              "      <td>14</td>\n",
              "      <td>13</td>\n",
              "      <td>3046</td>\n",
              "      <td>707</td>\n",
              "      <td>93</td>\n",
              "      <td>12</td>\n",
              "      <td>0</td>\n",
              "      <td>0</td>\n",
              "    </tr>\n",
              "    <tr>\n",
              "      <th>Germany</th>\n",
              "      <td>2</td>\n",
              "      <td>11</td>\n",
              "      <td>2013</td>\n",
              "      <td>336</td>\n",
              "      <td>29</td>\n",
              "      <td>2</td>\n",
              "      <td>1</td>\n",
              "      <td>0</td>\n",
              "    </tr>\n",
              "    <tr>\n",
              "      <th>Iceland</th>\n",
              "      <td>2</td>\n",
              "      <td>9</td>\n",
              "      <td>804</td>\n",
              "      <td>314</td>\n",
              "      <td>35</td>\n",
              "      <td>3</td>\n",
              "      <td>0</td>\n",
              "      <td>0</td>\n",
              "    </tr>\n",
              "    <tr>\n",
              "      <th>Iran</th>\n",
              "      <td>2</td>\n",
              "      <td>7</td>\n",
              "      <td>639</td>\n",
              "      <td>299</td>\n",
              "      <td>44</td>\n",
              "      <td>7</td>\n",
              "      <td>0</td>\n",
              "      <td>0</td>\n",
              "    </tr>\n",
              "    <tr>\n",
              "      <th>Japan</th>\n",
              "      <td>6</td>\n",
              "      <td>14</td>\n",
              "      <td>2024</td>\n",
              "      <td>398</td>\n",
              "      <td>37</td>\n",
              "      <td>5</td>\n",
              "      <td>0</td>\n",
              "      <td>0</td>\n",
              "    </tr>\n",
              "    <tr>\n",
              "      <th>Korea Republic</th>\n",
              "      <td>3</td>\n",
              "      <td>13</td>\n",
              "      <td>934</td>\n",
              "      <td>320</td>\n",
              "      <td>63</td>\n",
              "      <td>10</td>\n",
              "      <td>0</td>\n",
              "      <td>0</td>\n",
              "    </tr>\n",
              "    <tr>\n",
              "      <th>Mexico</th>\n",
              "      <td>3</td>\n",
              "      <td>25</td>\n",
              "      <td>1677</td>\n",
              "      <td>387</td>\n",
              "      <td>54</td>\n",
              "      <td>9</td>\n",
              "      <td>0</td>\n",
              "      <td>0</td>\n",
              "    </tr>\n",
              "    <tr>\n",
              "      <th>Morocco</th>\n",
              "      <td>2</td>\n",
              "      <td>4</td>\n",
              "      <td>1146</td>\n",
              "      <td>319</td>\n",
              "      <td>62</td>\n",
              "      <td>8</td>\n",
              "      <td>0</td>\n",
              "      <td>0</td>\n",
              "    </tr>\n",
              "    <tr>\n",
              "      <th>Nigeria</th>\n",
              "      <td>3</td>\n",
              "      <td>6</td>\n",
              "      <td>1105</td>\n",
              "      <td>299</td>\n",
              "      <td>45</td>\n",
              "      <td>4</td>\n",
              "      <td>0</td>\n",
              "      <td>0</td>\n",
              "    </tr>\n",
              "    <tr>\n",
              "      <th>Panama</th>\n",
              "      <td>2</td>\n",
              "      <td>8</td>\n",
              "      <td>999</td>\n",
              "      <td>291</td>\n",
              "      <td>49</td>\n",
              "      <td>11</td>\n",
              "      <td>0</td>\n",
              "      <td>0</td>\n",
              "    </tr>\n",
              "    <tr>\n",
              "      <th>Peru</th>\n",
              "      <td>2</td>\n",
              "      <td>7</td>\n",
              "      <td>1344</td>\n",
              "      <td>306</td>\n",
              "      <td>37</td>\n",
              "      <td>5</td>\n",
              "      <td>0</td>\n",
              "      <td>0</td>\n",
              "    </tr>\n",
              "    <tr>\n",
              "      <th>Poland</th>\n",
              "      <td>2</td>\n",
              "      <td>4</td>\n",
              "      <td>1438</td>\n",
              "      <td>297</td>\n",
              "      <td>31</td>\n",
              "      <td>3</td>\n",
              "      <td>0</td>\n",
              "      <td>0</td>\n",
              "    </tr>\n",
              "    <tr>\n",
              "      <th>Portugal</th>\n",
              "      <td>6</td>\n",
              "      <td>8</td>\n",
              "      <td>1955</td>\n",
              "      <td>403</td>\n",
              "      <td>55</td>\n",
              "      <td>7</td>\n",
              "      <td>0</td>\n",
              "      <td>0</td>\n",
              "    </tr>\n",
              "    <tr>\n",
              "      <th>Russia</th>\n",
              "      <td>11</td>\n",
              "      <td>15</td>\n",
              "      <td>1724</td>\n",
              "      <td>625</td>\n",
              "      <td>95</td>\n",
              "      <td>5</td>\n",
              "      <td>1</td>\n",
              "      <td>0</td>\n",
              "    </tr>\n",
              "    <tr>\n",
              "      <th>Saudi Arabia</th>\n",
              "      <td>2</td>\n",
              "      <td>5</td>\n",
              "      <td>1756</td>\n",
              "      <td>306</td>\n",
              "      <td>30</td>\n",
              "      <td>0</td>\n",
              "      <td>0</td>\n",
              "      <td>0</td>\n",
              "    </tr>\n",
              "    <tr>\n",
              "      <th>Senegal</th>\n",
              "      <td>4</td>\n",
              "      <td>5</td>\n",
              "      <td>947</td>\n",
              "      <td>306</td>\n",
              "      <td>44</td>\n",
              "      <td>6</td>\n",
              "      <td>0</td>\n",
              "      <td>0</td>\n",
              "    </tr>\n",
              "    <tr>\n",
              "      <th>Serbia</th>\n",
              "      <td>2</td>\n",
              "      <td>10</td>\n",
              "      <td>1168</td>\n",
              "      <td>339</td>\n",
              "      <td>45</td>\n",
              "      <td>9</td>\n",
              "      <td>0</td>\n",
              "      <td>0</td>\n",
              "    </tr>\n",
              "    <tr>\n",
              "      <th>Spain</th>\n",
              "      <td>7</td>\n",
              "      <td>1</td>\n",
              "      <td>3431</td>\n",
              "      <td>448</td>\n",
              "      <td>34</td>\n",
              "      <td>2</td>\n",
              "      <td>0</td>\n",
              "      <td>0</td>\n",
              "    </tr>\n",
              "    <tr>\n",
              "      <th>Sweden</th>\n",
              "      <td>6</td>\n",
              "      <td>11</td>\n",
              "      <td>1492</td>\n",
              "      <td>526</td>\n",
              "      <td>65</td>\n",
              "      <td>8</td>\n",
              "      <td>0</td>\n",
              "      <td>0</td>\n",
              "    </tr>\n",
              "    <tr>\n",
              "      <th>Switzerland</th>\n",
              "      <td>5</td>\n",
              "      <td>12</td>\n",
              "      <td>2176</td>\n",
              "      <td>426</td>\n",
              "      <td>53</td>\n",
              "      <td>9</td>\n",
              "      <td>0</td>\n",
              "      <td>1</td>\n",
              "    </tr>\n",
              "    <tr>\n",
              "      <th>Tunisia</th>\n",
              "      <td>5</td>\n",
              "      <td>15</td>\n",
              "      <td>1429</td>\n",
              "      <td>312</td>\n",
              "      <td>46</td>\n",
              "      <td>4</td>\n",
              "      <td>0</td>\n",
              "      <td>0</td>\n",
              "    </tr>\n",
              "    <tr>\n",
              "      <th>Uruguay</th>\n",
              "      <td>7</td>\n",
              "      <td>11</td>\n",
              "      <td>2193</td>\n",
              "      <td>522</td>\n",
              "      <td>63</td>\n",
              "      <td>3</td>\n",
              "      <td>0</td>\n",
              "      <td>0</td>\n",
              "    </tr>\n",
              "  </tbody>\n",
              "</table>\n",
              "</div>"
            ],
            "text/plain": [
              "                Goal Scored  Saves  Passes  ...  Yellow Card  Yellow & Red  Red\n",
              "Team                                        ...                                \n",
              "Argentina                 6      6    2335  ...           11             0    0\n",
              "Australia                 2     10    1465  ...            7             0    0\n",
              "Belgium                  16     27    3698  ...           11             0    0\n",
              "Brazil                    8      5    2839  ...            7             0    0\n",
              "Colombia                  6     10    1813  ...            9             0    1\n",
              "Costa Rica                2     10    1047  ...            6             0    0\n",
              "Croatia                  14     20    3906  ...           15             0    0\n",
              "Denmark                   3     21    1644  ...            6             0    0\n",
              "Egypt                     2      9    1190  ...            5             0    0\n",
              "England                  12     17    3842  ...            8             0    0\n",
              "France                   14     13    3046  ...           12             0    0\n",
              "Germany                   2     11    2013  ...            2             1    0\n",
              "Iceland                   2      9     804  ...            3             0    0\n",
              "Iran                      2      7     639  ...            7             0    0\n",
              "Japan                     6     14    2024  ...            5             0    0\n",
              "Korea Republic            3     13     934  ...           10             0    0\n",
              "Mexico                    3     25    1677  ...            9             0    0\n",
              "Morocco                   2      4    1146  ...            8             0    0\n",
              "Nigeria                   3      6    1105  ...            4             0    0\n",
              "Panama                    2      8     999  ...           11             0    0\n",
              "Peru                      2      7    1344  ...            5             0    0\n",
              "Poland                    2      4    1438  ...            3             0    0\n",
              "Portugal                  6      8    1955  ...            7             0    0\n",
              "Russia                   11     15    1724  ...            5             1    0\n",
              "Saudi Arabia              2      5    1756  ...            0             0    0\n",
              "Senegal                   4      5     947  ...            6             0    0\n",
              "Serbia                    2     10    1168  ...            9             0    0\n",
              "Spain                     7      1    3431  ...            2             0    0\n",
              "Sweden                    6     11    1492  ...            8             0    0\n",
              "Switzerland               5     12    2176  ...            9             0    1\n",
              "Tunisia                   5     15    1429  ...            4             0    0\n",
              "Uruguay                   7     11    2193  ...            3             0    0\n",
              "\n",
              "[32 rows x 8 columns]"
            ]
          },
          "metadata": {
            "tags": []
          },
          "execution_count": 279
        }
      ]
    },
    {
      "cell_type": "markdown",
      "metadata": {
        "id": "np43m3m7WAg9"
      },
      "source": [
        "## It is rightly said that \"A picture is worth thousand words\""
      ]
    },
    {
      "cell_type": "markdown",
      "metadata": {
        "id": "NVdYrix_VOgS"
      },
      "source": [
        "It is really difficult to see the dataset where we have more number of columns. So we shall plot a bar graph to have a better understanding"
      ]
    },
    {
      "cell_type": "code",
      "metadata": {
        "id": "g6GV57WgsvZq",
        "outputId": "24594662-b4c2-4c48-dc7a-5b182e3d10f8",
        "colab": {
          "base_uri": "https://localhost:8080/",
          "height": 452
        }
      },
      "source": [
        "df1=new_df[['Fouls Committed','Yellow Card','Yellow & Red','Red']]\n",
        "plt.rcParams['figure.figsize']=[20,6]\n",
        "k=df1.plot.bar()\n"
      ],
      "execution_count": null,
      "outputs": [
        {
          "output_type": "display_data",
          "data": {
            "image/png": "[encoded data removed]",
            "text/plain": [
              "<Figure size 1440x432 with 1 Axes>"
            ]
          },
          "metadata": {
            "tags": [],
            "needs_background": "light"
          }
        }
      ]
    },
    {
      "cell_type": "markdown",
      "metadata": {
        "id": "ITXrvReJVhrZ"
      },
      "source": [
        "It is clearly visible that more number of fouls were committed by Croatia. \n",
        "The bar graph clearly explains that there are very few red cards and few red and yellow cards."
      ]
    },
    {
      "cell_type": "markdown",
      "metadata": {
        "id": "LJdsakmCWY7n"
      },
      "source": [
        "Now let us also visualize the goals scored by the teams."
      ]
    },
    {
      "cell_type": "code",
      "metadata": {
        "id": "lfRnTPt-tTk7",
        "outputId": "463c2637-67eb-4626-b8b9-79ebccc36bd5",
        "colab": {
          "base_uri": "https://localhost:8080/",
          "height": 119
        }
      },
      "source": [
        "g1=df.groupby('Team')\n",
        "new_df=g1.sum()\n",
        "new_df.columns\n"
      ],
      "execution_count": null,
      "outputs": [
        {
          "output_type": "execute_result",
          "data": {
            "text/plain": [
              "Index(['Goal Scored', 'Ball Possession %', 'Attempts', 'On-Target',\n",
              "       'Off-Target', 'Blocked', 'Corners', 'Offsides', 'Free Kicks', 'Saves',\n",
              "       'Pass Accuracy %', 'Passes', 'Distance Covered (Kms)',\n",
              "       'Fouls Committed', 'Yellow Card', 'Yellow & Red', 'Red', '1st Goal',\n",
              "       'Goals in PSO', 'Own goals', 'Own goal Time', 'On target %'],\n",
              "      dtype='object')"
            ]
          },
          "metadata": {
            "tags": []
          },
          "execution_count": 281
        }
      ]
    },
    {
      "cell_type": "code",
      "metadata": {
        "id": "Zr6ljsVvA9Vh",
        "outputId": "dd6515d5-ce03-4917-bf13-afeaae0cec3f",
        "colab": {
          "base_uri": "https://localhost:8080/",
          "height": 1000
        }
      },
      "source": [
        "new_df=new_df[['Goal Scored']]\n",
        "new_df.reset_index(inplace=True)\n",
        "new_df"
      ],
      "execution_count": null,
      "outputs": [
        {
          "output_type": "execute_result",
          "data": {
            "text/html": [
              "<div>\n",
              "<style scoped>\n",
              "    .dataframe tbody tr th:only-of-type {\n",
              "        vertical-align: middle;\n",
              "    }\n",
              "\n",
              "    .dataframe tbody tr th {\n",
              "        vertical-align: top;\n",
              "    }\n",
              "\n",
              "    .dataframe thead th {\n",
              "        text-align: right;\n",
              "    }\n",
              "</style>\n",
              "<table border=\"1\" class=\"dataframe\">\n",
              "  <thead>\n",
              "    <tr style=\"text-align: right;\">\n",
              "      <th></th>\n",
              "      <th>Team</th>\n",
              "      <th>Goal Scored</th>\n",
              "    </tr>\n",
              "  </thead>\n",
              "  <tbody>\n",
              "    <tr>\n",
              "      <th>0</th>\n",
              "      <td>Argentina</td>\n",
              "      <td>6</td>\n",
              "    </tr>\n",
              "    <tr>\n",
              "      <th>1</th>\n",
              "      <td>Australia</td>\n",
              "      <td>2</td>\n",
              "    </tr>\n",
              "    <tr>\n",
              "      <th>2</th>\n",
              "      <td>Belgium</td>\n",
              "      <td>16</td>\n",
              "    </tr>\n",
              "    <tr>\n",
              "      <th>3</th>\n",
              "      <td>Brazil</td>\n",
              "      <td>8</td>\n",
              "    </tr>\n",
              "    <tr>\n",
              "      <th>4</th>\n",
              "      <td>Colombia</td>\n",
              "      <td>6</td>\n",
              "    </tr>\n",
              "    <tr>\n",
              "      <th>5</th>\n",
              "      <td>Costa Rica</td>\n",
              "      <td>2</td>\n",
              "    </tr>\n",
              "    <tr>\n",
              "      <th>6</th>\n",
              "      <td>Croatia</td>\n",
              "      <td>14</td>\n",
              "    </tr>\n",
              "    <tr>\n",
              "      <th>7</th>\n",
              "      <td>Denmark</td>\n",
              "      <td>3</td>\n",
              "    </tr>\n",
              "    <tr>\n",
              "      <th>8</th>\n",
              "      <td>Egypt</td>\n",
              "      <td>2</td>\n",
              "    </tr>\n",
              "    <tr>\n",
              "      <th>9</th>\n",
              "      <td>England</td>\n",
              "      <td>12</td>\n",
              "    </tr>\n",
              "    <tr>\n",
              "      <th>10</th>\n",
              "      <td>France</td>\n",
              "      <td>14</td>\n",
              "    </tr>\n",
              "    <tr>\n",
              "      <th>11</th>\n",
              "      <td>Germany</td>\n",
              "      <td>2</td>\n",
              "    </tr>\n",
              "    <tr>\n",
              "      <th>12</th>\n",
              "      <td>Iceland</td>\n",
              "      <td>2</td>\n",
              "    </tr>\n",
              "    <tr>\n",
              "      <th>13</th>\n",
              "      <td>Iran</td>\n",
              "      <td>2</td>\n",
              "    </tr>\n",
              "    <tr>\n",
              "      <th>14</th>\n",
              "      <td>Japan</td>\n",
              "      <td>6</td>\n",
              "    </tr>\n",
              "    <tr>\n",
              "      <th>15</th>\n",
              "      <td>Korea Republic</td>\n",
              "      <td>3</td>\n",
              "    </tr>\n",
              "    <tr>\n",
              "      <th>16</th>\n",
              "      <td>Mexico</td>\n",
              "      <td>3</td>\n",
              "    </tr>\n",
              "    <tr>\n",
              "      <th>17</th>\n",
              "      <td>Morocco</td>\n",
              "      <td>2</td>\n",
              "    </tr>\n",
              "    <tr>\n",
              "      <th>18</th>\n",
              "      <td>Nigeria</td>\n",
              "      <td>3</td>\n",
              "    </tr>\n",
              "    <tr>\n",
              "      <th>19</th>\n",
              "      <td>Panama</td>\n",
              "      <td>2</td>\n",
              "    </tr>\n",
              "    <tr>\n",
              "      <th>20</th>\n",
              "      <td>Peru</td>\n",
              "      <td>2</td>\n",
              "    </tr>\n",
              "    <tr>\n",
              "      <th>21</th>\n",
              "      <td>Poland</td>\n",
              "      <td>2</td>\n",
              "    </tr>\n",
              "    <tr>\n",
              "      <th>22</th>\n",
              "      <td>Portugal</td>\n",
              "      <td>6</td>\n",
              "    </tr>\n",
              "    <tr>\n",
              "      <th>23</th>\n",
              "      <td>Russia</td>\n",
              "      <td>11</td>\n",
              "    </tr>\n",
              "    <tr>\n",
              "      <th>24</th>\n",
              "      <td>Saudi Arabia</td>\n",
              "      <td>2</td>\n",
              "    </tr>\n",
              "    <tr>\n",
              "      <th>25</th>\n",
              "      <td>Senegal</td>\n",
              "      <td>4</td>\n",
              "    </tr>\n",
              "    <tr>\n",
              "      <th>26</th>\n",
              "      <td>Serbia</td>\n",
              "      <td>2</td>\n",
              "    </tr>\n",
              "    <tr>\n",
              "      <th>27</th>\n",
              "      <td>Spain</td>\n",
              "      <td>7</td>\n",
              "    </tr>\n",
              "    <tr>\n",
              "      <th>28</th>\n",
              "      <td>Sweden</td>\n",
              "      <td>6</td>\n",
              "    </tr>\n",
              "    <tr>\n",
              "      <th>29</th>\n",
              "      <td>Switzerland</td>\n",
              "      <td>5</td>\n",
              "    </tr>\n",
              "    <tr>\n",
              "      <th>30</th>\n",
              "      <td>Tunisia</td>\n",
              "      <td>5</td>\n",
              "    </tr>\n",
              "    <tr>\n",
              "      <th>31</th>\n",
              "      <td>Uruguay</td>\n",
              "      <td>7</td>\n",
              "    </tr>\n",
              "  </tbody>\n",
              "</table>\n",
              "</div>"
            ],
            "text/plain": [
              "              Team  Goal Scored\n",
              "0        Argentina            6\n",
              "1        Australia            2\n",
              "2          Belgium           16\n",
              "3           Brazil            8\n",
              "4         Colombia            6\n",
              "5       Costa Rica            2\n",
              "6          Croatia           14\n",
              "7          Denmark            3\n",
              "8            Egypt            2\n",
              "9          England           12\n",
              "10          France           14\n",
              "11         Germany            2\n",
              "12         Iceland            2\n",
              "13            Iran            2\n",
              "14           Japan            6\n",
              "15  Korea Republic            3\n",
              "16          Mexico            3\n",
              "17         Morocco            2\n",
              "18         Nigeria            3\n",
              "19          Panama            2\n",
              "20            Peru            2\n",
              "21          Poland            2\n",
              "22        Portugal            6\n",
              "23          Russia           11\n",
              "24    Saudi Arabia            2\n",
              "25         Senegal            4\n",
              "26          Serbia            2\n",
              "27           Spain            7\n",
              "28          Sweden            6\n",
              "29     Switzerland            5\n",
              "30         Tunisia            5\n",
              "31         Uruguay            7"
            ]
          },
          "metadata": {
            "tags": []
          },
          "execution_count": 282
        }
      ]
    },
    {
      "cell_type": "code",
      "metadata": {
        "id": "s3pLyDwoCRip"
      },
      "source": [
        "(x,y)=new_df.shape\n",
        "l=np.zeros(x,dtype=np.float64)\n",
        "x1=new_df.index[new_df['Goal Scored']==new_df['Goal Scored'].max()]\n",
        "l[x1]=0.5"
      ],
      "execution_count": null,
      "outputs": []
    },
    {
      "cell_type": "code",
      "metadata": {
        "id": "4JtsVgttBPvA",
        "outputId": "ed58653f-251d-4ece-d20f-ac07e88196b3",
        "colab": {
          "base_uri": "https://localhost:8080/",
          "height": 755
        }
      },
      "source": [
        "\n",
        "plt.pie(new_df['Goal Scored'],labels=new_df['Team'],radius=2.5,autopct=\"%0.2f%%\",shadow=True,explode=l)\n",
        "plt.show()"
      ],
      "execution_count": null,
      "outputs": [
        {
          "output_type": "display_data",
          "data": {
            "image/png": "[encoded data removed]",
            "text/plain": [
              "<Figure size 1440x432 with 1 Axes>"
            ]
          },
          "metadata": {
            "tags": []
          }
        }
      ]
    },
    {
      "cell_type": "markdown",
      "metadata": {
        "id": "eKa-1zVJWjyh"
      },
      "source": [
        "In the pie chart we can see that Belgium has scored more number of goals in the complete tournament. \n",
        "And we can also see that other teams like Russia, England, Croatia and France also are having a good goal percentage. "
      ]
    },
    {
      "cell_type": "code",
      "metadata": {
        "id": "JKxYHNlXBXUJ"
      },
      "source": [
        ""
      ],
      "execution_count": null,
      "outputs": []
    }
  ]
}