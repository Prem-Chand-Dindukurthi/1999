{
  "nbformat": 4,
  "nbformat_minor": 0,
  "metadata": {
    "colab": {
      "name": "ADS Exp 2 prem chand.ipynb",
      "provenance": [],
      "collapsed_sections": [],
      "authorship_tag": "ABX9TyNC9woRetq6lyxAO0mARyj0",
      "include_colab_link": true
    },
    "kernelspec": {
      "name": "python3",
      "display_name": "Python 3"
    }
  },
  "cells": [
    {
      "cell_type": "markdown",
      "metadata": {
        "id": "view-in-github",
        "colab_type": "text"
      },
      "source": [
        "<a href=\"https://colab.research.google.com/github/Prem-Chand-Dindukurthi/1999/blob/master/ADS_Exp_2_prem_chand.ipynb\" target=\"_parent\"><img src=\"https://colab.research.google.com/assets/colab-badge.svg\" alt=\"Open In Colab\"/></a>"
      ]
    },
    {
      "cell_type": "markdown",
      "metadata": {
        "id": "re0mx95X0W64"
      },
      "source": [
        "# Importing required libraries\n",
        " "
      ]
    },
    {
      "cell_type": "code",
      "metadata": {
        "id": "Ngo8a4EbOJhf"
      },
      "source": [
        "import pandas as pd\n",
        "import numpy as np\n",
        "import matplotlib.pyplot as plt\n",
        "import seaborn as sn\n",
        "%matplotlib inline"
      ],
      "execution_count": 313,
      "outputs": []
    },
    {
      "cell_type": "markdown",
      "metadata": {
        "id": "mgwI3N760iSp"
      },
      "source": [
        "# My dataset name is \"fifa 2018 stats.csv\". So I am loading the file \n",
        " "
      ]
    },
    {
      "cell_type": "code",
      "metadata": {
        "id": "p--bvT9QzzPl",
        "outputId": "431123c6-6834-45a3-f231-bf9cf8c77d52",
        "colab": {
          "base_uri": "https://localhost:8080/"
        }
      },
      "source": [
        "df=pd.read_csv('fifa 2018 stats.csv')\n",
        "print(df.head())\n",
        "print(df.shape)\n",
        "print(df.columns)"
      ],
      "execution_count": 314,
      "outputs": [
        {
          "output_type": "stream",
          "text": [
            "         Date          Team  ... Own goals  Own goal Time\n",
            "0  14-06-2018        Russia  ...       NaN            NaN\n",
            "1  14-06-2018  Saudi Arabia  ...       NaN            NaN\n",
            "2  15-06-2018         Egypt  ...       NaN            NaN\n",
            "3  15-06-2018       Uruguay  ...       NaN            NaN\n",
            "4  15-06-2018       Morocco  ...       1.0           90.0\n",
            "\n",
            "[5 rows x 27 columns]\n",
            "(128, 27)\n",
            "Index(['Date', 'Team', 'Opponent', 'Goal Scored', 'Ball Possession %',\n",
            "       'Attempts', 'On-Target', 'Off-Target', 'Blocked', 'Corners', 'Offsides',\n",
            "       'Free Kicks', 'Saves', 'Pass Accuracy %', 'Passes',\n",
            "       'Distance Covered (Kms)', 'Fouls Committed', 'Yellow Card',\n",
            "       'Yellow & Red', 'Red', 'Man of the Match', '1st Goal', 'Round', 'PSO',\n",
            "       'Goals in PSO', 'Own goals', 'Own goal Time'],\n",
            "      dtype='object')\n"
          ],
          "name": "stdout"
        }
      ]
    },
    {
      "cell_type": "markdown",
      "metadata": {
        "id": "EzxVHcjd0ywY"
      },
      "source": [
        "# Filling the null values. \n",
        "\n"
      ]
    },
    {
      "cell_type": "code",
      "metadata": {
        "id": "YuHkWPhB0jYx"
      },
      "source": [
        "df.fillna({\n",
        "    'Own goals':0\n",
        "},inplace=True)\n"
      ],
      "execution_count": 315,
      "outputs": []
    },
    {
      "cell_type": "markdown",
      "metadata": {
        "id": "-CC2Zi2j42uc"
      },
      "source": [
        "## I am trying to predict the result of match. So I need to convert the numbers into percentage so that they will be useful. I am adding them to my dataframe so that they would be useful. "
      ]
    },
    {
      "cell_type": "code",
      "metadata": {
        "id": "KACeUMUv7Ur8"
      },
      "source": [
        "k=(df['On-Target']/df['Attempts'])*100\n",
        "df['On target %']=k\n",
        "k=(df['Blocked']/df['Attempts'])*100\n",
        "df['Blocked %']=k"
      ],
      "execution_count": 316,
      "outputs": []
    },
    {
      "cell_type": "markdown",
      "metadata": {
        "id": "-fQc3Fol5TQo"
      },
      "source": [
        "## Here in my dataset I was able to see that there were things like Goals scored, penalty shoot out etc. But we actually don't have the result of their matches i.e win or loss or drawn. So I am actually trying to find the result with available dataset. \n"
      ]
    },
    {
      "cell_type": "code",
      "metadata": {
        "id": "O4ztIDbn8abW",
        "outputId": "2a4ea3ac-1ba4-429f-98df-cbde68c934c8",
        "colab": {
          "base_uri": "https://localhost:8080/"
        }
      },
      "source": [
        "p=df['Team']\n",
        "pp=[]\n",
        "for i in range(0,len(p),2):\n",
        "  one=df['Goal Scored'][i]\n",
        "  two=df['Goal Scored'][i+1]\n",
        "  if one!=two:\n",
        "    if one>two:\n",
        "      pp.append('win')\n",
        "      pp.append('loss')\n",
        "    else:\n",
        "      pp.append('loss')\n",
        "      pp.append('win')\n",
        "  else:\n",
        "    if df['PSO'][i]=='Yes':\n",
        "      one=df['Goals in PSO'][i]\n",
        "      two=df['Goals in PSO'][i+1]\n",
        "      if one>two:\n",
        "        pp.append('win')\n",
        "        pp.append('loss')\n",
        "      else:\n",
        "        pp.append('loss')\n",
        "        pp.append('win')\n",
        "    else:\n",
        "      pp.append('drawn')\n",
        "      pp.append('drawn')\n",
        "df['Result']=pp\n",
        "print(df.columns)\n",
        "print(df.head())"
      ],
      "execution_count": 317,
      "outputs": [
        {
          "output_type": "stream",
          "text": [
            "Index(['Date', 'Team', 'Opponent', 'Goal Scored', 'Ball Possession %',\n",
            "       'Attempts', 'On-Target', 'Off-Target', 'Blocked', 'Corners', 'Offsides',\n",
            "       'Free Kicks', 'Saves', 'Pass Accuracy %', 'Passes',\n",
            "       'Distance Covered (Kms)', 'Fouls Committed', 'Yellow Card',\n",
            "       'Yellow & Red', 'Red', 'Man of the Match', '1st Goal', 'Round', 'PSO',\n",
            "       'Goals in PSO', 'Own goals', 'Own goal Time', 'On target %',\n",
            "       'Blocked %', 'Result'],\n",
            "      dtype='object')\n",
            "         Date          Team      Opponent  ...  On target %  Blocked %  Result\n",
            "0  14-06-2018        Russia  Saudi Arabia  ...    53.846154  23.076923     win\n",
            "1  14-06-2018  Saudi Arabia        Russia  ...     0.000000  50.000000    loss\n",
            "2  15-06-2018         Egypt       Uruguay  ...    37.500000  25.000000    loss\n",
            "3  15-06-2018       Uruguay         Egypt  ...    28.571429  28.571429     win\n",
            "4  15-06-2018       Morocco          Iran  ...    23.076923  30.769231    loss\n",
            "\n",
            "[5 rows x 30 columns]\n"
          ],
          "name": "stdout"
        }
      ]
    },
    {
      "cell_type": "markdown",
      "metadata": {
        "id": "4FKZPanc6Hjv"
      },
      "source": [
        "## Now we have the result of the matches like wins, losses and drawns. But all the machine learning models will work best with numbers. So now we need to get all the result getting converted into numbers. But we need to note that after getting converted to numbers they will be as 0,1,2. Here label encoder works in the alphabetical ordering. So drawn=0, loss=1 and win=2. \n"
      ]
    },
    {
      "cell_type": "code",
      "metadata": {
        "id": "7sjOzCrVEY5z",
        "outputId": "005bd8e3-8685-40f9-dab0-6569fb22a536",
        "colab": {
          "base_uri": "https://localhost:8080/",
          "height": 445
        }
      },
      "source": [
        "from sklearn.preprocessing import LabelEncoder\n",
        "le=LabelEncoder()\n",
        "df['Result']=le.fit_transform(df['Result'])\n",
        "df.head()"
      ],
      "execution_count": 318,
      "outputs": [
        {
          "output_type": "execute_result",
          "data": {
            "text/html": [
              "<div>\n",
              "<style scoped>\n",
              "    .dataframe tbody tr th:only-of-type {\n",
              "        vertical-align: middle;\n",
              "    }\n",
              "\n",
              "    .dataframe tbody tr th {\n",
              "        vertical-align: top;\n",
              "    }\n",
              "\n",
              "    .dataframe thead th {\n",
              "        text-align: right;\n",
              "    }\n",
              "</style>\n",
              "<table border=\"1\" class=\"dataframe\">\n",
              "  <thead>\n",
              "    <tr style=\"text-align: right;\">\n",
              "      <th></th>\n",
              "      <th>Date</th>\n",
              "      <th>Team</th>\n",
              "      <th>Opponent</th>\n",
              "      <th>Goal Scored</th>\n",
              "      <th>Ball Possession %</th>\n",
              "      <th>Attempts</th>\n",
              "      <th>On-Target</th>\n",
              "      <th>Off-Target</th>\n",
              "      <th>Blocked</th>\n",
              "      <th>Corners</th>\n",
              "      <th>Offsides</th>\n",
              "      <th>Free Kicks</th>\n",
              "      <th>Saves</th>\n",
              "      <th>Pass Accuracy %</th>\n",
              "      <th>Passes</th>\n",
              "      <th>Distance Covered (Kms)</th>\n",
              "      <th>Fouls Committed</th>\n",
              "      <th>Yellow Card</th>\n",
              "      <th>Yellow &amp; Red</th>\n",
              "      <th>Red</th>\n",
              "      <th>Man of the Match</th>\n",
              "      <th>1st Goal</th>\n",
              "      <th>Round</th>\n",
              "      <th>PSO</th>\n",
              "      <th>Goals in PSO</th>\n",
              "      <th>Own goals</th>\n",
              "      <th>Own goal Time</th>\n",
              "      <th>On target %</th>\n",
              "      <th>Blocked %</th>\n",
              "      <th>Result</th>\n",
              "    </tr>\n",
              "  </thead>\n",
              "  <tbody>\n",
              "    <tr>\n",
              "      <th>0</th>\n",
              "      <td>14-06-2018</td>\n",
              "      <td>Russia</td>\n",
              "      <td>Saudi Arabia</td>\n",
              "      <td>5</td>\n",
              "      <td>40</td>\n",
              "      <td>13</td>\n",
              "      <td>7</td>\n",
              "      <td>3</td>\n",
              "      <td>3</td>\n",
              "      <td>6</td>\n",
              "      <td>3</td>\n",
              "      <td>11</td>\n",
              "      <td>0</td>\n",
              "      <td>78</td>\n",
              "      <td>306</td>\n",
              "      <td>118</td>\n",
              "      <td>22</td>\n",
              "      <td>0</td>\n",
              "      <td>0</td>\n",
              "      <td>0</td>\n",
              "      <td>Yes</td>\n",
              "      <td>12.0</td>\n",
              "      <td>Group Stage</td>\n",
              "      <td>No</td>\n",
              "      <td>0</td>\n",
              "      <td>0.0</td>\n",
              "      <td>NaN</td>\n",
              "      <td>53.846154</td>\n",
              "      <td>23.076923</td>\n",
              "      <td>2</td>\n",
              "    </tr>\n",
              "    <tr>\n",
              "      <th>1</th>\n",
              "      <td>14-06-2018</td>\n",
              "      <td>Saudi Arabia</td>\n",
              "      <td>Russia</td>\n",
              "      <td>0</td>\n",
              "      <td>60</td>\n",
              "      <td>6</td>\n",
              "      <td>0</td>\n",
              "      <td>3</td>\n",
              "      <td>3</td>\n",
              "      <td>2</td>\n",
              "      <td>1</td>\n",
              "      <td>25</td>\n",
              "      <td>2</td>\n",
              "      <td>86</td>\n",
              "      <td>511</td>\n",
              "      <td>105</td>\n",
              "      <td>10</td>\n",
              "      <td>0</td>\n",
              "      <td>0</td>\n",
              "      <td>0</td>\n",
              "      <td>No</td>\n",
              "      <td>NaN</td>\n",
              "      <td>Group Stage</td>\n",
              "      <td>No</td>\n",
              "      <td>0</td>\n",
              "      <td>0.0</td>\n",
              "      <td>NaN</td>\n",
              "      <td>0.000000</td>\n",
              "      <td>50.000000</td>\n",
              "      <td>1</td>\n",
              "    </tr>\n",
              "    <tr>\n",
              "      <th>2</th>\n",
              "      <td>15-06-2018</td>\n",
              "      <td>Egypt</td>\n",
              "      <td>Uruguay</td>\n",
              "      <td>0</td>\n",
              "      <td>43</td>\n",
              "      <td>8</td>\n",
              "      <td>3</td>\n",
              "      <td>3</td>\n",
              "      <td>2</td>\n",
              "      <td>0</td>\n",
              "      <td>1</td>\n",
              "      <td>7</td>\n",
              "      <td>3</td>\n",
              "      <td>78</td>\n",
              "      <td>395</td>\n",
              "      <td>112</td>\n",
              "      <td>12</td>\n",
              "      <td>2</td>\n",
              "      <td>0</td>\n",
              "      <td>0</td>\n",
              "      <td>No</td>\n",
              "      <td>NaN</td>\n",
              "      <td>Group Stage</td>\n",
              "      <td>No</td>\n",
              "      <td>0</td>\n",
              "      <td>0.0</td>\n",
              "      <td>NaN</td>\n",
              "      <td>37.500000</td>\n",
              "      <td>25.000000</td>\n",
              "      <td>1</td>\n",
              "    </tr>\n",
              "    <tr>\n",
              "      <th>3</th>\n",
              "      <td>15-06-2018</td>\n",
              "      <td>Uruguay</td>\n",
              "      <td>Egypt</td>\n",
              "      <td>1</td>\n",
              "      <td>57</td>\n",
              "      <td>14</td>\n",
              "      <td>4</td>\n",
              "      <td>6</td>\n",
              "      <td>4</td>\n",
              "      <td>5</td>\n",
              "      <td>1</td>\n",
              "      <td>13</td>\n",
              "      <td>3</td>\n",
              "      <td>86</td>\n",
              "      <td>589</td>\n",
              "      <td>111</td>\n",
              "      <td>6</td>\n",
              "      <td>0</td>\n",
              "      <td>0</td>\n",
              "      <td>0</td>\n",
              "      <td>Yes</td>\n",
              "      <td>89.0</td>\n",
              "      <td>Group Stage</td>\n",
              "      <td>No</td>\n",
              "      <td>0</td>\n",
              "      <td>0.0</td>\n",
              "      <td>NaN</td>\n",
              "      <td>28.571429</td>\n",
              "      <td>28.571429</td>\n",
              "      <td>2</td>\n",
              "    </tr>\n",
              "    <tr>\n",
              "      <th>4</th>\n",
              "      <td>15-06-2018</td>\n",
              "      <td>Morocco</td>\n",
              "      <td>Iran</td>\n",
              "      <td>0</td>\n",
              "      <td>64</td>\n",
              "      <td>13</td>\n",
              "      <td>3</td>\n",
              "      <td>6</td>\n",
              "      <td>4</td>\n",
              "      <td>5</td>\n",
              "      <td>0</td>\n",
              "      <td>14</td>\n",
              "      <td>2</td>\n",
              "      <td>86</td>\n",
              "      <td>433</td>\n",
              "      <td>101</td>\n",
              "      <td>22</td>\n",
              "      <td>1</td>\n",
              "      <td>0</td>\n",
              "      <td>0</td>\n",
              "      <td>No</td>\n",
              "      <td>NaN</td>\n",
              "      <td>Group Stage</td>\n",
              "      <td>No</td>\n",
              "      <td>0</td>\n",
              "      <td>1.0</td>\n",
              "      <td>90.0</td>\n",
              "      <td>23.076923</td>\n",
              "      <td>30.769231</td>\n",
              "      <td>1</td>\n",
              "    </tr>\n",
              "  </tbody>\n",
              "</table>\n",
              "</div>"
            ],
            "text/plain": [
              "         Date          Team      Opponent  ...  On target %  Blocked %  Result\n",
              "0  14-06-2018        Russia  Saudi Arabia  ...    53.846154  23.076923       2\n",
              "1  14-06-2018  Saudi Arabia        Russia  ...     0.000000  50.000000       1\n",
              "2  15-06-2018         Egypt       Uruguay  ...    37.500000  25.000000       1\n",
              "3  15-06-2018       Uruguay         Egypt  ...    28.571429  28.571429       2\n",
              "4  15-06-2018       Morocco          Iran  ...    23.076923  30.769231       1\n",
              "\n",
              "[5 rows x 30 columns]"
            ]
          },
          "metadata": {
            "tags": []
          },
          "execution_count": 318
        }
      ]
    },
    {
      "cell_type": "markdown",
      "metadata": {
        "id": "r3mAav0DJpId"
      },
      "source": [
        "## Now main task is the feature selection. So how am I going to select the features that would affect my result. So I will find the importance by finding the feature coefficiency. So by that I would understand what all features should be involved in performing the model building. "
      ]
    },
    {
      "cell_type": "code",
      "metadata": {
        "id": "kACAyqhn84yh",
        "outputId": "aebc1761-368a-4909-9aca-55770dc85fa6",
        "colab": {
          "base_uri": "https://localhost:8080/",
          "height": 367
        }
      },
      "source": [
        "from sklearn.linear_model import LinearRegression\n",
        "model=LinearRegression()\n",
        "X=df[['Ball Possession %','Pass Accuracy %','Fouls Committed','On target %','Blocked %','Goal Scored']]\n",
        "y=df['Result']\n",
        "model.fit(X,y)\n",
        "importance = model.coef_\n",
        "\n",
        "for i,v in enumerate(importance):\n",
        "\tprint('Feature: %0d, Score: %.5f' % (i,v))\n",
        "\n",
        "plt.bar([x for x in range(len(importance))], importance)\n",
        "plt.show()"
      ],
      "execution_count": 319,
      "outputs": [
        {
          "output_type": "stream",
          "text": [
            "Feature: 0, Score: 0.00665\n",
            "Feature: 1, Score: -0.01378\n",
            "Feature: 2, Score: 0.00743\n",
            "Feature: 3, Score: -0.00314\n",
            "Feature: 4, Score: 0.00525\n",
            "Feature: 5, Score: 0.26093\n"
          ],
          "name": "stdout"
        },
        {
          "output_type": "display_data",
          "data": {
            "image/png": "[encoded data removed]",
            "text/plain": [
              "<Figure size 432x288 with 1 Axes>"
            ]
          },
          "metadata": {
            "tags": [],
            "needs_background": "light"
          }
        }
      ]
    },
    {
      "cell_type": "markdown",
      "metadata": {
        "id": "Bagxn6LmKLA1"
      },
      "source": [
        "## Here after the finding the importance between the feature and selection I came to know that my pass accuracy has a negative importance in getting the final result. So I will not include that in my model building."
      ]
    },
    {
      "cell_type": "markdown",
      "metadata": {
        "id": "EhlaXnVYLAhp"
      },
      "source": [
        "## In order to make my model perform better. I am scaling my data. "
      ]
    },
    {
      "cell_type": "code",
      "metadata": {
        "id": "7KIurW5dPi6Z",
        "outputId": "e530bdb0-e093-4b3b-dc4e-14116232ef39",
        "colab": {
          "base_uri": "https://localhost:8080/",
          "height": 830
        }
      },
      "source": [
        "from sklearn.preprocessing import StandardScaler\n",
        "sc=StandardScaler()\n",
        "df[['Ball Possession %','Fouls Committed','On target %','Blocked %','Goal Scored']]=sc.fit_transform(df[['Ball Possession %','Fouls Committed','On target %','Blocked %','Goal Scored']])\n",
        "df"
      ],
      "execution_count": 320,
      "outputs": [
        {
          "output_type": "execute_result",
          "data": {
            "text/html": [
              "<div>\n",
              "<style scoped>\n",
              "    .dataframe tbody tr th:only-of-type {\n",
              "        vertical-align: middle;\n",
              "    }\n",
              "\n",
              "    .dataframe tbody tr th {\n",
              "        vertical-align: top;\n",
              "    }\n",
              "\n",
              "    .dataframe thead th {\n",
              "        text-align: right;\n",
              "    }\n",
              "</style>\n",
              "<table border=\"1\" class=\"dataframe\">\n",
              "  <thead>\n",
              "    <tr style=\"text-align: right;\">\n",
              "      <th></th>\n",
              "      <th>Date</th>\n",
              "      <th>Team</th>\n",
              "      <th>Opponent</th>\n",
              "      <th>Goal Scored</th>\n",
              "      <th>Ball Possession %</th>\n",
              "      <th>Attempts</th>\n",
              "      <th>On-Target</th>\n",
              "      <th>Off-Target</th>\n",
              "      <th>Blocked</th>\n",
              "      <th>Corners</th>\n",
              "      <th>Offsides</th>\n",
              "      <th>Free Kicks</th>\n",
              "      <th>Saves</th>\n",
              "      <th>Pass Accuracy %</th>\n",
              "      <th>Passes</th>\n",
              "      <th>Distance Covered (Kms)</th>\n",
              "      <th>Fouls Committed</th>\n",
              "      <th>Yellow Card</th>\n",
              "      <th>Yellow &amp; Red</th>\n",
              "      <th>Red</th>\n",
              "      <th>Man of the Match</th>\n",
              "      <th>1st Goal</th>\n",
              "      <th>Round</th>\n",
              "      <th>PSO</th>\n",
              "      <th>Goals in PSO</th>\n",
              "      <th>Own goals</th>\n",
              "      <th>Own goal Time</th>\n",
              "      <th>On target %</th>\n",
              "      <th>Blocked %</th>\n",
              "      <th>Result</th>\n",
              "    </tr>\n",
              "  </thead>\n",
              "  <tbody>\n",
              "    <tr>\n",
              "      <th>0</th>\n",
              "      <td>14-06-2018</td>\n",
              "      <td>Russia</td>\n",
              "      <td>Saudi Arabia</td>\n",
              "      <td>3.194193</td>\n",
              "      <td>-0.960492</td>\n",
              "      <td>13</td>\n",
              "      <td>7</td>\n",
              "      <td>3</td>\n",
              "      <td>3</td>\n",
              "      <td>6</td>\n",
              "      <td>3</td>\n",
              "      <td>11</td>\n",
              "      <td>0</td>\n",
              "      <td>78</td>\n",
              "      <td>306</td>\n",
              "      <td>118</td>\n",
              "      <td>1.837216</td>\n",
              "      <td>0</td>\n",
              "      <td>0</td>\n",
              "      <td>0</td>\n",
              "      <td>Yes</td>\n",
              "      <td>12.0</td>\n",
              "      <td>Group Stage</td>\n",
              "      <td>No</td>\n",
              "      <td>0</td>\n",
              "      <td>0.0</td>\n",
              "      <td>NaN</td>\n",
              "      <td>1.627425</td>\n",
              "      <td>-0.171058</td>\n",
              "      <td>2</td>\n",
              "    </tr>\n",
              "    <tr>\n",
              "      <th>1</th>\n",
              "      <td>14-06-2018</td>\n",
              "      <td>Saudi Arabia</td>\n",
              "      <td>Russia</td>\n",
              "      <td>-1.146112</td>\n",
              "      <td>0.961994</td>\n",
              "      <td>6</td>\n",
              "      <td>0</td>\n",
              "      <td>3</td>\n",
              "      <td>3</td>\n",
              "      <td>2</td>\n",
              "      <td>1</td>\n",
              "      <td>25</td>\n",
              "      <td>2</td>\n",
              "      <td>86</td>\n",
              "      <td>511</td>\n",
              "      <td>105</td>\n",
              "      <td>-0.770884</td>\n",
              "      <td>0</td>\n",
              "      <td>0</td>\n",
              "      <td>0</td>\n",
              "      <td>No</td>\n",
              "      <td>NaN</td>\n",
              "      <td>Group Stage</td>\n",
              "      <td>No</td>\n",
              "      <td>0</td>\n",
              "      <td>0.0</td>\n",
              "      <td>NaN</td>\n",
              "      <td>-2.239640</td>\n",
              "      <td>1.834923</td>\n",
              "      <td>1</td>\n",
              "    </tr>\n",
              "    <tr>\n",
              "      <th>2</th>\n",
              "      <td>15-06-2018</td>\n",
              "      <td>Egypt</td>\n",
              "      <td>Uruguay</td>\n",
              "      <td>-1.146112</td>\n",
              "      <td>-0.672119</td>\n",
              "      <td>8</td>\n",
              "      <td>3</td>\n",
              "      <td>3</td>\n",
              "      <td>2</td>\n",
              "      <td>0</td>\n",
              "      <td>1</td>\n",
              "      <td>7</td>\n",
              "      <td>3</td>\n",
              "      <td>78</td>\n",
              "      <td>395</td>\n",
              "      <td>112</td>\n",
              "      <td>-0.336200</td>\n",
              "      <td>2</td>\n",
              "      <td>0</td>\n",
              "      <td>0</td>\n",
              "      <td>No</td>\n",
              "      <td>NaN</td>\n",
              "      <td>Group Stage</td>\n",
              "      <td>No</td>\n",
              "      <td>0</td>\n",
              "      <td>0.0</td>\n",
              "      <td>NaN</td>\n",
              "      <td>0.453495</td>\n",
              "      <td>-0.027774</td>\n",
              "      <td>1</td>\n",
              "    </tr>\n",
              "    <tr>\n",
              "      <th>3</th>\n",
              "      <td>15-06-2018</td>\n",
              "      <td>Uruguay</td>\n",
              "      <td>Egypt</td>\n",
              "      <td>-0.278051</td>\n",
              "      <td>0.673621</td>\n",
              "      <td>14</td>\n",
              "      <td>4</td>\n",
              "      <td>6</td>\n",
              "      <td>4</td>\n",
              "      <td>5</td>\n",
              "      <td>1</td>\n",
              "      <td>13</td>\n",
              "      <td>3</td>\n",
              "      <td>86</td>\n",
              "      <td>589</td>\n",
              "      <td>111</td>\n",
              "      <td>-1.640250</td>\n",
              "      <td>0</td>\n",
              "      <td>0</td>\n",
              "      <td>0</td>\n",
              "      <td>Yes</td>\n",
              "      <td>89.0</td>\n",
              "      <td>Group Stage</td>\n",
              "      <td>No</td>\n",
              "      <td>0</td>\n",
              "      <td>0.0</td>\n",
              "      <td>NaN</td>\n",
              "      <td>-0.187728</td>\n",
              "      <td>0.238326</td>\n",
              "      <td>2</td>\n",
              "    </tr>\n",
              "    <tr>\n",
              "      <th>4</th>\n",
              "      <td>15-06-2018</td>\n",
              "      <td>Morocco</td>\n",
              "      <td>Iran</td>\n",
              "      <td>-1.146112</td>\n",
              "      <td>1.346491</td>\n",
              "      <td>13</td>\n",
              "      <td>3</td>\n",
              "      <td>6</td>\n",
              "      <td>4</td>\n",
              "      <td>5</td>\n",
              "      <td>0</td>\n",
              "      <td>14</td>\n",
              "      <td>2</td>\n",
              "      <td>86</td>\n",
              "      <td>433</td>\n",
              "      <td>101</td>\n",
              "      <td>1.837216</td>\n",
              "      <td>1</td>\n",
              "      <td>0</td>\n",
              "      <td>0</td>\n",
              "      <td>No</td>\n",
              "      <td>NaN</td>\n",
              "      <td>Group Stage</td>\n",
              "      <td>No</td>\n",
              "      <td>0</td>\n",
              "      <td>1.0</td>\n",
              "      <td>90.0</td>\n",
              "      <td>-0.582326</td>\n",
              "      <td>0.402079</td>\n",
              "      <td>1</td>\n",
              "    </tr>\n",
              "    <tr>\n",
              "      <th>...</th>\n",
              "      <td>...</td>\n",
              "      <td>...</td>\n",
              "      <td>...</td>\n",
              "      <td>...</td>\n",
              "      <td>...</td>\n",
              "      <td>...</td>\n",
              "      <td>...</td>\n",
              "      <td>...</td>\n",
              "      <td>...</td>\n",
              "      <td>...</td>\n",
              "      <td>...</td>\n",
              "      <td>...</td>\n",
              "      <td>...</td>\n",
              "      <td>...</td>\n",
              "      <td>...</td>\n",
              "      <td>...</td>\n",
              "      <td>...</td>\n",
              "      <td>...</td>\n",
              "      <td>...</td>\n",
              "      <td>...</td>\n",
              "      <td>...</td>\n",
              "      <td>...</td>\n",
              "      <td>...</td>\n",
              "      <td>...</td>\n",
              "      <td>...</td>\n",
              "      <td>...</td>\n",
              "      <td>...</td>\n",
              "      <td>...</td>\n",
              "      <td>...</td>\n",
              "      <td>...</td>\n",
              "    </tr>\n",
              "    <tr>\n",
              "      <th>123</th>\n",
              "      <td>11-07-2018</td>\n",
              "      <td>England</td>\n",
              "      <td>Croatia</td>\n",
              "      <td>-0.278051</td>\n",
              "      <td>-0.383746</td>\n",
              "      <td>11</td>\n",
              "      <td>1</td>\n",
              "      <td>6</td>\n",
              "      <td>4</td>\n",
              "      <td>4</td>\n",
              "      <td>3</td>\n",
              "      <td>24</td>\n",
              "      <td>5</td>\n",
              "      <td>79</td>\n",
              "      <td>479</td>\n",
              "      <td>148</td>\n",
              "      <td>0.098483</td>\n",
              "      <td>1</td>\n",
              "      <td>0</td>\n",
              "      <td>0</td>\n",
              "      <td>No</td>\n",
              "      <td>5.0</td>\n",
              "      <td>Semi- Finals</td>\n",
              "      <td>No</td>\n",
              "      <td>0</td>\n",
              "      <td>0.0</td>\n",
              "      <td>NaN</td>\n",
              "      <td>-1.586759</td>\n",
              "      <td>0.818906</td>\n",
              "      <td>1</td>\n",
              "    </tr>\n",
              "    <tr>\n",
              "      <th>124</th>\n",
              "      <td>14-07-2018</td>\n",
              "      <td>Belgium</td>\n",
              "      <td>England</td>\n",
              "      <td>0.590010</td>\n",
              "      <td>-0.672119</td>\n",
              "      <td>12</td>\n",
              "      <td>4</td>\n",
              "      <td>3</td>\n",
              "      <td>5</td>\n",
              "      <td>4</td>\n",
              "      <td>1</td>\n",
              "      <td>5</td>\n",
              "      <td>5</td>\n",
              "      <td>88</td>\n",
              "      <td>510</td>\n",
              "      <td>108</td>\n",
              "      <td>-0.553542</td>\n",
              "      <td>1</td>\n",
              "      <td>0</td>\n",
              "      <td>0</td>\n",
              "      <td>Yes</td>\n",
              "      <td>4.0</td>\n",
              "      <td>3rd Place</td>\n",
              "      <td>No</td>\n",
              "      <td>0</td>\n",
              "      <td>0.0</td>\n",
              "      <td>NaN</td>\n",
              "      <td>0.154258</td>\n",
              "      <td>1.214024</td>\n",
              "      <td>2</td>\n",
              "    </tr>\n",
              "    <tr>\n",
              "      <th>125</th>\n",
              "      <td>14-07-2018</td>\n",
              "      <td>England</td>\n",
              "      <td>Belgium</td>\n",
              "      <td>-1.146112</td>\n",
              "      <td>0.673621</td>\n",
              "      <td>15</td>\n",
              "      <td>5</td>\n",
              "      <td>7</td>\n",
              "      <td>3</td>\n",
              "      <td>5</td>\n",
              "      <td>0</td>\n",
              "      <td>12</td>\n",
              "      <td>2</td>\n",
              "      <td>92</td>\n",
              "      <td>698</td>\n",
              "      <td>110</td>\n",
              "      <td>-1.857592</td>\n",
              "      <td>2</td>\n",
              "      <td>0</td>\n",
              "      <td>0</td>\n",
              "      <td>No</td>\n",
              "      <td>NaN</td>\n",
              "      <td>3rd Place</td>\n",
              "      <td>No</td>\n",
              "      <td>0</td>\n",
              "      <td>0.0</td>\n",
              "      <td>NaN</td>\n",
              "      <td>0.154258</td>\n",
              "      <td>-0.400313</td>\n",
              "      <td>1</td>\n",
              "    </tr>\n",
              "    <tr>\n",
              "      <th>126</th>\n",
              "      <td>15-07-2018</td>\n",
              "      <td>France</td>\n",
              "      <td>Croatia</td>\n",
              "      <td>2.326132</td>\n",
              "      <td>-1.056616</td>\n",
              "      <td>8</td>\n",
              "      <td>6</td>\n",
              "      <td>1</td>\n",
              "      <td>1</td>\n",
              "      <td>2</td>\n",
              "      <td>1</td>\n",
              "      <td>14</td>\n",
              "      <td>1</td>\n",
              "      <td>75</td>\n",
              "      <td>271</td>\n",
              "      <td>99</td>\n",
              "      <td>0.098483</td>\n",
              "      <td>2</td>\n",
              "      <td>0</td>\n",
              "      <td>0</td>\n",
              "      <td>Yes</td>\n",
              "      <td>18.0</td>\n",
              "      <td>Final</td>\n",
              "      <td>No</td>\n",
              "      <td>0</td>\n",
              "      <td>1.0</td>\n",
              "      <td>18.0</td>\n",
              "      <td>3.146630</td>\n",
              "      <td>-0.959122</td>\n",
              "      <td>2</td>\n",
              "    </tr>\n",
              "    <tr>\n",
              "      <th>127</th>\n",
              "      <td>15-07-2018</td>\n",
              "      <td>Croatia</td>\n",
              "      <td>France</td>\n",
              "      <td>0.590010</td>\n",
              "      <td>1.058118</td>\n",
              "      <td>15</td>\n",
              "      <td>3</td>\n",
              "      <td>8</td>\n",
              "      <td>4</td>\n",
              "      <td>6</td>\n",
              "      <td>1</td>\n",
              "      <td>15</td>\n",
              "      <td>3</td>\n",
              "      <td>83</td>\n",
              "      <td>547</td>\n",
              "      <td>100</td>\n",
              "      <td>-0.118859</td>\n",
              "      <td>1</td>\n",
              "      <td>0</td>\n",
              "      <td>0</td>\n",
              "      <td>No</td>\n",
              "      <td>28.0</td>\n",
              "      <td>Final</td>\n",
              "      <td>No</td>\n",
              "      <td>0</td>\n",
              "      <td>0.0</td>\n",
              "      <td>NaN</td>\n",
              "      <td>-0.803301</td>\n",
              "      <td>0.096406</td>\n",
              "      <td>1</td>\n",
              "    </tr>\n",
              "  </tbody>\n",
              "</table>\n",
              "<p>128 rows × 30 columns</p>\n",
              "</div>"
            ],
            "text/plain": [
              "           Date          Team      Opponent  ...  On target %  Blocked %  Result\n",
              "0    14-06-2018        Russia  Saudi Arabia  ...     1.627425  -0.171058       2\n",
              "1    14-06-2018  Saudi Arabia        Russia  ...    -2.239640   1.834923       1\n",
              "2    15-06-2018         Egypt       Uruguay  ...     0.453495  -0.027774       1\n",
              "3    15-06-2018       Uruguay         Egypt  ...    -0.187728   0.238326       2\n",
              "4    15-06-2018       Morocco          Iran  ...    -0.582326   0.402079       1\n",
              "..          ...           ...           ...  ...          ...        ...     ...\n",
              "123  11-07-2018       England       Croatia  ...    -1.586759   0.818906       1\n",
              "124  14-07-2018       Belgium       England  ...     0.154258   1.214024       2\n",
              "125  14-07-2018       England       Belgium  ...     0.154258  -0.400313       1\n",
              "126  15-07-2018        France       Croatia  ...     3.146630  -0.959122       2\n",
              "127  15-07-2018       Croatia        France  ...    -0.803301   0.096406       1\n",
              "\n",
              "[128 rows x 30 columns]"
            ]
          },
          "metadata": {
            "tags": []
          },
          "execution_count": 320
        }
      ]
    },
    {
      "cell_type": "markdown",
      "metadata": {
        "id": "IZBTRBriKgBF"
      },
      "source": [
        "## I am taking my features into X and target is taken into y. \n",
        "\n"
      ]
    },
    {
      "cell_type": "code",
      "metadata": {
        "id": "LI5Eco-mBHeE",
        "outputId": "83fb0545-1b22-47b0-fc18-f15c2e7f9fdb",
        "colab": {
          "base_uri": "https://localhost:8080/"
        }
      },
      "source": [
        "X=df[['Ball Possession %','Fouls Committed','On target %','Blocked %','Goal Scored']]\n",
        "y=df['Result']\n",
        "print(X,y)"
      ],
      "execution_count": 321,
      "outputs": [
        {
          "output_type": "stream",
          "text": [
            "     Ball Possession %  Fouls Committed  On target %  Blocked %  Goal Scored\n",
            "0            -0.960492         1.837216     1.627425  -0.171058     3.194193\n",
            "1             0.961994        -0.770884    -2.239640   1.834923    -1.146112\n",
            "2            -0.672119        -0.336200     0.453495  -0.027774    -1.146112\n",
            "3             0.673621        -1.640250    -0.187728   0.238326    -0.278051\n",
            "4             1.346491         1.837216    -0.582326   0.402079    -1.146112\n",
            "..                 ...              ...          ...        ...          ...\n",
            "123          -0.383746         0.098483    -1.586759   0.818906    -0.278051\n",
            "124          -0.672119        -0.553542     0.154258   1.214024     0.590010\n",
            "125           0.673621        -1.857592     0.154258  -0.400313    -1.146112\n",
            "126          -1.056616         0.098483     3.146630  -0.959122     2.326132\n",
            "127           1.058118        -0.118859    -0.803301   0.096406     0.590010\n",
            "\n",
            "[128 rows x 5 columns] 0      2\n",
            "1      1\n",
            "2      1\n",
            "3      2\n",
            "4      1\n",
            "      ..\n",
            "123    1\n",
            "124    2\n",
            "125    1\n",
            "126    2\n",
            "127    1\n",
            "Name: Result, Length: 128, dtype: int64\n"
          ],
          "name": "stdout"
        }
      ]
    },
    {
      "cell_type": "markdown",
      "metadata": {
        "id": "cTHHKdSQKz9o"
      },
      "source": [
        "## I am dividing my complete data into training and testing data. So I am importing train_test_split module and I am trying to divide my data into two divisions. training dataset and testing dataset."
      ]
    },
    {
      "cell_type": "code",
      "metadata": {
        "id": "EpErtBqrDuH_"
      },
      "source": [
        "from sklearn.model_selection import train_test_split\n",
        "X_train,X_test,y_train,y_test=train_test_split(X,y,test_size=0.3,random_state=3)"
      ],
      "execution_count": 322,
      "outputs": []
    },
    {
      "cell_type": "markdown",
      "metadata": {
        "id": "jy-Gv8TFL3Tw"
      },
      "source": [
        "## I am performing the logistic Regression in order to predict. I got 69 percent accuracy. And also I want my model to have more performance. So I increased the maximum number of iterations to 1000. the default value here would be 100\n"
      ]
    },
    {
      "cell_type": "code",
      "metadata": {
        "id": "JDPYMJIgLhmT",
        "outputId": "f0194b81-77e3-4808-d552-c17102af98f9",
        "colab": {
          "base_uri": "https://localhost:8080/"
        }
      },
      "source": [
        "from sklearn.linear_model import LogisticRegression\n",
        "model=LogisticRegression(max_iter=1000)\n",
        "model.fit(X_train,y_train)\n",
        "y_predicted=model.predict(X_test)\n",
        "print(model.max_iter)\n",
        "model.score(X_test,y_test)"
      ],
      "execution_count": 323,
      "outputs": [
        {
          "output_type": "stream",
          "text": [
            "1000\n"
          ],
          "name": "stdout"
        },
        {
          "output_type": "execute_result",
          "data": {
            "text/plain": [
              "0.6923076923076923"
            ]
          },
          "metadata": {
            "tags": []
          },
          "execution_count": 323
        }
      ]
    },
    {
      "cell_type": "markdown",
      "metadata": {
        "id": "2N6jGtkJMQ0n"
      },
      "source": [
        "## I am plotting the confustion matrix for the logistic model. This can tell me where my model was failing or where my model was performing well. "
      ]
    },
    {
      "cell_type": "code",
      "metadata": {
        "id": "AjNZQvFuS98q",
        "outputId": "0c9706f1-b503-4b39-8e90-c8121941c134",
        "colab": {
          "base_uri": "https://localhost:8080/",
          "height": 463
        }
      },
      "source": [
        "from sklearn.metrics import confusion_matrix\n",
        "cm=confusion_matrix(y_test,y_predicted)\n",
        "plt.figure(figsize=(10,7))\n",
        "sn.heatmap(cm,annot=True)\n",
        "plt.xlabel('Predicted')\n",
        "plt.ylabel('Truth')"
      ],
      "execution_count": 324,
      "outputs": [
        {
          "output_type": "execute_result",
          "data": {
            "text/plain": [
              "Text(69.0, 0.5, 'Truth')"
            ]
          },
          "metadata": {
            "tags": []
          },
          "execution_count": 324
        },
        {
          "output_type": "display_data",
          "data": {
            "image/png": "[encoded data removed]",
            "text/plain": [
              "<Figure size 720x504 with 2 Axes>"
            ]
          },
          "metadata": {
            "tags": [],
            "needs_background": "light"
          }
        }
      ]
    },
    {
      "cell_type": "code",
      "metadata": {
        "id": "TlZNLTXHk-n7",
        "outputId": "756165f1-24cd-466e-a8bd-14f58020998c",
        "colab": {
          "base_uri": "https://localhost:8080/"
        }
      },
      "source": [
        "from scipy.stats import ttest_rel\n",
        "tset,pval=ttest_rel(y_predicted,y_test)\n",
        "if pval < 0.05:    # alpha value is 0.05 or 5%\n",
        "   print(\" we are rejecting null hypothesis i.e the result is statiscally significant\")\n",
        "else:\n",
        "  print(\"we are accepting null hypothesis i.e the result is not statiscally significant\")"
      ],
      "execution_count": 325,
      "outputs": [
        {
          "output_type": "stream",
          "text": [
            "we are accepting null hypothesis i.e the result is not statiscally significant\n"
          ],
          "name": "stdout"
        }
      ]
    },
    {
      "cell_type": "markdown",
      "metadata": {
        "id": "Bazvc-FsMjI-"
      },
      "source": [
        "## logistic regression model was able to predict more accurately when matches are lossed. So this would be better in finding the result to predict the loss. "
      ]
    },
    {
      "cell_type": "markdown",
      "metadata": {
        "id": "rl6Vdt6hM0ZH"
      },
      "source": [
        "## I am Performing the decision tree for the same data set. And I got 64 percent accuracy. "
      ]
    },
    {
      "cell_type": "code",
      "metadata": {
        "id": "j9kFfylQOQ9_",
        "outputId": "fb7382d7-5373-4ce6-b3d7-f3912544ef53",
        "colab": {
          "base_uri": "https://localhost:8080/"
        }
      },
      "source": [
        "from sklearn.tree import DecisionTreeClassifier\n",
        "model=DecisionTreeClassifier()\n",
        "model.fit(X_train,y_train)\n",
        "y_predicted=model.predict(X_test)\n",
        "model.score(X_test,y_test)"
      ],
      "execution_count": 326,
      "outputs": [
        {
          "output_type": "execute_result",
          "data": {
            "text/plain": [
              "0.6153846153846154"
            ]
          },
          "metadata": {
            "tags": []
          },
          "execution_count": 326
        }
      ]
    },
    {
      "cell_type": "code",
      "metadata": {
        "id": "vDDX0XrflLD8",
        "outputId": "c4d63090-1ea7-4c7a-cfed-d459807997e4",
        "colab": {
          "base_uri": "https://localhost:8080/"
        }
      },
      "source": [
        "from scipy.stats import ttest_rel\n",
        "tset,pval=ttest_rel(y_predicted,y_test)\n",
        "if pval < 0.05:    # alpha value is 0.05 or 5%\n",
        "   print(\" we are rejecting null hypothesis i.e the result is statiscally significant\")\n",
        "else:\n",
        "  print(\"we are accepting null hypothesis i.e the result is not statiscally significant\")"
      ],
      "execution_count": 327,
      "outputs": [
        {
          "output_type": "stream",
          "text": [
            "we are accepting null hypothesis i.e the result is not statiscally significant\n"
          ],
          "name": "stdout"
        }
      ]
    },
    {
      "cell_type": "markdown",
      "metadata": {
        "id": "1OLBCmuBM8X8"
      },
      "source": [
        "## confusion matrix for the decision tree classifier. "
      ]
    },
    {
      "cell_type": "code",
      "metadata": {
        "id": "-8Iw7GVBT20Q",
        "outputId": "dbf206bf-514f-429e-eb88-760916f5d40d",
        "colab": {
          "base_uri": "https://localhost:8080/",
          "height": 463
        }
      },
      "source": [
        "from sklearn.metrics import confusion_matrix\n",
        "cm=confusion_matrix(y_test,y_predicted)\n",
        "plt.figure(figsize=(10,7))\n",
        "sn.heatmap(cm,annot=True)\n",
        "plt.xlabel('Predicted')\n",
        "plt.ylabel('Truth')"
      ],
      "execution_count": 328,
      "outputs": [
        {
          "output_type": "execute_result",
          "data": {
            "text/plain": [
              "Text(69.0, 0.5, 'Truth')"
            ]
          },
          "metadata": {
            "tags": []
          },
          "execution_count": 328
        },
        {
          "output_type": "display_data",
          "data": {
            "image/png": "[encoded data removed]",
            "text/plain": [
              "<Figure size 720x504 with 2 Axes>"
            ]
          },
          "metadata": {
            "tags": [],
            "needs_background": "light"
          }
        }
      ]
    },
    {
      "cell_type": "markdown",
      "metadata": {
        "id": "goC-SVDoNE3c"
      },
      "source": [
        "## random forest model. From this I got accuracy of 58 percent. \n"
      ]
    },
    {
      "cell_type": "code",
      "metadata": {
        "id": "1manaGTgUEvF",
        "outputId": "37c5fc92-ca92-4bef-f485-b0bd9532697b",
        "colab": {
          "base_uri": "https://localhost:8080/"
        }
      },
      "source": [
        "from sklearn.ensemble import RandomForestClassifier\n",
        "model=RandomForestClassifier()\n",
        "model.fit(X_train,y_train)\n",
        "y_predicted=model.predict(X_test)\n",
        "model.score(X_test,y_test)"
      ],
      "execution_count": 329,
      "outputs": [
        {
          "output_type": "execute_result",
          "data": {
            "text/plain": [
              "0.6666666666666666"
            ]
          },
          "metadata": {
            "tags": []
          },
          "execution_count": 329
        }
      ]
    },
    {
      "cell_type": "code",
      "metadata": {
        "id": "wL_44KjMowHB",
        "outputId": "c47e5c6c-73dd-4505-c157-4bec194eed18",
        "colab": {
          "base_uri": "https://localhost:8080/"
        }
      },
      "source": [
        "from scipy.stats import ttest_rel\n",
        "tset,pval=ttest_rel(y_predicted,y_test)\n",
        "if pval < 0.05:    # alpha value is 0.05 or 5%\n",
        "   print(\" we are rejecting null hypothesis i.e the result is statiscally significant\")\n",
        "else:\n",
        "  print(\"we are accepting null hypothesis i.e the result is not statiscally significant\")"
      ],
      "execution_count": 330,
      "outputs": [
        {
          "output_type": "stream",
          "text": [
            "we are accepting null hypothesis i.e the result is not statiscally significant\n"
          ],
          "name": "stdout"
        }
      ]
    },
    {
      "cell_type": "markdown",
      "metadata": {
        "id": "ZHqJSqWJNLJB"
      },
      "source": [
        "## confusion matrix for the Random forest model. "
      ]
    },
    {
      "cell_type": "code",
      "metadata": {
        "id": "RajPWxw_U_tv",
        "outputId": "9ac9b71d-dbaf-4c3a-cf93-ed52df95c0be",
        "colab": {
          "base_uri": "https://localhost:8080/",
          "height": 463
        }
      },
      "source": [
        "from sklearn.metrics import confusion_matrix\n",
        "cm=confusion_matrix(y_test,y_predicted)\n",
        "plt.figure(figsize=(10,7))\n",
        "sn.heatmap(cm,annot=True)\n",
        "plt.xlabel('Predicted')\n",
        "plt.ylabel('Truth')"
      ],
      "execution_count": 331,
      "outputs": [
        {
          "output_type": "execute_result",
          "data": {
            "text/plain": [
              "Text(69.0, 0.5, 'Truth')"
            ]
          },
          "metadata": {
            "tags": []
          },
          "execution_count": 331
        },
        {
          "output_type": "display_data",
          "data": {
            "image/png": "[encoded data removed]",
            "text/plain": [
              "<Figure size 720x504 with 2 Axes>"
            ]
          },
          "metadata": {
            "tags": [],
            "needs_background": "light"
          }
        }
      ]
    },
    {
      "cell_type": "markdown",
      "metadata": {
        "id": "9culeM-rNYCO"
      },
      "source": [
        "# This is the last model I have used. this is the support vector machine model. This model is having the highest accuracy among all the three models with accuaracy of 71 pecent. "
      ]
    },
    {
      "cell_type": "code",
      "metadata": {
        "id": "yURr_mzvVIKD",
        "outputId": "c160bdbf-8b58-42b9-b5c1-58b85cc15585",
        "colab": {
          "base_uri": "https://localhost:8080/"
        }
      },
      "source": [
        "from sklearn.svm import SVC\n",
        "model=SVC()\n",
        "model.fit(X_train,y_train)\n",
        "y_predicted=model.predict(X_test)\n",
        "model.score(X_test,y_test)"
      ],
      "execution_count": 332,
      "outputs": [
        {
          "output_type": "execute_result",
          "data": {
            "text/plain": [
              "0.717948717948718"
            ]
          },
          "metadata": {
            "tags": []
          },
          "execution_count": 332
        }
      ]
    },
    {
      "cell_type": "code",
      "metadata": {
        "id": "pKFjWwGaozeC",
        "outputId": "97346786-3fe5-4330-b6ca-1150a5716cd0",
        "colab": {
          "base_uri": "https://localhost:8080/"
        }
      },
      "source": [
        "from scipy.stats import ttest_rel\n",
        "tset,pval=ttest_rel(y_predicted,y_test)\n",
        "if pval < 0.05:    # alpha value is 0.05 or 5%\n",
        "   print(\" we are rejecting null hypothesis i.e the result is statiscally significant\")\n",
        "else:\n",
        "  print(\"we are accepting null hypothesis i.e the result is not statiscally significant\")"
      ],
      "execution_count": 333,
      "outputs": [
        {
          "output_type": "stream",
          "text": [
            " we are rejecting null hypothesis i.e the result is statiscally significant\n"
          ],
          "name": "stdout"
        }
      ]
    },
    {
      "cell_type": "markdown",
      "metadata": {
        "id": "kDJTT5GKNsfh"
      },
      "source": [
        "## this is confusion matrix of the SVM "
      ]
    },
    {
      "cell_type": "code",
      "metadata": {
        "id": "Qn7Vls7FVTxh",
        "outputId": "5051f7aa-4637-41d6-d9e2-869f081a003e",
        "colab": {
          "base_uri": "https://localhost:8080/",
          "height": 463
        }
      },
      "source": [
        "from sklearn.metrics import confusion_matrix\n",
        "cm=confusion_matrix(y_test,y_predicted)\n",
        "plt.figure(figsize=(10,7))\n",
        "sn.heatmap(cm,annot=True)\n",
        "plt.xlabel('Predicted')\n",
        "plt.ylabel('Truth')"
      ],
      "execution_count": 334,
      "outputs": [
        {
          "output_type": "execute_result",
          "data": {
            "text/plain": [
              "Text(69.0, 0.5, 'Truth')"
            ]
          },
          "metadata": {
            "tags": []
          },
          "execution_count": 334
        },
        {
          "output_type": "display_data",
          "data": {
            "image/png": "[encoded data removed]",
            "text/plain": [
              "<Figure size 720x504 with 2 Axes>"
            ]
          },
          "metadata": {
            "tags": [],
            "needs_background": "light"
          }
        }
      ]
    },
    {
      "cell_type": "markdown",
      "metadata": {
        "id": "2VW1_2yqNyif"
      },
      "source": [
        "## In my feature selection I actually included goals scored also. It is obvious that goals scored will be actually give the final result. If a team scores more goals then that team would be winning the game. So it is main factor that affects everything. "
      ]
    },
    {
      "cell_type": "markdown",
      "metadata": {
        "id": "FPxk61EiOZbM"
      },
      "source": [
        "## so for that purpose I have excluded the goals scored this time. Now let us see how my svm performs. "
      ]
    },
    {
      "cell_type": "code",
      "metadata": {
        "id": "SmoGp0IxVxRL"
      },
      "source": [
        "X=df[['Ball Possession %','Fouls Committed','On target %','Blocked %']]\n",
        "y=df['Result']"
      ],
      "execution_count": 335,
      "outputs": []
    },
    {
      "cell_type": "code",
      "metadata": {
        "id": "LDBSFdLsWN9A"
      },
      "source": [
        "from sklearn.model_selection import train_test_split\n",
        "X_train,X_test,y_train,y_test=train_test_split(X,y,test_size=0.3,random_state=3)"
      ],
      "execution_count": 336,
      "outputs": []
    },
    {
      "cell_type": "code",
      "metadata": {
        "id": "ayMrQQlBWRt-",
        "outputId": "d1cea719-3671-4c05-f710-72f16771edb9",
        "colab": {
          "base_uri": "https://localhost:8080/"
        }
      },
      "source": [
        "from sklearn.svm import SVC\n",
        "model=SVC()\n",
        "model.fit(X_train,y_train)\n",
        "y_predicted=model.predict(X_test)\n",
        "print(y_predicted)\n",
        "model.score(X_test,y_test)"
      ],
      "execution_count": 337,
      "outputs": [
        {
          "output_type": "stream",
          "text": [
            "[2 2 2 1 1 2 2 2 2 2 1 2 2 2 2 1 1 2 1 2 2 2 2 2 2 2 2 2 2 2 2 1 2 2 2 2 2\n",
            " 2 2]\n"
          ],
          "name": "stdout"
        },
        {
          "output_type": "execute_result",
          "data": {
            "text/plain": [
              "0.4358974358974359"
            ]
          },
          "metadata": {
            "tags": []
          },
          "execution_count": 337
        }
      ]
    },
    {
      "cell_type": "code",
      "metadata": {
        "id": "9jR6875sh3wV",
        "outputId": "4bebe79b-70e0-4b48-fa62-f892c1590761",
        "colab": {
          "base_uri": "https://localhost:8080/"
        }
      },
      "source": [
        "from scipy.stats import ttest_rel\n",
        "tset,pval=ttest_rel(y_predicted,y_test)\n",
        "if pval < 0.05:    # alpha value is 0.05 or 5%\n",
        "   print(\" we are rejecting null hypothesis i.e the result is statiscally significant\")\n",
        "else:\n",
        "  print(\"we are accepting null hypothesis i.e the result is not statiscally significant\")"
      ],
      "execution_count": 338,
      "outputs": [
        {
          "output_type": "stream",
          "text": [
            " we are rejecting null hypothesis i.e the result is statiscally significant\n"
          ],
          "name": "stdout"
        }
      ]
    },
    {
      "cell_type": "markdown",
      "metadata": {
        "id": "0uHFe1qAOjQ1"
      },
      "source": [
        "## my model gave me an accuracy of 43 percent. This means by seeing the performances like ball possession, fouls committed and on target. We can't actually guess the result. "
      ]
    },
    {
      "cell_type": "markdown",
      "metadata": {
        "id": "yuA9CHuIO3Dj"
      },
      "source": [
        "## So I can say that all my models actually worked really well. Though the accuracy was only 43 percent, it is really true that in games like football one min of game will definitely change the total result. That is why they say that each and every minute is important. Having these facts in mind I can conclude that though a team plays well for 85 min and plays it bad for last 5 min, they will loss the game. But though the other factors have less importance in the result of the game, but still they might be some key factors in the game. "
      ]
    },
    {
      "cell_type": "markdown",
      "metadata": {
        "id": "qDgiNfl9PrLl"
      },
      "source": [
        "# My Contributions\n",
        "\n",
        "\n",
        "1.  I have added a new column of Result to my dataset so that that would be used to make predictions. \n",
        "2.  Finding the best model which actually suits the given dataset\n",
        "3.  Wins or losses will not depend on the goals scored alone. But they will have less contribution in deciding my result.\n",
        "4.  I have done the feature scaling of my dataset.\n",
        "5.  I have found the importance between the features in my dataset. \n",
        "6.  All the models were statiscally significant except the logistic regression model was not statiscally significant. \n",
        "\n",
        "\n"
      ]
    }
  ]
}